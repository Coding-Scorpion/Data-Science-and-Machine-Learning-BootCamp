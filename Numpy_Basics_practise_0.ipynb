{
  "cells": [
    {
      "cell_type": "code",
      "execution_count": 2,
      "metadata": {
        "id": "YAvC8k1FKC6i"
      },
      "outputs": [],
      "source": [
        "import numpy as np"
      ]
    },
    {
      "cell_type": "markdown",
      "metadata": {
        "id": "z-ttfWOCWYAD"
      },
      "source": [
        "### Basic Array Creation"
      ]
    },
    {
      "cell_type": "markdown",
      "metadata": {
        "id": "ZksDKlwjHvFV"
      },
      "source": [
        "# Creatation of List\n",
        "How to create Lists in python?"
      ]
    },
    {
      "cell_type": "code",
      "execution_count": 2,
      "metadata": {
        "id": "mCgQsxXkF3nb"
      },
      "outputs": [
        {
          "name": "stdout",
          "output_type": "stream",
          "text": [
            "[1, 2, 3, 4, 5]\n"
          ]
        }
      ],
      "source": [
        "# Answer Here\n",
        "list1 = [1,2,3,4,5]\n",
        "print(list1)"
      ]
    },
    {
      "cell_type": "markdown",
      "metadata": {
        "id": "EUmihvpDIAzW"
      },
      "source": [
        "# Type\n",
        "Accuire type of list in python."
      ]
    },
    {
      "cell_type": "code",
      "execution_count": 7,
      "metadata": {
        "id": "Aw_RtHvuRkDi"
      },
      "outputs": [
        {
          "name": "stdout",
          "output_type": "stream",
          "text": [
            "<class 'list'>\n"
          ]
        }
      ],
      "source": [
        "# Answer Here\n",
        "print(type(list1))"
      ]
    },
    {
      "cell_type": "markdown",
      "metadata": {
        "id": "M2TOiuioIc6M"
      },
      "source": [
        "# Creatation of Arrays\n",
        "1.SIMPLE ARRAY CREATION\n",
        "\n",
        "2.CHECKING THE TYPE\n",
        "\n",
        "3.NUMERIC \"TYPE\" OF ELEMENTS OF ARRAYS\n",
        "\n",
        "4.Array dim\n",
        "\n",
        "5.Array Shape\n",
        "\n",
        "6.BYTES PER ELEMENT\n",
        "\n",
        "7.BYTES OF MEMORY USED, How many bytes for one array element\n",
        "\n",
        "8.Total bytes in an Array"
      ]
    },
    {
      "cell_type": "code",
      "execution_count": 29,
      "metadata": {
        "id": "uy_hPIW4A4uM"
      },
      "outputs": [
        {
          "name": "stdout",
          "output_type": "stream",
          "text": [
            "Question 1 -- The array is ::  [0 1 2 3 4 5]\n",
            "Question 2 -- The type of array is ::  <class 'numpy.ndarray'>\n",
            "Question 3 -- The int type of array is ::  int32\n",
            "Question 4 -- No of dimensions in array is ::  1\n",
            "Question 5 -- The shape of array is ::  (6,)\n",
            "Question 6 -- The bytes per element are ::  4\n",
            "Question 7 -- The bytes for one array element is ::  24\n",
            "Question 8 -- Total bytes in array: 24\n"
          ]
        }
      ],
      "source": [
        "# Int array\n",
        "# Answer Here\n",
        "\n",
        "\n",
        "# Question 1 : Create Array\n",
        "arr = np.arange(6)\n",
        "print(\"Question 1 -- The array is :: \",arr)\n",
        "#  2 : type of array\n",
        "print(\"Question 2 -- The type of array is :: \",type(arr))\n",
        "\n",
        "#  3 : Numerical type of elements of array\n",
        "print(\"Question 3 -- The int type of array is :: \",arr.dtype)\n",
        "\n",
        "#  4: Checking No. of Dimensions\n",
        "print(\"Question 4 -- No of dimensions in array is :: \",arr.ndim)\n",
        "\n",
        "#  5: Checking shape of array\n",
        "print(\"Question 5 -- The shape of array is :: \",arr.shape)\n",
        "\n",
        "\n",
        "#  6: Bytes per element\n",
        "print(\"Question 6 -- The bytes per element are :: \",arr.itemsize)\n",
        "\n",
        "#  7: BYTES OF MEMORY USED, How many bytes for one array element\n",
        "#     nbytes = arr.size ×  arr.itemsize\n",
        "\n",
        "print(\"Question 7 -- The bytes for one array element is :: \",arr.nbytes)\n",
        "\n",
        "\n",
        "#  8: Total bytes \n",
        "\n",
        "total_bytes = arr.size * arr.itemsize\n",
        "print(\"Question 8 -- Total bytes in array:\", total_bytes)"
      ]
    },
    {
      "cell_type": "code",
      "execution_count": 9,
      "metadata": {
        "id": "tf9pmYpYLuEu"
      },
      "outputs": [
        {
          "name": "stdout",
          "output_type": "stream",
          "text": [
            "The arrray is ::  [0. 1. 2. 3. 4. 5.]\n",
            "The dtype of array is ::  float32\n"
          ]
        }
      ],
      "source": [
        "# Decimal array\n",
        "\n",
        "arr = np.arange(6,dtype=\"float32\")\n",
        "print(\"The arrray is :: \",arr)\n",
        "print(\"The dtype of array is :: \",arr.dtype)\n",
        "#Answer Here"
      ]
    },
    {
      "cell_type": "markdown",
      "metadata": {
        "id": "czi-ntWzFJ0M"
      },
      "source": [
        "9.Try to assign a float into an int32\n",
        "\n",
        "10.Use .fill function # fill has the same behavior\n"
      ]
    },
    {
      "cell_type": "code",
      "execution_count": 31,
      "metadata": {
        "id": "5r2iCLhHFq_-"
      },
      "outputs": [
        {
          "name": "stdout",
          "output_type": "stream",
          "text": [
            "The float_value is  3.14\n",
            "Question 9 -- After assigning float value to int 32 it becomes ::  3\n",
            "Question 10 -- After filling array using .fill() with 5.0 it becomes :  [[5. 5. 5.]\n",
            " [5. 5. 5.]]\n"
          ]
        }
      ],
      "source": [
        "#Question No. 9\n",
        "# Create a float value\n",
        "float_value = 3.14\n",
        "print(\"The float_value is \", float_value)\n",
        "# Assign a float valu  to int32\n",
        "int_value = np.int32(float_value)\n",
        "\n",
        "print(\"Question 9 -- After assigning float value to int 32 it becomes :: \",int_value) \n",
        "\n",
        "#Question No. 10\n",
        "\n",
        "arr = np.ones((2, 3), dtype=float)\n",
        "# Fill the array with a specified value (e.g., 5.0)\n",
        "arr.fill(5.0)\n",
        "# Print the filled array\n",
        "print(\"Question 10 -- After filling array using .fill() with 5.0 it becomes : \",arr)\n"
      ]
    },
    {
      "cell_type": "markdown",
      "metadata": {
        "id": "UK4-Grt0F8_k"
      },
      "source": [
        "11.Add two  arrays\n",
        "\n",
        "12.Multiple both arrays\n",
        "\n",
        "13.Use ** operator in array operation\n",
        "\n",
        "14.Create array from 0.0 to 11.0\n",
        "\n",
        "15.Multiply entire array with a scalar value\n",
        " c = (2.0 * np.pi)\n",
        "\n",
        "16.Use np.arrange function tocreate an array with step of from 1.0 to 3.0"
      ]
    },
    {
      "cell_type": "code",
      "execution_count": 28,
      "metadata": {
        "id": "1cRgGYTdGayU"
      },
      "outputs": [
        {
          "name": "stdout",
          "output_type": "stream",
          "text": [
            "array 1 is [0 1 2 3 4] and array 2 is [0 1 2 3 4]\n",
            "Question 11 -- The addition of array 1 and array 2 is :: [0 2 4 6 8]\n",
            "Question 12 -- The addition of array 1 and array 2 is :: [ 0  1  4  9 16]\n",
            "The square of array using ** operator is  :: [ 0  1  4  9 16]\n",
            "The square of array using ** operator is  :: [ 0.  1.  2.  3.  4.  5.  6.  7.  8.  9. 10. 11.]\n",
            "The multiplication of array with scalar value 2.0*np.pi is   :: [ 0.          6.28318531 12.56637061 18.84955592]\n",
            "The array with step of from 1.0 to 3.0  :: [ 0  3  6  9 12]\n"
          ]
        }
      ],
      "source": [
        "# Answer Here\n",
        "\n",
        "a1 = np.arange(5)\n",
        "a2 = np.arange(5)\n",
        "print(f\"array 1 is {a1} and array 2 is {a2}\")\n",
        "\n",
        "#Question 11 -- ADD two arrays \n",
        "\n",
        "print(\"Question 11 -- The addition of array 1 and array 2 is ::\", a1+a2)\n",
        "\n",
        "#Question 12 -- Multiply both arrays \n",
        "print(\"Question 12 -- The addition of array 1 and array 2 is ::\", a1*a2)\n",
        "\n",
        "#Question 13 -- Use ** operator in array operation\n",
        "print(\"Question 13 -- The square of array using ** operator is  ::\",a1**2 )\n",
        "\n",
        "\n",
        "#Question 14 -- Create array from 0.0 to 11.0\n",
        "arr_cr = np.arange(0,12,dtype=\"float32\")\n",
        "print(\"Question 14 -- The square of array using ** operator is  ::\",arr_cr )\n",
        "\n",
        "\n",
        "#Question 15 -- Multiply entire value with a scalar valur c = (2.0*np.pi)\n",
        "arr_multiply = np.arange(4) \n",
        "c = 2.0*np.pi\n",
        "print(\"Question 15 -- The multiplication of array with scalar value 2.0*np.pi is   ::\",arr_multiply*c )\n",
        "\n",
        "\n",
        "#Question 16 -- use np.arange function to create an array with step of from 1.0 to 3.0\n",
        "arr_step = np.arange(0,15,3)\n",
        "print(\"Question 16 -- The array with step of from 1.0 to 3.0  ::\",arr_step )"
      ]
    },
    {
      "cell_type": "markdown",
      "metadata": {
        "id": "60fA9aHmI0g_"
      },
      "source": [
        "# Slicing\n",
        "var[lower:upper:step]\n",
        "• Extracts a portion of a sequence by specifying a lower and upper bound.\n",
        "\n",
        "• The lower-bound element is included, but the upper-bound element is not included.\n",
        "\n",
        "• Mathematically: [lower, upper). The step value specifies the stride between elements.\n",
        "\n",
        "1. Etract array indices from 1 to 3:\n",
        "2. Use negative indices as well\n",
        "3. Omitted boundaries are assumed to be the beginning (or end) of the array grab first three elements\n",
        "4. Grab last two elements\n",
        "5. Grab every other element\n",
        "6. slicing the last two elements returns the data there\n",
        "7. Can we insert an iterable of length two? or a scalar value\n",
        "8. Arrays created by slicing share data with the originating array. Changing values in a slice also changes the original array.\n",
        "For example create a slice containing two elements of a changing b changed a! Have an experiment\n",
        "9. if an array a = [[0, 1, 2, 3, 4],[1, 2, 3, 4, 5]] extract values from row 3 to onward and from col 0, 2 and 5\n",
        "10. Perform some masking on a = np.arange(0,36).reshape(6,6)\n",
        "with mask = np.array([1, 0, 1, 0, 0, 1])\n"
      ]
    },
    {
      "cell_type": "code",
      "execution_count": 36,
      "metadata": {
        "id": "CVqexfEBMB-w"
      },
      "outputs": [
        {
          "name": "stdout",
          "output_type": "stream",
          "text": [
            "The actual array is ::  [0 1 2 3 4 5 6 7]\n",
            "Question 1 -- The array indices from 1 to 3 are  [1 2 3]\n",
            "Question 2 -- Last 3 elements of the array using negative indexing is  :: [5 6 7]\n",
            "Question 3 -- Omitted boundry from beginning of the array  :: [0 1 2]\n",
            "Question 4 -- Last 2 elements are   :: [6 7]\n",
            "Question 5 -- Every element except last 2 elements are   :: [0 1 2 3 4 5]\n",
            "Question 6 -- Slicing last 2 elements are   :: [6 7]\n",
            "The original array is :: \n",
            " [[5 6]\n",
            " [7 8]]\n",
            "After inserting 2 elements at 0th position it becomes :: \n",
            " [[0 0]\n",
            " [7 8]]\n",
            "After inserting scalar  element 200 at 1st row and 0 column is :: \n",
            " [[  0   0]\n",
            " [200   8]]\n",
            "Question 7 -- The original array is  [0 1 2 3 4 5 6 7]\n",
            "The array b is  [555   1]\n",
            "By changing the 0th element of arr_b the original array is also changed   :: [555   1   2   3   4   5   6   7]\n",
            "Question 8 -- The array is :: \n",
            " [[0 1 2 3 4]\n",
            " [1 2 3 4 5]]\n",
            "Extracted values are ::  [1 3 5]\n"
          ]
        },
        {
          "data": {
            "text/plain": [
              "array([[ 0,  1,  2,  3,  4,  5],\n",
              "       [12, 13, 14, 15, 16, 17],\n",
              "       [30, 31, 32, 33, 34, 35]])"
            ]
          },
          "execution_count": 36,
          "metadata": {},
          "output_type": "execute_result"
        }
      ],
      "source": [
        "# Answer Here\n",
        "\n",
        "\n",
        "\n",
        "#Question 1 -- Array indices from 1 to 3 \n",
        "aa = np.arange(8)\n",
        "print(\"The actual array is :: \",aa)\n",
        "print(\"Question 1 -- The array indices from 1 to 3 are \",aa[1:4])\n",
        "\n",
        "#Question 2 -- Negative indexing\n",
        "print(\"Question 2 -- Last 3 elements of the array using negative indexing is  ::\", aa[-3:])\n",
        "\n",
        "\n",
        "#Question 3 -- Omitted boundries first 3 elements\n",
        "print(\"Question 3 -- Omitted boundry from beginning of the array  ::\", aa[:3])\n",
        "\n",
        "\n",
        "#Question 4 -- Grab last 2 elements\n",
        "print(\"Question 4 -- Last 2 elements are   ::\", aa[-2:])\n",
        "\n",
        "#Question 5 -- Grab every other element (except last 2)\n",
        "print(\"Question 5 -- Every element except last 2 elements are   ::\", aa[:-2])\n",
        "\n",
        "#Question 6 -- Slicing the last two elements returns the data there\n",
        "print(\"Question 6 -- Slicing last 2 elements are   ::\", aa[-2:])\n",
        "\n",
        "#Question 7 -- can we insert iterateable of 2 or scalar\n",
        "arr_ite = np.array([[5,6],[7,8]])\n",
        "print(\"The original array is :: \\n\",arr_ite)\n",
        "arr_ite[0] = [0,0]\n",
        "print(\"After inserting 2 elements at 0th position it becomes :: \\n\",arr_ite)\n",
        "\n",
        "arr_ite[1,0] = 200\n",
        "print(\"After inserting scalar  element 200 at 1st row and 0 column is :: \\n\",arr_ite)\n",
        "\n",
        "\n",
        "#Question 8 -- Create a slice containing two elements of a . Changing b changed a!\n",
        "orig_arr = np.arange(8)\n",
        "print(\"Question 7 -- The original array is \", orig_arr)\n",
        "\n",
        "arr_b = orig_arr[:2]\n",
        "arr_b[0] = 555\n",
        "\n",
        "print(\"The array b is \",arr_b)\n",
        "print(\"By changing the 0th element of arr_b the original array is also changed   ::\", orig_arr)\n",
        "\n",
        "\n",
        "#Question 9 -- The array ab = [[0,1,2,3,4],[1,2,3,4,5]] . Extract values from row 3 to onward and from col 0,2,5\n",
        "\n",
        "#******Note -- There's a mistake in question. Array contains 2 rows but the question is given that extract\n",
        "#rows from 3 to onward\n",
        "\n",
        "ab = np.array([[0,1,2,3,4],[1,2,3,4,5]])\n",
        "print(\"Question 8 -- The array is :: \\n\",ab)\n",
        "print(\"Extracted values are :: \",ab[1,[0,2,4]])\n",
        "\n",
        "\n",
        "#Question 10 -- Perform some masking on a = np.arange(0,36).reshape(6,6) with mask = np.array([1, 0, 1, 0, 0, 1])\n",
        "\n",
        "ar_mask = np.arange(36).reshape(6,6)\n",
        "mask = np.array([1, 0, 1, 0, 0, 1],dtype=bool)\n",
        "\n",
        "#The above mask will hide the row 1,3 and 4 and will just show row 0,2,5\n",
        "ar_mask[mask]\n",
        "\n",
        "\n"
      ]
    },
    {
      "cell_type": "markdown",
      "metadata": {
        "id": "WSHrRcoQN0Mu"
      },
      "source": [
        "# Array Functions\n",
        "1.Arange([start,] stop[, step],dtype=None)\n",
        "Nearly identical to Python’s range(). Creates an array of values in the range [start,stop) with the specified step value. Allows non-integer values for start, stop, and step. Default dtype is derived from the start, stop, and step values. create an array with arange.\n",
        "\n",
        "2.Create arrays with ONES, ZEROS, shape is a number or sequence specifying the dimensions of the array. If dtype is not specified, it defaults to float64.\n",
        "\n",
        "3.Generate an n by n identity array. The default dtype is float64.\n",
        "\n",
        "4.use empty, full, and fill, max, min, std, mean, var, argmax, linspace\n",
        "\n",
        "5.\n",
        "\n",
        "  Rule 1:\n",
        "  Operations between multiple array objects are first checked for proper shape match.\n",
        "\n",
        "  Rule 2:\n",
        "  Mathematical operators (+ - * / exp, log, ...) apply element by element, on the values.\n",
        "\n",
        "  Rule 3:\n",
        "  Reduction operations (mean, std, skew, kurt, sum, prod, ...) apply to the whole array, unless an axis is specified.\n",
        "\n",
        "  Rule 4:\n",
        "  Missing values propagate unless explicitly ignored (nanmean, nansum, ...).\n",
        "\n",
        "6.\n",
        "Create the array below with\n",
        "                  a = np.arange(-15, 15).reshape(5, 6) ** 2\n",
        "1. The maximum of each row\n",
        "2. The mean of each column\n",
        "3. The position of the overall minimum\n"
      ]
    },
    {
      "cell_type": "code",
      "execution_count": 42,
      "metadata": {
        "id": "-JEUK-2BU_L2"
      },
      "outputs": [
        {
          "name": "stdout",
          "output_type": "stream",
          "text": [
            "Question 1 -- The  array with start 1, end 101 and step 10 is ::  [ 1. 11. 21. 31. 41. 51. 61. 71. 81. 91.]\n",
            "Question 3 -- The identity matrix is :: \n",
            " [[1. 0. 0.]\n",
            " [0. 1. 0.]\n",
            " [0. 0. 1.]]\n",
            "Question 4 functions are given below \n",
            "\n",
            "The empty array is ::  [[1. 0. 0.]\n",
            " [0. 1. 0.]\n",
            " [0. 0. 1.]]\n",
            "After fill 5.0 in empty array the array becomes ::  [[5. 5. 5.]\n",
            " [5. 5. 5.]\n",
            " [5. 5. 5.]]\n",
            "The array shaped (3,3) with full value 10.0 is ::  [[10. 10. 10.]\n",
            " [10. 10. 10.]\n",
            " [10. 10. 10.]]\n",
            "The original array is :: \n",
            " [[ 0  1  2  3]\n",
            " [ 4  5  6  7]\n",
            " [ 8  9 10 11]\n",
            " [12 13 14 15]]\n",
            "The minimum of array is ::  0\n",
            "The maximum of array is ::  15\n",
            "The std of array is ::  4.6097722286464435\n",
            "The mean of array is ::  7.5\n",
            "The var of array is ::  21.25\n",
            "The argmax (index of maximum number) of array is ::  15\n",
            "Question 5 -- Array created using linspace is ::  [ 0.   2.5  5.   7.5 10. ]\n",
            "The maximum of each row is ::  [225  81   9  64 196]\n",
            "The mean of each column is ::  [81. 76. 73. 72. 73. 76.]\n",
            "The position of overall minimum in the given array is :: 15\n"
          ]
        }
      ],
      "source": [
        "# Answer Here\n",
        "\n",
        "#Question 1 -- create array with arange with [start,stop,step]\n",
        "arr_fun = np.arange(1.0,101,10)\n",
        "print(\"Question 1 -- The  array with start 1, end 101 and step 10 is :: \",arr_fun)\n",
        "\n",
        "\n",
        "#Question 2 -- create array with ones and zeros\n",
        "arr_zeros = np.zeros(5)\n",
        "arr_ones = np.ones(4)\n",
        "print(f\"Question 2 -- The zeros array is {arr_zeros} and the ones array is {arr_ones} \")\n",
        "\n",
        "\n",
        "#Question 3 -- Generate n by n identity matrix\n",
        "arr_identity = np.identity(3)\n",
        "print(\"Question 3 -- The identity matrix is :: \\n\", arr_identity)\n",
        "\n",
        "\n",
        "#Question 4 --  use empty, full, and fill, max, min, std, mean, var, argmax, linspace\n",
        "\n",
        "# empty() and fill\n",
        "emp_arr = np.empty((3,3))\n",
        "\n",
        "print(\"Question 4 functions are given below \\n\")\n",
        "print(\"The empty array is :: \", emp_arr)\n",
        "\n",
        "#fill()\n",
        "emp_arr.fill(5.0) \n",
        "print(\"After fill 5.0 in empty array the array becomes :: \",emp_arr)\n",
        "\n",
        "#full()\n",
        "arr_full = np.full((3, 3), 10.0)\n",
        "print(\"The array shaped (3,3) with full value 10.0 is :: \", arr_full)\n",
        "\n",
        "arr_stats = np.arange(16).reshape(4,4)\n",
        "print(\"The original array is :: \\n\",arr_stats)\n",
        "\n",
        "print(\"The minimum of array is :: \", arr_stats.min())\n",
        "print(\"The maximum of array is :: \", arr_stats.max())\n",
        "print(\"The std of array is :: \", arr_stats.std())\n",
        "print(\"The mean of array is :: \", arr_stats.mean())\n",
        "print(\"The var of array is :: \", arr_stats.var())\n",
        "print(\"The argmax (index of maximum number) of array is :: \", arr_stats.argmax())\n",
        "\n",
        "\n",
        "# Array using linspace\n",
        "\n",
        "arr_linspace = np.linspace(0,10,5)\n",
        "print(\"Question 5 -- Array created using linspace is :: \",arr_linspace)\n",
        "\n",
        "\n",
        "#Question 6\n",
        "a = np.arange(-15, 15).reshape(5, 6) ** 2\n",
        "#The maximum of each row \n",
        "print(\"The maximum of each row is :: \",a.max(axis=1))\n",
        "#The mean of each column \n",
        "print(\"The mean of each column is :: \",a.mean(axis=0))\n",
        "#The position of overall minimum \n",
        "print(\"The position of overall minimum in the given array is ::\",a.argmin())"
      ]
    },
    {
      "cell_type": "markdown",
      "metadata": {
        "id": "uO-B0OXYWl7A"
      },
      "source": [
        "### Zip Operations on Numpy Arrays\n",
        "Use a zip function on two arrys.\n",
        "\n",
        "Create another array which would be the sum of corresponding elements of two arrays using for loop."
      ]
    },
    {
      "cell_type": "code",
      "execution_count": 46,
      "metadata": {
        "id": "QWAhbiOXHEc9"
      },
      "outputs": [
        {
          "name": "stdout",
          "output_type": "stream",
          "text": [
            "Zip function on array a and b results in ::  [[1 2]\n",
            " [2 3]\n",
            " [3 4]\n",
            " [4 5]]\n",
            "The sum of two arrays using for loop is ::  [3 5 7 9]\n"
          ]
        }
      ],
      "source": [
        "a = [1, 2, 3, 4]\n",
        "b = [2, 3, 4, 5]\n",
        "\n",
        "# Answer Here\n",
        "\n",
        "#Zip function\n",
        "zip_fun = zip(a,b)\n",
        "# Convert the zipped iterator into a NumPy array\n",
        "result = np.array(list(zip_fun))\n",
        "print(\"Zip function on array a and b results in :: \",result)\n",
        "\n",
        "#create an array  which would be the sum of corresponding elements of two arrays using for loop\n",
        "\n",
        "arr_sum = []\n",
        "for i in range(len(a)):\n",
        "    arr_sum.append(a[i]+b[i])\n",
        "sum_result = np.array(arr_sum)\n",
        "print(\"The sum of two arrays using for loop is :: \", sum_result)"
      ]
    },
    {
      "cell_type": "code",
      "execution_count": 48,
      "metadata": {
        "id": "ePXox_XHMQTr"
      },
      "outputs": [
        {
          "name": "stdout",
          "output_type": "stream",
          "text": [
            "[5, 7, 9, 10]\n"
          ]
        }
      ],
      "source": [
        "#For loop to add corresponding elements in two lists\n",
        "\n",
        "l1 = [1,2,3,4]\n",
        "l2 = [4,5,6,6]\n",
        "new_list = []\n",
        "for i in range(len(l1)):\n",
        "    new_list.append(l1[i] + l2[i])\n",
        "print(new_list)\n",
        "\n",
        "# Answer Here"
      ]
    },
    {
      "cell_type": "markdown",
      "metadata": {},
      "source": [
        "# <b>Broadcasting<b>"
      ]
    },
    {
      "cell_type": "code",
      "execution_count": 28,
      "metadata": {},
      "outputs": [
        {
          "name": "stdout",
          "output_type": "stream",
          "text": [
            "The shape of array 1 is (4, 3) and the shape of array b is (3,)\n",
            "The result of broadcasting is :: \n",
            " [[ 0  2  4]\n",
            " [ 3  5  7]\n",
            " [ 6  8 10]\n",
            " [ 9 11 13]]\n"
          ]
        }
      ],
      "source": [
        "\n",
        "#Example of Broadcasting\n",
        "a = np.arange(12).reshape(4,3)\n",
        "b = np.arange(3)\n",
        "print(f\"The shape of array 1 is {a.shape} and the shape of array b is {b.shape}\")\n",
        "print(\"The result of broadcasting is :: \\n\",a+b)\n",
        "\n"
      ]
    },
    {
      "cell_type": "code",
      "execution_count": 1,
      "metadata": {},
      "outputs": [
        {
          "ename": "NameError",
          "evalue": "name 'np' is not defined",
          "output_type": "error",
          "traceback": [
            "\u001b[1;31m---------------------------------------------------------------------------\u001b[0m",
            "\u001b[1;31mNameError\u001b[0m                                 Traceback (most recent call last)",
            "Cell \u001b[1;32mIn[1], line 5\u001b[0m\n\u001b[0;32m      1\u001b[0m \u001b[38;5;66;03m#Example of Error in Broadcasting because of shape \u001b[39;00m\n\u001b[0;32m      2\u001b[0m \n\u001b[0;32m      3\u001b[0m \u001b[38;5;66;03m# Error will Generate because broadcasting rules are not applicable here\u001b[39;00m\n\u001b[1;32m----> 5\u001b[0m a1 \u001b[38;5;241m=\u001b[39m np\u001b[38;5;241m.\u001b[39marange(\u001b[38;5;241m12\u001b[39m)\u001b[38;5;241m.\u001b[39mreshape(\u001b[38;5;241m4\u001b[39m,\u001b[38;5;241m3\u001b[39m)\n\u001b[0;32m      6\u001b[0m b2 \u001b[38;5;241m=\u001b[39m np\u001b[38;5;241m.\u001b[39marange(\u001b[38;5;241m6\u001b[39m)\n\u001b[0;32m      7\u001b[0m \u001b[38;5;28mprint\u001b[39m(\u001b[38;5;124mf\u001b[39m\u001b[38;5;124m\"\u001b[39m\u001b[38;5;124mThe shape of array 1 is \u001b[39m\u001b[38;5;132;01m{\u001b[39;00ma1\u001b[38;5;241m.\u001b[39mshape\u001b[38;5;132;01m}\u001b[39;00m\u001b[38;5;124m and the shape of array b is \u001b[39m\u001b[38;5;132;01m{\u001b[39;00mb1\u001b[38;5;241m.\u001b[39mshape\u001b[38;5;132;01m}\u001b[39;00m\u001b[38;5;124m\"\u001b[39m)\n",
            "\u001b[1;31mNameError\u001b[0m: name 'np' is not defined"
          ]
        }
      ],
      "source": [
        "#Example of Error in Broadcasting because of shape \n",
        "\n",
        "# Error will Generate because broadcasting rules are not applicable here\n",
        "\n",
        "a1 = np.arange(12).reshape(4,3)\n",
        "b2 = np.arange(6)\n",
        "print(f\"The shape of array 1 is {a1.shape} and the shape of array b is {b1.shape}\")\n",
        "print(\"The result of broadcasting is Error because shape are mismatched:: \\n\",a+b)"
      ]
    },
    {
      "cell_type": "markdown",
      "metadata": {
        "id": "YyL6p9_PktTp"
      },
      "source": [
        "1.Use reduce() operation on an array to reduec it into a single meaningful value. You. can also use a specific axis to apply reduce operation.\n",
        "\n",
        "2.accumulate() creates a new array containing the intermediate results of the reduce operation at each element in a.\n"
      ]
    },
    {
      "cell_type": "markdown",
      "metadata": {},
      "source": []
    },
    {
      "cell_type": "code",
      "execution_count": 19,
      "metadata": {
        "id": "jiRwJE8klCwk"
      },
      "outputs": [
        {
          "name": "stdout",
          "output_type": "stream",
          "text": [
            "The actaull array is :: \n",
            " [[0 1 2]\n",
            " [3 4 5]\n",
            " [6 7 8]]\n",
            "The result of reduce is ::  [ 3 12 21]\n",
            "The actuall array for accamulate is :: \n",
            " [[1 2]\n",
            " [3 4]\n",
            " [5 6]]\n",
            "The result of accumulate is :: \n",
            " [[ 1  2]\n",
            " [ 3  8]\n",
            " [15 48]]\n"
          ]
        }
      ],
      "source": [
        "# Answer Here\n",
        "arr_reduce = np.arange(9).reshape(3,3)\n",
        "print(\"The actaull array is :: \\n\" ,arr_reduce)\n",
        "result = np.add.reduce(arr_reduce, 1) # Sum along axis 1 , bydefault is 0\n",
        "print(\"The result of reduce is :: \",result)\n",
        "\n",
        "\n",
        "arr_accamulate = np.array([[1, 2], [3, 4],[5,6]])\n",
        "print(\"The actuall array for accamulate is :: \\n\",arr_accamulate)\n",
        "result_accu = np.multiply.accumulate(arr_accamulate, 0)\n",
        "print(\"The result of accumulate is :: \\n\",result_accu)"
      ]
    },
    {
      "cell_type": "code",
      "execution_count": null,
      "metadata": {},
      "outputs": [],
      "source": []
    }
  ],
  "metadata": {
    "colab": {
      "provenance": []
    },
    "kernelspec": {
      "display_name": "Python 3",
      "name": "python3"
    },
    "language_info": {
      "codemirror_mode": {
        "name": "ipython",
        "version": 3
      },
      "file_extension": ".py",
      "mimetype": "text/x-python",
      "name": "python",
      "nbconvert_exporter": "python",
      "pygments_lexer": "ipython3",
      "version": "3.11.7"
    }
  },
  "nbformat": 4,
  "nbformat_minor": 0
}
