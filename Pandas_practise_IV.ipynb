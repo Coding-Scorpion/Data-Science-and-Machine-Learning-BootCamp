{
  "cells": [
    {
      "cell_type": "markdown",
      "metadata": {
        "id": "F2k58d99oE6T"
      },
      "source": [
        "# Lecture 5\n",
        "\n",
        " Fall 2023\n",
        "\n",
        "A demonstration of advanced `pandas` syntax to accompany Lecture 5."
      ]
    },
    {
      "cell_type": "code",
      "execution_count": 1,
      "metadata": {
        "id": "c8eGfdd6oE6V"
      },
      "outputs": [],
      "source": [
        "import numpy as np\n",
        "import pandas as pd\n",
        "import plotly.express as px"
      ]
    },
    {
      "cell_type": "markdown",
      "metadata": {
        "id": "DFGT9KoaoE6X"
      },
      "source": [
        "## More on `Groupby`"
      ]
    },
    {
      "cell_type": "markdown",
      "metadata": {
        "id": "8EmBQs2koE6X",
        "tags": []
      },
      "source": [
        "### Slido Exercise\n",
        "\n",
        "Try to predict the results of the `groupby` operation shown. The answer is below the image.\n",
        "\n",
        "<img src=\"/content/drive/MyDrive/groupby.png\" alt=\"Image\" width=\"600\">\n",
        "\n",
        "The top ?? will be \"hi\", the second ?? will be \"tx\", and the third ?? will be \"sd\"."
      ]
    },
    {
      "cell_type": "code",
      "execution_count": 2,
      "metadata": {
        "colab": {
          "base_uri": "https://localhost:8080/",
          "height": 332
        },
        "id": "iW6XCZLtoE6X",
        "outputId": "466ac3de-8cb4-4ff4-f377-d18c3488ebcf"
      },
      "outputs": [
        {
          "data": {
            "text/html": [
              "<div>\n",
              "<style scoped>\n",
              "    .dataframe tbody tr th:only-of-type {\n",
              "        vertical-align: middle;\n",
              "    }\n",
              "\n",
              "    .dataframe tbody tr th {\n",
              "        vertical-align: top;\n",
              "    }\n",
              "\n",
              "    .dataframe thead th {\n",
              "        text-align: right;\n",
              "    }\n",
              "</style>\n",
              "<table border=\"1\" class=\"dataframe\">\n",
              "  <thead>\n",
              "    <tr style=\"text-align: right;\">\n",
              "      <th></th>\n",
              "      <th>x</th>\n",
              "      <th>y</th>\n",
              "    </tr>\n",
              "  </thead>\n",
              "  <tbody>\n",
              "    <tr>\n",
              "      <th>A</th>\n",
              "      <td>3</td>\n",
              "      <td>ak</td>\n",
              "    </tr>\n",
              "    <tr>\n",
              "      <th>B</th>\n",
              "      <td>1</td>\n",
              "      <td>tx</td>\n",
              "    </tr>\n",
              "    <tr>\n",
              "      <th>C</th>\n",
              "      <td>4</td>\n",
              "      <td>fl</td>\n",
              "    </tr>\n",
              "    <tr>\n",
              "      <th>A</th>\n",
              "      <td>1</td>\n",
              "      <td>hi</td>\n",
              "    </tr>\n",
              "    <tr>\n",
              "      <th>B</th>\n",
              "      <td>5</td>\n",
              "      <td>mi</td>\n",
              "    </tr>\n",
              "    <tr>\n",
              "      <th>C</th>\n",
              "      <td>9</td>\n",
              "      <td>ak</td>\n",
              "    </tr>\n",
              "    <tr>\n",
              "      <th>A</th>\n",
              "      <td>2</td>\n",
              "      <td>ca</td>\n",
              "    </tr>\n",
              "    <tr>\n",
              "      <th>C</th>\n",
              "      <td>5</td>\n",
              "      <td>sd</td>\n",
              "    </tr>\n",
              "    <tr>\n",
              "      <th>B</th>\n",
              "      <td>6</td>\n",
              "      <td>nc</td>\n",
              "    </tr>\n",
              "  </tbody>\n",
              "</table>\n",
              "</div>"
            ],
            "text/plain": [
              "   x   y\n",
              "A  3  ak\n",
              "B  1  tx\n",
              "C  4  fl\n",
              "A  1  hi\n",
              "B  5  mi\n",
              "C  9  ak\n",
              "A  2  ca\n",
              "C  5  sd\n",
              "B  6  nc"
            ]
          },
          "execution_count": 2,
          "metadata": {},
          "output_type": "execute_result"
        }
      ],
      "source": [
        "# Form a data frame using dictionary\n",
        "# Answer Here\n",
        "ds = pd.DataFrame(dict(x=[3, 1, 4, 1, 5, 9, 2, 5, 6],\n",
        "                      y=['ak', 'tx', 'fl', 'hi', 'mi', 'ak', 'ca', 'sd', 'nc']),\n",
        "                      index=list('ABCABCACB') )\n",
        "ds"
      ]
    },
    {
      "cell_type": "code",
      "execution_count": 3,
      "metadata": {
        "id": "KH5rTWeuoE6Y"
      },
      "outputs": [
        {
          "data": {
            "text/html": [
              "<div>\n",
              "<style scoped>\n",
              "    .dataframe tbody tr th:only-of-type {\n",
              "        vertical-align: middle;\n",
              "    }\n",
              "\n",
              "    .dataframe tbody tr th {\n",
              "        vertical-align: top;\n",
              "    }\n",
              "\n",
              "    .dataframe thead th {\n",
              "        text-align: right;\n",
              "    }\n",
              "</style>\n",
              "<table border=\"1\" class=\"dataframe\">\n",
              "  <thead>\n",
              "    <tr style=\"text-align: right;\">\n",
              "      <th></th>\n",
              "      <th>x</th>\n",
              "      <th>y</th>\n",
              "    </tr>\n",
              "  </thead>\n",
              "  <tbody>\n",
              "    <tr>\n",
              "      <th>A</th>\n",
              "      <td>3</td>\n",
              "      <td>hi</td>\n",
              "    </tr>\n",
              "    <tr>\n",
              "      <th>B</th>\n",
              "      <td>6</td>\n",
              "      <td>tx</td>\n",
              "    </tr>\n",
              "    <tr>\n",
              "      <th>C</th>\n",
              "      <td>9</td>\n",
              "      <td>sd</td>\n",
              "    </tr>\n",
              "  </tbody>\n",
              "</table>\n",
              "</div>"
            ],
            "text/plain": [
              "   x   y\n",
              "A  3  hi\n",
              "B  6  tx\n",
              "C  9  sd"
            ]
          },
          "execution_count": 3,
          "metadata": {},
          "output_type": "execute_result"
        }
      ],
      "source": [
        "#Use groupby on index and get max of each group\n",
        "ds.groupby(ds.index).max()"
      ]
    },
    {
      "cell_type": "markdown",
      "metadata": {
        "id": "x3XMM21_oE6Y"
      },
      "source": [
        "### Loading `babynames` Dataset"
      ]
    },
    {
      "cell_type": "code",
      "execution_count": null,
      "metadata": {
        "id": "b8DdZmwDoE6Y"
      },
      "outputs": [],
      "source": [
        "import urllib.request\n",
        "import os.path\n",
        "import zipfile\n",
        "\n",
        "data_url = \"https://www.ssa.gov/oact/babynames/state/namesbystate.zip\"\n",
        "local_filename = \"/content/drive/MyDrive/data/babynamesbystate.zip\"\n",
        "if not os.path.exists(local_filename): # If the data exists don't download again\n",
        "    with urllib.request.urlopen(data_url) as resp, open(local_filename, 'wb') as f:\n",
        "        f.write(resp.read())\n",
        "\n",
        "zf = zipfile.ZipFile(local_filename, 'r')\n",
        "\n",
        "ca_name = 'STATE.CA.TXT'\n",
        "field_names = ['State', 'Sex', 'Year', 'Name', 'Count']\n",
        "with zf.open(ca_name) as fh:\n",
        "    babynames = pd.read_csv(fh, header=None, names=field_names)\n",
        "\n",
        "babynames.tail(10)"
      ]
    },
    {
      "cell_type": "code",
      "execution_count": 4,
      "metadata": {},
      "outputs": [],
      "source": [
        "\n",
        "field_names = ['State', 'Sex', 'Year', 'Name', 'Count']\n",
        "data = pd.read_csv('babynamesbystate\\STATE.CA.TXT', header=None, names=field_names)"
      ]
    },
    {
      "cell_type": "markdown",
      "metadata": {
        "id": "vjFceU1HoE6Z"
      },
      "source": [
        "### Case Study: Name \"Popularity\""
      ]
    },
    {
      "cell_type": "markdown",
      "metadata": {
        "id": "mUVXQii4oE6Z"
      },
      "source": [
        "In this exercise, let's find the name with sex \"F\" that has dropped most in popularity since its peak usage in California. We'll start by filtering `babynames` to only include names corresponding to sex \"F\"."
      ]
    },
    {
      "cell_type": "code",
      "execution_count": 8,
      "metadata": {
        "id": "OlgKx43OoE6Z"
      },
      "outputs": [],
      "source": [
        "# Select the names only. of baby grils\n",
        "\n",
        "female_data = data[data[\"Sex\"]==\"F\"]"
      ]
    },
    {
      "cell_type": "code",
      "execution_count": 9,
      "metadata": {
        "id": "A7ahhyG4oE6Z"
      },
      "outputs": [],
      "source": [
        "# We sort the data by year\n",
        "female_data = female_data.sort_values([\"Year\"])"
      ]
    },
    {
      "cell_type": "markdown",
      "metadata": {
        "id": "foBztFg0oE6Z"
      },
      "source": [
        "To build our intuition on how to answer our research question, let's visualize the prevalence of the name \"Jennifer\" over time."
      ]
    },
    {
      "cell_type": "code",
      "execution_count": 10,
      "metadata": {
        "colab": {
          "base_uri": "https://localhost:8080/",
          "height": 417
        },
        "id": "lpOB-AtkoE6Z",
        "outputId": "e4dc5366-46d7-481d-ab34-1de454385ceb"
      },
      "outputs": [],
      "source": [
        "# We'll talk about how to generate plots in a later lecture\n",
        "\n",
        "jen = female_data[female_data[\"Name\"] == \"Jennifer\"][\"Count\"]"
      ]
    },
    {
      "cell_type": "markdown",
      "metadata": {
        "id": "02C_f93KoE6a"
      },
      "source": [
        "We'll need a mathematical definition for the change in popularity of a name in California.\n",
        "\n",
        "Define the metric \"Ratio to Peak\" (RTP). We'll calculate this as the count of the name in 2022 (the most recent year for which we have data) divided by the largest count of this name in *any* year.\n",
        "\n",
        "A demo calculation for Jennifer:"
      ]
    },
    {
      "cell_type": "code",
      "execution_count": 15,
      "metadata": {
        "colab": {
          "base_uri": "https://localhost:8080/"
        },
        "id": "_NUItRKboE6a",
        "outputId": "df015e60-d2d9-484f-b874-ed41cadbc63a"
      },
      "outputs": [
        {
          "data": {
            "text/plain": [
              "114"
            ]
          },
          "execution_count": 15,
          "metadata": {},
          "output_type": "execute_result"
        }
      ],
      "source": [
        "# In the year with the highest Jennifer count, 6065 Jennifers were born\n",
        "max_jenn = max(female_data[female_data[\"Name\"] == \"Jennifer\"][\"Count\"])\n",
        "curr_jenn = female_data[female_data[\"Name\"] == \"Jennifer\"][\"Count\"].iloc[-1]\n",
        "curr_jenn\n",
        "# This means that grabbing the final entry gives us the most recent count of Jennifers: 114\n",
        "# In 2022, the most recent year for which we have data, 114 Jennifers were born"
      ]
    },
    {
      "cell_type": "code",
      "execution_count": 16,
      "metadata": {
        "colab": {
          "base_uri": "https://localhost:8080/"
        },
        "id": "uZns9PaWoE6a",
        "outputId": "62a299c4-df36-449e-9452-f84976d094da",
        "tags": []
      },
      "outputs": [
        {
          "data": {
            "text/plain": [
              "0.018796372629843364"
            ]
          },
          "execution_count": 16,
          "metadata": {},
          "output_type": "execute_result"
        }
      ],
      "source": [
        "# Compute the RTP\n",
        "rtp = curr_jenn / max_jenn\n",
        "rtp\n",
        "\n",
        "\n"
      ]
    },
    {
      "cell_type": "markdown",
      "metadata": {
        "id": "lrrx_S8qoE6a"
      },
      "source": [
        "We can also write a function that produces the `ratio_to_peak`for a given `Series`. This will allow us to use `.groupby` to speed up our computation for all names in the dataset."
      ]
    },
    {
      "cell_type": "code",
      "execution_count": 18,
      "metadata": {
        "id": "P_M3_xSroE6a"
      },
      "outputs": [
        {
          "data": {
            "text/plain": [
              "0.018796372629843364"
            ]
          },
          "execution_count": 18,
          "metadata": {},
          "output_type": "execute_result"
        }
      ],
      "source": [
        "# Construct a Series containing our Jennifer count data\n",
        "# Then, find the RTP\n",
        "def ratio_to_peak(series):\n",
        "    return series.iloc[-1] / max(series)\n",
        "jenn_counts_ser = female_data[female_data[\"Name\"] == \"Jennifer\"][\"Count\"]\n",
        "ratio_to_peak(jenn_counts_ser)\n",
        "\n"
      ]
    },
    {
      "cell_type": "markdown",
      "metadata": {
        "id": "IbrV4raGoE6b"
      },
      "source": [
        "Now, let's use `.groupby` to compute the RTPs for *all* names in the dataset.\n",
        "\n",
        "You may see a warning message when running the cell below. As discussed in the lecture, `pandas` can't apply an aggregation function to non-numeric data (it doens't make sense to divide \"CA\" by a number). We can select numerical columns of interest directly."
      ]
    },
    {
      "cell_type": "code",
      "execution_count": 19,
      "metadata": {
        "id": "4VKbT11IoE6b",
        "tags": []
      },
      "outputs": [],
      "source": [
        "rtp_table = female_data.groupby(\"Name\")[[\"Year\",\"Count\"]].agg(ratio_to_peak)"
      ]
    },
    {
      "cell_type": "code",
      "execution_count": null,
      "metadata": {
        "id": "-Pxt3iAToE6b"
      },
      "outputs": [],
      "source": [
        "# Results in a TypeError\n",
        "# rtp_table = f_babynames.groupby(\"Name\").agg(ratio_to_peak)\n",
        "# rtp_table\n",
        "\n",
        "#uncomment this to check the error "
      ]
    },
    {
      "cell_type": "markdown",
      "metadata": {
        "id": "mRBWZwqeoE6b"
      },
      "source": [
        "### Slido Exercise\n",
        "\n",
        "Is there a row where `Year` is not equal to 1?"
      ]
    },
    {
      "cell_type": "code",
      "execution_count": 21,
      "metadata": {
        "id": "-K-fpGGIoE6b"
      },
      "outputs": [
        {
          "data": {
            "text/html": [
              "<div>\n",
              "<style scoped>\n",
              "    .dataframe tbody tr th:only-of-type {\n",
              "        vertical-align: middle;\n",
              "    }\n",
              "\n",
              "    .dataframe tbody tr th {\n",
              "        vertical-align: top;\n",
              "    }\n",
              "\n",
              "    .dataframe thead th {\n",
              "        text-align: right;\n",
              "    }\n",
              "</style>\n",
              "<table border=\"1\" class=\"dataframe\">\n",
              "  <thead>\n",
              "    <tr style=\"text-align: right;\">\n",
              "      <th></th>\n",
              "      <th>Year</th>\n",
              "      <th>Count</th>\n",
              "    </tr>\n",
              "    <tr>\n",
              "      <th>Name</th>\n",
              "      <th></th>\n",
              "      <th></th>\n",
              "    </tr>\n",
              "  </thead>\n",
              "  <tbody>\n",
              "    <tr>\n",
              "      <th>Aadhini</th>\n",
              "      <td>1.0</td>\n",
              "      <td>1.000000</td>\n",
              "    </tr>\n",
              "    <tr>\n",
              "      <th>Aadhira</th>\n",
              "      <td>1.0</td>\n",
              "      <td>0.500000</td>\n",
              "    </tr>\n",
              "    <tr>\n",
              "      <th>Aadhya</th>\n",
              "      <td>1.0</td>\n",
              "      <td>0.660000</td>\n",
              "    </tr>\n",
              "    <tr>\n",
              "      <th>Aadya</th>\n",
              "      <td>1.0</td>\n",
              "      <td>0.586207</td>\n",
              "    </tr>\n",
              "    <tr>\n",
              "      <th>Aahana</th>\n",
              "      <td>1.0</td>\n",
              "      <td>0.269231</td>\n",
              "    </tr>\n",
              "    <tr>\n",
              "      <th>...</th>\n",
              "      <td>...</td>\n",
              "      <td>...</td>\n",
              "    </tr>\n",
              "    <tr>\n",
              "      <th>Zyanya</th>\n",
              "      <td>1.0</td>\n",
              "      <td>0.466667</td>\n",
              "    </tr>\n",
              "    <tr>\n",
              "      <th>Zyla</th>\n",
              "      <td>1.0</td>\n",
              "      <td>1.000000</td>\n",
              "    </tr>\n",
              "    <tr>\n",
              "      <th>Zylah</th>\n",
              "      <td>1.0</td>\n",
              "      <td>1.000000</td>\n",
              "    </tr>\n",
              "    <tr>\n",
              "      <th>Zyra</th>\n",
              "      <td>1.0</td>\n",
              "      <td>1.000000</td>\n",
              "    </tr>\n",
              "    <tr>\n",
              "      <th>Zyrah</th>\n",
              "      <td>1.0</td>\n",
              "      <td>0.833333</td>\n",
              "    </tr>\n",
              "  </tbody>\n",
              "</table>\n",
              "<p>13782 rows × 2 columns</p>\n",
              "</div>"
            ],
            "text/plain": [
              "         Year     Count\n",
              "Name                   \n",
              "Aadhini   1.0  1.000000\n",
              "Aadhira   1.0  0.500000\n",
              "Aadhya    1.0  0.660000\n",
              "Aadya     1.0  0.586207\n",
              "Aahana    1.0  0.269231\n",
              "...       ...       ...\n",
              "Zyanya    1.0  0.466667\n",
              "Zyla      1.0  1.000000\n",
              "Zylah     1.0  1.000000\n",
              "Zyra      1.0  1.000000\n",
              "Zyrah     1.0  0.833333\n",
              "\n",
              "[13782 rows x 2 columns]"
            ]
          },
          "execution_count": 21,
          "metadata": {},
          "output_type": "execute_result"
        }
      ],
      "source": [
        "# Find Unique values in the Year column of rtp_table dataframe\n",
        "\n",
        "rtp_table = (female_data.groupby(\"Name\")[[\"Year\",\"Count\"]].agg(ratio_to_peak))\n",
        "rtp_table\n"
      ]
    },
    {
      "cell_type": "code",
      "execution_count": 38,
      "metadata": {
        "id": "8d-1RqRYoE6c"
      },
      "outputs": [],
      "source": [
        "# Rename \"Count\" to \"Count RTP\" for clarity\n",
        "rtp_table = female_data.groupby(\"Name\")[[\"Count\"]].agg(ratio_to_peak)\n",
        "rtp_table = rtp_table.rename(columns = {\"Count\": \"Count RTP\"})\n"
      ]
    },
    {
      "cell_type": "code",
      "execution_count": 44,
      "metadata": {},
      "outputs": [],
      "source": [
        "data = data.rename(columns = {\"Count\": \"Count RTP\"})\n"
      ]
    },
    {
      "cell_type": "code",
      "execution_count": 26,
      "metadata": {
        "id": "SHYMJFsSoE6c"
      },
      "outputs": [
        {
          "data": {
            "text/html": [
              "<div>\n",
              "<style scoped>\n",
              "    .dataframe tbody tr th:only-of-type {\n",
              "        vertical-align: middle;\n",
              "    }\n",
              "\n",
              "    .dataframe tbody tr th {\n",
              "        vertical-align: top;\n",
              "    }\n",
              "\n",
              "    .dataframe thead th {\n",
              "        text-align: right;\n",
              "    }\n",
              "</style>\n",
              "<table border=\"1\" class=\"dataframe\">\n",
              "  <thead>\n",
              "    <tr style=\"text-align: right;\">\n",
              "      <th></th>\n",
              "      <th>Count RTP</th>\n",
              "    </tr>\n",
              "    <tr>\n",
              "      <th>Name</th>\n",
              "      <th></th>\n",
              "    </tr>\n",
              "  </thead>\n",
              "  <tbody>\n",
              "    <tr>\n",
              "      <th>Debra</th>\n",
              "      <td>0.001260</td>\n",
              "    </tr>\n",
              "    <tr>\n",
              "      <th>Debbie</th>\n",
              "      <td>0.002815</td>\n",
              "    </tr>\n",
              "    <tr>\n",
              "      <th>Carol</th>\n",
              "      <td>0.003180</td>\n",
              "    </tr>\n",
              "    <tr>\n",
              "      <th>Tammy</th>\n",
              "      <td>0.003249</td>\n",
              "    </tr>\n",
              "    <tr>\n",
              "      <th>Susan</th>\n",
              "      <td>0.003305</td>\n",
              "    </tr>\n",
              "    <tr>\n",
              "      <th>...</th>\n",
              "      <td>...</td>\n",
              "    </tr>\n",
              "    <tr>\n",
              "      <th>Fidelia</th>\n",
              "      <td>1.000000</td>\n",
              "    </tr>\n",
              "    <tr>\n",
              "      <th>Naveyah</th>\n",
              "      <td>1.000000</td>\n",
              "    </tr>\n",
              "    <tr>\n",
              "      <th>Finlee</th>\n",
              "      <td>1.000000</td>\n",
              "    </tr>\n",
              "    <tr>\n",
              "      <th>Roseline</th>\n",
              "      <td>1.000000</td>\n",
              "    </tr>\n",
              "    <tr>\n",
              "      <th>Aadhini</th>\n",
              "      <td>1.000000</td>\n",
              "    </tr>\n",
              "  </tbody>\n",
              "</table>\n",
              "<p>13782 rows × 1 columns</p>\n",
              "</div>"
            ],
            "text/plain": [
              "          Count RTP\n",
              "Name               \n",
              "Debra      0.001260\n",
              "Debbie     0.002815\n",
              "Carol      0.003180\n",
              "Tammy      0.003249\n",
              "Susan      0.003305\n",
              "...             ...\n",
              "Fidelia    1.000000\n",
              "Naveyah    1.000000\n",
              "Finlee     1.000000\n",
              "Roseline   1.000000\n",
              "Aadhini    1.000000\n",
              "\n",
              "[13782 rows x 1 columns]"
            ]
          },
          "execution_count": 26,
          "metadata": {},
          "output_type": "execute_result"
        }
      ],
      "source": [
        "# What name has fallen the most in popularity?\n",
        "\n",
        "rtp_table.sort_values(\"Count RTP\")"
      ]
    },
    {
      "cell_type": "code",
      "execution_count": 31,
      "metadata": {},
      "outputs": [],
      "source": [
        "rtp_table.reset_index(inplace=True)"
      ]
    },
    {
      "cell_type": "markdown",
      "metadata": {
        "id": "T6NWCovooE6c"
      },
      "source": [
        "We can visualize the decrease in the popularity of the name \"Debra:\""
      ]
    },
    {
      "cell_type": "code",
      "execution_count": 27,
      "metadata": {
        "colab": {
          "base_uri": "https://localhost:8080/",
          "height": 417
        },
        "id": "rfs5dxKBoE6c",
        "outputId": "a9a4bfbd-d53c-4a17-891a-28bb4070a7b8"
      },
      "outputs": [
        {
          "data": {
            "application/vnd.plotly.v1+json": {
              "config": {
                "plotlyServerURL": "https://plot.ly"
              },
              "data": [
                {
                  "hovertemplate": "Name=Debra<br>Year=%{x}<br>Count=%{y}<extra></extra>",
                  "legendgroup": "Debra",
                  "line": {
                    "color": "#636efa",
                    "dash": "solid"
                  },
                  "marker": {
                    "symbol": "circle"
                  },
                  "mode": "lines",
                  "name": "Debra",
                  "orientation": "v",
                  "showlegend": true,
                  "type": "scatter",
                  "x": [
                    1940,
                    1942,
                    1943,
                    1944,
                    1945,
                    1946,
                    1947,
                    1948,
                    1949,
                    1950,
                    1951,
                    1952,
                    1953,
                    1954,
                    1955,
                    1956,
                    1957,
                    1958,
                    1959,
                    1960,
                    1961,
                    1962,
                    1963,
                    1964,
                    1965,
                    1966,
                    1967,
                    1968,
                    1969,
                    1970,
                    1971,
                    1972,
                    1973,
                    1974,
                    1975,
                    1976,
                    1977,
                    1978,
                    1979,
                    1980,
                    1981,
                    1982,
                    1983,
                    1984,
                    1985,
                    1986,
                    1987,
                    1988,
                    1989,
                    1990,
                    1991,
                    1992,
                    1993,
                    1994,
                    1995,
                    1996,
                    1997,
                    1998,
                    1999,
                    2000,
                    2001,
                    2002,
                    2003,
                    2004,
                    2005,
                    2006,
                    2007,
                    2008,
                    2009,
                    2012,
                    2013,
                    2016
                  ],
                  "xaxis": "x",
                  "y": [
                    7,
                    7,
                    8,
                    15,
                    19,
                    20,
                    56,
                    92,
                    199,
                    601,
                    1510,
                    2351,
                    3295,
                    3784,
                    3969,
                    3755,
                    3318,
                    2660,
                    2290,
                    2014,
                    1647,
                    1592,
                    1430,
                    1287,
                    1154,
                    958,
                    818,
                    748,
                    647,
                    547,
                    463,
                    318,
                    242,
                    236,
                    159,
                    151,
                    151,
                    164,
                    130,
                    141,
                    97,
                    114,
                    97,
                    95,
                    93,
                    64,
                    78,
                    69,
                    71,
                    51,
                    62,
                    41,
                    34,
                    28,
                    28,
                    12,
                    14,
                    16,
                    10,
                    13,
                    14,
                    10,
                    7,
                    12,
                    13,
                    12,
                    13,
                    6,
                    7,
                    5,
                    8,
                    5
                  ],
                  "yaxis": "y"
                }
              ],
              "layout": {
                "font": {
                  "size": 18
                },
                "height": 400,
                "legend": {
                  "title": {
                    "text": "Name"
                  },
                  "tracegroupgap": 0
                },
                "template": {
                  "data": {
                    "bar": [
                      {
                        "error_x": {
                          "color": "#2a3f5f"
                        },
                        "error_y": {
                          "color": "#2a3f5f"
                        },
                        "marker": {
                          "line": {
                            "color": "#E5ECF6",
                            "width": 0.5
                          },
                          "pattern": {
                            "fillmode": "overlay",
                            "size": 10,
                            "solidity": 0.2
                          }
                        },
                        "type": "bar"
                      }
                    ],
                    "barpolar": [
                      {
                        "marker": {
                          "line": {
                            "color": "#E5ECF6",
                            "width": 0.5
                          },
                          "pattern": {
                            "fillmode": "overlay",
                            "size": 10,
                            "solidity": 0.2
                          }
                        },
                        "type": "barpolar"
                      }
                    ],
                    "carpet": [
                      {
                        "aaxis": {
                          "endlinecolor": "#2a3f5f",
                          "gridcolor": "white",
                          "linecolor": "white",
                          "minorgridcolor": "white",
                          "startlinecolor": "#2a3f5f"
                        },
                        "baxis": {
                          "endlinecolor": "#2a3f5f",
                          "gridcolor": "white",
                          "linecolor": "white",
                          "minorgridcolor": "white",
                          "startlinecolor": "#2a3f5f"
                        },
                        "type": "carpet"
                      }
                    ],
                    "choropleth": [
                      {
                        "colorbar": {
                          "outlinewidth": 0,
                          "ticks": ""
                        },
                        "type": "choropleth"
                      }
                    ],
                    "contour": [
                      {
                        "colorbar": {
                          "outlinewidth": 0,
                          "ticks": ""
                        },
                        "colorscale": [
                          [
                            0,
                            "#0d0887"
                          ],
                          [
                            0.1111111111111111,
                            "#46039f"
                          ],
                          [
                            0.2222222222222222,
                            "#7201a8"
                          ],
                          [
                            0.3333333333333333,
                            "#9c179e"
                          ],
                          [
                            0.4444444444444444,
                            "#bd3786"
                          ],
                          [
                            0.5555555555555556,
                            "#d8576b"
                          ],
                          [
                            0.6666666666666666,
                            "#ed7953"
                          ],
                          [
                            0.7777777777777778,
                            "#fb9f3a"
                          ],
                          [
                            0.8888888888888888,
                            "#fdca26"
                          ],
                          [
                            1,
                            "#f0f921"
                          ]
                        ],
                        "type": "contour"
                      }
                    ],
                    "contourcarpet": [
                      {
                        "colorbar": {
                          "outlinewidth": 0,
                          "ticks": ""
                        },
                        "type": "contourcarpet"
                      }
                    ],
                    "heatmap": [
                      {
                        "colorbar": {
                          "outlinewidth": 0,
                          "ticks": ""
                        },
                        "colorscale": [
                          [
                            0,
                            "#0d0887"
                          ],
                          [
                            0.1111111111111111,
                            "#46039f"
                          ],
                          [
                            0.2222222222222222,
                            "#7201a8"
                          ],
                          [
                            0.3333333333333333,
                            "#9c179e"
                          ],
                          [
                            0.4444444444444444,
                            "#bd3786"
                          ],
                          [
                            0.5555555555555556,
                            "#d8576b"
                          ],
                          [
                            0.6666666666666666,
                            "#ed7953"
                          ],
                          [
                            0.7777777777777778,
                            "#fb9f3a"
                          ],
                          [
                            0.8888888888888888,
                            "#fdca26"
                          ],
                          [
                            1,
                            "#f0f921"
                          ]
                        ],
                        "type": "heatmap"
                      }
                    ],
                    "heatmapgl": [
                      {
                        "colorbar": {
                          "outlinewidth": 0,
                          "ticks": ""
                        },
                        "colorscale": [
                          [
                            0,
                            "#0d0887"
                          ],
                          [
                            0.1111111111111111,
                            "#46039f"
                          ],
                          [
                            0.2222222222222222,
                            "#7201a8"
                          ],
                          [
                            0.3333333333333333,
                            "#9c179e"
                          ],
                          [
                            0.4444444444444444,
                            "#bd3786"
                          ],
                          [
                            0.5555555555555556,
                            "#d8576b"
                          ],
                          [
                            0.6666666666666666,
                            "#ed7953"
                          ],
                          [
                            0.7777777777777778,
                            "#fb9f3a"
                          ],
                          [
                            0.8888888888888888,
                            "#fdca26"
                          ],
                          [
                            1,
                            "#f0f921"
                          ]
                        ],
                        "type": "heatmapgl"
                      }
                    ],
                    "histogram": [
                      {
                        "marker": {
                          "pattern": {
                            "fillmode": "overlay",
                            "size": 10,
                            "solidity": 0.2
                          }
                        },
                        "type": "histogram"
                      }
                    ],
                    "histogram2d": [
                      {
                        "colorbar": {
                          "outlinewidth": 0,
                          "ticks": ""
                        },
                        "colorscale": [
                          [
                            0,
                            "#0d0887"
                          ],
                          [
                            0.1111111111111111,
                            "#46039f"
                          ],
                          [
                            0.2222222222222222,
                            "#7201a8"
                          ],
                          [
                            0.3333333333333333,
                            "#9c179e"
                          ],
                          [
                            0.4444444444444444,
                            "#bd3786"
                          ],
                          [
                            0.5555555555555556,
                            "#d8576b"
                          ],
                          [
                            0.6666666666666666,
                            "#ed7953"
                          ],
                          [
                            0.7777777777777778,
                            "#fb9f3a"
                          ],
                          [
                            0.8888888888888888,
                            "#fdca26"
                          ],
                          [
                            1,
                            "#f0f921"
                          ]
                        ],
                        "type": "histogram2d"
                      }
                    ],
                    "histogram2dcontour": [
                      {
                        "colorbar": {
                          "outlinewidth": 0,
                          "ticks": ""
                        },
                        "colorscale": [
                          [
                            0,
                            "#0d0887"
                          ],
                          [
                            0.1111111111111111,
                            "#46039f"
                          ],
                          [
                            0.2222222222222222,
                            "#7201a8"
                          ],
                          [
                            0.3333333333333333,
                            "#9c179e"
                          ],
                          [
                            0.4444444444444444,
                            "#bd3786"
                          ],
                          [
                            0.5555555555555556,
                            "#d8576b"
                          ],
                          [
                            0.6666666666666666,
                            "#ed7953"
                          ],
                          [
                            0.7777777777777778,
                            "#fb9f3a"
                          ],
                          [
                            0.8888888888888888,
                            "#fdca26"
                          ],
                          [
                            1,
                            "#f0f921"
                          ]
                        ],
                        "type": "histogram2dcontour"
                      }
                    ],
                    "mesh3d": [
                      {
                        "colorbar": {
                          "outlinewidth": 0,
                          "ticks": ""
                        },
                        "type": "mesh3d"
                      }
                    ],
                    "parcoords": [
                      {
                        "line": {
                          "colorbar": {
                            "outlinewidth": 0,
                            "ticks": ""
                          }
                        },
                        "type": "parcoords"
                      }
                    ],
                    "pie": [
                      {
                        "automargin": true,
                        "type": "pie"
                      }
                    ],
                    "scatter": [
                      {
                        "fillpattern": {
                          "fillmode": "overlay",
                          "size": 10,
                          "solidity": 0.2
                        },
                        "type": "scatter"
                      }
                    ],
                    "scatter3d": [
                      {
                        "line": {
                          "colorbar": {
                            "outlinewidth": 0,
                            "ticks": ""
                          }
                        },
                        "marker": {
                          "colorbar": {
                            "outlinewidth": 0,
                            "ticks": ""
                          }
                        },
                        "type": "scatter3d"
                      }
                    ],
                    "scattercarpet": [
                      {
                        "marker": {
                          "colorbar": {
                            "outlinewidth": 0,
                            "ticks": ""
                          }
                        },
                        "type": "scattercarpet"
                      }
                    ],
                    "scattergeo": [
                      {
                        "marker": {
                          "colorbar": {
                            "outlinewidth": 0,
                            "ticks": ""
                          }
                        },
                        "type": "scattergeo"
                      }
                    ],
                    "scattergl": [
                      {
                        "marker": {
                          "colorbar": {
                            "outlinewidth": 0,
                            "ticks": ""
                          }
                        },
                        "type": "scattergl"
                      }
                    ],
                    "scattermapbox": [
                      {
                        "marker": {
                          "colorbar": {
                            "outlinewidth": 0,
                            "ticks": ""
                          }
                        },
                        "type": "scattermapbox"
                      }
                    ],
                    "scatterpolar": [
                      {
                        "marker": {
                          "colorbar": {
                            "outlinewidth": 0,
                            "ticks": ""
                          }
                        },
                        "type": "scatterpolar"
                      }
                    ],
                    "scatterpolargl": [
                      {
                        "marker": {
                          "colorbar": {
                            "outlinewidth": 0,
                            "ticks": ""
                          }
                        },
                        "type": "scatterpolargl"
                      }
                    ],
                    "scatterternary": [
                      {
                        "marker": {
                          "colorbar": {
                            "outlinewidth": 0,
                            "ticks": ""
                          }
                        },
                        "type": "scatterternary"
                      }
                    ],
                    "surface": [
                      {
                        "colorbar": {
                          "outlinewidth": 0,
                          "ticks": ""
                        },
                        "colorscale": [
                          [
                            0,
                            "#0d0887"
                          ],
                          [
                            0.1111111111111111,
                            "#46039f"
                          ],
                          [
                            0.2222222222222222,
                            "#7201a8"
                          ],
                          [
                            0.3333333333333333,
                            "#9c179e"
                          ],
                          [
                            0.4444444444444444,
                            "#bd3786"
                          ],
                          [
                            0.5555555555555556,
                            "#d8576b"
                          ],
                          [
                            0.6666666666666666,
                            "#ed7953"
                          ],
                          [
                            0.7777777777777778,
                            "#fb9f3a"
                          ],
                          [
                            0.8888888888888888,
                            "#fdca26"
                          ],
                          [
                            1,
                            "#f0f921"
                          ]
                        ],
                        "type": "surface"
                      }
                    ],
                    "table": [
                      {
                        "cells": {
                          "fill": {
                            "color": "#EBF0F8"
                          },
                          "line": {
                            "color": "white"
                          }
                        },
                        "header": {
                          "fill": {
                            "color": "#C8D4E3"
                          },
                          "line": {
                            "color": "white"
                          }
                        },
                        "type": "table"
                      }
                    ]
                  },
                  "layout": {
                    "annotationdefaults": {
                      "arrowcolor": "#2a3f5f",
                      "arrowhead": 0,
                      "arrowwidth": 1
                    },
                    "autotypenumbers": "strict",
                    "coloraxis": {
                      "colorbar": {
                        "outlinewidth": 0,
                        "ticks": ""
                      }
                    },
                    "colorscale": {
                      "diverging": [
                        [
                          0,
                          "#8e0152"
                        ],
                        [
                          0.1,
                          "#c51b7d"
                        ],
                        [
                          0.2,
                          "#de77ae"
                        ],
                        [
                          0.3,
                          "#f1b6da"
                        ],
                        [
                          0.4,
                          "#fde0ef"
                        ],
                        [
                          0.5,
                          "#f7f7f7"
                        ],
                        [
                          0.6,
                          "#e6f5d0"
                        ],
                        [
                          0.7,
                          "#b8e186"
                        ],
                        [
                          0.8,
                          "#7fbc41"
                        ],
                        [
                          0.9,
                          "#4d9221"
                        ],
                        [
                          1,
                          "#276419"
                        ]
                      ],
                      "sequential": [
                        [
                          0,
                          "#0d0887"
                        ],
                        [
                          0.1111111111111111,
                          "#46039f"
                        ],
                        [
                          0.2222222222222222,
                          "#7201a8"
                        ],
                        [
                          0.3333333333333333,
                          "#9c179e"
                        ],
                        [
                          0.4444444444444444,
                          "#bd3786"
                        ],
                        [
                          0.5555555555555556,
                          "#d8576b"
                        ],
                        [
                          0.6666666666666666,
                          "#ed7953"
                        ],
                        [
                          0.7777777777777778,
                          "#fb9f3a"
                        ],
                        [
                          0.8888888888888888,
                          "#fdca26"
                        ],
                        [
                          1,
                          "#f0f921"
                        ]
                      ],
                      "sequentialminus": [
                        [
                          0,
                          "#0d0887"
                        ],
                        [
                          0.1111111111111111,
                          "#46039f"
                        ],
                        [
                          0.2222222222222222,
                          "#7201a8"
                        ],
                        [
                          0.3333333333333333,
                          "#9c179e"
                        ],
                        [
                          0.4444444444444444,
                          "#bd3786"
                        ],
                        [
                          0.5555555555555556,
                          "#d8576b"
                        ],
                        [
                          0.6666666666666666,
                          "#ed7953"
                        ],
                        [
                          0.7777777777777778,
                          "#fb9f3a"
                        ],
                        [
                          0.8888888888888888,
                          "#fdca26"
                        ],
                        [
                          1,
                          "#f0f921"
                        ]
                      ]
                    },
                    "colorway": [
                      "#636efa",
                      "#EF553B",
                      "#00cc96",
                      "#ab63fa",
                      "#FFA15A",
                      "#19d3f3",
                      "#FF6692",
                      "#B6E880",
                      "#FF97FF",
                      "#FECB52"
                    ],
                    "font": {
                      "color": "#2a3f5f"
                    },
                    "geo": {
                      "bgcolor": "white",
                      "lakecolor": "white",
                      "landcolor": "#E5ECF6",
                      "showlakes": true,
                      "showland": true,
                      "subunitcolor": "white"
                    },
                    "hoverlabel": {
                      "align": "left"
                    },
                    "hovermode": "closest",
                    "mapbox": {
                      "style": "light"
                    },
                    "paper_bgcolor": "white",
                    "plot_bgcolor": "#E5ECF6",
                    "polar": {
                      "angularaxis": {
                        "gridcolor": "white",
                        "linecolor": "white",
                        "ticks": ""
                      },
                      "bgcolor": "#E5ECF6",
                      "radialaxis": {
                        "gridcolor": "white",
                        "linecolor": "white",
                        "ticks": ""
                      }
                    },
                    "scene": {
                      "xaxis": {
                        "backgroundcolor": "#E5ECF6",
                        "gridcolor": "white",
                        "gridwidth": 2,
                        "linecolor": "white",
                        "showbackground": true,
                        "ticks": "",
                        "zerolinecolor": "white"
                      },
                      "yaxis": {
                        "backgroundcolor": "#E5ECF6",
                        "gridcolor": "white",
                        "gridwidth": 2,
                        "linecolor": "white",
                        "showbackground": true,
                        "ticks": "",
                        "zerolinecolor": "white"
                      },
                      "zaxis": {
                        "backgroundcolor": "#E5ECF6",
                        "gridcolor": "white",
                        "gridwidth": 2,
                        "linecolor": "white",
                        "showbackground": true,
                        "ticks": "",
                        "zerolinecolor": "white"
                      }
                    },
                    "shapedefaults": {
                      "line": {
                        "color": "#2a3f5f"
                      }
                    },
                    "ternary": {
                      "aaxis": {
                        "gridcolor": "white",
                        "linecolor": "white",
                        "ticks": ""
                      },
                      "baxis": {
                        "gridcolor": "white",
                        "linecolor": "white",
                        "ticks": ""
                      },
                      "bgcolor": "#E5ECF6",
                      "caxis": {
                        "gridcolor": "white",
                        "linecolor": "white",
                        "ticks": ""
                      }
                    },
                    "title": {
                      "x": 0.05
                    },
                    "xaxis": {
                      "automargin": true,
                      "gridcolor": "white",
                      "linecolor": "white",
                      "ticks": "",
                      "title": {
                        "standoff": 15
                      },
                      "zerolinecolor": "white",
                      "zerolinewidth": 2
                    },
                    "yaxis": {
                      "automargin": true,
                      "gridcolor": "white",
                      "linecolor": "white",
                      "ticks": "",
                      "title": {
                        "standoff": 15
                      },
                      "zerolinecolor": "white",
                      "zerolinewidth": 2
                    }
                  }
                },
                "title": {
                  "text": "Popularity for: ('Debra',)"
                },
                "width": 1000,
                "xaxis": {
                  "anchor": "y",
                  "domain": [
                    0,
                    1
                  ],
                  "title": {
                    "text": "Year"
                  }
                },
                "yaxis": {
                  "anchor": "x",
                  "domain": [
                    0,
                    1
                  ],
                  "title": {
                    "text": "Count"
                  }
                }
              }
            }
          },
          "metadata": {},
          "output_type": "display_data"
        }
      ],
      "source": [
        "def plot_name(*names):\n",
        "    fig = px.line(female_data[female_data[\"Name\"].isin(names)],\n",
        "                  x = \"Year\", y = \"Count\", color=\"Name\",\n",
        "                  title=f\"Popularity for: {names}\")\n",
        "    fig.update_layout(font_size = 18,\n",
        "                  width=1000,\n",
        "                  height=400)\n",
        "    return fig\n",
        "\n",
        "plot_name(\"Debra\")"
      ]
    },
    {
      "cell_type": "code",
      "execution_count": 28,
      "metadata": {
        "id": "wNDoCzz4oE6c"
      },
      "outputs": [],
      "source": [
        "# Find the 10 names that have decreased the most in popularity\n",
        "top10 = rtp_table.sort_values(\"Count RTP\").head(10).index"
      ]
    },
    {
      "cell_type": "code",
      "execution_count": 29,
      "metadata": {
        "id": "5Jl6bHEJoE6c"
      },
      "outputs": [
        {
          "data": {
            "application/vnd.plotly.v1+json": {
              "config": {
                "plotlyServerURL": "https://plot.ly"
              },
              "data": [
                {
                  "hovertemplate": "Name=Carol<br>Year=%{x}<br>Count=%{y}<extra></extra>",
                  "legendgroup": "Carol",
                  "line": {
                    "color": "#636efa",
                    "dash": "solid"
                  },
                  "marker": {
                    "symbol": "circle"
                  },
                  "mode": "lines",
                  "name": "Carol",
                  "orientation": "v",
                  "showlegend": true,
                  "type": "scatter",
                  "x": [
                    1910,
                    1911,
                    1912,
                    1913,
                    1914,
                    1915,
                    1916,
                    1917,
                    1918,
                    1919,
                    1920,
                    1921,
                    1922,
                    1923,
                    1924,
                    1925,
                    1926,
                    1927,
                    1928,
                    1929,
                    1930,
                    1931,
                    1932,
                    1933,
                    1934,
                    1935,
                    1936,
                    1937,
                    1938,
                    1939,
                    1940,
                    1941,
                    1942,
                    1943,
                    1944,
                    1945,
                    1946,
                    1947,
                    1948,
                    1949,
                    1950,
                    1951,
                    1952,
                    1953,
                    1954,
                    1955,
                    1956,
                    1957,
                    1958,
                    1959,
                    1960,
                    1961,
                    1962,
                    1963,
                    1964,
                    1965,
                    1966,
                    1967,
                    1968,
                    1969,
                    1970,
                    1971,
                    1972,
                    1973,
                    1974,
                    1975,
                    1976,
                    1977,
                    1978,
                    1979,
                    1980,
                    1981,
                    1982,
                    1983,
                    1984,
                    1985,
                    1986,
                    1987,
                    1988,
                    1989,
                    1990,
                    1991,
                    1992,
                    1993,
                    1994,
                    1995,
                    1996,
                    1997,
                    1998,
                    1999,
                    2000,
                    2001,
                    2002,
                    2003,
                    2004,
                    2005,
                    2006,
                    2007,
                    2008,
                    2009,
                    2010,
                    2011,
                    2012,
                    2013,
                    2014,
                    2015,
                    2016,
                    2017,
                    2018,
                    2019,
                    2020,
                    2021,
                    2022
                  ],
                  "xaxis": "x",
                  "y": [
                    8,
                    13,
                    17,
                    16,
                    26,
                    38,
                    59,
                    47,
                    55,
                    48,
                    64,
                    67,
                    74,
                    94,
                    138,
                    153,
                    151,
                    148,
                    193,
                    279,
                    270,
                    297,
                    367,
                    453,
                    559,
                    669,
                    873,
                    1015,
                    1050,
                    1109,
                    1079,
                    1339,
                    1672,
                    1937,
                    2089,
                    2138,
                    2152,
                    2201,
                    1954,
                    1779,
                    1737,
                    1734,
                    1727,
                    1597,
                    1684,
                    1651,
                    1704,
                    1703,
                    1545,
                    1480,
                    1359,
                    1283,
                    1191,
                    993,
                    1034,
                    815,
                    622,
                    577,
                    543,
                    468,
                    366,
                    267,
                    223,
                    187,
                    173,
                    146,
                    145,
                    145,
                    121,
                    132,
                    123,
                    128,
                    106,
                    114,
                    111,
                    101,
                    120,
                    107,
                    108,
                    134,
                    150,
                    136,
                    129,
                    89,
                    92,
                    75,
                    87,
                    64,
                    61,
                    46,
                    64,
                    33,
                    43,
                    47,
                    52,
                    76,
                    62,
                    38,
                    44,
                    26,
                    17,
                    47,
                    31,
                    36,
                    24,
                    13,
                    25,
                    18,
                    29,
                    20,
                    17,
                    8,
                    7
                  ],
                  "yaxis": "y"
                },
                {
                  "hovertemplate": "Name=Susan<br>Year=%{x}<br>Count=%{y}<extra></extra>",
                  "legendgroup": "Susan",
                  "line": {
                    "color": "#EF553B",
                    "dash": "solid"
                  },
                  "marker": {
                    "symbol": "circle"
                  },
                  "mode": "lines",
                  "name": "Susan",
                  "orientation": "v",
                  "showlegend": true,
                  "type": "scatter",
                  "x": [
                    1911,
                    1912,
                    1913,
                    1914,
                    1915,
                    1916,
                    1917,
                    1918,
                    1919,
                    1920,
                    1921,
                    1922,
                    1923,
                    1924,
                    1925,
                    1926,
                    1927,
                    1928,
                    1929,
                    1930,
                    1931,
                    1932,
                    1933,
                    1934,
                    1935,
                    1936,
                    1937,
                    1938,
                    1939,
                    1940,
                    1941,
                    1942,
                    1943,
                    1944,
                    1945,
                    1946,
                    1947,
                    1948,
                    1949,
                    1950,
                    1951,
                    1952,
                    1953,
                    1954,
                    1955,
                    1956,
                    1957,
                    1958,
                    1959,
                    1960,
                    1961,
                    1962,
                    1963,
                    1964,
                    1965,
                    1966,
                    1967,
                    1968,
                    1969,
                    1970,
                    1971,
                    1972,
                    1973,
                    1974,
                    1975,
                    1976,
                    1977,
                    1978,
                    1979,
                    1980,
                    1981,
                    1982,
                    1983,
                    1984,
                    1985,
                    1986,
                    1987,
                    1988,
                    1989,
                    1990,
                    1991,
                    1992,
                    1993,
                    1994,
                    1995,
                    1996,
                    1997,
                    1998,
                    1999,
                    2000,
                    2001,
                    2002,
                    2003,
                    2004,
                    2005,
                    2006,
                    2007,
                    2008,
                    2009,
                    2010,
                    2011,
                    2012,
                    2013,
                    2014,
                    2015,
                    2016,
                    2017,
                    2018,
                    2019,
                    2020,
                    2021,
                    2022
                  ],
                  "xaxis": "x",
                  "y": [
                    6,
                    8,
                    8,
                    10,
                    16,
                    17,
                    15,
                    20,
                    22,
                    21,
                    19,
                    15,
                    22,
                    26,
                    32,
                    29,
                    43,
                    25,
                    37,
                    63,
                    47,
                    63,
                    74,
                    101,
                    118,
                    138,
                    183,
                    271,
                    433,
                    630,
                    795,
                    1058,
                    1380,
                    1596,
                    1991,
                    2689,
                    2831,
                    3338,
                    3180,
                    3260,
                    3346,
                    3424,
                    3753,
                    3934,
                    3900,
                    3771,
                    3631,
                    3504,
                    3123,
                    3145,
                    3135,
                    2952,
                    2839,
                    2535,
                    2008,
                    1825,
                    1644,
                    1367,
                    1232,
                    1070,
                    861,
                    651,
                    530,
                    552,
                    496,
                    456,
                    437,
                    424,
                    409,
                    420,
                    361,
                    391,
                    352,
                    338,
                    273,
                    280,
                    272,
                    286,
                    267,
                    272,
                    260,
                    196,
                    202,
                    172,
                    152,
                    152,
                    114,
                    116,
                    103,
                    100,
                    104,
                    85,
                    76,
                    70,
                    71,
                    74,
                    53,
                    56,
                    41,
                    39,
                    43,
                    28,
                    44,
                    26,
                    45,
                    22,
                    26,
                    22,
                    19,
                    17,
                    8,
                    13
                  ],
                  "yaxis": "y"
                },
                {
                  "hovertemplate": "Name=Tina<br>Year=%{x}<br>Count=%{y}<extra></extra>",
                  "legendgroup": "Tina",
                  "line": {
                    "color": "#00cc96",
                    "dash": "solid"
                  },
                  "marker": {
                    "symbol": "circle"
                  },
                  "mode": "lines",
                  "name": "Tina",
                  "orientation": "v",
                  "showlegend": true,
                  "type": "scatter",
                  "x": [
                    1915,
                    1916,
                    1917,
                    1918,
                    1920,
                    1921,
                    1922,
                    1924,
                    1925,
                    1927,
                    1928,
                    1929,
                    1930,
                    1937,
                    1938,
                    1939,
                    1940,
                    1941,
                    1942,
                    1943,
                    1944,
                    1945,
                    1946,
                    1947,
                    1948,
                    1949,
                    1950,
                    1951,
                    1952,
                    1953,
                    1954,
                    1955,
                    1956,
                    1957,
                    1958,
                    1959,
                    1960,
                    1961,
                    1962,
                    1963,
                    1964,
                    1965,
                    1966,
                    1967,
                    1968,
                    1969,
                    1970,
                    1971,
                    1972,
                    1973,
                    1974,
                    1975,
                    1976,
                    1977,
                    1978,
                    1979,
                    1980,
                    1981,
                    1982,
                    1983,
                    1984,
                    1985,
                    1986,
                    1987,
                    1988,
                    1989,
                    1990,
                    1991,
                    1992,
                    1993,
                    1994,
                    1995,
                    1996,
                    1997,
                    1998,
                    1999,
                    2000,
                    2001,
                    2002,
                    2003,
                    2004,
                    2005,
                    2006,
                    2007,
                    2008,
                    2009,
                    2010,
                    2011,
                    2012,
                    2013,
                    2014,
                    2015,
                    2016,
                    2017,
                    2018,
                    2019,
                    2020,
                    2021,
                    2022
                  ],
                  "xaxis": "x",
                  "y": [
                    5,
                    6,
                    5,
                    5,
                    5,
                    7,
                    5,
                    9,
                    5,
                    8,
                    8,
                    5,
                    10,
                    10,
                    7,
                    8,
                    12,
                    9,
                    28,
                    45,
                    43,
                    53,
                    64,
                    80,
                    80,
                    88,
                    92,
                    128,
                    168,
                    163,
                    177,
                    366,
                    569,
                    569,
                    700,
                    753,
                    889,
                    1045,
                    1228,
                    1212,
                    1129,
                    1202,
                    1282,
                    1342,
                    1402,
                    1302,
                    1248,
                    1091,
                    941,
                    634,
                    642,
                    546,
                    450,
                    370,
                    414,
                    363,
                    335,
                    371,
                    310,
                    268,
                    271,
                    310,
                    238,
                    252,
                    252,
                    208,
                    180,
                    196,
                    163,
                    171,
                    147,
                    121,
                    111,
                    91,
                    80,
                    83,
                    90,
                    80,
                    67,
                    64,
                    63,
                    69,
                    36,
                    37,
                    47,
                    39,
                    39,
                    27,
                    39,
                    28,
                    46,
                    38,
                    33,
                    36,
                    26,
                    21,
                    15,
                    13,
                    6
                  ],
                  "yaxis": "y"
                },
                {
                  "hovertemplate": "Name=Cheryl<br>Year=%{x}<br>Count=%{y}<extra></extra>",
                  "legendgroup": "Cheryl",
                  "line": {
                    "color": "#ab63fa",
                    "dash": "solid"
                  },
                  "marker": {
                    "symbol": "circle"
                  },
                  "mode": "lines",
                  "name": "Cheryl",
                  "orientation": "v",
                  "showlegend": true,
                  "type": "scatter",
                  "x": [
                    1930,
                    1934,
                    1935,
                    1936,
                    1937,
                    1938,
                    1939,
                    1940,
                    1941,
                    1942,
                    1943,
                    1944,
                    1945,
                    1946,
                    1947,
                    1948,
                    1949,
                    1950,
                    1951,
                    1952,
                    1953,
                    1954,
                    1955,
                    1956,
                    1957,
                    1958,
                    1959,
                    1960,
                    1961,
                    1962,
                    1963,
                    1964,
                    1965,
                    1966,
                    1967,
                    1968,
                    1969,
                    1970,
                    1971,
                    1972,
                    1973,
                    1974,
                    1975,
                    1976,
                    1977,
                    1978,
                    1979,
                    1980,
                    1981,
                    1982,
                    1983,
                    1984,
                    1985,
                    1986,
                    1987,
                    1988,
                    1989,
                    1990,
                    1991,
                    1992,
                    1993,
                    1994,
                    1995,
                    1996,
                    1997,
                    1998,
                    1999,
                    2000,
                    2001,
                    2002,
                    2003,
                    2004,
                    2005,
                    2006,
                    2007,
                    2008,
                    2011,
                    2012,
                    2013,
                    2014,
                    2015,
                    2016,
                    2017,
                    2018,
                    2019,
                    2021,
                    2022
                  ],
                  "xaxis": "x",
                  "y": [
                    6,
                    8,
                    12,
                    10,
                    16,
                    76,
                    49,
                    42,
                    48,
                    87,
                    377,
                    759,
                    801,
                    1063,
                    1093,
                    1021,
                    916,
                    903,
                    993,
                    955,
                    1058,
                    1465,
                    1639,
                    1715,
                    1833,
                    1832,
                    1639,
                    1624,
                    1565,
                    1420,
                    1295,
                    1207,
                    1051,
                    950,
                    899,
                    751,
                    635,
                    550,
                    428,
                    371,
                    293,
                    271,
                    236,
                    199,
                    178,
                    303,
                    299,
                    272,
                    204,
                    229,
                    164,
                    135,
                    129,
                    130,
                    98,
                    106,
                    88,
                    90,
                    65,
                    55,
                    39,
                    47,
                    38,
                    30,
                    30,
                    19,
                    22,
                    24,
                    14,
                    11,
                    16,
                    17,
                    16,
                    13,
                    21,
                    14,
                    11,
                    15,
                    12,
                    10,
                    12,
                    15,
                    8,
                    10,
                    9,
                    6,
                    7
                  ],
                  "yaxis": "y"
                },
                {
                  "hovertemplate": "Name=Debbie<br>Year=%{x}<br>Count=%{y}<extra></extra>",
                  "legendgroup": "Debbie",
                  "line": {
                    "color": "#FFA15A",
                    "dash": "solid"
                  },
                  "marker": {
                    "symbol": "circle"
                  },
                  "mode": "lines",
                  "name": "Debbie",
                  "orientation": "v",
                  "showlegend": true,
                  "type": "scatter",
                  "x": [
                    1936,
                    1941,
                    1942,
                    1943,
                    1944,
                    1945,
                    1946,
                    1947,
                    1948,
                    1949,
                    1950,
                    1951,
                    1952,
                    1953,
                    1954,
                    1955,
                    1956,
                    1957,
                    1958,
                    1959,
                    1960,
                    1961,
                    1962,
                    1963,
                    1964,
                    1965,
                    1966,
                    1967,
                    1968,
                    1969,
                    1970,
                    1971,
                    1972,
                    1973,
                    1974,
                    1975,
                    1976,
                    1977,
                    1978,
                    1979,
                    1980,
                    1981,
                    1982,
                    1983,
                    1984,
                    1985,
                    1986,
                    1987,
                    1988,
                    1989,
                    1990,
                    1991,
                    1992,
                    1993,
                    1994,
                    1995,
                    1996,
                    1997,
                    1998,
                    1999,
                    2000,
                    2001,
                    2002,
                    2003,
                    2004,
                    2005,
                    2006,
                    2007,
                    2008,
                    2009,
                    2010,
                    2011,
                    2014,
                    2015,
                    2016,
                    2017,
                    2021
                  ],
                  "xaxis": "x",
                  "y": [
                    5,
                    9,
                    9,
                    10,
                    16,
                    11,
                    32,
                    74,
                    91,
                    115,
                    120,
                    191,
                    233,
                    300,
                    427,
                    697,
                    902,
                    1313,
                    1656,
                    1776,
                    1675,
                    1547,
                    1458,
                    1215,
                    1004,
                    648,
                    504,
                    415,
                    338,
                    279,
                    243,
                    192,
                    145,
                    108,
                    108,
                    92,
                    72,
                    64,
                    87,
                    91,
                    81,
                    65,
                    79,
                    67,
                    74,
                    64,
                    56,
                    71,
                    78,
                    93,
                    85,
                    78,
                    50,
                    61,
                    70,
                    53,
                    46,
                    39,
                    22,
                    28,
                    19,
                    11,
                    16,
                    14,
                    13,
                    8,
                    21,
                    10,
                    11,
                    10,
                    12,
                    8,
                    9,
                    6,
                    5,
                    5,
                    5
                  ],
                  "yaxis": "y"
                },
                {
                  "hovertemplate": "Name=Michele<br>Year=%{x}<br>Count=%{y}<extra></extra>",
                  "legendgroup": "Michele",
                  "line": {
                    "color": "#19d3f3",
                    "dash": "solid"
                  },
                  "marker": {
                    "symbol": "circle"
                  },
                  "mode": "lines",
                  "name": "Michele",
                  "orientation": "v",
                  "showlegend": true,
                  "type": "scatter",
                  "x": [
                    1936,
                    1937,
                    1938,
                    1939,
                    1940,
                    1941,
                    1942,
                    1943,
                    1944,
                    1945,
                    1946,
                    1947,
                    1948,
                    1949,
                    1950,
                    1951,
                    1952,
                    1953,
                    1954,
                    1955,
                    1956,
                    1957,
                    1958,
                    1959,
                    1960,
                    1961,
                    1962,
                    1963,
                    1964,
                    1965,
                    1966,
                    1967,
                    1968,
                    1969,
                    1970,
                    1971,
                    1972,
                    1973,
                    1974,
                    1975,
                    1976,
                    1977,
                    1978,
                    1979,
                    1980,
                    1981,
                    1982,
                    1983,
                    1984,
                    1985,
                    1986,
                    1987,
                    1988,
                    1989,
                    1990,
                    1991,
                    1992,
                    1993,
                    1994,
                    1995,
                    1996,
                    1997,
                    1998,
                    1999,
                    2000,
                    2001,
                    2002,
                    2003,
                    2004,
                    2005,
                    2006,
                    2007,
                    2008,
                    2009,
                    2010,
                    2011,
                    2012,
                    2013,
                    2014,
                    2015,
                    2022
                  ],
                  "xaxis": "x",
                  "y": [
                    7,
                    8,
                    5,
                    8,
                    18,
                    34,
                    113,
                    132,
                    166,
                    171,
                    172,
                    253,
                    213,
                    335,
                    295,
                    306,
                    401,
                    421,
                    500,
                    498,
                    464,
                    454,
                    470,
                    506,
                    576,
                    763,
                    766,
                    775,
                    768,
                    796,
                    1037,
                    1033,
                    1111,
                    1016,
                    973,
                    700,
                    702,
                    571,
                    494,
                    484,
                    437,
                    390,
                    381,
                    305,
                    281,
                    223,
                    230,
                    227,
                    200,
                    162,
                    206,
                    146,
                    143,
                    164,
                    137,
                    142,
                    125,
                    104,
                    82,
                    65,
                    52,
                    47,
                    45,
                    38,
                    28,
                    37,
                    27,
                    22,
                    28,
                    16,
                    21,
                    15,
                    15,
                    11,
                    14,
                    7,
                    5,
                    10,
                    6,
                    11,
                    5
                  ],
                  "yaxis": "y"
                },
                {
                  "hovertemplate": "Name=Shannon<br>Year=%{x}<br>Count=%{y}<extra></extra>",
                  "legendgroup": "Shannon",
                  "line": {
                    "color": "#FF6692",
                    "dash": "solid"
                  },
                  "marker": {
                    "symbol": "circle"
                  },
                  "mode": "lines",
                  "name": "Shannon",
                  "orientation": "v",
                  "showlegend": true,
                  "type": "scatter",
                  "x": [
                    1938,
                    1939,
                    1940,
                    1942,
                    1943,
                    1944,
                    1945,
                    1946,
                    1947,
                    1948,
                    1949,
                    1950,
                    1951,
                    1952,
                    1953,
                    1954,
                    1955,
                    1956,
                    1957,
                    1958,
                    1959,
                    1960,
                    1961,
                    1962,
                    1963,
                    1964,
                    1965,
                    1966,
                    1967,
                    1968,
                    1969,
                    1970,
                    1971,
                    1972,
                    1973,
                    1974,
                    1975,
                    1976,
                    1977,
                    1978,
                    1979,
                    1980,
                    1981,
                    1982,
                    1983,
                    1984,
                    1985,
                    1986,
                    1987,
                    1988,
                    1989,
                    1990,
                    1991,
                    1992,
                    1993,
                    1994,
                    1995,
                    1996,
                    1997,
                    1998,
                    1999,
                    2000,
                    2001,
                    2002,
                    2003,
                    2004,
                    2005,
                    2006,
                    2007,
                    2008,
                    2009,
                    2010,
                    2011,
                    2012,
                    2013,
                    2014,
                    2015,
                    2016,
                    2017,
                    2018,
                    2019,
                    2020,
                    2021,
                    2022
                  ],
                  "xaxis": "x",
                  "y": [
                    6,
                    9,
                    6,
                    10,
                    14,
                    19,
                    25,
                    16,
                    34,
                    23,
                    34,
                    43,
                    51,
                    59,
                    73,
                    83,
                    111,
                    106,
                    126,
                    129,
                    161,
                    145,
                    206,
                    216,
                    305,
                    409,
                    441,
                    516,
                    587,
                    932,
                    1419,
                    1650,
                    1436,
                    1198,
                    1090,
                    1127,
                    982,
                    1218,
                    1136,
                    1052,
                    991,
                    923,
                    968,
                    969,
                    971,
                    945,
                    872,
                    803,
                    699,
                    642,
                    597,
                    527,
                    493,
                    594,
                    615,
                    531,
                    438,
                    428,
                    366,
                    303,
                    217,
                    199,
                    200,
                    165,
                    133,
                    133,
                    110,
                    90,
                    88,
                    63,
                    42,
                    43,
                    37,
                    41,
                    32,
                    19,
                    31,
                    22,
                    17,
                    14,
                    21,
                    8,
                    8,
                    7
                  ],
                  "yaxis": "y"
                },
                {
                  "hovertemplate": "Name=Terri<br>Year=%{x}<br>Count=%{y}<extra></extra>",
                  "legendgroup": "Terri",
                  "line": {
                    "color": "#B6E880",
                    "dash": "solid"
                  },
                  "marker": {
                    "symbol": "circle"
                  },
                  "mode": "lines",
                  "name": "Terri",
                  "orientation": "v",
                  "showlegend": true,
                  "type": "scatter",
                  "x": [
                    1938,
                    1940,
                    1941,
                    1942,
                    1943,
                    1944,
                    1945,
                    1946,
                    1947,
                    1948,
                    1949,
                    1950,
                    1951,
                    1952,
                    1953,
                    1954,
                    1955,
                    1956,
                    1957,
                    1958,
                    1959,
                    1960,
                    1961,
                    1962,
                    1963,
                    1964,
                    1965,
                    1966,
                    1967,
                    1968,
                    1969,
                    1970,
                    1971,
                    1972,
                    1973,
                    1974,
                    1975,
                    1976,
                    1977,
                    1978,
                    1979,
                    1980,
                    1981,
                    1982,
                    1983,
                    1984,
                    1985,
                    1986,
                    1987,
                    1988,
                    1989,
                    1990,
                    1991,
                    1992,
                    1993,
                    1994,
                    1995,
                    1996,
                    1997,
                    1998,
                    1999,
                    2000,
                    2001,
                    2002,
                    2004,
                    2005,
                    2006,
                    2016,
                    2021,
                    2022
                  ],
                  "xaxis": "x",
                  "y": [
                    6,
                    8,
                    12,
                    26,
                    32,
                    38,
                    65,
                    99,
                    130,
                    132,
                    168,
                    154,
                    236,
                    306,
                    379,
                    542,
                    604,
                    685,
                    839,
                    875,
                    1052,
                    964,
                    937,
                    902,
                    826,
                    737,
                    486,
                    448,
                    398,
                    323,
                    312,
                    263,
                    191,
                    153,
                    120,
                    106,
                    81,
                    59,
                    84,
                    57,
                    44,
                    49,
                    47,
                    53,
                    44,
                    36,
                    37,
                    35,
                    32,
                    34,
                    20,
                    26,
                    29,
                    15,
                    19,
                    22,
                    11,
                    15,
                    12,
                    13,
                    11,
                    14,
                    9,
                    7,
                    6,
                    7,
                    5,
                    5,
                    5,
                    5
                  ],
                  "yaxis": "y"
                },
                {
                  "hovertemplate": "Name=Debra<br>Year=%{x}<br>Count=%{y}<extra></extra>",
                  "legendgroup": "Debra",
                  "line": {
                    "color": "#FF97FF",
                    "dash": "solid"
                  },
                  "marker": {
                    "symbol": "circle"
                  },
                  "mode": "lines",
                  "name": "Debra",
                  "orientation": "v",
                  "showlegend": true,
                  "type": "scatter",
                  "x": [
                    1940,
                    1942,
                    1943,
                    1944,
                    1945,
                    1946,
                    1947,
                    1948,
                    1949,
                    1950,
                    1951,
                    1952,
                    1953,
                    1954,
                    1955,
                    1956,
                    1957,
                    1958,
                    1959,
                    1960,
                    1961,
                    1962,
                    1963,
                    1964,
                    1965,
                    1966,
                    1967,
                    1968,
                    1969,
                    1970,
                    1971,
                    1972,
                    1973,
                    1974,
                    1975,
                    1976,
                    1977,
                    1978,
                    1979,
                    1980,
                    1981,
                    1982,
                    1983,
                    1984,
                    1985,
                    1986,
                    1987,
                    1988,
                    1989,
                    1990,
                    1991,
                    1992,
                    1993,
                    1994,
                    1995,
                    1996,
                    1997,
                    1998,
                    1999,
                    2000,
                    2001,
                    2002,
                    2003,
                    2004,
                    2005,
                    2006,
                    2007,
                    2008,
                    2009,
                    2012,
                    2013,
                    2016
                  ],
                  "xaxis": "x",
                  "y": [
                    7,
                    7,
                    8,
                    15,
                    19,
                    20,
                    56,
                    92,
                    199,
                    601,
                    1510,
                    2351,
                    3295,
                    3784,
                    3969,
                    3755,
                    3318,
                    2660,
                    2290,
                    2014,
                    1647,
                    1592,
                    1430,
                    1287,
                    1154,
                    958,
                    818,
                    748,
                    647,
                    547,
                    463,
                    318,
                    242,
                    236,
                    159,
                    151,
                    151,
                    164,
                    130,
                    141,
                    97,
                    114,
                    97,
                    95,
                    93,
                    64,
                    78,
                    69,
                    71,
                    51,
                    62,
                    41,
                    34,
                    28,
                    28,
                    12,
                    14,
                    16,
                    10,
                    13,
                    14,
                    10,
                    7,
                    12,
                    13,
                    12,
                    13,
                    6,
                    7,
                    5,
                    8,
                    5
                  ],
                  "yaxis": "y"
                },
                {
                  "hovertemplate": "Name=Tammy<br>Year=%{x}<br>Count=%{y}<extra></extra>",
                  "legendgroup": "Tammy",
                  "line": {
                    "color": "#FECB52",
                    "dash": "solid"
                  },
                  "marker": {
                    "symbol": "circle"
                  },
                  "mode": "lines",
                  "name": "Tammy",
                  "orientation": "v",
                  "showlegend": true,
                  "type": "scatter",
                  "x": [
                    1943,
                    1944,
                    1945,
                    1946,
                    1947,
                    1948,
                    1949,
                    1950,
                    1951,
                    1952,
                    1953,
                    1954,
                    1955,
                    1956,
                    1957,
                    1958,
                    1959,
                    1960,
                    1961,
                    1962,
                    1963,
                    1964,
                    1965,
                    1966,
                    1967,
                    1968,
                    1969,
                    1970,
                    1971,
                    1972,
                    1973,
                    1974,
                    1975,
                    1976,
                    1977,
                    1978,
                    1979,
                    1980,
                    1981,
                    1982,
                    1983,
                    1984,
                    1985,
                    1986,
                    1987,
                    1988,
                    1989,
                    1990,
                    1991,
                    1992,
                    1993,
                    1994,
                    1995,
                    1996,
                    1997,
                    1998,
                    1999,
                    2000,
                    2001,
                    2002,
                    2003,
                    2004,
                    2005,
                    2006,
                    2007,
                    2008,
                    2009,
                    2010,
                    2011,
                    2012,
                    2013,
                    2014,
                    2015,
                    2016,
                    2017,
                    2019,
                    2022
                  ],
                  "xaxis": "x",
                  "y": [
                    7,
                    5,
                    10,
                    9,
                    12,
                    13,
                    10,
                    9,
                    9,
                    13,
                    28,
                    14,
                    26,
                    37,
                    368,
                    746,
                    990,
                    1038,
                    1136,
                    1223,
                    1539,
                    1273,
                    1219,
                    1168,
                    1143,
                    1099,
                    977,
                    1013,
                    859,
                    704,
                    544,
                    421,
                    392,
                    328,
                    275,
                    229,
                    227,
                    181,
                    168,
                    157,
                    96,
                    120,
                    102,
                    85,
                    120,
                    88,
                    85,
                    94,
                    77,
                    82,
                    74,
                    61,
                    49,
                    45,
                    45,
                    54,
                    50,
                    47,
                    49,
                    45,
                    44,
                    36,
                    30,
                    24,
                    29,
                    14,
                    16,
                    12,
                    11,
                    9,
                    5,
                    13,
                    9,
                    15,
                    11,
                    7,
                    5
                  ],
                  "yaxis": "y"
                }
              ],
              "layout": {
                "font": {
                  "size": 18
                },
                "height": 400,
                "legend": {
                  "title": {
                    "text": "Name"
                  },
                  "tracegroupgap": 0
                },
                "template": {
                  "data": {
                    "bar": [
                      {
                        "error_x": {
                          "color": "#2a3f5f"
                        },
                        "error_y": {
                          "color": "#2a3f5f"
                        },
                        "marker": {
                          "line": {
                            "color": "#E5ECF6",
                            "width": 0.5
                          },
                          "pattern": {
                            "fillmode": "overlay",
                            "size": 10,
                            "solidity": 0.2
                          }
                        },
                        "type": "bar"
                      }
                    ],
                    "barpolar": [
                      {
                        "marker": {
                          "line": {
                            "color": "#E5ECF6",
                            "width": 0.5
                          },
                          "pattern": {
                            "fillmode": "overlay",
                            "size": 10,
                            "solidity": 0.2
                          }
                        },
                        "type": "barpolar"
                      }
                    ],
                    "carpet": [
                      {
                        "aaxis": {
                          "endlinecolor": "#2a3f5f",
                          "gridcolor": "white",
                          "linecolor": "white",
                          "minorgridcolor": "white",
                          "startlinecolor": "#2a3f5f"
                        },
                        "baxis": {
                          "endlinecolor": "#2a3f5f",
                          "gridcolor": "white",
                          "linecolor": "white",
                          "minorgridcolor": "white",
                          "startlinecolor": "#2a3f5f"
                        },
                        "type": "carpet"
                      }
                    ],
                    "choropleth": [
                      {
                        "colorbar": {
                          "outlinewidth": 0,
                          "ticks": ""
                        },
                        "type": "choropleth"
                      }
                    ],
                    "contour": [
                      {
                        "colorbar": {
                          "outlinewidth": 0,
                          "ticks": ""
                        },
                        "colorscale": [
                          [
                            0,
                            "#0d0887"
                          ],
                          [
                            0.1111111111111111,
                            "#46039f"
                          ],
                          [
                            0.2222222222222222,
                            "#7201a8"
                          ],
                          [
                            0.3333333333333333,
                            "#9c179e"
                          ],
                          [
                            0.4444444444444444,
                            "#bd3786"
                          ],
                          [
                            0.5555555555555556,
                            "#d8576b"
                          ],
                          [
                            0.6666666666666666,
                            "#ed7953"
                          ],
                          [
                            0.7777777777777778,
                            "#fb9f3a"
                          ],
                          [
                            0.8888888888888888,
                            "#fdca26"
                          ],
                          [
                            1,
                            "#f0f921"
                          ]
                        ],
                        "type": "contour"
                      }
                    ],
                    "contourcarpet": [
                      {
                        "colorbar": {
                          "outlinewidth": 0,
                          "ticks": ""
                        },
                        "type": "contourcarpet"
                      }
                    ],
                    "heatmap": [
                      {
                        "colorbar": {
                          "outlinewidth": 0,
                          "ticks": ""
                        },
                        "colorscale": [
                          [
                            0,
                            "#0d0887"
                          ],
                          [
                            0.1111111111111111,
                            "#46039f"
                          ],
                          [
                            0.2222222222222222,
                            "#7201a8"
                          ],
                          [
                            0.3333333333333333,
                            "#9c179e"
                          ],
                          [
                            0.4444444444444444,
                            "#bd3786"
                          ],
                          [
                            0.5555555555555556,
                            "#d8576b"
                          ],
                          [
                            0.6666666666666666,
                            "#ed7953"
                          ],
                          [
                            0.7777777777777778,
                            "#fb9f3a"
                          ],
                          [
                            0.8888888888888888,
                            "#fdca26"
                          ],
                          [
                            1,
                            "#f0f921"
                          ]
                        ],
                        "type": "heatmap"
                      }
                    ],
                    "heatmapgl": [
                      {
                        "colorbar": {
                          "outlinewidth": 0,
                          "ticks": ""
                        },
                        "colorscale": [
                          [
                            0,
                            "#0d0887"
                          ],
                          [
                            0.1111111111111111,
                            "#46039f"
                          ],
                          [
                            0.2222222222222222,
                            "#7201a8"
                          ],
                          [
                            0.3333333333333333,
                            "#9c179e"
                          ],
                          [
                            0.4444444444444444,
                            "#bd3786"
                          ],
                          [
                            0.5555555555555556,
                            "#d8576b"
                          ],
                          [
                            0.6666666666666666,
                            "#ed7953"
                          ],
                          [
                            0.7777777777777778,
                            "#fb9f3a"
                          ],
                          [
                            0.8888888888888888,
                            "#fdca26"
                          ],
                          [
                            1,
                            "#f0f921"
                          ]
                        ],
                        "type": "heatmapgl"
                      }
                    ],
                    "histogram": [
                      {
                        "marker": {
                          "pattern": {
                            "fillmode": "overlay",
                            "size": 10,
                            "solidity": 0.2
                          }
                        },
                        "type": "histogram"
                      }
                    ],
                    "histogram2d": [
                      {
                        "colorbar": {
                          "outlinewidth": 0,
                          "ticks": ""
                        },
                        "colorscale": [
                          [
                            0,
                            "#0d0887"
                          ],
                          [
                            0.1111111111111111,
                            "#46039f"
                          ],
                          [
                            0.2222222222222222,
                            "#7201a8"
                          ],
                          [
                            0.3333333333333333,
                            "#9c179e"
                          ],
                          [
                            0.4444444444444444,
                            "#bd3786"
                          ],
                          [
                            0.5555555555555556,
                            "#d8576b"
                          ],
                          [
                            0.6666666666666666,
                            "#ed7953"
                          ],
                          [
                            0.7777777777777778,
                            "#fb9f3a"
                          ],
                          [
                            0.8888888888888888,
                            "#fdca26"
                          ],
                          [
                            1,
                            "#f0f921"
                          ]
                        ],
                        "type": "histogram2d"
                      }
                    ],
                    "histogram2dcontour": [
                      {
                        "colorbar": {
                          "outlinewidth": 0,
                          "ticks": ""
                        },
                        "colorscale": [
                          [
                            0,
                            "#0d0887"
                          ],
                          [
                            0.1111111111111111,
                            "#46039f"
                          ],
                          [
                            0.2222222222222222,
                            "#7201a8"
                          ],
                          [
                            0.3333333333333333,
                            "#9c179e"
                          ],
                          [
                            0.4444444444444444,
                            "#bd3786"
                          ],
                          [
                            0.5555555555555556,
                            "#d8576b"
                          ],
                          [
                            0.6666666666666666,
                            "#ed7953"
                          ],
                          [
                            0.7777777777777778,
                            "#fb9f3a"
                          ],
                          [
                            0.8888888888888888,
                            "#fdca26"
                          ],
                          [
                            1,
                            "#f0f921"
                          ]
                        ],
                        "type": "histogram2dcontour"
                      }
                    ],
                    "mesh3d": [
                      {
                        "colorbar": {
                          "outlinewidth": 0,
                          "ticks": ""
                        },
                        "type": "mesh3d"
                      }
                    ],
                    "parcoords": [
                      {
                        "line": {
                          "colorbar": {
                            "outlinewidth": 0,
                            "ticks": ""
                          }
                        },
                        "type": "parcoords"
                      }
                    ],
                    "pie": [
                      {
                        "automargin": true,
                        "type": "pie"
                      }
                    ],
                    "scatter": [
                      {
                        "fillpattern": {
                          "fillmode": "overlay",
                          "size": 10,
                          "solidity": 0.2
                        },
                        "type": "scatter"
                      }
                    ],
                    "scatter3d": [
                      {
                        "line": {
                          "colorbar": {
                            "outlinewidth": 0,
                            "ticks": ""
                          }
                        },
                        "marker": {
                          "colorbar": {
                            "outlinewidth": 0,
                            "ticks": ""
                          }
                        },
                        "type": "scatter3d"
                      }
                    ],
                    "scattercarpet": [
                      {
                        "marker": {
                          "colorbar": {
                            "outlinewidth": 0,
                            "ticks": ""
                          }
                        },
                        "type": "scattercarpet"
                      }
                    ],
                    "scattergeo": [
                      {
                        "marker": {
                          "colorbar": {
                            "outlinewidth": 0,
                            "ticks": ""
                          }
                        },
                        "type": "scattergeo"
                      }
                    ],
                    "scattergl": [
                      {
                        "marker": {
                          "colorbar": {
                            "outlinewidth": 0,
                            "ticks": ""
                          }
                        },
                        "type": "scattergl"
                      }
                    ],
                    "scattermapbox": [
                      {
                        "marker": {
                          "colorbar": {
                            "outlinewidth": 0,
                            "ticks": ""
                          }
                        },
                        "type": "scattermapbox"
                      }
                    ],
                    "scatterpolar": [
                      {
                        "marker": {
                          "colorbar": {
                            "outlinewidth": 0,
                            "ticks": ""
                          }
                        },
                        "type": "scatterpolar"
                      }
                    ],
                    "scatterpolargl": [
                      {
                        "marker": {
                          "colorbar": {
                            "outlinewidth": 0,
                            "ticks": ""
                          }
                        },
                        "type": "scatterpolargl"
                      }
                    ],
                    "scatterternary": [
                      {
                        "marker": {
                          "colorbar": {
                            "outlinewidth": 0,
                            "ticks": ""
                          }
                        },
                        "type": "scatterternary"
                      }
                    ],
                    "surface": [
                      {
                        "colorbar": {
                          "outlinewidth": 0,
                          "ticks": ""
                        },
                        "colorscale": [
                          [
                            0,
                            "#0d0887"
                          ],
                          [
                            0.1111111111111111,
                            "#46039f"
                          ],
                          [
                            0.2222222222222222,
                            "#7201a8"
                          ],
                          [
                            0.3333333333333333,
                            "#9c179e"
                          ],
                          [
                            0.4444444444444444,
                            "#bd3786"
                          ],
                          [
                            0.5555555555555556,
                            "#d8576b"
                          ],
                          [
                            0.6666666666666666,
                            "#ed7953"
                          ],
                          [
                            0.7777777777777778,
                            "#fb9f3a"
                          ],
                          [
                            0.8888888888888888,
                            "#fdca26"
                          ],
                          [
                            1,
                            "#f0f921"
                          ]
                        ],
                        "type": "surface"
                      }
                    ],
                    "table": [
                      {
                        "cells": {
                          "fill": {
                            "color": "#EBF0F8"
                          },
                          "line": {
                            "color": "white"
                          }
                        },
                        "header": {
                          "fill": {
                            "color": "#C8D4E3"
                          },
                          "line": {
                            "color": "white"
                          }
                        },
                        "type": "table"
                      }
                    ]
                  },
                  "layout": {
                    "annotationdefaults": {
                      "arrowcolor": "#2a3f5f",
                      "arrowhead": 0,
                      "arrowwidth": 1
                    },
                    "autotypenumbers": "strict",
                    "coloraxis": {
                      "colorbar": {
                        "outlinewidth": 0,
                        "ticks": ""
                      }
                    },
                    "colorscale": {
                      "diverging": [
                        [
                          0,
                          "#8e0152"
                        ],
                        [
                          0.1,
                          "#c51b7d"
                        ],
                        [
                          0.2,
                          "#de77ae"
                        ],
                        [
                          0.3,
                          "#f1b6da"
                        ],
                        [
                          0.4,
                          "#fde0ef"
                        ],
                        [
                          0.5,
                          "#f7f7f7"
                        ],
                        [
                          0.6,
                          "#e6f5d0"
                        ],
                        [
                          0.7,
                          "#b8e186"
                        ],
                        [
                          0.8,
                          "#7fbc41"
                        ],
                        [
                          0.9,
                          "#4d9221"
                        ],
                        [
                          1,
                          "#276419"
                        ]
                      ],
                      "sequential": [
                        [
                          0,
                          "#0d0887"
                        ],
                        [
                          0.1111111111111111,
                          "#46039f"
                        ],
                        [
                          0.2222222222222222,
                          "#7201a8"
                        ],
                        [
                          0.3333333333333333,
                          "#9c179e"
                        ],
                        [
                          0.4444444444444444,
                          "#bd3786"
                        ],
                        [
                          0.5555555555555556,
                          "#d8576b"
                        ],
                        [
                          0.6666666666666666,
                          "#ed7953"
                        ],
                        [
                          0.7777777777777778,
                          "#fb9f3a"
                        ],
                        [
                          0.8888888888888888,
                          "#fdca26"
                        ],
                        [
                          1,
                          "#f0f921"
                        ]
                      ],
                      "sequentialminus": [
                        [
                          0,
                          "#0d0887"
                        ],
                        [
                          0.1111111111111111,
                          "#46039f"
                        ],
                        [
                          0.2222222222222222,
                          "#7201a8"
                        ],
                        [
                          0.3333333333333333,
                          "#9c179e"
                        ],
                        [
                          0.4444444444444444,
                          "#bd3786"
                        ],
                        [
                          0.5555555555555556,
                          "#d8576b"
                        ],
                        [
                          0.6666666666666666,
                          "#ed7953"
                        ],
                        [
                          0.7777777777777778,
                          "#fb9f3a"
                        ],
                        [
                          0.8888888888888888,
                          "#fdca26"
                        ],
                        [
                          1,
                          "#f0f921"
                        ]
                      ]
                    },
                    "colorway": [
                      "#636efa",
                      "#EF553B",
                      "#00cc96",
                      "#ab63fa",
                      "#FFA15A",
                      "#19d3f3",
                      "#FF6692",
                      "#B6E880",
                      "#FF97FF",
                      "#FECB52"
                    ],
                    "font": {
                      "color": "#2a3f5f"
                    },
                    "geo": {
                      "bgcolor": "white",
                      "lakecolor": "white",
                      "landcolor": "#E5ECF6",
                      "showlakes": true,
                      "showland": true,
                      "subunitcolor": "white"
                    },
                    "hoverlabel": {
                      "align": "left"
                    },
                    "hovermode": "closest",
                    "mapbox": {
                      "style": "light"
                    },
                    "paper_bgcolor": "white",
                    "plot_bgcolor": "#E5ECF6",
                    "polar": {
                      "angularaxis": {
                        "gridcolor": "white",
                        "linecolor": "white",
                        "ticks": ""
                      },
                      "bgcolor": "#E5ECF6",
                      "radialaxis": {
                        "gridcolor": "white",
                        "linecolor": "white",
                        "ticks": ""
                      }
                    },
                    "scene": {
                      "xaxis": {
                        "backgroundcolor": "#E5ECF6",
                        "gridcolor": "white",
                        "gridwidth": 2,
                        "linecolor": "white",
                        "showbackground": true,
                        "ticks": "",
                        "zerolinecolor": "white"
                      },
                      "yaxis": {
                        "backgroundcolor": "#E5ECF6",
                        "gridcolor": "white",
                        "gridwidth": 2,
                        "linecolor": "white",
                        "showbackground": true,
                        "ticks": "",
                        "zerolinecolor": "white"
                      },
                      "zaxis": {
                        "backgroundcolor": "#E5ECF6",
                        "gridcolor": "white",
                        "gridwidth": 2,
                        "linecolor": "white",
                        "showbackground": true,
                        "ticks": "",
                        "zerolinecolor": "white"
                      }
                    },
                    "shapedefaults": {
                      "line": {
                        "color": "#2a3f5f"
                      }
                    },
                    "ternary": {
                      "aaxis": {
                        "gridcolor": "white",
                        "linecolor": "white",
                        "ticks": ""
                      },
                      "baxis": {
                        "gridcolor": "white",
                        "linecolor": "white",
                        "ticks": ""
                      },
                      "bgcolor": "#E5ECF6",
                      "caxis": {
                        "gridcolor": "white",
                        "linecolor": "white",
                        "ticks": ""
                      }
                    },
                    "title": {
                      "x": 0.05
                    },
                    "xaxis": {
                      "automargin": true,
                      "gridcolor": "white",
                      "linecolor": "white",
                      "ticks": "",
                      "title": {
                        "standoff": 15
                      },
                      "zerolinecolor": "white",
                      "zerolinewidth": 2
                    },
                    "yaxis": {
                      "automargin": true,
                      "gridcolor": "white",
                      "linecolor": "white",
                      "ticks": "",
                      "title": {
                        "standoff": 15
                      },
                      "zerolinecolor": "white",
                      "zerolinewidth": 2
                    }
                  }
                },
                "title": {
                  "text": "Popularity for: ('Debra', 'Debbie', 'Carol', 'Tammy', 'Susan', 'Cheryl', 'Shannon', 'Tina', 'Michele', 'Terri')"
                },
                "width": 1000,
                "xaxis": {
                  "anchor": "y",
                  "domain": [
                    0,
                    1
                  ],
                  "title": {
                    "text": "Year"
                  }
                },
                "yaxis": {
                  "anchor": "x",
                  "domain": [
                    0,
                    1
                  ],
                  "title": {
                    "text": "Count"
                  }
                }
              }
            }
          },
          "metadata": {},
          "output_type": "display_data"
        }
      ],
      "source": [
        "plot_name(*top10)"
      ]
    },
    {
      "cell_type": "markdown",
      "metadata": {
        "id": "H7Ymd36ooE6c"
      },
      "source": [
        "For fun, try plotting your name or your friends' names."
      ]
    },
    {
      "cell_type": "markdown",
      "metadata": {
        "id": "b74vzh1toE6d"
      },
      "source": [
        "### Slido Exercise\n",
        "\n",
        "Given the example below on `babynames` dataset, write code to compute the total number of babies with each name in California using with and without agg."
      ]
    },
    {
      "cell_type": "code",
      "execution_count": 45,
      "metadata": {
        "id": "lEZ0kx13oE6d"
      },
      "outputs": [
        {
          "name": "stdout",
          "output_type": "stream",
          "text": [
            "Total number of babies with each name in California using agg:          Count RTP\n",
            "Name              \n",
            "Aadan           18\n",
            "Aadarsh          6\n",
            "Aaden          647\n",
            "Aadhav          27\n",
            "Aadhini          6\n",
            "...            ...\n",
            "Zymir            5\n",
            "Zyon           133\n",
            "Zyra           103\n",
            "Zyrah           21\n",
            "Zyrus            5\n",
            "\n",
            "[20437 rows x 1 columns]\n",
            "\n",
            "Total number of babies with each name in California without agg: Name\n",
            "Aadan       18\n",
            "Aadarsh      6\n",
            "Aaden      647\n",
            "Aadhav      27\n",
            "Aadhini      6\n",
            "          ... \n",
            "Zymir        5\n",
            "Zyon       133\n",
            "Zyra       103\n",
            "Zyrah       21\n",
            "Zyrus        5\n",
            "Name: Count RTP, Length: 20437, dtype: int64\n"
          ]
        }
      ],
      "source": [
        "# code here\n",
        "\n",
        "# With agg\n",
        "with_agg = data[data['State'] == 'CA'].groupby('Name').agg({'Count RTP': 'sum'})\n",
        "print(\"Total number of babies with each name in California using agg:\",with_agg)\n",
        "\n",
        "\n",
        "# Without agg\n",
        "no_agg = data[data['State'] == 'CA'].groupby('Name')['Count RTP'].sum()\n",
        "print(\"\\nTotal number of babies with each name in California without agg:\",no_agg)\n",
        "\n"
      ]
    },
    {
      "cell_type": "markdown",
      "metadata": {
        "id": "CHHj0g5coE6d"
      },
      "source": [
        "### Slido Exercise\n",
        "\n",
        "Write code to compute the total number of babies born each year in California."
      ]
    },
    {
      "cell_type": "code",
      "execution_count": 48,
      "metadata": {
        "id": "nqeNIBB3oE6d"
      },
      "outputs": [],
      "source": [
        "# code here\n",
        "#As data only contains California State so no need to filter it for state\n",
        "\n",
        "each_year = data.groupby(\"Year\")[\"Count RTP\"].sum()\n"
      ]
    },
    {
      "cell_type": "code",
      "execution_count": 50,
      "metadata": {},
      "outputs": [
        {
          "data": {
            "application/vnd.plotly.v1+json": {
              "config": {
                "plotlyServerURL": "https://plot.ly"
              },
              "data": [
                {
                  "hovertemplate": "x=%{x}<br>index=%{y}<extra></extra>",
                  "legendgroup": "",
                  "line": {
                    "color": "#636efa",
                    "dash": "solid"
                  },
                  "marker": {
                    "symbol": "circle"
                  },
                  "mode": "lines",
                  "name": "",
                  "orientation": "h",
                  "showlegend": false,
                  "type": "scatter",
                  "x": [
                    9163,
                    9983,
                    17946,
                    22094,
                    26926,
                    35835,
                    37501,
                    39916,
                    44692,
                    45119,
                    54142,
                    58983,
                    61004,
                    67917,
                    74451,
                    73493,
                    72910,
                    74201,
                    74264,
                    72108,
                    75294,
                    71467,
                    69522,
                    66895,
                    69789,
                    71603,
                    74932,
                    83738,
                    91626,
                    93461,
                    102627,
                    114296,
                    142033,
                    159813,
                    164349,
                    171764,
                    204945,
                    232313,
                    229033,
                    233625,
                    235582,
                    250468,
                    271681,
                    287484,
                    297099,
                    304567,
                    324186,
                    340083,
                    337562,
                    345901,
                    358544,
                    363926,
                    360475,
                    361897,
                    355386,
                    336567,
                    319421,
                    318819,
                    321040,
                    333671,
                    342411,
                    310020,
                    287239,
                    275036,
                    286947,
                    290518,
                    302547,
                    315011,
                    322241,
                    343070,
                    365973,
                    382156,
                    390581,
                    394608,
                    404961,
                    425583,
                    435964,
                    453824,
                    480602,
                    512615,
                    552647,
                    549317,
                    541054,
                    524983,
                    509302,
                    494635,
                    483288,
                    468412,
                    464300,
                    460844,
                    471649,
                    466934,
                    467742,
                    477651,
                    480892,
                    484503,
                    494971,
                    497627,
                    483360,
                    460305,
                    444619,
                    437818,
                    439402,
                    431945,
                    440683,
                    431317,
                    427015,
                    411058,
                    395436,
                    386996,
                    362882,
                    362582,
                    360023
                  ],
                  "xaxis": "x",
                  "y": [
                    0,
                    1,
                    2,
                    3,
                    4,
                    5,
                    6,
                    7,
                    8,
                    9,
                    10,
                    11,
                    12,
                    13,
                    14,
                    15,
                    16,
                    17,
                    18,
                    19,
                    20,
                    21,
                    22,
                    23,
                    24,
                    25,
                    26,
                    27,
                    28,
                    29,
                    30,
                    31,
                    32,
                    33,
                    34,
                    35,
                    36,
                    37,
                    38,
                    39,
                    40,
                    41,
                    42,
                    43,
                    44,
                    45,
                    46,
                    47,
                    48,
                    49,
                    50,
                    51,
                    52,
                    53,
                    54,
                    55,
                    56,
                    57,
                    58,
                    59,
                    60,
                    61,
                    62,
                    63,
                    64,
                    65,
                    66,
                    67,
                    68,
                    69,
                    70,
                    71,
                    72,
                    73,
                    74,
                    75,
                    76,
                    77,
                    78,
                    79,
                    80,
                    81,
                    82,
                    83,
                    84,
                    85,
                    86,
                    87,
                    88,
                    89,
                    90,
                    91,
                    92,
                    93,
                    94,
                    95,
                    96,
                    97,
                    98,
                    99,
                    100,
                    101,
                    102,
                    103,
                    104,
                    105,
                    106,
                    107,
                    108,
                    109,
                    110,
                    111,
                    112
                  ],
                  "yaxis": "y"
                }
              ],
              "layout": {
                "legend": {
                  "tracegroupgap": 0
                },
                "margin": {
                  "t": 60
                },
                "template": {
                  "data": {
                    "bar": [
                      {
                        "error_x": {
                          "color": "#2a3f5f"
                        },
                        "error_y": {
                          "color": "#2a3f5f"
                        },
                        "marker": {
                          "line": {
                            "color": "#E5ECF6",
                            "width": 0.5
                          },
                          "pattern": {
                            "fillmode": "overlay",
                            "size": 10,
                            "solidity": 0.2
                          }
                        },
                        "type": "bar"
                      }
                    ],
                    "barpolar": [
                      {
                        "marker": {
                          "line": {
                            "color": "#E5ECF6",
                            "width": 0.5
                          },
                          "pattern": {
                            "fillmode": "overlay",
                            "size": 10,
                            "solidity": 0.2
                          }
                        },
                        "type": "barpolar"
                      }
                    ],
                    "carpet": [
                      {
                        "aaxis": {
                          "endlinecolor": "#2a3f5f",
                          "gridcolor": "white",
                          "linecolor": "white",
                          "minorgridcolor": "white",
                          "startlinecolor": "#2a3f5f"
                        },
                        "baxis": {
                          "endlinecolor": "#2a3f5f",
                          "gridcolor": "white",
                          "linecolor": "white",
                          "minorgridcolor": "white",
                          "startlinecolor": "#2a3f5f"
                        },
                        "type": "carpet"
                      }
                    ],
                    "choropleth": [
                      {
                        "colorbar": {
                          "outlinewidth": 0,
                          "ticks": ""
                        },
                        "type": "choropleth"
                      }
                    ],
                    "contour": [
                      {
                        "colorbar": {
                          "outlinewidth": 0,
                          "ticks": ""
                        },
                        "colorscale": [
                          [
                            0,
                            "#0d0887"
                          ],
                          [
                            0.1111111111111111,
                            "#46039f"
                          ],
                          [
                            0.2222222222222222,
                            "#7201a8"
                          ],
                          [
                            0.3333333333333333,
                            "#9c179e"
                          ],
                          [
                            0.4444444444444444,
                            "#bd3786"
                          ],
                          [
                            0.5555555555555556,
                            "#d8576b"
                          ],
                          [
                            0.6666666666666666,
                            "#ed7953"
                          ],
                          [
                            0.7777777777777778,
                            "#fb9f3a"
                          ],
                          [
                            0.8888888888888888,
                            "#fdca26"
                          ],
                          [
                            1,
                            "#f0f921"
                          ]
                        ],
                        "type": "contour"
                      }
                    ],
                    "contourcarpet": [
                      {
                        "colorbar": {
                          "outlinewidth": 0,
                          "ticks": ""
                        },
                        "type": "contourcarpet"
                      }
                    ],
                    "heatmap": [
                      {
                        "colorbar": {
                          "outlinewidth": 0,
                          "ticks": ""
                        },
                        "colorscale": [
                          [
                            0,
                            "#0d0887"
                          ],
                          [
                            0.1111111111111111,
                            "#46039f"
                          ],
                          [
                            0.2222222222222222,
                            "#7201a8"
                          ],
                          [
                            0.3333333333333333,
                            "#9c179e"
                          ],
                          [
                            0.4444444444444444,
                            "#bd3786"
                          ],
                          [
                            0.5555555555555556,
                            "#d8576b"
                          ],
                          [
                            0.6666666666666666,
                            "#ed7953"
                          ],
                          [
                            0.7777777777777778,
                            "#fb9f3a"
                          ],
                          [
                            0.8888888888888888,
                            "#fdca26"
                          ],
                          [
                            1,
                            "#f0f921"
                          ]
                        ],
                        "type": "heatmap"
                      }
                    ],
                    "heatmapgl": [
                      {
                        "colorbar": {
                          "outlinewidth": 0,
                          "ticks": ""
                        },
                        "colorscale": [
                          [
                            0,
                            "#0d0887"
                          ],
                          [
                            0.1111111111111111,
                            "#46039f"
                          ],
                          [
                            0.2222222222222222,
                            "#7201a8"
                          ],
                          [
                            0.3333333333333333,
                            "#9c179e"
                          ],
                          [
                            0.4444444444444444,
                            "#bd3786"
                          ],
                          [
                            0.5555555555555556,
                            "#d8576b"
                          ],
                          [
                            0.6666666666666666,
                            "#ed7953"
                          ],
                          [
                            0.7777777777777778,
                            "#fb9f3a"
                          ],
                          [
                            0.8888888888888888,
                            "#fdca26"
                          ],
                          [
                            1,
                            "#f0f921"
                          ]
                        ],
                        "type": "heatmapgl"
                      }
                    ],
                    "histogram": [
                      {
                        "marker": {
                          "pattern": {
                            "fillmode": "overlay",
                            "size": 10,
                            "solidity": 0.2
                          }
                        },
                        "type": "histogram"
                      }
                    ],
                    "histogram2d": [
                      {
                        "colorbar": {
                          "outlinewidth": 0,
                          "ticks": ""
                        },
                        "colorscale": [
                          [
                            0,
                            "#0d0887"
                          ],
                          [
                            0.1111111111111111,
                            "#46039f"
                          ],
                          [
                            0.2222222222222222,
                            "#7201a8"
                          ],
                          [
                            0.3333333333333333,
                            "#9c179e"
                          ],
                          [
                            0.4444444444444444,
                            "#bd3786"
                          ],
                          [
                            0.5555555555555556,
                            "#d8576b"
                          ],
                          [
                            0.6666666666666666,
                            "#ed7953"
                          ],
                          [
                            0.7777777777777778,
                            "#fb9f3a"
                          ],
                          [
                            0.8888888888888888,
                            "#fdca26"
                          ],
                          [
                            1,
                            "#f0f921"
                          ]
                        ],
                        "type": "histogram2d"
                      }
                    ],
                    "histogram2dcontour": [
                      {
                        "colorbar": {
                          "outlinewidth": 0,
                          "ticks": ""
                        },
                        "colorscale": [
                          [
                            0,
                            "#0d0887"
                          ],
                          [
                            0.1111111111111111,
                            "#46039f"
                          ],
                          [
                            0.2222222222222222,
                            "#7201a8"
                          ],
                          [
                            0.3333333333333333,
                            "#9c179e"
                          ],
                          [
                            0.4444444444444444,
                            "#bd3786"
                          ],
                          [
                            0.5555555555555556,
                            "#d8576b"
                          ],
                          [
                            0.6666666666666666,
                            "#ed7953"
                          ],
                          [
                            0.7777777777777778,
                            "#fb9f3a"
                          ],
                          [
                            0.8888888888888888,
                            "#fdca26"
                          ],
                          [
                            1,
                            "#f0f921"
                          ]
                        ],
                        "type": "histogram2dcontour"
                      }
                    ],
                    "mesh3d": [
                      {
                        "colorbar": {
                          "outlinewidth": 0,
                          "ticks": ""
                        },
                        "type": "mesh3d"
                      }
                    ],
                    "parcoords": [
                      {
                        "line": {
                          "colorbar": {
                            "outlinewidth": 0,
                            "ticks": ""
                          }
                        },
                        "type": "parcoords"
                      }
                    ],
                    "pie": [
                      {
                        "automargin": true,
                        "type": "pie"
                      }
                    ],
                    "scatter": [
                      {
                        "fillpattern": {
                          "fillmode": "overlay",
                          "size": 10,
                          "solidity": 0.2
                        },
                        "type": "scatter"
                      }
                    ],
                    "scatter3d": [
                      {
                        "line": {
                          "colorbar": {
                            "outlinewidth": 0,
                            "ticks": ""
                          }
                        },
                        "marker": {
                          "colorbar": {
                            "outlinewidth": 0,
                            "ticks": ""
                          }
                        },
                        "type": "scatter3d"
                      }
                    ],
                    "scattercarpet": [
                      {
                        "marker": {
                          "colorbar": {
                            "outlinewidth": 0,
                            "ticks": ""
                          }
                        },
                        "type": "scattercarpet"
                      }
                    ],
                    "scattergeo": [
                      {
                        "marker": {
                          "colorbar": {
                            "outlinewidth": 0,
                            "ticks": ""
                          }
                        },
                        "type": "scattergeo"
                      }
                    ],
                    "scattergl": [
                      {
                        "marker": {
                          "colorbar": {
                            "outlinewidth": 0,
                            "ticks": ""
                          }
                        },
                        "type": "scattergl"
                      }
                    ],
                    "scattermapbox": [
                      {
                        "marker": {
                          "colorbar": {
                            "outlinewidth": 0,
                            "ticks": ""
                          }
                        },
                        "type": "scattermapbox"
                      }
                    ],
                    "scatterpolar": [
                      {
                        "marker": {
                          "colorbar": {
                            "outlinewidth": 0,
                            "ticks": ""
                          }
                        },
                        "type": "scatterpolar"
                      }
                    ],
                    "scatterpolargl": [
                      {
                        "marker": {
                          "colorbar": {
                            "outlinewidth": 0,
                            "ticks": ""
                          }
                        },
                        "type": "scatterpolargl"
                      }
                    ],
                    "scatterternary": [
                      {
                        "marker": {
                          "colorbar": {
                            "outlinewidth": 0,
                            "ticks": ""
                          }
                        },
                        "type": "scatterternary"
                      }
                    ],
                    "surface": [
                      {
                        "colorbar": {
                          "outlinewidth": 0,
                          "ticks": ""
                        },
                        "colorscale": [
                          [
                            0,
                            "#0d0887"
                          ],
                          [
                            0.1111111111111111,
                            "#46039f"
                          ],
                          [
                            0.2222222222222222,
                            "#7201a8"
                          ],
                          [
                            0.3333333333333333,
                            "#9c179e"
                          ],
                          [
                            0.4444444444444444,
                            "#bd3786"
                          ],
                          [
                            0.5555555555555556,
                            "#d8576b"
                          ],
                          [
                            0.6666666666666666,
                            "#ed7953"
                          ],
                          [
                            0.7777777777777778,
                            "#fb9f3a"
                          ],
                          [
                            0.8888888888888888,
                            "#fdca26"
                          ],
                          [
                            1,
                            "#f0f921"
                          ]
                        ],
                        "type": "surface"
                      }
                    ],
                    "table": [
                      {
                        "cells": {
                          "fill": {
                            "color": "#EBF0F8"
                          },
                          "line": {
                            "color": "white"
                          }
                        },
                        "header": {
                          "fill": {
                            "color": "#C8D4E3"
                          },
                          "line": {
                            "color": "white"
                          }
                        },
                        "type": "table"
                      }
                    ]
                  },
                  "layout": {
                    "annotationdefaults": {
                      "arrowcolor": "#2a3f5f",
                      "arrowhead": 0,
                      "arrowwidth": 1
                    },
                    "autotypenumbers": "strict",
                    "coloraxis": {
                      "colorbar": {
                        "outlinewidth": 0,
                        "ticks": ""
                      }
                    },
                    "colorscale": {
                      "diverging": [
                        [
                          0,
                          "#8e0152"
                        ],
                        [
                          0.1,
                          "#c51b7d"
                        ],
                        [
                          0.2,
                          "#de77ae"
                        ],
                        [
                          0.3,
                          "#f1b6da"
                        ],
                        [
                          0.4,
                          "#fde0ef"
                        ],
                        [
                          0.5,
                          "#f7f7f7"
                        ],
                        [
                          0.6,
                          "#e6f5d0"
                        ],
                        [
                          0.7,
                          "#b8e186"
                        ],
                        [
                          0.8,
                          "#7fbc41"
                        ],
                        [
                          0.9,
                          "#4d9221"
                        ],
                        [
                          1,
                          "#276419"
                        ]
                      ],
                      "sequential": [
                        [
                          0,
                          "#0d0887"
                        ],
                        [
                          0.1111111111111111,
                          "#46039f"
                        ],
                        [
                          0.2222222222222222,
                          "#7201a8"
                        ],
                        [
                          0.3333333333333333,
                          "#9c179e"
                        ],
                        [
                          0.4444444444444444,
                          "#bd3786"
                        ],
                        [
                          0.5555555555555556,
                          "#d8576b"
                        ],
                        [
                          0.6666666666666666,
                          "#ed7953"
                        ],
                        [
                          0.7777777777777778,
                          "#fb9f3a"
                        ],
                        [
                          0.8888888888888888,
                          "#fdca26"
                        ],
                        [
                          1,
                          "#f0f921"
                        ]
                      ],
                      "sequentialminus": [
                        [
                          0,
                          "#0d0887"
                        ],
                        [
                          0.1111111111111111,
                          "#46039f"
                        ],
                        [
                          0.2222222222222222,
                          "#7201a8"
                        ],
                        [
                          0.3333333333333333,
                          "#9c179e"
                        ],
                        [
                          0.4444444444444444,
                          "#bd3786"
                        ],
                        [
                          0.5555555555555556,
                          "#d8576b"
                        ],
                        [
                          0.6666666666666666,
                          "#ed7953"
                        ],
                        [
                          0.7777777777777778,
                          "#fb9f3a"
                        ],
                        [
                          0.8888888888888888,
                          "#fdca26"
                        ],
                        [
                          1,
                          "#f0f921"
                        ]
                      ]
                    },
                    "colorway": [
                      "#636efa",
                      "#EF553B",
                      "#00cc96",
                      "#ab63fa",
                      "#FFA15A",
                      "#19d3f3",
                      "#FF6692",
                      "#B6E880",
                      "#FF97FF",
                      "#FECB52"
                    ],
                    "font": {
                      "color": "#2a3f5f"
                    },
                    "geo": {
                      "bgcolor": "white",
                      "lakecolor": "white",
                      "landcolor": "#E5ECF6",
                      "showlakes": true,
                      "showland": true,
                      "subunitcolor": "white"
                    },
                    "hoverlabel": {
                      "align": "left"
                    },
                    "hovermode": "closest",
                    "mapbox": {
                      "style": "light"
                    },
                    "paper_bgcolor": "white",
                    "plot_bgcolor": "#E5ECF6",
                    "polar": {
                      "angularaxis": {
                        "gridcolor": "white",
                        "linecolor": "white",
                        "ticks": ""
                      },
                      "bgcolor": "#E5ECF6",
                      "radialaxis": {
                        "gridcolor": "white",
                        "linecolor": "white",
                        "ticks": ""
                      }
                    },
                    "scene": {
                      "xaxis": {
                        "backgroundcolor": "#E5ECF6",
                        "gridcolor": "white",
                        "gridwidth": 2,
                        "linecolor": "white",
                        "showbackground": true,
                        "ticks": "",
                        "zerolinecolor": "white"
                      },
                      "yaxis": {
                        "backgroundcolor": "#E5ECF6",
                        "gridcolor": "white",
                        "gridwidth": 2,
                        "linecolor": "white",
                        "showbackground": true,
                        "ticks": "",
                        "zerolinecolor": "white"
                      },
                      "zaxis": {
                        "backgroundcolor": "#E5ECF6",
                        "gridcolor": "white",
                        "gridwidth": 2,
                        "linecolor": "white",
                        "showbackground": true,
                        "ticks": "",
                        "zerolinecolor": "white"
                      }
                    },
                    "shapedefaults": {
                      "line": {
                        "color": "#2a3f5f"
                      }
                    },
                    "ternary": {
                      "aaxis": {
                        "gridcolor": "white",
                        "linecolor": "white",
                        "ticks": ""
                      },
                      "baxis": {
                        "gridcolor": "white",
                        "linecolor": "white",
                        "ticks": ""
                      },
                      "bgcolor": "#E5ECF6",
                      "caxis": {
                        "gridcolor": "white",
                        "linecolor": "white",
                        "ticks": ""
                      }
                    },
                    "title": {
                      "x": 0.05
                    },
                    "xaxis": {
                      "automargin": true,
                      "gridcolor": "white",
                      "linecolor": "white",
                      "ticks": "",
                      "title": {
                        "standoff": 15
                      },
                      "zerolinecolor": "white",
                      "zerolinewidth": 2
                    },
                    "yaxis": {
                      "automargin": true,
                      "gridcolor": "white",
                      "linecolor": "white",
                      "ticks": "",
                      "title": {
                        "standoff": 15
                      },
                      "zerolinecolor": "white",
                      "zerolinewidth": 2
                    }
                  }
                },
                "xaxis": {
                  "anchor": "y",
                  "domain": [
                    0,
                    1
                  ],
                  "title": {
                    "text": "x"
                  }
                },
                "yaxis": {
                  "anchor": "x",
                  "domain": [
                    0,
                    1
                  ],
                  "title": {
                    "text": "index"
                  }
                }
              }
            }
          },
          "metadata": {},
          "output_type": "display_data"
        }
      ],
      "source": [
        "px.line(each_year.index,each_year.values)"
      ]
    },
    {
      "cell_type": "markdown",
      "metadata": {
        "id": "WrFr2esBoE6d",
        "tags": []
      },
      "source": [
        "### `groupby.size` and `groupby.count()`"
      ]
    },
    {
      "cell_type": "code",
      "execution_count": 51,
      "metadata": {
        "id": "LWlBnxC9oE6e"
      },
      "outputs": [
        {
          "data": {
            "text/html": [
              "<div>\n",
              "<style scoped>\n",
              "    .dataframe tbody tr th:only-of-type {\n",
              "        vertical-align: middle;\n",
              "    }\n",
              "\n",
              "    .dataframe tbody tr th {\n",
              "        vertical-align: top;\n",
              "    }\n",
              "\n",
              "    .dataframe thead th {\n",
              "        text-align: right;\n",
              "    }\n",
              "</style>\n",
              "<table border=\"1\" class=\"dataframe\">\n",
              "  <thead>\n",
              "    <tr style=\"text-align: right;\">\n",
              "      <th></th>\n",
              "      <th>letter</th>\n",
              "      <th>num</th>\n",
              "      <th>state</th>\n",
              "    </tr>\n",
              "  </thead>\n",
              "  <tbody>\n",
              "    <tr>\n",
              "      <th>0</th>\n",
              "      <td>A</td>\n",
              "      <td>1.0</td>\n",
              "      <td>NaN</td>\n",
              "    </tr>\n",
              "    <tr>\n",
              "      <th>1</th>\n",
              "      <td>A</td>\n",
              "      <td>2.0</td>\n",
              "      <td>tx</td>\n",
              "    </tr>\n",
              "    <tr>\n",
              "      <th>2</th>\n",
              "      <td>B</td>\n",
              "      <td>3.0</td>\n",
              "      <td>fl</td>\n",
              "    </tr>\n",
              "    <tr>\n",
              "      <th>3</th>\n",
              "      <td>C</td>\n",
              "      <td>4.0</td>\n",
              "      <td>hi</td>\n",
              "    </tr>\n",
              "    <tr>\n",
              "      <th>4</th>\n",
              "      <td>C</td>\n",
              "      <td>NaN</td>\n",
              "      <td>NaN</td>\n",
              "    </tr>\n",
              "    <tr>\n",
              "      <th>5</th>\n",
              "      <td>C</td>\n",
              "      <td>4.0</td>\n",
              "      <td>ak</td>\n",
              "    </tr>\n",
              "  </tbody>\n",
              "</table>\n",
              "</div>"
            ],
            "text/plain": [
              "  letter  num state\n",
              "0      A  1.0   NaN\n",
              "1      A  2.0    tx\n",
              "2      B  3.0    fl\n",
              "3      C  4.0    hi\n",
              "4      C  NaN   NaN\n",
              "5      C  4.0    ak"
            ]
          },
          "execution_count": 51,
          "metadata": {},
          "output_type": "execute_result"
        }
      ],
      "source": [
        "df = pd.DataFrame({'letter':['A', 'A', 'B', 'C', 'C', 'C'],\n",
        "                   'num':[1, 2, 3, 4, np.NaN, 4],\n",
        "                   'state':[np.NaN, 'tx', 'fl', 'hi', np.NaN, 'ak']})\n",
        "df"
      ]
    },
    {
      "cell_type": "markdown",
      "metadata": {
        "id": "ndslEkWtoE6e"
      },
      "source": [
        "`groupby.size()` returns a `Series`, indexed by the `letter`s that we grouped by, with values denoting the number of rows in each group/sub-DataFrame. It does not care about missing (`NaN`) values."
      ]
    },
    {
      "cell_type": "code",
      "execution_count": 52,
      "metadata": {
        "colab": {
          "base_uri": "https://localhost:8080/"
        },
        "id": "Wj7taGTQoE6e",
        "outputId": "29f118eb-a856-4228-a024-e4ea6538d757"
      },
      "outputs": [
        {
          "data": {
            "text/plain": [
              "letter\n",
              "A    2\n",
              "B    1\n",
              "C    3\n",
              "Name: num, dtype: int64"
            ]
          },
          "execution_count": 52,
          "metadata": {},
          "output_type": "execute_result"
        }
      ],
      "source": [
        "# Use groupby with size()\n",
        "df.groupby(\"letter\")[\"num\"].size()\n"
      ]
    },
    {
      "cell_type": "markdown",
      "metadata": {
        "id": "fCNnq3yVoE6e"
      },
      "source": [
        "`groupby.count()` returns a `DataFrame`, indexed by the `letter`s that we grouped by. Each column represents the number of non-missing values for that `letter`."
      ]
    },
    {
      "cell_type": "code",
      "execution_count": 53,
      "metadata": {
        "colab": {
          "base_uri": "https://localhost:8080/",
          "height": 175
        },
        "id": "OrcGQFvloE6e",
        "outputId": "b62548d7-eb4f-4998-d70f-c3d02b389dee"
      },
      "outputs": [
        {
          "data": {
            "text/html": [
              "<div>\n",
              "<style scoped>\n",
              "    .dataframe tbody tr th:only-of-type {\n",
              "        vertical-align: middle;\n",
              "    }\n",
              "\n",
              "    .dataframe tbody tr th {\n",
              "        vertical-align: top;\n",
              "    }\n",
              "\n",
              "    .dataframe thead th {\n",
              "        text-align: right;\n",
              "    }\n",
              "</style>\n",
              "<table border=\"1\" class=\"dataframe\">\n",
              "  <thead>\n",
              "    <tr style=\"text-align: right;\">\n",
              "      <th></th>\n",
              "      <th>letter</th>\n",
              "      <th>num</th>\n",
              "    </tr>\n",
              "  </thead>\n",
              "  <tbody>\n",
              "    <tr>\n",
              "      <th>0</th>\n",
              "      <td>A</td>\n",
              "      <td>2</td>\n",
              "    </tr>\n",
              "    <tr>\n",
              "      <th>1</th>\n",
              "      <td>B</td>\n",
              "      <td>1</td>\n",
              "    </tr>\n",
              "    <tr>\n",
              "      <th>2</th>\n",
              "      <td>C</td>\n",
              "      <td>2</td>\n",
              "    </tr>\n",
              "  </tbody>\n",
              "</table>\n",
              "</div>"
            ],
            "text/plain": [
              "  letter  num\n",
              "0      A    2\n",
              "1      B    1\n",
              "2      C    2"
            ]
          },
          "execution_count": 53,
          "metadata": {},
          "output_type": "execute_result"
        }
      ],
      "source": [
        "# Use groupby with count()\n",
        "df.groupby(\"letter\")[\"num\"].count().reset_index()\n"
      ]
    },
    {
      "cell_type": "markdown",
      "metadata": {
        "id": "MSC0SmJToE6e"
      },
      "source": [
        "You might recall `value_counts()` function we talked about last week. What's the difference?"
      ]
    },
    {
      "cell_type": "code",
      "execution_count": 55,
      "metadata": {
        "colab": {
          "base_uri": "https://localhost:8080/"
        },
        "id": "xR1ouwPooE6e",
        "outputId": "0560e8ea-ab1a-41c6-b0bf-b1fa3b227eb2"
      },
      "outputs": [
        {
          "data": {
            "text/plain": [
              "letter  num  state\n",
              "A       2.0  tx       1\n",
              "B       3.0  fl       1\n",
              "C       4.0  ak       1\n",
              "             hi       1\n",
              "Name: count, dtype: int64"
            ]
          },
          "execution_count": 55,
          "metadata": {},
          "output_type": "execute_result"
        }
      ],
      "source": [
        "# Use value_count() on DataFrame described above\n",
        "df.value_counts() \n",
        "#it will count the frequency of each unique value and that it also sorts the resulting `Series` in descending order."
      ]
    },
    {
      "cell_type": "markdown",
      "metadata": {
        "id": "0iv_WJb6oE6f"
      },
      "source": [
        "Turns out `value_counts()` does something similar to `groupby.size()`, except that it also sorts the resulting `Series` in descending order."
      ]
    },
    {
      "cell_type": "markdown",
      "metadata": {
        "id": "pfpYFsG2oE6f"
      },
      "source": [
        "## Filtering by Group"
      ]
    },
    {
      "cell_type": "code",
      "execution_count": 56,
      "metadata": {
        "id": "8xb7xk58oE6f"
      },
      "outputs": [
        {
          "data": {
            "text/html": [
              "<div>\n",
              "<style scoped>\n",
              "    .dataframe tbody tr th:only-of-type {\n",
              "        vertical-align: middle;\n",
              "    }\n",
              "\n",
              "    .dataframe tbody tr th {\n",
              "        vertical-align: top;\n",
              "    }\n",
              "\n",
              "    .dataframe thead th {\n",
              "        text-align: right;\n",
              "    }\n",
              "</style>\n",
              "<table border=\"1\" class=\"dataframe\">\n",
              "  <thead>\n",
              "    <tr style=\"text-align: right;\">\n",
              "      <th></th>\n",
              "      <th>Year</th>\n",
              "      <th>Candidate</th>\n",
              "      <th>Party</th>\n",
              "      <th>Popular vote</th>\n",
              "      <th>Result</th>\n",
              "      <th>%</th>\n",
              "    </tr>\n",
              "  </thead>\n",
              "  <tbody>\n",
              "    <tr>\n",
              "      <th>0</th>\n",
              "      <td>1824</td>\n",
              "      <td>Andrew Jackson</td>\n",
              "      <td>Democratic-Republican</td>\n",
              "      <td>151271</td>\n",
              "      <td>loss</td>\n",
              "      <td>57.210122</td>\n",
              "    </tr>\n",
              "    <tr>\n",
              "      <th>1</th>\n",
              "      <td>1824</td>\n",
              "      <td>John Quincy Adams</td>\n",
              "      <td>Democratic-Republican</td>\n",
              "      <td>113142</td>\n",
              "      <td>win</td>\n",
              "      <td>42.789878</td>\n",
              "    </tr>\n",
              "    <tr>\n",
              "      <th>2</th>\n",
              "      <td>1828</td>\n",
              "      <td>Andrew Jackson</td>\n",
              "      <td>Democratic</td>\n",
              "      <td>642806</td>\n",
              "      <td>win</td>\n",
              "      <td>56.203927</td>\n",
              "    </tr>\n",
              "    <tr>\n",
              "      <th>3</th>\n",
              "      <td>1828</td>\n",
              "      <td>John Quincy Adams</td>\n",
              "      <td>National Republican</td>\n",
              "      <td>500897</td>\n",
              "      <td>loss</td>\n",
              "      <td>43.796073</td>\n",
              "    </tr>\n",
              "    <tr>\n",
              "      <th>4</th>\n",
              "      <td>1832</td>\n",
              "      <td>Andrew Jackson</td>\n",
              "      <td>Democratic</td>\n",
              "      <td>702735</td>\n",
              "      <td>win</td>\n",
              "      <td>54.574789</td>\n",
              "    </tr>\n",
              "  </tbody>\n",
              "</table>\n",
              "</div>"
            ],
            "text/plain": [
              "   Year          Candidate                  Party  Popular vote Result  \\\n",
              "0  1824     Andrew Jackson  Democratic-Republican        151271   loss   \n",
              "1  1824  John Quincy Adams  Democratic-Republican        113142    win   \n",
              "2  1828     Andrew Jackson             Democratic        642806    win   \n",
              "3  1828  John Quincy Adams    National Republican        500897   loss   \n",
              "4  1832     Andrew Jackson             Democratic        702735    win   \n",
              "\n",
              "           %  \n",
              "0  57.210122  \n",
              "1  42.789878  \n",
              "2  56.203927  \n",
              "3  43.796073  \n",
              "4  54.574789  "
            ]
          },
          "execution_count": 56,
          "metadata": {},
          "output_type": "execute_result"
        }
      ],
      "source": [
        "# Let's read the elections dataset\n",
        "edata = pd.read_csv(\"H:\\Machine Learning\\Excel files\\elections 1.csv\")\n",
        "edata.head()"
      ]
    },
    {
      "cell_type": "markdown",
      "metadata": {
        "id": "TJeMPuEnoE6f"
      },
      "source": [
        "Let's keep only the elections years where the maximum vote share `%` is less than 45%."
      ]
    },
    {
      "cell_type": "code",
      "execution_count": 57,
      "metadata": {
        "colab": {
          "base_uri": "https://localhost:8080/",
          "height": 143
        },
        "id": "2TUXgCJAoE6f",
        "outputId": "039bfda1-b0ea-4a64-b9c6-6d2ca71aae06"
      },
      "outputs": [
        {
          "data": {
            "text/html": [
              "<div>\n",
              "<style scoped>\n",
              "    .dataframe tbody tr th:only-of-type {\n",
              "        vertical-align: middle;\n",
              "    }\n",
              "\n",
              "    .dataframe tbody tr th {\n",
              "        vertical-align: top;\n",
              "    }\n",
              "\n",
              "    .dataframe thead th {\n",
              "        text-align: right;\n",
              "    }\n",
              "</style>\n",
              "<table border=\"1\" class=\"dataframe\">\n",
              "  <thead>\n",
              "    <tr style=\"text-align: right;\">\n",
              "      <th></th>\n",
              "      <th>Year</th>\n",
              "      <th>Candidate</th>\n",
              "      <th>Party</th>\n",
              "      <th>Popular vote</th>\n",
              "      <th>Result</th>\n",
              "      <th>%</th>\n",
              "    </tr>\n",
              "  </thead>\n",
              "  <tbody>\n",
              "    <tr>\n",
              "      <th>1</th>\n",
              "      <td>1824</td>\n",
              "      <td>John Quincy Adams</td>\n",
              "      <td>Democratic-Republican</td>\n",
              "      <td>113142</td>\n",
              "      <td>win</td>\n",
              "      <td>42.789878</td>\n",
              "    </tr>\n",
              "    <tr>\n",
              "      <th>3</th>\n",
              "      <td>1828</td>\n",
              "      <td>John Quincy Adams</td>\n",
              "      <td>National Republican</td>\n",
              "      <td>500897</td>\n",
              "      <td>loss</td>\n",
              "      <td>43.796073</td>\n",
              "    </tr>\n",
              "    <tr>\n",
              "      <th>5</th>\n",
              "      <td>1832</td>\n",
              "      <td>Henry Clay</td>\n",
              "      <td>National Republican</td>\n",
              "      <td>484205</td>\n",
              "      <td>loss</td>\n",
              "      <td>37.603628</td>\n",
              "    </tr>\n",
              "    <tr>\n",
              "      <th>6</th>\n",
              "      <td>1832</td>\n",
              "      <td>William Wirt</td>\n",
              "      <td>Anti-Masonic</td>\n",
              "      <td>100715</td>\n",
              "      <td>loss</td>\n",
              "      <td>7.821583</td>\n",
              "    </tr>\n",
              "    <tr>\n",
              "      <th>7</th>\n",
              "      <td>1836</td>\n",
              "      <td>Hugh Lawson White</td>\n",
              "      <td>Whig</td>\n",
              "      <td>146109</td>\n",
              "      <td>loss</td>\n",
              "      <td>10.005985</td>\n",
              "    </tr>\n",
              "  </tbody>\n",
              "</table>\n",
              "</div>"
            ],
            "text/plain": [
              "   Year          Candidate                  Party  Popular vote Result  \\\n",
              "1  1824  John Quincy Adams  Democratic-Republican        113142    win   \n",
              "3  1828  John Quincy Adams    National Republican        500897   loss   \n",
              "5  1832         Henry Clay    National Republican        484205   loss   \n",
              "6  1832       William Wirt           Anti-Masonic        100715   loss   \n",
              "7  1836  Hugh Lawson White                   Whig        146109   loss   \n",
              "\n",
              "           %  \n",
              "1  42.789878  \n",
              "3  43.796073  \n",
              "5  37.603628  \n",
              "6   7.821583  \n",
              "7  10.005985  "
            ]
          },
          "execution_count": 57,
          "metadata": {},
          "output_type": "execute_result"
        }
      ],
      "source": [
        "# use filter function\n",
        "edata = edata[edata[\"%\"]<45]\n",
        "edata.head()\n"
      ]
    },
    {
      "cell_type": "markdown",
      "metadata": {
        "id": "7HGH7s5qoE6f",
        "tags": []
      },
      "source": [
        "### `groupby` Puzzle\n",
        "\n",
        "Assume that we want to know the best election by each party."
      ]
    },
    {
      "cell_type": "markdown",
      "metadata": {
        "id": "rrw2j2nmoE6f"
      },
      "source": [
        "#### Attempt #1"
      ]
    },
    {
      "cell_type": "markdown",
      "metadata": {
        "id": "EBCYcGQOoE6f"
      },
      "source": [
        "We have to be careful when using aggregation functions. For example, the code below might be misinterpreted to say that Woodrow Wilson successfully ran for election in 2020. Why is this happening?"
      ]
    },
    {
      "cell_type": "code",
      "execution_count": 58,
      "metadata": {
        "colab": {
          "base_uri": "https://localhost:8080/",
          "height": 175
        },
        "id": "ZPVk9ibNoE6g",
        "outputId": "985b7cac-6d9e-4d41-fd57-48dbf50779a0"
      },
      "outputs": [
        {
          "data": {
            "text/html": [
              "<div>\n",
              "<style scoped>\n",
              "    .dataframe tbody tr th:only-of-type {\n",
              "        vertical-align: middle;\n",
              "    }\n",
              "\n",
              "    .dataframe tbody tr th {\n",
              "        vertical-align: top;\n",
              "    }\n",
              "\n",
              "    .dataframe thead th {\n",
              "        text-align: right;\n",
              "    }\n",
              "</style>\n",
              "<table border=\"1\" class=\"dataframe\">\n",
              "  <thead>\n",
              "    <tr style=\"text-align: right;\">\n",
              "      <th></th>\n",
              "      <th>Year</th>\n",
              "      <th>Candidate</th>\n",
              "      <th>Popular vote</th>\n",
              "      <th>Result</th>\n",
              "      <th>%</th>\n",
              "    </tr>\n",
              "    <tr>\n",
              "      <th>Party</th>\n",
              "      <th></th>\n",
              "      <th></th>\n",
              "      <th></th>\n",
              "      <th></th>\n",
              "      <th></th>\n",
              "    </tr>\n",
              "  </thead>\n",
              "  <tbody>\n",
              "    <tr>\n",
              "      <th>American</th>\n",
              "      <td>1976</td>\n",
              "      <td>Thomas J. Anderson</td>\n",
              "      <td>873053</td>\n",
              "      <td>loss</td>\n",
              "      <td>21.554001</td>\n",
              "    </tr>\n",
              "    <tr>\n",
              "      <th>American Independent</th>\n",
              "      <td>1976</td>\n",
              "      <td>Lester Maddox</td>\n",
              "      <td>9901118</td>\n",
              "      <td>loss</td>\n",
              "      <td>13.571218</td>\n",
              "    </tr>\n",
              "    <tr>\n",
              "      <th>Anti-Masonic</th>\n",
              "      <td>1832</td>\n",
              "      <td>William Wirt</td>\n",
              "      <td>100715</td>\n",
              "      <td>loss</td>\n",
              "      <td>7.821583</td>\n",
              "    </tr>\n",
              "    <tr>\n",
              "      <th>Anti-Monopoly</th>\n",
              "      <td>1884</td>\n",
              "      <td>Benjamin Butler</td>\n",
              "      <td>134294</td>\n",
              "      <td>loss</td>\n",
              "      <td>1.335838</td>\n",
              "    </tr>\n",
              "    <tr>\n",
              "      <th>Citizens</th>\n",
              "      <td>1980</td>\n",
              "      <td>Barry Commoner</td>\n",
              "      <td>233052</td>\n",
              "      <td>loss</td>\n",
              "      <td>0.270182</td>\n",
              "    </tr>\n",
              "    <tr>\n",
              "      <th>Communist</th>\n",
              "      <td>1932</td>\n",
              "      <td>William Z. Foster</td>\n",
              "      <td>103307</td>\n",
              "      <td>loss</td>\n",
              "      <td>0.261069</td>\n",
              "    </tr>\n",
              "    <tr>\n",
              "      <th>Constitution</th>\n",
              "      <td>2016</td>\n",
              "      <td>Michael Peroutka</td>\n",
              "      <td>203091</td>\n",
              "      <td>loss</td>\n",
              "      <td>0.152398</td>\n",
              "    </tr>\n",
              "    <tr>\n",
              "      <th>Constitutional Union</th>\n",
              "      <td>1860</td>\n",
              "      <td>John Bell</td>\n",
              "      <td>590901</td>\n",
              "      <td>loss</td>\n",
              "      <td>12.639283</td>\n",
              "    </tr>\n",
              "    <tr>\n",
              "      <th>Democratic</th>\n",
              "      <td>1992</td>\n",
              "      <td>Woodrow Wilson</td>\n",
              "      <td>44909806</td>\n",
              "      <td>win</td>\n",
              "      <td>44.446312</td>\n",
              "    </tr>\n",
              "    <tr>\n",
              "      <th>Democratic-Republican</th>\n",
              "      <td>1824</td>\n",
              "      <td>John Quincy Adams</td>\n",
              "      <td>113142</td>\n",
              "      <td>win</td>\n",
              "      <td>42.789878</td>\n",
              "    </tr>\n",
              "  </tbody>\n",
              "</table>\n",
              "</div>"
            ],
            "text/plain": [
              "                       Year           Candidate  Popular vote Result  \\\n",
              "Party                                                                  \n",
              "American               1976  Thomas J. Anderson        873053   loss   \n",
              "American Independent   1976       Lester Maddox       9901118   loss   \n",
              "Anti-Masonic           1832        William Wirt        100715   loss   \n",
              "Anti-Monopoly          1884     Benjamin Butler        134294   loss   \n",
              "Citizens               1980      Barry Commoner        233052   loss   \n",
              "Communist              1932   William Z. Foster        103307   loss   \n",
              "Constitution           2016    Michael Peroutka        203091   loss   \n",
              "Constitutional Union   1860           John Bell        590901   loss   \n",
              "Democratic             1992      Woodrow Wilson      44909806    win   \n",
              "Democratic-Republican  1824   John Quincy Adams        113142    win   \n",
              "\n",
              "                               %  \n",
              "Party                             \n",
              "American               21.554001  \n",
              "American Independent   13.571218  \n",
              "Anti-Masonic            7.821583  \n",
              "Anti-Monopoly           1.335838  \n",
              "Citizens                0.270182  \n",
              "Communist               0.261069  \n",
              "Constitution            0.152398  \n",
              "Constitutional Union   12.639283  \n",
              "Democratic             44.446312  \n",
              "Democratic-Republican  42.789878  "
            ]
          },
          "execution_count": 58,
          "metadata": {},
          "output_type": "execute_result"
        }
      ],
      "source": [
        "# Use agg(max)\n",
        "edata.groupby(\"Party\").max().head(10)"
      ]
    },
    {
      "cell_type": "markdown",
      "metadata": {
        "id": "hHBb6gRgoE6g"
      },
      "source": [
        "#### Attempt #2"
      ]
    },
    {
      "cell_type": "markdown",
      "metadata": {
        "id": "C3ePfJJBoE6g"
      },
      "source": [
        "Next, we'll write code that properly returns _the best result by each party_. That is, each row should show the Year, Candidate, Popular Vote, Result, and % for the election in which that party saw its best results (rather than mixing them as in the example above). Here's what the first rows of the correct output should look like:\n",
        "\n",
        "![parties.png](attachment:ab21f8de-ad29-46c2-bea7-e9aea9c40e3e.png)"
      ]
    },
    {
      "cell_type": "code",
      "execution_count": 59,
      "metadata": {
        "id": "vf7vN2OgoE6g"
      },
      "outputs": [
        {
          "data": {
            "text/html": [
              "<div>\n",
              "<style scoped>\n",
              "    .dataframe tbody tr th:only-of-type {\n",
              "        vertical-align: middle;\n",
              "    }\n",
              "\n",
              "    .dataframe tbody tr th {\n",
              "        vertical-align: top;\n",
              "    }\n",
              "\n",
              "    .dataframe thead th {\n",
              "        text-align: right;\n",
              "    }\n",
              "</style>\n",
              "<table border=\"1\" class=\"dataframe\">\n",
              "  <thead>\n",
              "    <tr style=\"text-align: right;\">\n",
              "      <th></th>\n",
              "      <th>Year</th>\n",
              "      <th>Candidate</th>\n",
              "      <th>Popular vote</th>\n",
              "      <th>Result</th>\n",
              "      <th>%</th>\n",
              "    </tr>\n",
              "    <tr>\n",
              "      <th>Party</th>\n",
              "      <th></th>\n",
              "      <th></th>\n",
              "      <th></th>\n",
              "      <th></th>\n",
              "      <th></th>\n",
              "    </tr>\n",
              "  </thead>\n",
              "  <tbody>\n",
              "    <tr>\n",
              "      <th>American</th>\n",
              "      <td>1856</td>\n",
              "      <td>Millard Fillmore</td>\n",
              "      <td>873053</td>\n",
              "      <td>loss</td>\n",
              "      <td>21.554001</td>\n",
              "    </tr>\n",
              "    <tr>\n",
              "      <th>American Independent</th>\n",
              "      <td>1968</td>\n",
              "      <td>George Wallace</td>\n",
              "      <td>9901118</td>\n",
              "      <td>loss</td>\n",
              "      <td>13.571218</td>\n",
              "    </tr>\n",
              "    <tr>\n",
              "      <th>Anti-Masonic</th>\n",
              "      <td>1832</td>\n",
              "      <td>William Wirt</td>\n",
              "      <td>100715</td>\n",
              "      <td>loss</td>\n",
              "      <td>7.821583</td>\n",
              "    </tr>\n",
              "    <tr>\n",
              "      <th>Anti-Monopoly</th>\n",
              "      <td>1884</td>\n",
              "      <td>Benjamin Butler</td>\n",
              "      <td>134294</td>\n",
              "      <td>loss</td>\n",
              "      <td>1.335838</td>\n",
              "    </tr>\n",
              "    <tr>\n",
              "      <th>Citizens</th>\n",
              "      <td>1980</td>\n",
              "      <td>Barry Commoner</td>\n",
              "      <td>233052</td>\n",
              "      <td>loss</td>\n",
              "      <td>0.270182</td>\n",
              "    </tr>\n",
              "    <tr>\n",
              "      <th>Communist</th>\n",
              "      <td>1932</td>\n",
              "      <td>William Z. Foster</td>\n",
              "      <td>103307</td>\n",
              "      <td>loss</td>\n",
              "      <td>0.261069</td>\n",
              "    </tr>\n",
              "    <tr>\n",
              "      <th>Constitution</th>\n",
              "      <td>2008</td>\n",
              "      <td>Chuck Baldwin</td>\n",
              "      <td>199750</td>\n",
              "      <td>loss</td>\n",
              "      <td>0.152398</td>\n",
              "    </tr>\n",
              "    <tr>\n",
              "      <th>Constitutional Union</th>\n",
              "      <td>1860</td>\n",
              "      <td>John Bell</td>\n",
              "      <td>590901</td>\n",
              "      <td>loss</td>\n",
              "      <td>12.639283</td>\n",
              "    </tr>\n",
              "    <tr>\n",
              "      <th>Democratic</th>\n",
              "      <td>1952</td>\n",
              "      <td>Adlai Stevenson</td>\n",
              "      <td>27375090</td>\n",
              "      <td>loss</td>\n",
              "      <td>44.446312</td>\n",
              "    </tr>\n",
              "    <tr>\n",
              "      <th>Democratic-Republican</th>\n",
              "      <td>1824</td>\n",
              "      <td>John Quincy Adams</td>\n",
              "      <td>113142</td>\n",
              "      <td>win</td>\n",
              "      <td>42.789878</td>\n",
              "    </tr>\n",
              "    <tr>\n",
              "      <th>Dixiecrat</th>\n",
              "      <td>1948</td>\n",
              "      <td>Strom Thurmond</td>\n",
              "      <td>1175930</td>\n",
              "      <td>loss</td>\n",
              "      <td>2.412304</td>\n",
              "    </tr>\n",
              "    <tr>\n",
              "      <th>Farmer–Labor</th>\n",
              "      <td>1920</td>\n",
              "      <td>Parley P. Christensen</td>\n",
              "      <td>265398</td>\n",
              "      <td>loss</td>\n",
              "      <td>0.995804</td>\n",
              "    </tr>\n",
              "    <tr>\n",
              "      <th>Free Soil</th>\n",
              "      <td>1848</td>\n",
              "      <td>Martin Van Buren</td>\n",
              "      <td>291501</td>\n",
              "      <td>loss</td>\n",
              "      <td>10.138474</td>\n",
              "    </tr>\n",
              "    <tr>\n",
              "      <th>Green</th>\n",
              "      <td>2000</td>\n",
              "      <td>Ralph Nader</td>\n",
              "      <td>2882955</td>\n",
              "      <td>loss</td>\n",
              "      <td>2.741176</td>\n",
              "    </tr>\n",
              "    <tr>\n",
              "      <th>Greenback</th>\n",
              "      <td>1880</td>\n",
              "      <td>James B. Weaver</td>\n",
              "      <td>308649</td>\n",
              "      <td>loss</td>\n",
              "      <td>3.352344</td>\n",
              "    </tr>\n",
              "    <tr>\n",
              "      <th>Independent</th>\n",
              "      <td>1992</td>\n",
              "      <td>Ross Perot</td>\n",
              "      <td>19743821</td>\n",
              "      <td>loss</td>\n",
              "      <td>18.956298</td>\n",
              "    </tr>\n",
              "    <tr>\n",
              "      <th>Liberal Republican</th>\n",
              "      <td>1872</td>\n",
              "      <td>Horace Greeley</td>\n",
              "      <td>2834761</td>\n",
              "      <td>loss</td>\n",
              "      <td>44.071406</td>\n",
              "    </tr>\n",
              "    <tr>\n",
              "      <th>Libertarian</th>\n",
              "      <td>2016</td>\n",
              "      <td>Gary Johnson</td>\n",
              "      <td>4489235</td>\n",
              "      <td>loss</td>\n",
              "      <td>3.307714</td>\n",
              "    </tr>\n",
              "    <tr>\n",
              "      <th>National Democratic</th>\n",
              "      <td>1896</td>\n",
              "      <td>John M. Palmer</td>\n",
              "      <td>134645</td>\n",
              "      <td>loss</td>\n",
              "      <td>0.969566</td>\n",
              "    </tr>\n",
              "    <tr>\n",
              "      <th>National Republican</th>\n",
              "      <td>1828</td>\n",
              "      <td>John Quincy Adams</td>\n",
              "      <td>500897</td>\n",
              "      <td>loss</td>\n",
              "      <td>43.796073</td>\n",
              "    </tr>\n",
              "    <tr>\n",
              "      <th>Natural Law</th>\n",
              "      <td>1996</td>\n",
              "      <td>John Hagelin</td>\n",
              "      <td>113670</td>\n",
              "      <td>loss</td>\n",
              "      <td>0.118219</td>\n",
              "    </tr>\n",
              "    <tr>\n",
              "      <th>New Alliance</th>\n",
              "      <td>1988</td>\n",
              "      <td>Lenora Fulani</td>\n",
              "      <td>217221</td>\n",
              "      <td>loss</td>\n",
              "      <td>0.237804</td>\n",
              "    </tr>\n",
              "    <tr>\n",
              "      <th>Northern Democratic</th>\n",
              "      <td>1860</td>\n",
              "      <td>Stephen A. Douglas</td>\n",
              "      <td>1380202</td>\n",
              "      <td>loss</td>\n",
              "      <td>29.522311</td>\n",
              "    </tr>\n",
              "    <tr>\n",
              "      <th>Populist</th>\n",
              "      <td>1892</td>\n",
              "      <td>James B. Weaver</td>\n",
              "      <td>1041028</td>\n",
              "      <td>loss</td>\n",
              "      <td>8.645038</td>\n",
              "    </tr>\n",
              "    <tr>\n",
              "      <th>Progressive</th>\n",
              "      <td>1912</td>\n",
              "      <td>Theodore Roosevelt</td>\n",
              "      <td>4122721</td>\n",
              "      <td>loss</td>\n",
              "      <td>27.457433</td>\n",
              "    </tr>\n",
              "    <tr>\n",
              "      <th>Prohibition</th>\n",
              "      <td>1892</td>\n",
              "      <td>John Bidwell</td>\n",
              "      <td>270879</td>\n",
              "      <td>loss</td>\n",
              "      <td>2.249468</td>\n",
              "    </tr>\n",
              "    <tr>\n",
              "      <th>Reform</th>\n",
              "      <td>1996</td>\n",
              "      <td>Ross Perot</td>\n",
              "      <td>8085294</td>\n",
              "      <td>loss</td>\n",
              "      <td>8.408844</td>\n",
              "    </tr>\n",
              "    <tr>\n",
              "      <th>Republican</th>\n",
              "      <td>1940</td>\n",
              "      <td>Wendell Willkie</td>\n",
              "      <td>22347744</td>\n",
              "      <td>loss</td>\n",
              "      <td>44.894561</td>\n",
              "    </tr>\n",
              "    <tr>\n",
              "      <th>Socialist</th>\n",
              "      <td>1912</td>\n",
              "      <td>Eugene V. Debs</td>\n",
              "      <td>901551</td>\n",
              "      <td>loss</td>\n",
              "      <td>6.004354</td>\n",
              "    </tr>\n",
              "    <tr>\n",
              "      <th>Southern Democratic</th>\n",
              "      <td>1860</td>\n",
              "      <td>John C. Breckinridge</td>\n",
              "      <td>848019</td>\n",
              "      <td>loss</td>\n",
              "      <td>18.138998</td>\n",
              "    </tr>\n",
              "    <tr>\n",
              "      <th>States' Rights</th>\n",
              "      <td>1956</td>\n",
              "      <td>T. Coleman Andrews</td>\n",
              "      <td>107929</td>\n",
              "      <td>loss</td>\n",
              "      <td>0.174883</td>\n",
              "    </tr>\n",
              "    <tr>\n",
              "      <th>Taxpayers</th>\n",
              "      <td>1996</td>\n",
              "      <td>Howard Phillips</td>\n",
              "      <td>184656</td>\n",
              "      <td>loss</td>\n",
              "      <td>0.192045</td>\n",
              "    </tr>\n",
              "    <tr>\n",
              "      <th>Union</th>\n",
              "      <td>1936</td>\n",
              "      <td>William Lemke</td>\n",
              "      <td>892378</td>\n",
              "      <td>loss</td>\n",
              "      <td>1.960733</td>\n",
              "    </tr>\n",
              "    <tr>\n",
              "      <th>Union Labor</th>\n",
              "      <td>1888</td>\n",
              "      <td>Alson Streeter</td>\n",
              "      <td>146602</td>\n",
              "      <td>loss</td>\n",
              "      <td>1.288861</td>\n",
              "    </tr>\n",
              "    <tr>\n",
              "      <th>Whig</th>\n",
              "      <td>1852</td>\n",
              "      <td>Winfield Scott</td>\n",
              "      <td>1386942</td>\n",
              "      <td>loss</td>\n",
              "      <td>44.056548</td>\n",
              "    </tr>\n",
              "  </tbody>\n",
              "</table>\n",
              "</div>"
            ],
            "text/plain": [
              "                       Year              Candidate  Popular vote Result  \\\n",
              "Party                                                                     \n",
              "American               1856       Millard Fillmore        873053   loss   \n",
              "American Independent   1968         George Wallace       9901118   loss   \n",
              "Anti-Masonic           1832           William Wirt        100715   loss   \n",
              "Anti-Monopoly          1884        Benjamin Butler        134294   loss   \n",
              "Citizens               1980         Barry Commoner        233052   loss   \n",
              "Communist              1932      William Z. Foster        103307   loss   \n",
              "Constitution           2008          Chuck Baldwin        199750   loss   \n",
              "Constitutional Union   1860              John Bell        590901   loss   \n",
              "Democratic             1952        Adlai Stevenson      27375090   loss   \n",
              "Democratic-Republican  1824      John Quincy Adams        113142    win   \n",
              "Dixiecrat              1948         Strom Thurmond       1175930   loss   \n",
              "Farmer–Labor           1920  Parley P. Christensen        265398   loss   \n",
              "Free Soil              1848       Martin Van Buren        291501   loss   \n",
              "Green                  2000            Ralph Nader       2882955   loss   \n",
              "Greenback              1880        James B. Weaver        308649   loss   \n",
              "Independent            1992             Ross Perot      19743821   loss   \n",
              "Liberal Republican     1872         Horace Greeley       2834761   loss   \n",
              "Libertarian            2016           Gary Johnson       4489235   loss   \n",
              "National Democratic    1896         John M. Palmer        134645   loss   \n",
              "National Republican    1828      John Quincy Adams        500897   loss   \n",
              "Natural Law            1996           John Hagelin        113670   loss   \n",
              "New Alliance           1988          Lenora Fulani        217221   loss   \n",
              "Northern Democratic    1860     Stephen A. Douglas       1380202   loss   \n",
              "Populist               1892        James B. Weaver       1041028   loss   \n",
              "Progressive            1912     Theodore Roosevelt       4122721   loss   \n",
              "Prohibition            1892           John Bidwell        270879   loss   \n",
              "Reform                 1996             Ross Perot       8085294   loss   \n",
              "Republican             1940        Wendell Willkie      22347744   loss   \n",
              "Socialist              1912         Eugene V. Debs        901551   loss   \n",
              "Southern Democratic    1860   John C. Breckinridge        848019   loss   \n",
              "States' Rights         1956     T. Coleman Andrews        107929   loss   \n",
              "Taxpayers              1996        Howard Phillips        184656   loss   \n",
              "Union                  1936          William Lemke        892378   loss   \n",
              "Union Labor            1888         Alson Streeter        146602   loss   \n",
              "Whig                   1852         Winfield Scott       1386942   loss   \n",
              "\n",
              "                               %  \n",
              "Party                             \n",
              "American               21.554001  \n",
              "American Independent   13.571218  \n",
              "Anti-Masonic            7.821583  \n",
              "Anti-Monopoly           1.335838  \n",
              "Citizens                0.270182  \n",
              "Communist               0.261069  \n",
              "Constitution            0.152398  \n",
              "Constitutional Union   12.639283  \n",
              "Democratic             44.446312  \n",
              "Democratic-Republican  42.789878  \n",
              "Dixiecrat               2.412304  \n",
              "Farmer–Labor            0.995804  \n",
              "Free Soil              10.138474  \n",
              "Green                   2.741176  \n",
              "Greenback               3.352344  \n",
              "Independent            18.956298  \n",
              "Liberal Republican     44.071406  \n",
              "Libertarian             3.307714  \n",
              "National Democratic     0.969566  \n",
              "National Republican    43.796073  \n",
              "Natural Law             0.118219  \n",
              "New Alliance            0.237804  \n",
              "Northern Democratic    29.522311  \n",
              "Populist                8.645038  \n",
              "Progressive            27.457433  \n",
              "Prohibition             2.249468  \n",
              "Reform                  8.408844  \n",
              "Republican             44.894561  \n",
              "Socialist               6.004354  \n",
              "Southern Democratic    18.138998  \n",
              "States' Rights          0.174883  \n",
              "Taxpayers               0.192045  \n",
              "Union                   1.960733  \n",
              "Union Labor             1.288861  \n",
              "Whig                   44.056548  "
            ]
          },
          "execution_count": 59,
          "metadata": {},
          "output_type": "execute_result"
        }
      ],
      "source": [
        "elections_sorted_by_percent = edata.sort_values(\"%\", ascending=False)\n",
        "elections_sorted_by_percent.groupby(\"Party\").first()"
      ]
    },
    {
      "cell_type": "markdown",
      "metadata": {
        "id": "dUYU03oOoE6g"
      },
      "source": [
        "#### Alternative Solutions"
      ]
    },
    {
      "cell_type": "markdown",
      "metadata": {
        "id": "NfEE8XLJoE6g"
      },
      "source": [
        "You'll soon discover that with Pandas rich tool set, there's typically more than one way to get to the same answer. Each approach has different tradeoffs in terms of readability, performance, memory consumption, complexity, and more. It will take some experience for you to develop a sense of which approach is better for each problem, but you should, in general, try to think if you can at least envision a different solution to a given problem, especially if you find your current solution to be particularly convoluted or hard to read.\n",
        "\n",
        "Here are a couple of other ways of obtaining the same result (in each case, we only show the top part with `head()`). The first approach uses `groupby` but finds the location of the maximum value via the `idxmax()` method (look up its documentation!).  We then index and sort by `Party` to match the requested formatting:"
      ]
    },
    {
      "cell_type": "code",
      "execution_count": 60,
      "metadata": {
        "colab": {
          "base_uri": "https://localhost:8080/"
        },
        "id": "f18-zFEaoE6h",
        "outputId": "bf5ee353-e810-492c-c42f-130d9ea4a9d3"
      },
      "outputs": [
        {
          "data": {
            "text/html": [
              "<div>\n",
              "<style scoped>\n",
              "    .dataframe tbody tr th:only-of-type {\n",
              "        vertical-align: middle;\n",
              "    }\n",
              "\n",
              "    .dataframe tbody tr th {\n",
              "        vertical-align: top;\n",
              "    }\n",
              "\n",
              "    .dataframe thead th {\n",
              "        text-align: right;\n",
              "    }\n",
              "</style>\n",
              "<table border=\"1\" class=\"dataframe\">\n",
              "  <thead>\n",
              "    <tr style=\"text-align: right;\">\n",
              "      <th></th>\n",
              "      <th>Year</th>\n",
              "      <th>Candidate</th>\n",
              "      <th>Party</th>\n",
              "      <th>Popular vote</th>\n",
              "      <th>Result</th>\n",
              "      <th>%</th>\n",
              "    </tr>\n",
              "  </thead>\n",
              "  <tbody>\n",
              "    <tr>\n",
              "      <th>22</th>\n",
              "      <td>1856</td>\n",
              "      <td>Millard Fillmore</td>\n",
              "      <td>American</td>\n",
              "      <td>873053</td>\n",
              "      <td>loss</td>\n",
              "      <td>21.554001</td>\n",
              "    </tr>\n",
              "    <tr>\n",
              "      <th>115</th>\n",
              "      <td>1968</td>\n",
              "      <td>George Wallace</td>\n",
              "      <td>American Independent</td>\n",
              "      <td>9901118</td>\n",
              "      <td>loss</td>\n",
              "      <td>13.571218</td>\n",
              "    </tr>\n",
              "    <tr>\n",
              "      <th>6</th>\n",
              "      <td>1832</td>\n",
              "      <td>William Wirt</td>\n",
              "      <td>Anti-Masonic</td>\n",
              "      <td>100715</td>\n",
              "      <td>loss</td>\n",
              "      <td>7.821583</td>\n",
              "    </tr>\n",
              "    <tr>\n",
              "      <th>38</th>\n",
              "      <td>1884</td>\n",
              "      <td>Benjamin Butler</td>\n",
              "      <td>Anti-Monopoly</td>\n",
              "      <td>134294</td>\n",
              "      <td>loss</td>\n",
              "      <td>1.335838</td>\n",
              "    </tr>\n",
              "    <tr>\n",
              "      <th>127</th>\n",
              "      <td>1980</td>\n",
              "      <td>Barry Commoner</td>\n",
              "      <td>Citizens</td>\n",
              "      <td>233052</td>\n",
              "      <td>loss</td>\n",
              "      <td>0.270182</td>\n",
              "    </tr>\n",
              "    <tr>\n",
              "      <th>89</th>\n",
              "      <td>1932</td>\n",
              "      <td>William Z. Foster</td>\n",
              "      <td>Communist</td>\n",
              "      <td>103307</td>\n",
              "      <td>loss</td>\n",
              "      <td>0.261069</td>\n",
              "    </tr>\n",
              "    <tr>\n",
              "      <th>164</th>\n",
              "      <td>2008</td>\n",
              "      <td>Chuck Baldwin</td>\n",
              "      <td>Constitution</td>\n",
              "      <td>199750</td>\n",
              "      <td>loss</td>\n",
              "      <td>0.152398</td>\n",
              "    </tr>\n",
              "    <tr>\n",
              "      <th>24</th>\n",
              "      <td>1860</td>\n",
              "      <td>John Bell</td>\n",
              "      <td>Constitutional Union</td>\n",
              "      <td>590901</td>\n",
              "      <td>loss</td>\n",
              "      <td>12.639283</td>\n",
              "    </tr>\n",
              "    <tr>\n",
              "      <th>105</th>\n",
              "      <td>1952</td>\n",
              "      <td>Adlai Stevenson</td>\n",
              "      <td>Democratic</td>\n",
              "      <td>27375090</td>\n",
              "      <td>loss</td>\n",
              "      <td>44.446312</td>\n",
              "    </tr>\n",
              "    <tr>\n",
              "      <th>1</th>\n",
              "      <td>1824</td>\n",
              "      <td>John Quincy Adams</td>\n",
              "      <td>Democratic-Republican</td>\n",
              "      <td>113142</td>\n",
              "      <td>win</td>\n",
              "      <td>42.789878</td>\n",
              "    </tr>\n",
              "    <tr>\n",
              "      <th>103</th>\n",
              "      <td>1948</td>\n",
              "      <td>Strom Thurmond</td>\n",
              "      <td>Dixiecrat</td>\n",
              "      <td>1175930</td>\n",
              "      <td>loss</td>\n",
              "      <td>2.412304</td>\n",
              "    </tr>\n",
              "    <tr>\n",
              "      <th>78</th>\n",
              "      <td>1920</td>\n",
              "      <td>Parley P. Christensen</td>\n",
              "      <td>Farmer–Labor</td>\n",
              "      <td>265398</td>\n",
              "      <td>loss</td>\n",
              "      <td>0.995804</td>\n",
              "    </tr>\n",
              "    <tr>\n",
              "      <th>15</th>\n",
              "      <td>1848</td>\n",
              "      <td>Martin Van Buren</td>\n",
              "      <td>Free Soil</td>\n",
              "      <td>291501</td>\n",
              "      <td>loss</td>\n",
              "      <td>10.138474</td>\n",
              "    </tr>\n",
              "    <tr>\n",
              "      <th>155</th>\n",
              "      <td>2000</td>\n",
              "      <td>Ralph Nader</td>\n",
              "      <td>Green</td>\n",
              "      <td>2882955</td>\n",
              "      <td>loss</td>\n",
              "      <td>2.741176</td>\n",
              "    </tr>\n",
              "    <tr>\n",
              "      <th>35</th>\n",
              "      <td>1880</td>\n",
              "      <td>James B. Weaver</td>\n",
              "      <td>Greenback</td>\n",
              "      <td>308649</td>\n",
              "      <td>loss</td>\n",
              "      <td>3.352344</td>\n",
              "    </tr>\n",
              "    <tr>\n",
              "      <th>143</th>\n",
              "      <td>1992</td>\n",
              "      <td>Ross Perot</td>\n",
              "      <td>Independent</td>\n",
              "      <td>19743821</td>\n",
              "      <td>loss</td>\n",
              "      <td>18.956298</td>\n",
              "    </tr>\n",
              "    <tr>\n",
              "      <th>31</th>\n",
              "      <td>1872</td>\n",
              "      <td>Horace Greeley</td>\n",
              "      <td>Liberal Republican</td>\n",
              "      <td>2834761</td>\n",
              "      <td>loss</td>\n",
              "      <td>44.071406</td>\n",
              "    </tr>\n",
              "    <tr>\n",
              "      <th>175</th>\n",
              "      <td>2016</td>\n",
              "      <td>Gary Johnson</td>\n",
              "      <td>Libertarian</td>\n",
              "      <td>4489235</td>\n",
              "      <td>loss</td>\n",
              "      <td>3.307714</td>\n",
              "    </tr>\n",
              "    <tr>\n",
              "      <th>50</th>\n",
              "      <td>1896</td>\n",
              "      <td>John M. Palmer</td>\n",
              "      <td>National Democratic</td>\n",
              "      <td>134645</td>\n",
              "      <td>loss</td>\n",
              "      <td>0.969566</td>\n",
              "    </tr>\n",
              "    <tr>\n",
              "      <th>3</th>\n",
              "      <td>1828</td>\n",
              "      <td>John Quincy Adams</td>\n",
              "      <td>National Republican</td>\n",
              "      <td>500897</td>\n",
              "      <td>loss</td>\n",
              "      <td>43.796073</td>\n",
              "    </tr>\n",
              "    <tr>\n",
              "      <th>148</th>\n",
              "      <td>1996</td>\n",
              "      <td>John Hagelin</td>\n",
              "      <td>Natural Law</td>\n",
              "      <td>113670</td>\n",
              "      <td>loss</td>\n",
              "      <td>0.118219</td>\n",
              "    </tr>\n",
              "    <tr>\n",
              "      <th>136</th>\n",
              "      <td>1988</td>\n",
              "      <td>Lenora Fulani</td>\n",
              "      <td>New Alliance</td>\n",
              "      <td>217221</td>\n",
              "      <td>loss</td>\n",
              "      <td>0.237804</td>\n",
              "    </tr>\n",
              "    <tr>\n",
              "      <th>26</th>\n",
              "      <td>1860</td>\n",
              "      <td>Stephen A. Douglas</td>\n",
              "      <td>Northern Democratic</td>\n",
              "      <td>1380202</td>\n",
              "      <td>loss</td>\n",
              "      <td>29.522311</td>\n",
              "    </tr>\n",
              "    <tr>\n",
              "      <th>48</th>\n",
              "      <td>1892</td>\n",
              "      <td>James B. Weaver</td>\n",
              "      <td>Populist</td>\n",
              "      <td>1041028</td>\n",
              "      <td>loss</td>\n",
              "      <td>8.645038</td>\n",
              "    </tr>\n",
              "    <tr>\n",
              "      <th>68</th>\n",
              "      <td>1912</td>\n",
              "      <td>Theodore Roosevelt</td>\n",
              "      <td>Progressive</td>\n",
              "      <td>4122721</td>\n",
              "      <td>loss</td>\n",
              "      <td>27.457433</td>\n",
              "    </tr>\n",
              "    <tr>\n",
              "      <th>49</th>\n",
              "      <td>1892</td>\n",
              "      <td>John Bidwell</td>\n",
              "      <td>Prohibition</td>\n",
              "      <td>270879</td>\n",
              "      <td>loss</td>\n",
              "      <td>2.249468</td>\n",
              "    </tr>\n",
              "    <tr>\n",
              "      <th>150</th>\n",
              "      <td>1996</td>\n",
              "      <td>Ross Perot</td>\n",
              "      <td>Reform</td>\n",
              "      <td>8085294</td>\n",
              "      <td>loss</td>\n",
              "      <td>8.408844</td>\n",
              "    </tr>\n",
              "    <tr>\n",
              "      <th>96</th>\n",
              "      <td>1940</td>\n",
              "      <td>Wendell Willkie</td>\n",
              "      <td>Republican</td>\n",
              "      <td>22347744</td>\n",
              "      <td>loss</td>\n",
              "      <td>44.894561</td>\n",
              "    </tr>\n",
              "    <tr>\n",
              "      <th>66</th>\n",
              "      <td>1912</td>\n",
              "      <td>Eugene V. Debs</td>\n",
              "      <td>Socialist</td>\n",
              "      <td>901551</td>\n",
              "      <td>loss</td>\n",
              "      <td>6.004354</td>\n",
              "    </tr>\n",
              "    <tr>\n",
              "      <th>25</th>\n",
              "      <td>1860</td>\n",
              "      <td>John C. Breckinridge</td>\n",
              "      <td>Southern Democratic</td>\n",
              "      <td>848019</td>\n",
              "      <td>loss</td>\n",
              "      <td>18.138998</td>\n",
              "    </tr>\n",
              "    <tr>\n",
              "      <th>110</th>\n",
              "      <td>1956</td>\n",
              "      <td>T. Coleman Andrews</td>\n",
              "      <td>States' Rights</td>\n",
              "      <td>107929</td>\n",
              "      <td>loss</td>\n",
              "      <td>0.174883</td>\n",
              "    </tr>\n",
              "    <tr>\n",
              "      <th>147</th>\n",
              "      <td>1996</td>\n",
              "      <td>Howard Phillips</td>\n",
              "      <td>Taxpayers</td>\n",
              "      <td>184656</td>\n",
              "      <td>loss</td>\n",
              "      <td>0.192045</td>\n",
              "    </tr>\n",
              "    <tr>\n",
              "      <th>93</th>\n",
              "      <td>1936</td>\n",
              "      <td>William Lemke</td>\n",
              "      <td>Union</td>\n",
              "      <td>892378</td>\n",
              "      <td>loss</td>\n",
              "      <td>1.960733</td>\n",
              "    </tr>\n",
              "    <tr>\n",
              "      <th>42</th>\n",
              "      <td>1888</td>\n",
              "      <td>Alson Streeter</td>\n",
              "      <td>Union Labor</td>\n",
              "      <td>146602</td>\n",
              "      <td>loss</td>\n",
              "      <td>1.288861</td>\n",
              "    </tr>\n",
              "    <tr>\n",
              "      <th>19</th>\n",
              "      <td>1852</td>\n",
              "      <td>Winfield Scott</td>\n",
              "      <td>Whig</td>\n",
              "      <td>1386942</td>\n",
              "      <td>loss</td>\n",
              "      <td>44.056548</td>\n",
              "    </tr>\n",
              "  </tbody>\n",
              "</table>\n",
              "</div>"
            ],
            "text/plain": [
              "     Year              Candidate                  Party  Popular vote Result  \\\n",
              "22   1856       Millard Fillmore               American        873053   loss   \n",
              "115  1968         George Wallace   American Independent       9901118   loss   \n",
              "6    1832           William Wirt           Anti-Masonic        100715   loss   \n",
              "38   1884        Benjamin Butler          Anti-Monopoly        134294   loss   \n",
              "127  1980         Barry Commoner               Citizens        233052   loss   \n",
              "89   1932      William Z. Foster              Communist        103307   loss   \n",
              "164  2008          Chuck Baldwin           Constitution        199750   loss   \n",
              "24   1860              John Bell   Constitutional Union        590901   loss   \n",
              "105  1952        Adlai Stevenson             Democratic      27375090   loss   \n",
              "1    1824      John Quincy Adams  Democratic-Republican        113142    win   \n",
              "103  1948         Strom Thurmond              Dixiecrat       1175930   loss   \n",
              "78   1920  Parley P. Christensen           Farmer–Labor        265398   loss   \n",
              "15   1848       Martin Van Buren              Free Soil        291501   loss   \n",
              "155  2000            Ralph Nader                  Green       2882955   loss   \n",
              "35   1880        James B. Weaver              Greenback        308649   loss   \n",
              "143  1992             Ross Perot            Independent      19743821   loss   \n",
              "31   1872         Horace Greeley     Liberal Republican       2834761   loss   \n",
              "175  2016           Gary Johnson            Libertarian       4489235   loss   \n",
              "50   1896         John M. Palmer    National Democratic        134645   loss   \n",
              "3    1828      John Quincy Adams    National Republican        500897   loss   \n",
              "148  1996           John Hagelin            Natural Law        113670   loss   \n",
              "136  1988          Lenora Fulani           New Alliance        217221   loss   \n",
              "26   1860     Stephen A. Douglas    Northern Democratic       1380202   loss   \n",
              "48   1892        James B. Weaver               Populist       1041028   loss   \n",
              "68   1912     Theodore Roosevelt            Progressive       4122721   loss   \n",
              "49   1892           John Bidwell            Prohibition        270879   loss   \n",
              "150  1996             Ross Perot                 Reform       8085294   loss   \n",
              "96   1940        Wendell Willkie             Republican      22347744   loss   \n",
              "66   1912         Eugene V. Debs              Socialist        901551   loss   \n",
              "25   1860   John C. Breckinridge    Southern Democratic        848019   loss   \n",
              "110  1956     T. Coleman Andrews         States' Rights        107929   loss   \n",
              "147  1996        Howard Phillips              Taxpayers        184656   loss   \n",
              "93   1936          William Lemke                  Union        892378   loss   \n",
              "42   1888         Alson Streeter            Union Labor        146602   loss   \n",
              "19   1852         Winfield Scott                   Whig       1386942   loss   \n",
              "\n",
              "             %  \n",
              "22   21.554001  \n",
              "115  13.571218  \n",
              "6     7.821583  \n",
              "38    1.335838  \n",
              "127   0.270182  \n",
              "89    0.261069  \n",
              "164   0.152398  \n",
              "24   12.639283  \n",
              "105  44.446312  \n",
              "1    42.789878  \n",
              "103   2.412304  \n",
              "78    0.995804  \n",
              "15   10.138474  \n",
              "155   2.741176  \n",
              "35    3.352344  \n",
              "143  18.956298  \n",
              "31   44.071406  \n",
              "175   3.307714  \n",
              "50    0.969566  \n",
              "3    43.796073  \n",
              "148   0.118219  \n",
              "136   0.237804  \n",
              "26   29.522311  \n",
              "48    8.645038  \n",
              "68   27.457433  \n",
              "49    2.249468  \n",
              "150   8.408844  \n",
              "96   44.894561  \n",
              "66    6.004354  \n",
              "25   18.138998  \n",
              "110   0.174883  \n",
              "147   0.192045  \n",
              "93    1.960733  \n",
              "42    1.288861  \n",
              "19   44.056548  "
            ]
          },
          "execution_count": 60,
          "metadata": {},
          "output_type": "execute_result"
        }
      ],
      "source": [
        "# Use idxmax function\n",
        "best_per_party = edata.loc[edata.groupby(\"Party\")[\"%\"].idxmax()]\n",
        "best_per_party"
      ]
    },
    {
      "cell_type": "markdown",
      "metadata": {
        "id": "nUAq6Wv-oE6h"
      },
      "source": [
        "Another approach is listed below. And this one doesn't even use `groupby`!\n",
        "\n",
        "This approach instead uses the `drop_duplicates` method to keep only the last occurrence of of each party after having sorted by \"%\", which is the best performance."
      ]
    },
    {
      "cell_type": "code",
      "execution_count": 62,
      "metadata": {
        "colab": {
          "base_uri": "https://localhost:8080/",
          "height": 175
        },
        "id": "sa30536AoE6h",
        "outputId": "3125804d-5602-4626-eec6-c8f7c3c3732e"
      },
      "outputs": [
        {
          "data": {
            "text/html": [
              "<div>\n",
              "<style scoped>\n",
              "    .dataframe tbody tr th:only-of-type {\n",
              "        vertical-align: middle;\n",
              "    }\n",
              "\n",
              "    .dataframe tbody tr th {\n",
              "        vertical-align: top;\n",
              "    }\n",
              "\n",
              "    .dataframe thead th {\n",
              "        text-align: right;\n",
              "    }\n",
              "</style>\n",
              "<table border=\"1\" class=\"dataframe\">\n",
              "  <thead>\n",
              "    <tr style=\"text-align: right;\">\n",
              "      <th></th>\n",
              "      <th>Year</th>\n",
              "      <th>Candidate</th>\n",
              "      <th>Party</th>\n",
              "      <th>Popular vote</th>\n",
              "      <th>Result</th>\n",
              "      <th>%</th>\n",
              "    </tr>\n",
              "  </thead>\n",
              "  <tbody>\n",
              "    <tr>\n",
              "      <th>148</th>\n",
              "      <td>1996</td>\n",
              "      <td>John Hagelin</td>\n",
              "      <td>Natural Law</td>\n",
              "      <td>113670</td>\n",
              "      <td>loss</td>\n",
              "      <td>0.118219</td>\n",
              "    </tr>\n",
              "    <tr>\n",
              "      <th>164</th>\n",
              "      <td>2008</td>\n",
              "      <td>Chuck Baldwin</td>\n",
              "      <td>Constitution</td>\n",
              "      <td>199750</td>\n",
              "      <td>loss</td>\n",
              "      <td>0.152398</td>\n",
              "    </tr>\n",
              "    <tr>\n",
              "      <th>110</th>\n",
              "      <td>1956</td>\n",
              "      <td>T. Coleman Andrews</td>\n",
              "      <td>States' Rights</td>\n",
              "      <td>107929</td>\n",
              "      <td>loss</td>\n",
              "      <td>0.174883</td>\n",
              "    </tr>\n",
              "    <tr>\n",
              "      <th>147</th>\n",
              "      <td>1996</td>\n",
              "      <td>Howard Phillips</td>\n",
              "      <td>Taxpayers</td>\n",
              "      <td>184656</td>\n",
              "      <td>loss</td>\n",
              "      <td>0.192045</td>\n",
              "    </tr>\n",
              "    <tr>\n",
              "      <th>136</th>\n",
              "      <td>1988</td>\n",
              "      <td>Lenora Fulani</td>\n",
              "      <td>New Alliance</td>\n",
              "      <td>217221</td>\n",
              "      <td>loss</td>\n",
              "      <td>0.237804</td>\n",
              "    </tr>\n",
              "    <tr>\n",
              "      <th>89</th>\n",
              "      <td>1932</td>\n",
              "      <td>William Z. Foster</td>\n",
              "      <td>Communist</td>\n",
              "      <td>103307</td>\n",
              "      <td>loss</td>\n",
              "      <td>0.261069</td>\n",
              "    </tr>\n",
              "    <tr>\n",
              "      <th>127</th>\n",
              "      <td>1980</td>\n",
              "      <td>Barry Commoner</td>\n",
              "      <td>Citizens</td>\n",
              "      <td>233052</td>\n",
              "      <td>loss</td>\n",
              "      <td>0.270182</td>\n",
              "    </tr>\n",
              "    <tr>\n",
              "      <th>50</th>\n",
              "      <td>1896</td>\n",
              "      <td>John M. Palmer</td>\n",
              "      <td>National Democratic</td>\n",
              "      <td>134645</td>\n",
              "      <td>loss</td>\n",
              "      <td>0.969566</td>\n",
              "    </tr>\n",
              "    <tr>\n",
              "      <th>78</th>\n",
              "      <td>1920</td>\n",
              "      <td>Parley P. Christensen</td>\n",
              "      <td>Farmer–Labor</td>\n",
              "      <td>265398</td>\n",
              "      <td>loss</td>\n",
              "      <td>0.995804</td>\n",
              "    </tr>\n",
              "    <tr>\n",
              "      <th>42</th>\n",
              "      <td>1888</td>\n",
              "      <td>Alson Streeter</td>\n",
              "      <td>Union Labor</td>\n",
              "      <td>146602</td>\n",
              "      <td>loss</td>\n",
              "      <td>1.288861</td>\n",
              "    </tr>\n",
              "    <tr>\n",
              "      <th>38</th>\n",
              "      <td>1884</td>\n",
              "      <td>Benjamin Butler</td>\n",
              "      <td>Anti-Monopoly</td>\n",
              "      <td>134294</td>\n",
              "      <td>loss</td>\n",
              "      <td>1.335838</td>\n",
              "    </tr>\n",
              "    <tr>\n",
              "      <th>93</th>\n",
              "      <td>1936</td>\n",
              "      <td>William Lemke</td>\n",
              "      <td>Union</td>\n",
              "      <td>892378</td>\n",
              "      <td>loss</td>\n",
              "      <td>1.960733</td>\n",
              "    </tr>\n",
              "    <tr>\n",
              "      <th>49</th>\n",
              "      <td>1892</td>\n",
              "      <td>John Bidwell</td>\n",
              "      <td>Prohibition</td>\n",
              "      <td>270879</td>\n",
              "      <td>loss</td>\n",
              "      <td>2.249468</td>\n",
              "    </tr>\n",
              "    <tr>\n",
              "      <th>103</th>\n",
              "      <td>1948</td>\n",
              "      <td>Strom Thurmond</td>\n",
              "      <td>Dixiecrat</td>\n",
              "      <td>1175930</td>\n",
              "      <td>loss</td>\n",
              "      <td>2.412304</td>\n",
              "    </tr>\n",
              "    <tr>\n",
              "      <th>155</th>\n",
              "      <td>2000</td>\n",
              "      <td>Ralph Nader</td>\n",
              "      <td>Green</td>\n",
              "      <td>2882955</td>\n",
              "      <td>loss</td>\n",
              "      <td>2.741176</td>\n",
              "    </tr>\n",
              "    <tr>\n",
              "      <th>175</th>\n",
              "      <td>2016</td>\n",
              "      <td>Gary Johnson</td>\n",
              "      <td>Libertarian</td>\n",
              "      <td>4489235</td>\n",
              "      <td>loss</td>\n",
              "      <td>3.307714</td>\n",
              "    </tr>\n",
              "    <tr>\n",
              "      <th>35</th>\n",
              "      <td>1880</td>\n",
              "      <td>James B. Weaver</td>\n",
              "      <td>Greenback</td>\n",
              "      <td>308649</td>\n",
              "      <td>loss</td>\n",
              "      <td>3.352344</td>\n",
              "    </tr>\n",
              "    <tr>\n",
              "      <th>66</th>\n",
              "      <td>1912</td>\n",
              "      <td>Eugene V. Debs</td>\n",
              "      <td>Socialist</td>\n",
              "      <td>901551</td>\n",
              "      <td>loss</td>\n",
              "      <td>6.004354</td>\n",
              "    </tr>\n",
              "    <tr>\n",
              "      <th>6</th>\n",
              "      <td>1832</td>\n",
              "      <td>William Wirt</td>\n",
              "      <td>Anti-Masonic</td>\n",
              "      <td>100715</td>\n",
              "      <td>loss</td>\n",
              "      <td>7.821583</td>\n",
              "    </tr>\n",
              "    <tr>\n",
              "      <th>150</th>\n",
              "      <td>1996</td>\n",
              "      <td>Ross Perot</td>\n",
              "      <td>Reform</td>\n",
              "      <td>8085294</td>\n",
              "      <td>loss</td>\n",
              "      <td>8.408844</td>\n",
              "    </tr>\n",
              "    <tr>\n",
              "      <th>48</th>\n",
              "      <td>1892</td>\n",
              "      <td>James B. Weaver</td>\n",
              "      <td>Populist</td>\n",
              "      <td>1041028</td>\n",
              "      <td>loss</td>\n",
              "      <td>8.645038</td>\n",
              "    </tr>\n",
              "    <tr>\n",
              "      <th>15</th>\n",
              "      <td>1848</td>\n",
              "      <td>Martin Van Buren</td>\n",
              "      <td>Free Soil</td>\n",
              "      <td>291501</td>\n",
              "      <td>loss</td>\n",
              "      <td>10.138474</td>\n",
              "    </tr>\n",
              "    <tr>\n",
              "      <th>24</th>\n",
              "      <td>1860</td>\n",
              "      <td>John Bell</td>\n",
              "      <td>Constitutional Union</td>\n",
              "      <td>590901</td>\n",
              "      <td>loss</td>\n",
              "      <td>12.639283</td>\n",
              "    </tr>\n",
              "    <tr>\n",
              "      <th>115</th>\n",
              "      <td>1968</td>\n",
              "      <td>George Wallace</td>\n",
              "      <td>American Independent</td>\n",
              "      <td>9901118</td>\n",
              "      <td>loss</td>\n",
              "      <td>13.571218</td>\n",
              "    </tr>\n",
              "    <tr>\n",
              "      <th>25</th>\n",
              "      <td>1860</td>\n",
              "      <td>John C. Breckinridge</td>\n",
              "      <td>Southern Democratic</td>\n",
              "      <td>848019</td>\n",
              "      <td>loss</td>\n",
              "      <td>18.138998</td>\n",
              "    </tr>\n",
              "    <tr>\n",
              "      <th>143</th>\n",
              "      <td>1992</td>\n",
              "      <td>Ross Perot</td>\n",
              "      <td>Independent</td>\n",
              "      <td>19743821</td>\n",
              "      <td>loss</td>\n",
              "      <td>18.956298</td>\n",
              "    </tr>\n",
              "    <tr>\n",
              "      <th>22</th>\n",
              "      <td>1856</td>\n",
              "      <td>Millard Fillmore</td>\n",
              "      <td>American</td>\n",
              "      <td>873053</td>\n",
              "      <td>loss</td>\n",
              "      <td>21.554001</td>\n",
              "    </tr>\n",
              "    <tr>\n",
              "      <th>68</th>\n",
              "      <td>1912</td>\n",
              "      <td>Theodore Roosevelt</td>\n",
              "      <td>Progressive</td>\n",
              "      <td>4122721</td>\n",
              "      <td>loss</td>\n",
              "      <td>27.457433</td>\n",
              "    </tr>\n",
              "    <tr>\n",
              "      <th>26</th>\n",
              "      <td>1860</td>\n",
              "      <td>Stephen A. Douglas</td>\n",
              "      <td>Northern Democratic</td>\n",
              "      <td>1380202</td>\n",
              "      <td>loss</td>\n",
              "      <td>29.522311</td>\n",
              "    </tr>\n",
              "    <tr>\n",
              "      <th>1</th>\n",
              "      <td>1824</td>\n",
              "      <td>John Quincy Adams</td>\n",
              "      <td>Democratic-Republican</td>\n",
              "      <td>113142</td>\n",
              "      <td>win</td>\n",
              "      <td>42.789878</td>\n",
              "    </tr>\n",
              "    <tr>\n",
              "      <th>3</th>\n",
              "      <td>1828</td>\n",
              "      <td>John Quincy Adams</td>\n",
              "      <td>National Republican</td>\n",
              "      <td>500897</td>\n",
              "      <td>loss</td>\n",
              "      <td>43.796073</td>\n",
              "    </tr>\n",
              "    <tr>\n",
              "      <th>19</th>\n",
              "      <td>1852</td>\n",
              "      <td>Winfield Scott</td>\n",
              "      <td>Whig</td>\n",
              "      <td>1386942</td>\n",
              "      <td>loss</td>\n",
              "      <td>44.056548</td>\n",
              "    </tr>\n",
              "    <tr>\n",
              "      <th>31</th>\n",
              "      <td>1872</td>\n",
              "      <td>Horace Greeley</td>\n",
              "      <td>Liberal Republican</td>\n",
              "      <td>2834761</td>\n",
              "      <td>loss</td>\n",
              "      <td>44.071406</td>\n",
              "    </tr>\n",
              "    <tr>\n",
              "      <th>105</th>\n",
              "      <td>1952</td>\n",
              "      <td>Adlai Stevenson</td>\n",
              "      <td>Democratic</td>\n",
              "      <td>27375090</td>\n",
              "      <td>loss</td>\n",
              "      <td>44.446312</td>\n",
              "    </tr>\n",
              "    <tr>\n",
              "      <th>96</th>\n",
              "      <td>1940</td>\n",
              "      <td>Wendell Willkie</td>\n",
              "      <td>Republican</td>\n",
              "      <td>22347744</td>\n",
              "      <td>loss</td>\n",
              "      <td>44.894561</td>\n",
              "    </tr>\n",
              "  </tbody>\n",
              "</table>\n",
              "</div>"
            ],
            "text/plain": [
              "     Year              Candidate                  Party  Popular vote Result  \\\n",
              "148  1996           John Hagelin            Natural Law        113670   loss   \n",
              "164  2008          Chuck Baldwin           Constitution        199750   loss   \n",
              "110  1956     T. Coleman Andrews         States' Rights        107929   loss   \n",
              "147  1996        Howard Phillips              Taxpayers        184656   loss   \n",
              "136  1988          Lenora Fulani           New Alliance        217221   loss   \n",
              "89   1932      William Z. Foster              Communist        103307   loss   \n",
              "127  1980         Barry Commoner               Citizens        233052   loss   \n",
              "50   1896         John M. Palmer    National Democratic        134645   loss   \n",
              "78   1920  Parley P. Christensen           Farmer–Labor        265398   loss   \n",
              "42   1888         Alson Streeter            Union Labor        146602   loss   \n",
              "38   1884        Benjamin Butler          Anti-Monopoly        134294   loss   \n",
              "93   1936          William Lemke                  Union        892378   loss   \n",
              "49   1892           John Bidwell            Prohibition        270879   loss   \n",
              "103  1948         Strom Thurmond              Dixiecrat       1175930   loss   \n",
              "155  2000            Ralph Nader                  Green       2882955   loss   \n",
              "175  2016           Gary Johnson            Libertarian       4489235   loss   \n",
              "35   1880        James B. Weaver              Greenback        308649   loss   \n",
              "66   1912         Eugene V. Debs              Socialist        901551   loss   \n",
              "6    1832           William Wirt           Anti-Masonic        100715   loss   \n",
              "150  1996             Ross Perot                 Reform       8085294   loss   \n",
              "48   1892        James B. Weaver               Populist       1041028   loss   \n",
              "15   1848       Martin Van Buren              Free Soil        291501   loss   \n",
              "24   1860              John Bell   Constitutional Union        590901   loss   \n",
              "115  1968         George Wallace   American Independent       9901118   loss   \n",
              "25   1860   John C. Breckinridge    Southern Democratic        848019   loss   \n",
              "143  1992             Ross Perot            Independent      19743821   loss   \n",
              "22   1856       Millard Fillmore               American        873053   loss   \n",
              "68   1912     Theodore Roosevelt            Progressive       4122721   loss   \n",
              "26   1860     Stephen A. Douglas    Northern Democratic       1380202   loss   \n",
              "1    1824      John Quincy Adams  Democratic-Republican        113142    win   \n",
              "3    1828      John Quincy Adams    National Republican        500897   loss   \n",
              "19   1852         Winfield Scott                   Whig       1386942   loss   \n",
              "31   1872         Horace Greeley     Liberal Republican       2834761   loss   \n",
              "105  1952        Adlai Stevenson             Democratic      27375090   loss   \n",
              "96   1940        Wendell Willkie             Republican      22347744   loss   \n",
              "\n",
              "             %  \n",
              "148   0.118219  \n",
              "164   0.152398  \n",
              "110   0.174883  \n",
              "147   0.192045  \n",
              "136   0.237804  \n",
              "89    0.261069  \n",
              "127   0.270182  \n",
              "50    0.969566  \n",
              "78    0.995804  \n",
              "42    1.288861  \n",
              "38    1.335838  \n",
              "93    1.960733  \n",
              "49    2.249468  \n",
              "103   2.412304  \n",
              "155   2.741176  \n",
              "175   3.307714  \n",
              "35    3.352344  \n",
              "66    6.004354  \n",
              "6     7.821583  \n",
              "150   8.408844  \n",
              "48    8.645038  \n",
              "15   10.138474  \n",
              "24   12.639283  \n",
              "115  13.571218  \n",
              "25   18.138998  \n",
              "143  18.956298  \n",
              "22   21.554001  \n",
              "68   27.457433  \n",
              "26   29.522311  \n",
              "1    42.789878  \n",
              "3    43.796073  \n",
              "19   44.056548  \n",
              "31   44.071406  \n",
              "105  44.446312  \n",
              "96   44.894561  "
            ]
          },
          "execution_count": 62,
          "metadata": {},
          "output_type": "execute_result"
        }
      ],
      "source": [
        "# code here\n",
        "\n",
        "best_per_party2 = edata.sort_values(\"%\").drop_duplicates([\"Party\"], keep=\"last\")\n",
        "best_per_party2 "
      ]
    },
    {
      "cell_type": "markdown",
      "metadata": {
        "id": "4dtPKpHroE6h"
      },
      "source": [
        "*Challenge:* See if you can find yet another approach that still gives the same answer."
      ]
    },
    {
      "cell_type": "markdown",
      "metadata": {
        "id": "_fjLANnWoE6h"
      },
      "source": [
        "### `DataFrameGroupBy` Objects"
      ]
    },
    {
      "cell_type": "markdown",
      "metadata": {
        "id": "7SBI_e6moE6h"
      },
      "source": [
        "The result of `groupby` is not a `DataFrame` or a list of `DataFrame`s. It is instead a special type called a `DataFrameGroupBy`."
      ]
    },
    {
      "cell_type": "code",
      "execution_count": 63,
      "metadata": {
        "id": "298PcgRGoE6h"
      },
      "outputs": [
        {
          "data": {
            "text/html": [
              "<div>\n",
              "<style scoped>\n",
              "    .dataframe tbody tr th:only-of-type {\n",
              "        vertical-align: middle;\n",
              "    }\n",
              "\n",
              "    .dataframe tbody tr th {\n",
              "        vertical-align: top;\n",
              "    }\n",
              "\n",
              "    .dataframe thead th {\n",
              "        text-align: right;\n",
              "    }\n",
              "</style>\n",
              "<table border=\"1\" class=\"dataframe\">\n",
              "  <thead>\n",
              "    <tr style=\"text-align: right;\">\n",
              "      <th></th>\n",
              "      <th>Year</th>\n",
              "      <th>Candidate</th>\n",
              "      <th>Party</th>\n",
              "      <th>Popular vote</th>\n",
              "      <th>Result</th>\n",
              "      <th>%</th>\n",
              "    </tr>\n",
              "  </thead>\n",
              "  <tbody>\n",
              "    <tr>\n",
              "      <th>1</th>\n",
              "      <td>1824</td>\n",
              "      <td>John Quincy Adams</td>\n",
              "      <td>Democratic-Republican</td>\n",
              "      <td>113142</td>\n",
              "      <td>win</td>\n",
              "      <td>42.789878</td>\n",
              "    </tr>\n",
              "    <tr>\n",
              "      <th>3</th>\n",
              "      <td>1828</td>\n",
              "      <td>John Quincy Adams</td>\n",
              "      <td>National Republican</td>\n",
              "      <td>500897</td>\n",
              "      <td>loss</td>\n",
              "      <td>43.796073</td>\n",
              "    </tr>\n",
              "    <tr>\n",
              "      <th>5</th>\n",
              "      <td>1832</td>\n",
              "      <td>Henry Clay</td>\n",
              "      <td>National Republican</td>\n",
              "      <td>484205</td>\n",
              "      <td>loss</td>\n",
              "      <td>37.603628</td>\n",
              "    </tr>\n",
              "    <tr>\n",
              "      <th>6</th>\n",
              "      <td>1832</td>\n",
              "      <td>William Wirt</td>\n",
              "      <td>Anti-Masonic</td>\n",
              "      <td>100715</td>\n",
              "      <td>loss</td>\n",
              "      <td>7.821583</td>\n",
              "    </tr>\n",
              "    <tr>\n",
              "      <th>7</th>\n",
              "      <td>1836</td>\n",
              "      <td>Hugh Lawson White</td>\n",
              "      <td>Whig</td>\n",
              "      <td>146109</td>\n",
              "      <td>loss</td>\n",
              "      <td>10.005985</td>\n",
              "    </tr>\n",
              "    <tr>\n",
              "      <th>...</th>\n",
              "      <td>...</td>\n",
              "      <td>...</td>\n",
              "      <td>...</td>\n",
              "      <td>...</td>\n",
              "      <td>...</td>\n",
              "      <td>...</td>\n",
              "    </tr>\n",
              "    <tr>\n",
              "      <th>174</th>\n",
              "      <td>2016</td>\n",
              "      <td>Evan McMullin</td>\n",
              "      <td>Independent</td>\n",
              "      <td>732273</td>\n",
              "      <td>loss</td>\n",
              "      <td>0.539546</td>\n",
              "    </tr>\n",
              "    <tr>\n",
              "      <th>175</th>\n",
              "      <td>2016</td>\n",
              "      <td>Gary Johnson</td>\n",
              "      <td>Libertarian</td>\n",
              "      <td>4489235</td>\n",
              "      <td>loss</td>\n",
              "      <td>3.307714</td>\n",
              "    </tr>\n",
              "    <tr>\n",
              "      <th>177</th>\n",
              "      <td>2016</td>\n",
              "      <td>Jill Stein</td>\n",
              "      <td>Green</td>\n",
              "      <td>1457226</td>\n",
              "      <td>loss</td>\n",
              "      <td>1.073699</td>\n",
              "    </tr>\n",
              "    <tr>\n",
              "      <th>180</th>\n",
              "      <td>2020</td>\n",
              "      <td>Jo Jorgensen</td>\n",
              "      <td>Libertarian</td>\n",
              "      <td>1865724</td>\n",
              "      <td>loss</td>\n",
              "      <td>1.177979</td>\n",
              "    </tr>\n",
              "    <tr>\n",
              "      <th>181</th>\n",
              "      <td>2020</td>\n",
              "      <td>Howard Hawkins</td>\n",
              "      <td>Green</td>\n",
              "      <td>405035</td>\n",
              "      <td>loss</td>\n",
              "      <td>0.255731</td>\n",
              "    </tr>\n",
              "  </tbody>\n",
              "</table>\n",
              "<p>114 rows × 6 columns</p>\n",
              "</div>"
            ],
            "text/plain": [
              "     Year          Candidate                  Party  Popular vote Result  \\\n",
              "1    1824  John Quincy Adams  Democratic-Republican        113142    win   \n",
              "3    1828  John Quincy Adams    National Republican        500897   loss   \n",
              "5    1832         Henry Clay    National Republican        484205   loss   \n",
              "6    1832       William Wirt           Anti-Masonic        100715   loss   \n",
              "7    1836  Hugh Lawson White                   Whig        146109   loss   \n",
              "..    ...                ...                    ...           ...    ...   \n",
              "174  2016      Evan McMullin            Independent        732273   loss   \n",
              "175  2016       Gary Johnson            Libertarian       4489235   loss   \n",
              "177  2016         Jill Stein                  Green       1457226   loss   \n",
              "180  2020       Jo Jorgensen            Libertarian       1865724   loss   \n",
              "181  2020     Howard Hawkins                  Green        405035   loss   \n",
              "\n",
              "             %  \n",
              "1    42.789878  \n",
              "3    43.796073  \n",
              "5    37.603628  \n",
              "6     7.821583  \n",
              "7    10.005985  \n",
              "..         ...  \n",
              "174   0.539546  \n",
              "175   3.307714  \n",
              "177   1.073699  \n",
              "180   1.177979  \n",
              "181   0.255731  \n",
              "\n",
              "[114 rows x 6 columns]"
            ]
          },
          "execution_count": 63,
          "metadata": {},
          "output_type": "execute_result"
        }
      ],
      "source": [
        "grouped_by_party = edata.groupby(\"Party\")\n",
        "type(grouped_by_party)\n",
        "edata"
      ]
    },
    {
      "cell_type": "markdown",
      "metadata": {
        "id": "UkxM_KOToE6i"
      },
      "source": [
        "`GroupBy` objects are structured like dictionaries. In fact, we can actually see the dictionaries with the following code:"
      ]
    },
    {
      "cell_type": "code",
      "execution_count": 66,
      "metadata": {
        "id": "1lTcYYb-oE6i"
      },
      "outputs": [
        {
          "data": {
            "text/plain": [
              "{'American': [22, 126], 'American Independent': [115, 119, 124], 'Anti-Masonic': [6], 'Anti-Monopoly': [38], 'Citizens': [127], 'Communist': [89], 'Constitution': [160, 164, 172], 'Constitutional Union': [24], 'Democratic': [14, 57, 64, 70, 77, 81, 83, 105, 108, 116, 118, 129, 134, 140], 'Democratic-Republican': [1], 'Dixiecrat': [103], 'Farmer–Labor': [78], 'Free Soil': [15, 18], 'Green': [149, 155, 156, 165, 170, 177, 181], 'Greenback': [35], 'Independent': [121, 130, 143, 161, 167, 174], 'Liberal Republican': [31], 'Libertarian': [125, 128, 132, 138, 139, 146, 153, 159, 163, 169, 175, 180], 'National Democratic': [50], 'National Republican': [3, 5], 'Natural Law': [148], 'New Alliance': [136], 'Northern Democratic': [26], 'Populist': [48, 61, 141], 'Progressive': [68, 82, 101, 107], 'Prohibition': [41, 44, 49, 51, 54, 59, 63, 67, 73, 75, 99], 'Reform': [150, 154], 'Republican': [21, 23, 46, 69, 87, 90, 96, 113, 117, 142, 145], 'Socialist': [58, 62, 66, 71, 76, 85, 88, 92, 95, 102], 'Southern Democratic': [25], 'States' Rights': [110], 'Taxpayers': [147], 'Union': [93], 'Union Labor': [42], 'Whig': [7, 9, 19]}"
            ]
          },
          "execution_count": 66,
          "metadata": {},
          "output_type": "execute_result"
        }
      ],
      "source": [
        "# visualize groups\n",
        "grouped_by_party.groups"
      ]
    },
    {
      "cell_type": "markdown",
      "metadata": {
        "id": "xaqEpeFSoE6i"
      },
      "source": [
        "The `key`s of the dictionary are the groups (in this case, `Party`), and the `value`s are the **indices** of rows belonging to that group. We can access a particular sub-`DataFrame` using `get_group`:"
      ]
    },
    {
      "cell_type": "code",
      "execution_count": 67,
      "metadata": {
        "id": "0hKm6J8roE6i"
      },
      "outputs": [
        {
          "data": {
            "text/html": [
              "<div>\n",
              "<style scoped>\n",
              "    .dataframe tbody tr th:only-of-type {\n",
              "        vertical-align: middle;\n",
              "    }\n",
              "\n",
              "    .dataframe tbody tr th {\n",
              "        vertical-align: top;\n",
              "    }\n",
              "\n",
              "    .dataframe thead th {\n",
              "        text-align: right;\n",
              "    }\n",
              "</style>\n",
              "<table border=\"1\" class=\"dataframe\">\n",
              "  <thead>\n",
              "    <tr style=\"text-align: right;\">\n",
              "      <th></th>\n",
              "      <th>Year</th>\n",
              "      <th>Candidate</th>\n",
              "      <th>Party</th>\n",
              "      <th>Popular vote</th>\n",
              "      <th>Result</th>\n",
              "      <th>%</th>\n",
              "    </tr>\n",
              "  </thead>\n",
              "  <tbody>\n",
              "    <tr>\n",
              "      <th>22</th>\n",
              "      <td>1856</td>\n",
              "      <td>Millard Fillmore</td>\n",
              "      <td>American</td>\n",
              "      <td>873053</td>\n",
              "      <td>loss</td>\n",
              "      <td>21.554001</td>\n",
              "    </tr>\n",
              "    <tr>\n",
              "      <th>126</th>\n",
              "      <td>1976</td>\n",
              "      <td>Thomas J. Anderson</td>\n",
              "      <td>American</td>\n",
              "      <td>158271</td>\n",
              "      <td>loss</td>\n",
              "      <td>0.194862</td>\n",
              "    </tr>\n",
              "  </tbody>\n",
              "</table>\n",
              "</div>"
            ],
            "text/plain": [
              "     Year           Candidate     Party  Popular vote Result          %\n",
              "22   1856    Millard Fillmore  American        873053   loss  21.554001\n",
              "126  1976  Thomas J. Anderson  American        158271   loss   0.194862"
            ]
          },
          "execution_count": 67,
          "metadata": {},
          "output_type": "execute_result"
        }
      ],
      "source": [
        "# code here\n",
        "\n",
        "grouped_by_party.get_group(\"American\")"
      ]
    },
    {
      "cell_type": "markdown",
      "metadata": {
        "id": "HaXwYmvcoE6i"
      },
      "source": [
        "---"
      ]
    }
  ],
  "metadata": {
    "colab": {
      "provenance": []
    },
    "kernelspec": {
      "display_name": "Python 3 (ipykernel)",
      "language": "python",
      "name": "python3"
    },
    "language_info": {
      "codemirror_mode": {
        "name": "ipython",
        "version": 3
      },
      "file_extension": ".py",
      "mimetype": "text/x-python",
      "name": "python",
      "nbconvert_exporter": "python",
      "pygments_lexer": "ipython3",
      "version": "3.11.7"
    }
  },
  "nbformat": 4,
  "nbformat_minor": 0
}
