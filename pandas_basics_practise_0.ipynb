{
  "cells": [
    {
      "cell_type": "code",
      "execution_count": 71,
      "metadata": {
        "id": "c_eVXa9OPtvB"
      },
      "outputs": [],
      "source": [
        "import pandas as pd # A general purpose Python library for data analysis\n",
        "import numpy as np # A library for scientific computing in Python (e.g., provides high-performance multi-dimensional array objects and operations)\n",
        "\n",
        "import matplotlib.pyplot as plt # a plotting library for Python and NumPy (readily customizable)\n",
        "import seaborn as sns # Another plotting library for Python (fewer syntax, excellent default themes, behind the scenes, it uses matplotlib)\n",
        "import time"
      ]
    },
    {
      "cell_type": "markdown",
      "metadata": {
        "id": "PSdsojacPtvD"
      },
      "source": [
        "## Knowledge Stream Summer 2023\n",
        "\n",
        "In this notebook, we will learn about the key data structures provided by the Pandas library: **Data Frames, Series, and Indices**.\n",
        "\n",
        "In addition, we will learn about the following operations:\n",
        "* How to access data contained in these structures?\n",
        "* How to read files (e.g., csv, xlsx, sql) to create these structures?\n",
        "* How to carry out different data manipulation tasks using these structures?\n",
        "\n",
        "`Dataset`: US elections with information about candidates, their party, votes won, year of election and the result."
      ]
    },
    {
      "cell_type": "markdown",
      "metadata": {
        "id": "sufDZrcePtvF"
      },
      "source": [
        "## Reading in Data Frames from Files"
      ]
    },
    {
      "cell_type": "markdown",
      "metadata": {
        "id": "SKvAs5UMPtvG"
      },
      "source": [
        "Pandas has a number of useful file reading tools. You can see them enumerated by typing **\"pd.re\"** and pressing `tab`. We'll be using **read_csv** today. Note that these file reading functions do all the *data parsing* for you, which is very useful."
      ]
    },
    {
      "cell_type": "markdown",
      "metadata": {
        "id": "wAchNI6BPtvG"
      },
      "source": [
        "Before loading a file into a dataframe, let's first take a look at the **elections.csv** file"
      ]
    },
    {
      "cell_type": "code",
      "execution_count": 96,
      "metadata": {
        "id": "vQruwj5rPtvG",
        "scrolled": true
      },
      "outputs": [],
      "source": [
        "#Answer Here\n",
        "d = pd.read_csv(\"H:\\Machine Learning\\Excel files\\elections.csv\")\n",
        "\n",
        "copy_df = d.copy()"
      ]
    },
    {
      "cell_type": "markdown",
      "metadata": {
        "id": "DFG0R-hvPtvH"
      },
      "source": [
        "We can use the **head command** to show only a few rows of a dataframe."
      ]
    },
    {
      "cell_type": "markdown",
      "metadata": {
        "id": "bHoeuiciPtvH"
      },
      "source": [
        "# heading\n",
        "## heading2"
      ]
    },
    {
      "cell_type": "code",
      "execution_count": 73,
      "metadata": {
        "id": "ft8isrsOPtvI"
      },
      "outputs": [
        {
          "data": {
            "text/html": [
              "<div>\n",
              "<style scoped>\n",
              "    .dataframe tbody tr th:only-of-type {\n",
              "        vertical-align: middle;\n",
              "    }\n",
              "\n",
              "    .dataframe tbody tr th {\n",
              "        vertical-align: top;\n",
              "    }\n",
              "\n",
              "    .dataframe thead th {\n",
              "        text-align: right;\n",
              "    }\n",
              "</style>\n",
              "<table border=\"1\" class=\"dataframe\">\n",
              "  <thead>\n",
              "    <tr style=\"text-align: right;\">\n",
              "      <th></th>\n",
              "      <th>Candidate</th>\n",
              "      <th>Party</th>\n",
              "      <th>%</th>\n",
              "      <th>Year</th>\n",
              "      <th>Result</th>\n",
              "    </tr>\n",
              "  </thead>\n",
              "  <tbody>\n",
              "    <tr>\n",
              "      <th>0</th>\n",
              "      <td>Reagan</td>\n",
              "      <td>Republican</td>\n",
              "      <td>50.7</td>\n",
              "      <td>1980</td>\n",
              "      <td>win</td>\n",
              "    </tr>\n",
              "  </tbody>\n",
              "</table>\n",
              "</div>"
            ],
            "text/plain": [
              "  Candidate       Party     %  Year Result\n",
              "0    Reagan  Republican  50.7  1980    win"
            ]
          },
          "execution_count": 73,
          "metadata": {},
          "output_type": "execute_result"
        }
      ],
      "source": [
        "# Answer Here\n",
        "d.head(1)\n"
      ]
    },
    {
      "cell_type": "markdown",
      "metadata": {
        "id": "k2hQ-7gCPtvI"
      },
      "source": [
        "There is also a **tail command**."
      ]
    },
    {
      "cell_type": "code",
      "execution_count": 74,
      "metadata": {
        "id": "Hd90_fIZPtvI"
      },
      "outputs": [
        {
          "data": {
            "text/html": [
              "<div>\n",
              "<style scoped>\n",
              "    .dataframe tbody tr th:only-of-type {\n",
              "        vertical-align: middle;\n",
              "    }\n",
              "\n",
              "    .dataframe tbody tr th {\n",
              "        vertical-align: top;\n",
              "    }\n",
              "\n",
              "    .dataframe thead th {\n",
              "        text-align: right;\n",
              "    }\n",
              "</style>\n",
              "<table border=\"1\" class=\"dataframe\">\n",
              "  <thead>\n",
              "    <tr style=\"text-align: right;\">\n",
              "      <th></th>\n",
              "      <th>Candidate</th>\n",
              "      <th>Party</th>\n",
              "      <th>%</th>\n",
              "      <th>Year</th>\n",
              "      <th>Result</th>\n",
              "    </tr>\n",
              "  </thead>\n",
              "  <tbody>\n",
              "    <tr>\n",
              "      <th>20</th>\n",
              "      <td>Romney</td>\n",
              "      <td>Republican</td>\n",
              "      <td>47.2</td>\n",
              "      <td>2012</td>\n",
              "      <td>loss</td>\n",
              "    </tr>\n",
              "    <tr>\n",
              "      <th>21</th>\n",
              "      <td>Clinton</td>\n",
              "      <td>Democratic</td>\n",
              "      <td>48.2</td>\n",
              "      <td>2016</td>\n",
              "      <td>loss</td>\n",
              "    </tr>\n",
              "    <tr>\n",
              "      <th>22</th>\n",
              "      <td>Trump</td>\n",
              "      <td>Republican</td>\n",
              "      <td>46.1</td>\n",
              "      <td>2016</td>\n",
              "      <td>win</td>\n",
              "    </tr>\n",
              "  </tbody>\n",
              "</table>\n",
              "</div>"
            ],
            "text/plain": [
              "   Candidate       Party     %  Year Result\n",
              "20    Romney  Republican  47.2  2012   loss\n",
              "21   Clinton  Democratic  48.2  2016   loss\n",
              "22     Trump  Republican  46.1  2016    win"
            ]
          },
          "execution_count": 74,
          "metadata": {},
          "output_type": "execute_result"
        }
      ],
      "source": [
        "#Answer Here\n",
        "d.tail(3)"
      ]
    },
    {
      "cell_type": "markdown",
      "metadata": {
        "id": "rts8fQn7PtvI"
      },
      "source": [
        "The `read_csv` command lets us specify a **column to use an index**. For example, we could have used __Year__ as the index."
      ]
    },
    {
      "cell_type": "code",
      "execution_count": 75,
      "metadata": {
        "id": "r3-biPiJPtvI"
      },
      "outputs": [],
      "source": [
        "#Answer Here \n",
        "d = pd.read_csv(\"H:\\Machine Learning\\Excel files\\elections.csv\",index_col=\"Year\")"
      ]
    },
    {
      "cell_type": "markdown",
      "metadata": {
        "id": "zWtY3hv5R9B5"
      },
      "source": [
        "Alternately, we could have used the **set_index** commmand on the dataframe."
      ]
    },
    {
      "cell_type": "code",
      "execution_count": 76,
      "metadata": {},
      "outputs": [],
      "source": [
        "d.reset_index(inplace=True)"
      ]
    },
    {
      "cell_type": "code",
      "execution_count": 77,
      "metadata": {
        "id": "-u_BJi6ZPtvJ"
      },
      "outputs": [],
      "source": [
        "#Answer Here\n",
        "d.set_index(\"Party\",inplace=True)\n"
      ]
    },
    {
      "cell_type": "markdown",
      "metadata": {
        "id": "kOpP3gBYPtvJ"
      },
      "source": [
        "# Caution:\n",
        "The **set_index command** (along with all other data frame methods) **does not modify the dataframe**, i.e., the original \"elections\" is untouched. Note: There is a flag called \"inplace\" which does modify the calling dataframe (e.g., `elections.set_index(\"Party\",inplace=True)`)."
      ]
    },
    {
      "cell_type": "code",
      "execution_count": 78,
      "metadata": {},
      "outputs": [],
      "source": [
        "d.reset_index(inplace=True)"
      ]
    },
    {
      "cell_type": "markdown",
      "metadata": {
        "id": "HYFFeZwRPtvJ"
      },
      "source": [
        "## Duplicate Columns?\n",
        "By contast, column names MUST be unique. For example, if we try to read in a file for which column names are not unique, Pandas will automatically any duplicates. Load duplicate_columns.csv"
      ]
    },
    {
      "cell_type": "code",
      "execution_count": 79,
      "metadata": {
        "id": "4VSBA-Y4PtvJ"
      },
      "outputs": [
        {
          "data": {
            "text/html": [
              "<div>\n",
              "<style scoped>\n",
              "    .dataframe tbody tr th:only-of-type {\n",
              "        vertical-align: middle;\n",
              "    }\n",
              "\n",
              "    .dataframe tbody tr th {\n",
              "        vertical-align: top;\n",
              "    }\n",
              "\n",
              "    .dataframe thead th {\n",
              "        text-align: right;\n",
              "    }\n",
              "</style>\n",
              "<table border=\"1\" class=\"dataframe\">\n",
              "  <thead>\n",
              "    <tr style=\"text-align: right;\">\n",
              "      <th></th>\n",
              "      <th>name</th>\n",
              "      <th>name.1</th>\n",
              "      <th>flavor</th>\n",
              "    </tr>\n",
              "  </thead>\n",
              "  <tbody>\n",
              "    <tr>\n",
              "      <th>0</th>\n",
              "      <td>john</td>\n",
              "      <td>smith</td>\n",
              "      <td>vanilla</td>\n",
              "    </tr>\n",
              "    <tr>\n",
              "      <th>1</th>\n",
              "      <td>zhang</td>\n",
              "      <td>shan</td>\n",
              "      <td>chocolate</td>\n",
              "    </tr>\n",
              "    <tr>\n",
              "      <th>2</th>\n",
              "      <td>fulan</td>\n",
              "      <td>alfulani</td>\n",
              "      <td>strawberry</td>\n",
              "    </tr>\n",
              "    <tr>\n",
              "      <th>3</th>\n",
              "      <td>hong</td>\n",
              "      <td>gildong</td>\n",
              "      <td>banana</td>\n",
              "    </tr>\n",
              "  </tbody>\n",
              "</table>\n",
              "</div>"
            ],
            "text/plain": [
              "    name    name.1      flavor\n",
              "0   john     smith     vanilla\n",
              "1  zhang      shan   chocolate\n",
              "2  fulan  alfulani  strawberry\n",
              "3   hong   gildong      banana"
            ]
          },
          "execution_count": 79,
          "metadata": {},
          "output_type": "execute_result"
        }
      ],
      "source": [
        "#Answer Here\n",
        "dup_cols = pd.read_csv(\"H:\\Machine Learning\\Excel files\\duplicate_columns.csv\")\n",
        "dup_cols"
      ]
    },
    {
      "cell_type": "code",
      "execution_count": 80,
      "metadata": {},
      "outputs": [
        {
          "name": "stdout",
          "output_type": "stream",
          "text": [
            "          Party  Year Candidate     % Result\n",
            "0    Republican  1980    Reagan  50.7    win\n",
            "1    Democratic  1980    Carter  41.0   loss\n",
            "2   Independent  1980  Anderson   6.6   loss\n",
            "3    Republican  1984    Reagan  58.8    win\n",
            "4    Democratic  1984   Mondale  37.6   loss\n",
            "5    Republican  1988      Bush  53.4    win\n",
            "6    Democratic  1988   Dukakis  45.6   loss\n",
            "7    Democratic  1992   Clinton  43.0    win\n",
            "8    Republican  1992      Bush  37.4   loss\n",
            "9   Independent  1992     Perot  18.9   loss\n",
            "10   Democratic  1996   Clinton  49.2    win\n",
            "11   Republican  1996      Dole  40.7   loss\n",
            "12  Independent  1996     Perot   8.4   loss\n",
            "13   Democratic  2000      Gore  48.4   loss\n",
            "14   Republican  2000      Bush  47.9    win\n",
            "15   Democratic  2004     Kerry  48.3   loss\n",
            "16   Republican  2004      Bush  50.7    win\n",
            "17   Democratic  2008     Obama  52.9    win\n",
            "18   Republican  2008    McCain  45.7   loss\n",
            "19   Democratic  2012     Obama  51.1    win\n",
            "20   Republican  2012    Romney  47.2   loss\n",
            "21   Democratic  2016   Clinton  48.2   loss\n",
            "22   Republican  2016     Trump  46.1    win\n"
          ]
        }
      ],
      "source": [
        "print(d)"
      ]
    },
    {
      "cell_type": "markdown",
      "metadata": {
        "id": "fUjSXLNhPtvK"
      },
      "source": [
        "## The [ ] Operator & Indexing"
      ]
    },
    {
      "cell_type": "markdown",
      "metadata": {
        "id": "_y0PM7R9PtvK"
      },
      "source": [
        "The DataFrame class has an indexing operator **[ ]** (also known as the 'brack' operator) that lets you do a variety of different things. If your provide a String to the **[ ]** operator, you get back a ***Series*** corresponding to the requested label.\n",
        "\n",
        "1.Use **[ ]** to display different columns\n",
        "\n",
        "2.Use List retrive multiple columns"
      ]
    },
    {
      "cell_type": "code",
      "execution_count": 81,
      "metadata": {
        "id": "MpSUIkiHPtvK"
      },
      "outputs": [
        {
          "name": "stdout",
          "output_type": "stream",
          "text": [
            "          Party  Year Candidate     % Result\n",
            "0    Republican  1980    Reagan  50.7    win\n",
            "1    Democratic  1980    Carter  41.0   loss\n",
            "2   Independent  1980  Anderson   6.6   loss\n",
            "3    Republican  1984    Reagan  58.8    win\n",
            "4    Democratic  1984   Mondale  37.6   loss\n",
            "5    Republican  1988      Bush  53.4    win\n",
            "6    Democratic  1988   Dukakis  45.6   loss\n",
            "7    Democratic  1992   Clinton  43.0    win\n",
            "8    Republican  1992      Bush  37.4   loss\n",
            "9   Independent  1992     Perot  18.9   loss\n",
            "10   Democratic  1996   Clinton  49.2    win\n",
            "11   Republican  1996      Dole  40.7   loss\n",
            "12  Independent  1996     Perot   8.4   loss\n",
            "13   Democratic  2000      Gore  48.4   loss\n",
            "14   Republican  2000      Bush  47.9    win\n",
            "15   Democratic  2004     Kerry  48.3   loss\n",
            "16   Republican  2004      Bush  50.7    win\n",
            "17   Democratic  2008     Obama  52.9    win\n",
            "18   Republican  2008    McCain  45.7   loss\n",
            "19   Democratic  2012     Obama  51.1    win\n",
            "20   Republican  2012    Romney  47.2   loss\n",
            "21   Democratic  2016   Clinton  48.2   loss\n",
            "22   Republican  2016     Trump  46.1    win\n"
          ]
        }
      ],
      "source": [
        "# Answer Here\n",
        "# 1- Display one column\n",
        "d[\"Candidate\"]\n",
        "\n",
        "print(d)"
      ]
    },
    {
      "cell_type": "code",
      "execution_count": 82,
      "metadata": {},
      "outputs": [],
      "source": [
        "d.reset_index(inplace=True)"
      ]
    },
    {
      "cell_type": "markdown",
      "metadata": {
        "id": "DopcbfEpPtvK"
      },
      "source": [
        "The **[ ]** operator also accepts a list of strings. In this case, you get back a **DataFrame** corresponding to the requested strings."
      ]
    },
    {
      "cell_type": "code",
      "execution_count": 83,
      "metadata": {
        "id": "lX4YozsZPtvK",
        "scrolled": true
      },
      "outputs": [
        {
          "data": {
            "text/html": [
              "<div>\n",
              "<style scoped>\n",
              "    .dataframe tbody tr th:only-of-type {\n",
              "        vertical-align: middle;\n",
              "    }\n",
              "\n",
              "    .dataframe tbody tr th {\n",
              "        vertical-align: top;\n",
              "    }\n",
              "\n",
              "    .dataframe thead th {\n",
              "        text-align: right;\n",
              "    }\n",
              "</style>\n",
              "<table border=\"1\" class=\"dataframe\">\n",
              "  <thead>\n",
              "    <tr style=\"text-align: right;\">\n",
              "      <th></th>\n",
              "      <th>Candidate</th>\n",
              "      <th>Party</th>\n",
              "    </tr>\n",
              "  </thead>\n",
              "  <tbody>\n",
              "    <tr>\n",
              "      <th>0</th>\n",
              "      <td>Reagan</td>\n",
              "      <td>Republican</td>\n",
              "    </tr>\n",
              "    <tr>\n",
              "      <th>1</th>\n",
              "      <td>Carter</td>\n",
              "      <td>Democratic</td>\n",
              "    </tr>\n",
              "    <tr>\n",
              "      <th>2</th>\n",
              "      <td>Anderson</td>\n",
              "      <td>Independent</td>\n",
              "    </tr>\n",
              "    <tr>\n",
              "      <th>3</th>\n",
              "      <td>Reagan</td>\n",
              "      <td>Republican</td>\n",
              "    </tr>\n",
              "    <tr>\n",
              "      <th>4</th>\n",
              "      <td>Mondale</td>\n",
              "      <td>Democratic</td>\n",
              "    </tr>\n",
              "    <tr>\n",
              "      <th>5</th>\n",
              "      <td>Bush</td>\n",
              "      <td>Republican</td>\n",
              "    </tr>\n",
              "    <tr>\n",
              "      <th>6</th>\n",
              "      <td>Dukakis</td>\n",
              "      <td>Democratic</td>\n",
              "    </tr>\n",
              "    <tr>\n",
              "      <th>7</th>\n",
              "      <td>Clinton</td>\n",
              "      <td>Democratic</td>\n",
              "    </tr>\n",
              "    <tr>\n",
              "      <th>8</th>\n",
              "      <td>Bush</td>\n",
              "      <td>Republican</td>\n",
              "    </tr>\n",
              "    <tr>\n",
              "      <th>9</th>\n",
              "      <td>Perot</td>\n",
              "      <td>Independent</td>\n",
              "    </tr>\n",
              "    <tr>\n",
              "      <th>10</th>\n",
              "      <td>Clinton</td>\n",
              "      <td>Democratic</td>\n",
              "    </tr>\n",
              "    <tr>\n",
              "      <th>11</th>\n",
              "      <td>Dole</td>\n",
              "      <td>Republican</td>\n",
              "    </tr>\n",
              "    <tr>\n",
              "      <th>12</th>\n",
              "      <td>Perot</td>\n",
              "      <td>Independent</td>\n",
              "    </tr>\n",
              "    <tr>\n",
              "      <th>13</th>\n",
              "      <td>Gore</td>\n",
              "      <td>Democratic</td>\n",
              "    </tr>\n",
              "    <tr>\n",
              "      <th>14</th>\n",
              "      <td>Bush</td>\n",
              "      <td>Republican</td>\n",
              "    </tr>\n",
              "    <tr>\n",
              "      <th>15</th>\n",
              "      <td>Kerry</td>\n",
              "      <td>Democratic</td>\n",
              "    </tr>\n",
              "    <tr>\n",
              "      <th>16</th>\n",
              "      <td>Bush</td>\n",
              "      <td>Republican</td>\n",
              "    </tr>\n",
              "    <tr>\n",
              "      <th>17</th>\n",
              "      <td>Obama</td>\n",
              "      <td>Democratic</td>\n",
              "    </tr>\n",
              "    <tr>\n",
              "      <th>18</th>\n",
              "      <td>McCain</td>\n",
              "      <td>Republican</td>\n",
              "    </tr>\n",
              "    <tr>\n",
              "      <th>19</th>\n",
              "      <td>Obama</td>\n",
              "      <td>Democratic</td>\n",
              "    </tr>\n",
              "    <tr>\n",
              "      <th>20</th>\n",
              "      <td>Romney</td>\n",
              "      <td>Republican</td>\n",
              "    </tr>\n",
              "    <tr>\n",
              "      <th>21</th>\n",
              "      <td>Clinton</td>\n",
              "      <td>Democratic</td>\n",
              "    </tr>\n",
              "    <tr>\n",
              "      <th>22</th>\n",
              "      <td>Trump</td>\n",
              "      <td>Republican</td>\n",
              "    </tr>\n",
              "  </tbody>\n",
              "</table>\n",
              "</div>"
            ],
            "text/plain": [
              "   Candidate        Party\n",
              "0     Reagan   Republican\n",
              "1     Carter   Democratic\n",
              "2   Anderson  Independent\n",
              "3     Reagan   Republican\n",
              "4    Mondale   Democratic\n",
              "5       Bush   Republican\n",
              "6    Dukakis   Democratic\n",
              "7    Clinton   Democratic\n",
              "8       Bush   Republican\n",
              "9      Perot  Independent\n",
              "10   Clinton   Democratic\n",
              "11      Dole   Republican\n",
              "12     Perot  Independent\n",
              "13      Gore   Democratic\n",
              "14      Bush   Republican\n",
              "15     Kerry   Democratic\n",
              "16      Bush   Republican\n",
              "17     Obama   Democratic\n",
              "18    McCain   Republican\n",
              "19     Obama   Democratic\n",
              "20    Romney   Republican\n",
              "21   Clinton   Democratic\n",
              "22     Trump   Republican"
            ]
          },
          "execution_count": 83,
          "metadata": {},
          "output_type": "execute_result"
        }
      ],
      "source": [
        "# Answer Here\n",
        "#2-Display Columns using list\n",
        "d[[\"Candidate\",\"Party\"]]"
      ]
    },
    {
      "cell_type": "markdown",
      "metadata": {
        "id": "7pv2JkjRPtvK"
      },
      "source": [
        "A list of one label also returns a DataFrame. This can be handy if you want your results as a DataFrame, not a series."
      ]
    },
    {
      "cell_type": "markdown",
      "metadata": {
        "id": "XqKnvINoPtvL"
      },
      "source": [
        "Note that we can also use the **to_frame** method to turn a Series into a DataFrame.\n",
        "\n",
        "Extract one col name \"Candidates\" from DataFrame it will be a series. Convert series into a DataFrame."
      ]
    },
    {
      "cell_type": "code",
      "execution_count": 84,
      "metadata": {
        "id": "XUOtNoVnPtvL"
      },
      "outputs": [
        {
          "data": {
            "text/plain": [
              "0       Reagan\n",
              "1       Carter\n",
              "2     Anderson\n",
              "3       Reagan\n",
              "4      Mondale\n",
              "5         Bush\n",
              "6      Dukakis\n",
              "7      Clinton\n",
              "8         Bush\n",
              "9        Perot\n",
              "10     Clinton\n",
              "11        Dole\n",
              "12       Perot\n",
              "13        Gore\n",
              "14        Bush\n",
              "15       Kerry\n",
              "16        Bush\n",
              "17       Obama\n",
              "18      McCain\n",
              "19       Obama\n",
              "20      Romney\n",
              "21     Clinton\n",
              "22       Trump\n",
              "Name: Candidate, dtype: object"
            ]
          },
          "execution_count": 84,
          "metadata": {},
          "output_type": "execute_result"
        }
      ],
      "source": [
        "# Answer Here\n",
        "#Extract Candidate column\n",
        "d.Candidate\n"
      ]
    },
    {
      "cell_type": "code",
      "execution_count": 88,
      "metadata": {
        "id": "HdHWFzzSPtvL"
      },
      "outputs": [
        {
          "name": "stdout",
          "output_type": "stream",
          "text": [
            "   Candidate\n",
            "0     Reagan\n",
            "1     Carter\n",
            "2   Anderson\n",
            "3     Reagan\n",
            "4    Mondale\n",
            "5       Bush\n",
            "6    Dukakis\n",
            "7    Clinton\n",
            "8       Bush\n",
            "9      Perot\n",
            "10   Clinton\n",
            "11      Dole\n",
            "12     Perot\n",
            "13      Gore\n",
            "14      Bush\n",
            "15     Kerry\n",
            "16      Bush\n",
            "17     Obama\n",
            "18    McCain\n",
            "19     Obama\n",
            "20    Romney\n",
            "21   Clinton\n",
            "22     Trump\n"
          ]
        }
      ],
      "source": [
        "# Answer Here\n",
        "#convert candidate series to data frame\n",
        "a = d.Candidate.to_frame()\n",
        "print(a)"
      ]
    },
    {
      "cell_type": "markdown",
      "metadata": {
        "id": "8l2IdtBwPtvL"
      },
      "source": [
        "### Row Indexing\n",
        "\n",
        "The `[]` operator also accepts numerical slices as arguments. In this case, we are indexing by row, not column!\n",
        "\n",
        "Extract few rows from DataFrame"
      ]
    },
    {
      "cell_type": "code",
      "execution_count": 89,
      "metadata": {
        "id": "VrZMcM5rPtvL",
        "scrolled": true
      },
      "outputs": [
        {
          "data": {
            "text/html": [
              "<div>\n",
              "<style scoped>\n",
              "    .dataframe tbody tr th:only-of-type {\n",
              "        vertical-align: middle;\n",
              "    }\n",
              "\n",
              "    .dataframe tbody tr th {\n",
              "        vertical-align: top;\n",
              "    }\n",
              "\n",
              "    .dataframe thead th {\n",
              "        text-align: right;\n",
              "    }\n",
              "</style>\n",
              "<table border=\"1\" class=\"dataframe\">\n",
              "  <thead>\n",
              "    <tr style=\"text-align: right;\">\n",
              "      <th></th>\n",
              "      <th>Candidate</th>\n",
              "      <th>Party</th>\n",
              "      <th>%</th>\n",
              "      <th>Year</th>\n",
              "      <th>Result</th>\n",
              "    </tr>\n",
              "  </thead>\n",
              "  <tbody>\n",
              "    <tr>\n",
              "      <th>0</th>\n",
              "      <td>Reagan</td>\n",
              "      <td>Republican</td>\n",
              "      <td>50.7</td>\n",
              "      <td>1980</td>\n",
              "      <td>win</td>\n",
              "    </tr>\n",
              "    <tr>\n",
              "      <th>1</th>\n",
              "      <td>Carter</td>\n",
              "      <td>Democratic</td>\n",
              "      <td>41.0</td>\n",
              "      <td>1980</td>\n",
              "      <td>loss</td>\n",
              "    </tr>\n",
              "    <tr>\n",
              "      <th>2</th>\n",
              "      <td>Anderson</td>\n",
              "      <td>Independent</td>\n",
              "      <td>6.6</td>\n",
              "      <td>1980</td>\n",
              "      <td>loss</td>\n",
              "    </tr>\n",
              "    <tr>\n",
              "      <th>3</th>\n",
              "      <td>Reagan</td>\n",
              "      <td>Republican</td>\n",
              "      <td>58.8</td>\n",
              "      <td>1984</td>\n",
              "      <td>win</td>\n",
              "    </tr>\n",
              "    <tr>\n",
              "      <th>4</th>\n",
              "      <td>Mondale</td>\n",
              "      <td>Democratic</td>\n",
              "      <td>37.6</td>\n",
              "      <td>1984</td>\n",
              "      <td>loss</td>\n",
              "    </tr>\n",
              "    <tr>\n",
              "      <th>5</th>\n",
              "      <td>Bush</td>\n",
              "      <td>Republican</td>\n",
              "      <td>53.4</td>\n",
              "      <td>1988</td>\n",
              "      <td>win</td>\n",
              "    </tr>\n",
              "  </tbody>\n",
              "</table>\n",
              "</div>"
            ],
            "text/plain": [
              "  Candidate        Party     %  Year Result\n",
              "0    Reagan   Republican  50.7  1980    win\n",
              "1    Carter   Democratic  41.0  1980   loss\n",
              "2  Anderson  Independent   6.6  1980   loss\n",
              "3    Reagan   Republican  58.8  1984    win\n",
              "4   Mondale   Democratic  37.6  1984   loss\n",
              "5      Bush   Republican  53.4  1988    win"
            ]
          },
          "execution_count": 89,
          "metadata": {},
          "output_type": "execute_result"
        }
      ],
      "source": [
        "# Answer Here\n",
        "#Extract rows from data frame\n",
        "\n",
        "d[0:6]\n",
        "\n"
      ]
    },
    {
      "cell_type": "markdown",
      "metadata": {
        "id": "BbzS6oI4PtvN"
      },
      "source": [
        "If you provide a single argument to the `[]` operator, it tries to use it as a name. This is true even if the argument passed to **[ ]** is an integer."
      ]
    },
    {
      "cell_type": "code",
      "execution_count": 90,
      "metadata": {
        "id": "tw51ccpUPtvN"
      },
      "outputs": [],
      "source": [
        "#elections[0] #this does not work, try uncommenting this to see it fail in action, woo\n",
        "\n",
        "\n",
        "#d[0]   \n",
        "\n",
        " # As mentioned , This will through an error , uncomment to check its error "
      ]
    },
    {
      "cell_type": "markdown",
      "metadata": {
        "id": "EJsBn7uKPtvN"
      },
      "source": [
        "The following cells allow you to **test your understanding**. Let's go over the summary of what we have learnt (see slides).\n",
        "\n",
        "# Creating DataFrames\n",
        "Create DataFrame using List and Columns name."
      ]
    },
    {
      "cell_type": "code",
      "execution_count": 91,
      "metadata": {
        "id": "yA1NsyftUQYi"
      },
      "outputs": [
        {
          "data": {
            "text/html": [
              "<div>\n",
              "<style scoped>\n",
              "    .dataframe tbody tr th:only-of-type {\n",
              "        vertical-align: middle;\n",
              "    }\n",
              "\n",
              "    .dataframe tbody tr th {\n",
              "        vertical-align: top;\n",
              "    }\n",
              "\n",
              "    .dataframe thead th {\n",
              "        text-align: right;\n",
              "    }\n",
              "</style>\n",
              "<table border=\"1\" class=\"dataframe\">\n",
              "  <thead>\n",
              "    <tr style=\"text-align: right;\">\n",
              "      <th></th>\n",
              "      <th>First Column</th>\n",
              "    </tr>\n",
              "  </thead>\n",
              "  <tbody>\n",
              "    <tr>\n",
              "      <th>0</th>\n",
              "      <td>1</td>\n",
              "    </tr>\n",
              "    <tr>\n",
              "      <th>1</th>\n",
              "      <td>2</td>\n",
              "    </tr>\n",
              "    <tr>\n",
              "      <th>2</th>\n",
              "      <td>3</td>\n",
              "    </tr>\n",
              "    <tr>\n",
              "      <th>3</th>\n",
              "      <td>4</td>\n",
              "    </tr>\n",
              "  </tbody>\n",
              "</table>\n",
              "</div>"
            ],
            "text/plain": [
              "   First Column\n",
              "0             1\n",
              "1             2\n",
              "2             3\n",
              "3             4"
            ]
          },
          "execution_count": 91,
          "metadata": {},
          "output_type": "execute_result"
        }
      ],
      "source": [
        "# Answer Here\n",
        "\n",
        "data_frame = pd.DataFrame([1,2,3,4],columns=[\"First Column\"])\n",
        "data_frame"
      ]
    },
    {
      "cell_type": "markdown",
      "metadata": {
        "id": "De8I7tdRhSCc"
      },
      "source": [
        "Creating DataFrames using **Dictionary**."
      ]
    },
    {
      "cell_type": "code",
      "execution_count": 92,
      "metadata": {
        "id": "YLidbVoJPtvN"
      },
      "outputs": [
        {
          "data": {
            "text/html": [
              "<div>\n",
              "<style scoped>\n",
              "    .dataframe tbody tr th:only-of-type {\n",
              "        vertical-align: middle;\n",
              "    }\n",
              "\n",
              "    .dataframe tbody tr th {\n",
              "        vertical-align: top;\n",
              "    }\n",
              "\n",
              "    .dataframe thead th {\n",
              "        text-align: right;\n",
              "    }\n",
              "</style>\n",
              "<table border=\"1\" class=\"dataframe\">\n",
              "  <thead>\n",
              "    <tr style=\"text-align: right;\">\n",
              "      <th></th>\n",
              "      <th>Key1</th>\n",
              "      <th>key2</th>\n",
              "    </tr>\n",
              "  </thead>\n",
              "  <tbody>\n",
              "    <tr>\n",
              "      <th>0</th>\n",
              "      <td>1</td>\n",
              "      <td>one</td>\n",
              "    </tr>\n",
              "    <tr>\n",
              "      <th>1</th>\n",
              "      <td>2</td>\n",
              "      <td>two</td>\n",
              "    </tr>\n",
              "    <tr>\n",
              "      <th>2</th>\n",
              "      <td>3</td>\n",
              "      <td>three</td>\n",
              "    </tr>\n",
              "    <tr>\n",
              "      <th>3</th>\n",
              "      <td>4</td>\n",
              "      <td>four</td>\n",
              "    </tr>\n",
              "  </tbody>\n",
              "</table>\n",
              "</div>"
            ],
            "text/plain": [
              "   Key1   key2\n",
              "0     1    one\n",
              "1     2    two\n",
              "2     3  three\n",
              "3     4   four"
            ]
          },
          "execution_count": 92,
          "metadata": {},
          "output_type": "execute_result"
        }
      ],
      "source": [
        "# Answer Here\n",
        "\n",
        "di = { \"Key1\" : [1,2,3,4],\n",
        "      \"key2\"  : [\"one\",\"two\",\"three\",\"four\"]\n",
        "}\n",
        "\n",
        "dict_to_df = pd.DataFrame(di)\n",
        "dict_to_df"
      ]
    },
    {
      "cell_type": "markdown",
      "metadata": {
        "id": "GsX8jyA3PtvO"
      },
      "source": [
        "## Filtering via Boolean Array Selection"
      ]
    },
    {
      "cell_type": "markdown",
      "metadata": {
        "id": "RXDjTannPtvO"
      },
      "source": [
        "The `[]` operator also supports array of booleans as an input. In this case, the array must be exactly as long as the number of rows. The result is a **filtered version of the data frame**, where **only rows corresponding to True appear**."
      ]
    },
    {
      "cell_type": "code",
      "execution_count": 93,
      "metadata": {
        "id": "pD79oglhPtvP"
      },
      "outputs": [
        {
          "data": {
            "text/html": [
              "<div>\n",
              "<style scoped>\n",
              "    .dataframe tbody tr th:only-of-type {\n",
              "        vertical-align: middle;\n",
              "    }\n",
              "\n",
              "    .dataframe tbody tr th {\n",
              "        vertical-align: top;\n",
              "    }\n",
              "\n",
              "    .dataframe thead th {\n",
              "        text-align: right;\n",
              "    }\n",
              "</style>\n",
              "<table border=\"1\" class=\"dataframe\">\n",
              "  <thead>\n",
              "    <tr style=\"text-align: right;\">\n",
              "      <th></th>\n",
              "      <th>Candidate</th>\n",
              "      <th>Party</th>\n",
              "      <th>%</th>\n",
              "      <th>Year</th>\n",
              "      <th>Result</th>\n",
              "    </tr>\n",
              "  </thead>\n",
              "  <tbody>\n",
              "    <tr>\n",
              "      <th>7</th>\n",
              "      <td>Clinton</td>\n",
              "      <td>Democratic</td>\n",
              "      <td>43.0</td>\n",
              "      <td>1992</td>\n",
              "      <td>win</td>\n",
              "    </tr>\n",
              "    <tr>\n",
              "      <th>10</th>\n",
              "      <td>Clinton</td>\n",
              "      <td>Democratic</td>\n",
              "      <td>49.2</td>\n",
              "      <td>1996</td>\n",
              "      <td>win</td>\n",
              "    </tr>\n",
              "    <tr>\n",
              "      <th>14</th>\n",
              "      <td>Bush</td>\n",
              "      <td>Republican</td>\n",
              "      <td>47.9</td>\n",
              "      <td>2000</td>\n",
              "      <td>win</td>\n",
              "    </tr>\n",
              "    <tr>\n",
              "      <th>21</th>\n",
              "      <td>Clinton</td>\n",
              "      <td>Democratic</td>\n",
              "      <td>48.2</td>\n",
              "      <td>2016</td>\n",
              "      <td>loss</td>\n",
              "    </tr>\n",
              "  </tbody>\n",
              "</table>\n",
              "</div>"
            ],
            "text/plain": [
              "   Candidate       Party     %  Year Result\n",
              "7    Clinton  Democratic  43.0  1992    win\n",
              "10   Clinton  Democratic  49.2  1996    win\n",
              "14      Bush  Republican  47.9  2000    win\n",
              "21   Clinton  Democratic  48.2  2016   loss"
            ]
          },
          "execution_count": 93,
          "metadata": {},
          "output_type": "execute_result"
        }
      ],
      "source": [
        "d[[False, False, False, False, False,\n",
        "          False, False, True, False, False,\n",
        "          True, False, False, False, True,\n",
        "          False, False, False, False, False,\n",
        "          False, True, False]]\n",
        "\n",
        "    "
      ]
    },
    {
      "cell_type": "code",
      "execution_count": 95,
      "metadata": {},
      "outputs": [
        {
          "data": {
            "text/html": [
              "<div>\n",
              "<style scoped>\n",
              "    .dataframe tbody tr th:only-of-type {\n",
              "        vertical-align: middle;\n",
              "    }\n",
              "\n",
              "    .dataframe tbody tr th {\n",
              "        vertical-align: top;\n",
              "    }\n",
              "\n",
              "    .dataframe thead th {\n",
              "        text-align: right;\n",
              "    }\n",
              "</style>\n",
              "<table border=\"1\" class=\"dataframe\">\n",
              "  <thead>\n",
              "    <tr style=\"text-align: right;\">\n",
              "      <th></th>\n",
              "      <th>Candidate</th>\n",
              "      <th>Party</th>\n",
              "      <th>%</th>\n",
              "      <th>Year</th>\n",
              "      <th>Result</th>\n",
              "    </tr>\n",
              "  </thead>\n",
              "  <tbody>\n",
              "    <tr>\n",
              "      <th>0</th>\n",
              "      <td>Reagan</td>\n",
              "      <td>Republican</td>\n",
              "      <td>50.7</td>\n",
              "      <td>1980</td>\n",
              "      <td>win</td>\n",
              "    </tr>\n",
              "    <tr>\n",
              "      <th>3</th>\n",
              "      <td>Reagan</td>\n",
              "      <td>Republican</td>\n",
              "      <td>58.8</td>\n",
              "      <td>1984</td>\n",
              "      <td>win</td>\n",
              "    </tr>\n",
              "    <tr>\n",
              "      <th>5</th>\n",
              "      <td>Bush</td>\n",
              "      <td>Republican</td>\n",
              "      <td>53.4</td>\n",
              "      <td>1988</td>\n",
              "      <td>win</td>\n",
              "    </tr>\n",
              "    <tr>\n",
              "      <th>7</th>\n",
              "      <td>Clinton</td>\n",
              "      <td>Democratic</td>\n",
              "      <td>43.0</td>\n",
              "      <td>1992</td>\n",
              "      <td>win</td>\n",
              "    </tr>\n",
              "    <tr>\n",
              "      <th>10</th>\n",
              "      <td>Clinton</td>\n",
              "      <td>Democratic</td>\n",
              "      <td>49.2</td>\n",
              "      <td>1996</td>\n",
              "      <td>win</td>\n",
              "    </tr>\n",
              "    <tr>\n",
              "      <th>14</th>\n",
              "      <td>Bush</td>\n",
              "      <td>Republican</td>\n",
              "      <td>47.9</td>\n",
              "      <td>2000</td>\n",
              "      <td>win</td>\n",
              "    </tr>\n",
              "    <tr>\n",
              "      <th>16</th>\n",
              "      <td>Bush</td>\n",
              "      <td>Republican</td>\n",
              "      <td>50.7</td>\n",
              "      <td>2004</td>\n",
              "      <td>win</td>\n",
              "    </tr>\n",
              "    <tr>\n",
              "      <th>17</th>\n",
              "      <td>Obama</td>\n",
              "      <td>Democratic</td>\n",
              "      <td>52.9</td>\n",
              "      <td>2008</td>\n",
              "      <td>win</td>\n",
              "    </tr>\n",
              "    <tr>\n",
              "      <th>19</th>\n",
              "      <td>Obama</td>\n",
              "      <td>Democratic</td>\n",
              "      <td>51.1</td>\n",
              "      <td>2012</td>\n",
              "      <td>win</td>\n",
              "    </tr>\n",
              "    <tr>\n",
              "      <th>22</th>\n",
              "      <td>Trump</td>\n",
              "      <td>Republican</td>\n",
              "      <td>46.1</td>\n",
              "      <td>2016</td>\n",
              "      <td>win</td>\n",
              "    </tr>\n",
              "  </tbody>\n",
              "</table>\n",
              "</div>"
            ],
            "text/plain": [
              "   Candidate       Party     %  Year Result\n",
              "0     Reagan  Republican  50.7  1980    win\n",
              "3     Reagan  Republican  58.8  1984    win\n",
              "5       Bush  Republican  53.4  1988    win\n",
              "7    Clinton  Democratic  43.0  1992    win\n",
              "10   Clinton  Democratic  49.2  1996    win\n",
              "14      Bush  Republican  47.9  2000    win\n",
              "16      Bush  Republican  50.7  2004    win\n",
              "17     Obama  Democratic  52.9  2008    win\n",
              "19     Obama  Democratic  51.1  2012    win\n",
              "22     Trump  Republican  46.1  2016    win"
            ]
          },
          "execution_count": 95,
          "metadata": {},
          "output_type": "execute_result"
        }
      ],
      "source": [
        "d[d[\"Result\"]==\"win\"]"
      ]
    },
    {
      "cell_type": "markdown",
      "metadata": {
        "id": "0lo-osU2PtvP"
      },
      "source": [
        "One very common task in Data Science is **filtering**. Boolean Array Selection is one way to achieve this in Pandas. We start by observing that **logical operators** like the equality operator can be applied to **Pandas Series data** to generate a **Boolean Array**.\n",
        "\n",
        "Compare the 'Result' column to the String 'win' and Show results"
      ]
    },
    {
      "cell_type": "code",
      "execution_count": 97,
      "metadata": {
        "id": "Or9NKO2kPtvP"
      },
      "outputs": [
        {
          "data": {
            "text/html": [
              "<div>\n",
              "<style scoped>\n",
              "    .dataframe tbody tr th:only-of-type {\n",
              "        vertical-align: middle;\n",
              "    }\n",
              "\n",
              "    .dataframe tbody tr th {\n",
              "        vertical-align: top;\n",
              "    }\n",
              "\n",
              "    .dataframe thead th {\n",
              "        text-align: right;\n",
              "    }\n",
              "</style>\n",
              "<table border=\"1\" class=\"dataframe\">\n",
              "  <thead>\n",
              "    <tr style=\"text-align: right;\">\n",
              "      <th></th>\n",
              "      <th>Candidate</th>\n",
              "      <th>Party</th>\n",
              "      <th>%</th>\n",
              "      <th>Year</th>\n",
              "      <th>Result</th>\n",
              "    </tr>\n",
              "  </thead>\n",
              "  <tbody>\n",
              "    <tr>\n",
              "      <th>0</th>\n",
              "      <td>Reagan</td>\n",
              "      <td>Republican</td>\n",
              "      <td>50.7</td>\n",
              "      <td>1980</td>\n",
              "      <td>win</td>\n",
              "    </tr>\n",
              "    <tr>\n",
              "      <th>3</th>\n",
              "      <td>Reagan</td>\n",
              "      <td>Republican</td>\n",
              "      <td>58.8</td>\n",
              "      <td>1984</td>\n",
              "      <td>win</td>\n",
              "    </tr>\n",
              "    <tr>\n",
              "      <th>5</th>\n",
              "      <td>Bush</td>\n",
              "      <td>Republican</td>\n",
              "      <td>53.4</td>\n",
              "      <td>1988</td>\n",
              "      <td>win</td>\n",
              "    </tr>\n",
              "    <tr>\n",
              "      <th>7</th>\n",
              "      <td>Clinton</td>\n",
              "      <td>Democratic</td>\n",
              "      <td>43.0</td>\n",
              "      <td>1992</td>\n",
              "      <td>win</td>\n",
              "    </tr>\n",
              "    <tr>\n",
              "      <th>10</th>\n",
              "      <td>Clinton</td>\n",
              "      <td>Democratic</td>\n",
              "      <td>49.2</td>\n",
              "      <td>1996</td>\n",
              "      <td>win</td>\n",
              "    </tr>\n",
              "    <tr>\n",
              "      <th>14</th>\n",
              "      <td>Bush</td>\n",
              "      <td>Republican</td>\n",
              "      <td>47.9</td>\n",
              "      <td>2000</td>\n",
              "      <td>win</td>\n",
              "    </tr>\n",
              "    <tr>\n",
              "      <th>16</th>\n",
              "      <td>Bush</td>\n",
              "      <td>Republican</td>\n",
              "      <td>50.7</td>\n",
              "      <td>2004</td>\n",
              "      <td>win</td>\n",
              "    </tr>\n",
              "    <tr>\n",
              "      <th>17</th>\n",
              "      <td>Obama</td>\n",
              "      <td>Democratic</td>\n",
              "      <td>52.9</td>\n",
              "      <td>2008</td>\n",
              "      <td>win</td>\n",
              "    </tr>\n",
              "    <tr>\n",
              "      <th>19</th>\n",
              "      <td>Obama</td>\n",
              "      <td>Democratic</td>\n",
              "      <td>51.1</td>\n",
              "      <td>2012</td>\n",
              "      <td>win</td>\n",
              "    </tr>\n",
              "    <tr>\n",
              "      <th>22</th>\n",
              "      <td>Trump</td>\n",
              "      <td>Republican</td>\n",
              "      <td>46.1</td>\n",
              "      <td>2016</td>\n",
              "      <td>win</td>\n",
              "    </tr>\n",
              "  </tbody>\n",
              "</table>\n",
              "</div>"
            ],
            "text/plain": [
              "   Candidate       Party     %  Year Result\n",
              "0     Reagan  Republican  50.7  1980    win\n",
              "3     Reagan  Republican  58.8  1984    win\n",
              "5       Bush  Republican  53.4  1988    win\n",
              "7    Clinton  Democratic  43.0  1992    win\n",
              "10   Clinton  Democratic  49.2  1996    win\n",
              "14      Bush  Republican  47.9  2000    win\n",
              "16      Bush  Republican  50.7  2004    win\n",
              "17     Obama  Democratic  52.9  2008    win\n",
              "19     Obama  Democratic  51.1  2012    win\n",
              "22     Trump  Republican  46.1  2016    win"
            ]
          },
          "execution_count": 97,
          "metadata": {},
          "output_type": "execute_result"
        }
      ],
      "source": [
        "#Answer Here\n",
        "copy_df[copy_df[\"Result\"] == \"win\"]"
      ]
    },
    {
      "cell_type": "markdown",
      "metadata": {
        "id": "bFEH7w974G63"
      },
      "source": [
        "Compare the 'Party' column to the String 'Democratic' and Show results"
      ]
    },
    {
      "cell_type": "code",
      "execution_count": 98,
      "metadata": {
        "id": "BeyIZ48fPtvP"
      },
      "outputs": [
        {
          "data": {
            "text/html": [
              "<div>\n",
              "<style scoped>\n",
              "    .dataframe tbody tr th:only-of-type {\n",
              "        vertical-align: middle;\n",
              "    }\n",
              "\n",
              "    .dataframe tbody tr th {\n",
              "        vertical-align: top;\n",
              "    }\n",
              "\n",
              "    .dataframe thead th {\n",
              "        text-align: right;\n",
              "    }\n",
              "</style>\n",
              "<table border=\"1\" class=\"dataframe\">\n",
              "  <thead>\n",
              "    <tr style=\"text-align: right;\">\n",
              "      <th></th>\n",
              "      <th>Candidate</th>\n",
              "      <th>Party</th>\n",
              "      <th>%</th>\n",
              "      <th>Year</th>\n",
              "      <th>Result</th>\n",
              "    </tr>\n",
              "  </thead>\n",
              "  <tbody>\n",
              "    <tr>\n",
              "      <th>1</th>\n",
              "      <td>Carter</td>\n",
              "      <td>Democratic</td>\n",
              "      <td>41.0</td>\n",
              "      <td>1980</td>\n",
              "      <td>loss</td>\n",
              "    </tr>\n",
              "    <tr>\n",
              "      <th>4</th>\n",
              "      <td>Mondale</td>\n",
              "      <td>Democratic</td>\n",
              "      <td>37.6</td>\n",
              "      <td>1984</td>\n",
              "      <td>loss</td>\n",
              "    </tr>\n",
              "    <tr>\n",
              "      <th>6</th>\n",
              "      <td>Dukakis</td>\n",
              "      <td>Democratic</td>\n",
              "      <td>45.6</td>\n",
              "      <td>1988</td>\n",
              "      <td>loss</td>\n",
              "    </tr>\n",
              "    <tr>\n",
              "      <th>7</th>\n",
              "      <td>Clinton</td>\n",
              "      <td>Democratic</td>\n",
              "      <td>43.0</td>\n",
              "      <td>1992</td>\n",
              "      <td>win</td>\n",
              "    </tr>\n",
              "    <tr>\n",
              "      <th>10</th>\n",
              "      <td>Clinton</td>\n",
              "      <td>Democratic</td>\n",
              "      <td>49.2</td>\n",
              "      <td>1996</td>\n",
              "      <td>win</td>\n",
              "    </tr>\n",
              "    <tr>\n",
              "      <th>13</th>\n",
              "      <td>Gore</td>\n",
              "      <td>Democratic</td>\n",
              "      <td>48.4</td>\n",
              "      <td>2000</td>\n",
              "      <td>loss</td>\n",
              "    </tr>\n",
              "    <tr>\n",
              "      <th>15</th>\n",
              "      <td>Kerry</td>\n",
              "      <td>Democratic</td>\n",
              "      <td>48.3</td>\n",
              "      <td>2004</td>\n",
              "      <td>loss</td>\n",
              "    </tr>\n",
              "    <tr>\n",
              "      <th>17</th>\n",
              "      <td>Obama</td>\n",
              "      <td>Democratic</td>\n",
              "      <td>52.9</td>\n",
              "      <td>2008</td>\n",
              "      <td>win</td>\n",
              "    </tr>\n",
              "    <tr>\n",
              "      <th>19</th>\n",
              "      <td>Obama</td>\n",
              "      <td>Democratic</td>\n",
              "      <td>51.1</td>\n",
              "      <td>2012</td>\n",
              "      <td>win</td>\n",
              "    </tr>\n",
              "    <tr>\n",
              "      <th>21</th>\n",
              "      <td>Clinton</td>\n",
              "      <td>Democratic</td>\n",
              "      <td>48.2</td>\n",
              "      <td>2016</td>\n",
              "      <td>loss</td>\n",
              "    </tr>\n",
              "  </tbody>\n",
              "</table>\n",
              "</div>"
            ],
            "text/plain": [
              "   Candidate       Party     %  Year Result\n",
              "1     Carter  Democratic  41.0  1980   loss\n",
              "4    Mondale  Democratic  37.6  1984   loss\n",
              "6    Dukakis  Democratic  45.6  1988   loss\n",
              "7    Clinton  Democratic  43.0  1992    win\n",
              "10   Clinton  Democratic  49.2  1996    win\n",
              "13      Gore  Democratic  48.4  2000   loss\n",
              "15     Kerry  Democratic  48.3  2004   loss\n",
              "17     Obama  Democratic  52.9  2008    win\n",
              "19     Obama  Democratic  51.1  2012    win\n",
              "21   Clinton  Democratic  48.2  2016   loss"
            ]
          },
          "execution_count": 98,
          "metadata": {},
          "output_type": "execute_result"
        }
      ],
      "source": [
        "#Answer Here\n",
        "d[d[\"Party\"] == \"Democratic\"]"
      ]
    },
    {
      "cell_type": "markdown",
      "metadata": {
        "id": "TiRu5S1FPtvP"
      },
      "source": [
        "The output of the logical operator applied to the Series is **another Series with the same name and index, but of datatype boolean**."
      ]
    },
    {
      "cell_type": "markdown",
      "metadata": {
        "id": "Avt0U9UBPtvQ"
      },
      "source": [
        "These boolean Series can be used as an argument to the `[]` operator.\n",
        "\n",
        "Creates  DataFrame of all election winners since 1980."
      ]
    },
    {
      "cell_type": "code",
      "execution_count": 99,
      "metadata": {
        "id": "UTzXe5syPtvQ"
      },
      "outputs": [
        {
          "data": {
            "text/html": [
              "<div>\n",
              "<style scoped>\n",
              "    .dataframe tbody tr th:only-of-type {\n",
              "        vertical-align: middle;\n",
              "    }\n",
              "\n",
              "    .dataframe tbody tr th {\n",
              "        vertical-align: top;\n",
              "    }\n",
              "\n",
              "    .dataframe thead th {\n",
              "        text-align: right;\n",
              "    }\n",
              "</style>\n",
              "<table border=\"1\" class=\"dataframe\">\n",
              "  <thead>\n",
              "    <tr style=\"text-align: right;\">\n",
              "      <th></th>\n",
              "      <th>Candidate</th>\n",
              "      <th>Party</th>\n",
              "      <th>%</th>\n",
              "      <th>Year</th>\n",
              "      <th>Result</th>\n",
              "    </tr>\n",
              "  </thead>\n",
              "  <tbody>\n",
              "    <tr>\n",
              "      <th>0</th>\n",
              "      <td>Reagan</td>\n",
              "      <td>Republican</td>\n",
              "      <td>50.7</td>\n",
              "      <td>1980</td>\n",
              "      <td>win</td>\n",
              "    </tr>\n",
              "    <tr>\n",
              "      <th>3</th>\n",
              "      <td>Reagan</td>\n",
              "      <td>Republican</td>\n",
              "      <td>58.8</td>\n",
              "      <td>1984</td>\n",
              "      <td>win</td>\n",
              "    </tr>\n",
              "    <tr>\n",
              "      <th>5</th>\n",
              "      <td>Bush</td>\n",
              "      <td>Republican</td>\n",
              "      <td>53.4</td>\n",
              "      <td>1988</td>\n",
              "      <td>win</td>\n",
              "    </tr>\n",
              "    <tr>\n",
              "      <th>7</th>\n",
              "      <td>Clinton</td>\n",
              "      <td>Democratic</td>\n",
              "      <td>43.0</td>\n",
              "      <td>1992</td>\n",
              "      <td>win</td>\n",
              "    </tr>\n",
              "    <tr>\n",
              "      <th>10</th>\n",
              "      <td>Clinton</td>\n",
              "      <td>Democratic</td>\n",
              "      <td>49.2</td>\n",
              "      <td>1996</td>\n",
              "      <td>win</td>\n",
              "    </tr>\n",
              "    <tr>\n",
              "      <th>14</th>\n",
              "      <td>Bush</td>\n",
              "      <td>Republican</td>\n",
              "      <td>47.9</td>\n",
              "      <td>2000</td>\n",
              "      <td>win</td>\n",
              "    </tr>\n",
              "    <tr>\n",
              "      <th>16</th>\n",
              "      <td>Bush</td>\n",
              "      <td>Republican</td>\n",
              "      <td>50.7</td>\n",
              "      <td>2004</td>\n",
              "      <td>win</td>\n",
              "    </tr>\n",
              "    <tr>\n",
              "      <th>17</th>\n",
              "      <td>Obama</td>\n",
              "      <td>Democratic</td>\n",
              "      <td>52.9</td>\n",
              "      <td>2008</td>\n",
              "      <td>win</td>\n",
              "    </tr>\n",
              "    <tr>\n",
              "      <th>19</th>\n",
              "      <td>Obama</td>\n",
              "      <td>Democratic</td>\n",
              "      <td>51.1</td>\n",
              "      <td>2012</td>\n",
              "      <td>win</td>\n",
              "    </tr>\n",
              "    <tr>\n",
              "      <th>22</th>\n",
              "      <td>Trump</td>\n",
              "      <td>Republican</td>\n",
              "      <td>46.1</td>\n",
              "      <td>2016</td>\n",
              "      <td>win</td>\n",
              "    </tr>\n",
              "  </tbody>\n",
              "</table>\n",
              "</div>"
            ],
            "text/plain": [
              "   Candidate       Party     %  Year Result\n",
              "0     Reagan  Republican  50.7  1980    win\n",
              "3     Reagan  Republican  58.8  1984    win\n",
              "5       Bush  Republican  53.4  1988    win\n",
              "7    Clinton  Democratic  43.0  1992    win\n",
              "10   Clinton  Democratic  49.2  1996    win\n",
              "14      Bush  Republican  47.9  2000    win\n",
              "16      Bush  Republican  50.7  2004    win\n",
              "17     Obama  Democratic  52.9  2008    win\n",
              "19     Obama  Democratic  51.1  2012    win\n",
              "22     Trump  Republican  46.1  2016    win"
            ]
          },
          "execution_count": 99,
          "metadata": {},
          "output_type": "execute_result"
        }
      ],
      "source": [
        "#Answer Here\n",
        "\n",
        "\n",
        "a = d[d[\"Result\"] == \"win\"]\n",
        "\n",
        "election_win = pd.DataFrame(a)\n",
        "\n",
        "election_win"
      ]
    },
    {
      "cell_type": "markdown",
      "metadata": {
        "id": "EEv5yYEhPtvQ"
      },
      "source": [
        "Above, we've assigned the result of the logical operator to a new variable called `iswin`. This is uncommon. Usually, the series is created and used on the same line. Such code is a little tricky to read at first, but you'll get used to it quickly.\n",
        "\n",
        "Show all 'win' results between 1980 to 2000"
      ]
    },
    {
      "cell_type": "code",
      "execution_count": 100,
      "metadata": {
        "id": "BBFYJwLwPtvQ"
      },
      "outputs": [
        {
          "data": {
            "text/html": [
              "<div>\n",
              "<style scoped>\n",
              "    .dataframe tbody tr th:only-of-type {\n",
              "        vertical-align: middle;\n",
              "    }\n",
              "\n",
              "    .dataframe tbody tr th {\n",
              "        vertical-align: top;\n",
              "    }\n",
              "\n",
              "    .dataframe thead th {\n",
              "        text-align: right;\n",
              "    }\n",
              "</style>\n",
              "<table border=\"1\" class=\"dataframe\">\n",
              "  <thead>\n",
              "    <tr style=\"text-align: right;\">\n",
              "      <th></th>\n",
              "      <th>Candidate</th>\n",
              "      <th>Party</th>\n",
              "      <th>%</th>\n",
              "      <th>Year</th>\n",
              "      <th>Result</th>\n",
              "    </tr>\n",
              "  </thead>\n",
              "  <tbody>\n",
              "    <tr>\n",
              "      <th>0</th>\n",
              "      <td>Reagan</td>\n",
              "      <td>Republican</td>\n",
              "      <td>50.7</td>\n",
              "      <td>1980</td>\n",
              "      <td>win</td>\n",
              "    </tr>\n",
              "    <tr>\n",
              "      <th>3</th>\n",
              "      <td>Reagan</td>\n",
              "      <td>Republican</td>\n",
              "      <td>58.8</td>\n",
              "      <td>1984</td>\n",
              "      <td>win</td>\n",
              "    </tr>\n",
              "    <tr>\n",
              "      <th>5</th>\n",
              "      <td>Bush</td>\n",
              "      <td>Republican</td>\n",
              "      <td>53.4</td>\n",
              "      <td>1988</td>\n",
              "      <td>win</td>\n",
              "    </tr>\n",
              "    <tr>\n",
              "      <th>7</th>\n",
              "      <td>Clinton</td>\n",
              "      <td>Democratic</td>\n",
              "      <td>43.0</td>\n",
              "      <td>1992</td>\n",
              "      <td>win</td>\n",
              "    </tr>\n",
              "    <tr>\n",
              "      <th>10</th>\n",
              "      <td>Clinton</td>\n",
              "      <td>Democratic</td>\n",
              "      <td>49.2</td>\n",
              "      <td>1996</td>\n",
              "      <td>win</td>\n",
              "    </tr>\n",
              "    <tr>\n",
              "      <th>14</th>\n",
              "      <td>Bush</td>\n",
              "      <td>Republican</td>\n",
              "      <td>47.9</td>\n",
              "      <td>2000</td>\n",
              "      <td>win</td>\n",
              "    </tr>\n",
              "  </tbody>\n",
              "</table>\n",
              "</div>"
            ],
            "text/plain": [
              "   Candidate       Party     %  Year Result\n",
              "0     Reagan  Republican  50.7  1980    win\n",
              "3     Reagan  Republican  58.8  1984    win\n",
              "5       Bush  Republican  53.4  1988    win\n",
              "7    Clinton  Democratic  43.0  1992    win\n",
              "10   Clinton  Democratic  49.2  1996    win\n",
              "14      Bush  Republican  47.9  2000    win"
            ]
          },
          "execution_count": 100,
          "metadata": {},
          "output_type": "execute_result"
        }
      ],
      "source": [
        "#Answer Here\n",
        "#this will pick the win results in the year range between 1980 to 2000\n",
        "\n",
        "\n",
        "election_win[(election_win[\"Year\"] >= 1980)  & ( election_win[\"Year\"] <= 2000)]"
      ]
    },
    {
      "cell_type": "markdown",
      "metadata": {
        "id": "_NW4uODP5C7M"
      },
      "source": [
        "Show all 'Loss' results of Independent party"
      ]
    },
    {
      "cell_type": "code",
      "execution_count": 101,
      "metadata": {
        "id": "SucI5W7yPtvQ"
      },
      "outputs": [
        {
          "data": {
            "text/html": [
              "<div>\n",
              "<style scoped>\n",
              "    .dataframe tbody tr th:only-of-type {\n",
              "        vertical-align: middle;\n",
              "    }\n",
              "\n",
              "    .dataframe tbody tr th {\n",
              "        vertical-align: top;\n",
              "    }\n",
              "\n",
              "    .dataframe thead th {\n",
              "        text-align: right;\n",
              "    }\n",
              "</style>\n",
              "<table border=\"1\" class=\"dataframe\">\n",
              "  <thead>\n",
              "    <tr style=\"text-align: right;\">\n",
              "      <th></th>\n",
              "      <th>Candidate</th>\n",
              "      <th>Party</th>\n",
              "      <th>%</th>\n",
              "      <th>Year</th>\n",
              "      <th>Result</th>\n",
              "    </tr>\n",
              "  </thead>\n",
              "  <tbody>\n",
              "    <tr>\n",
              "      <th>2</th>\n",
              "      <td>Anderson</td>\n",
              "      <td>Independent</td>\n",
              "      <td>6.6</td>\n",
              "      <td>1980</td>\n",
              "      <td>loss</td>\n",
              "    </tr>\n",
              "    <tr>\n",
              "      <th>9</th>\n",
              "      <td>Perot</td>\n",
              "      <td>Independent</td>\n",
              "      <td>18.9</td>\n",
              "      <td>1992</td>\n",
              "      <td>loss</td>\n",
              "    </tr>\n",
              "    <tr>\n",
              "      <th>12</th>\n",
              "      <td>Perot</td>\n",
              "      <td>Independent</td>\n",
              "      <td>8.4</td>\n",
              "      <td>1996</td>\n",
              "      <td>loss</td>\n",
              "    </tr>\n",
              "  </tbody>\n",
              "</table>\n",
              "</div>"
            ],
            "text/plain": [
              "   Candidate        Party     %  Year Result\n",
              "2   Anderson  Independent   6.6  1980   loss\n",
              "9      Perot  Independent  18.9  1992   loss\n",
              "12     Perot  Independent   8.4  1996   loss"
            ]
          },
          "execution_count": 101,
          "metadata": {},
          "output_type": "execute_result"
        }
      ],
      "source": [
        "# Answer Here\n",
        "ind_loss = d[(d[\"Result\"] == \"loss\") & (d[\"Party\"] == \"Independent\")]\n",
        "ind_loss "
      ]
    },
    {
      "cell_type": "markdown",
      "metadata": {
        "id": "wr9tNNT_PtvQ"
      },
      "source": [
        "We can select multiple criteria by creating multiple boolean Series and combining them using the `&` operator.\n",
        "\n",
        "Show results of win with percentage less than 50%"
      ]
    },
    {
      "cell_type": "code",
      "execution_count": 102,
      "metadata": {
        "id": "7VygVujvPtvQ",
        "scrolled": true
      },
      "outputs": [
        {
          "data": {
            "text/html": [
              "<div>\n",
              "<style scoped>\n",
              "    .dataframe tbody tr th:only-of-type {\n",
              "        vertical-align: middle;\n",
              "    }\n",
              "\n",
              "    .dataframe tbody tr th {\n",
              "        vertical-align: top;\n",
              "    }\n",
              "\n",
              "    .dataframe thead th {\n",
              "        text-align: right;\n",
              "    }\n",
              "</style>\n",
              "<table border=\"1\" class=\"dataframe\">\n",
              "  <thead>\n",
              "    <tr style=\"text-align: right;\">\n",
              "      <th></th>\n",
              "      <th>Candidate</th>\n",
              "      <th>Party</th>\n",
              "      <th>%</th>\n",
              "      <th>Year</th>\n",
              "      <th>Result</th>\n",
              "    </tr>\n",
              "  </thead>\n",
              "  <tbody>\n",
              "    <tr>\n",
              "      <th>7</th>\n",
              "      <td>Clinton</td>\n",
              "      <td>Democratic</td>\n",
              "      <td>43.0</td>\n",
              "      <td>1992</td>\n",
              "      <td>win</td>\n",
              "    </tr>\n",
              "    <tr>\n",
              "      <th>10</th>\n",
              "      <td>Clinton</td>\n",
              "      <td>Democratic</td>\n",
              "      <td>49.2</td>\n",
              "      <td>1996</td>\n",
              "      <td>win</td>\n",
              "    </tr>\n",
              "    <tr>\n",
              "      <th>14</th>\n",
              "      <td>Bush</td>\n",
              "      <td>Republican</td>\n",
              "      <td>47.9</td>\n",
              "      <td>2000</td>\n",
              "      <td>win</td>\n",
              "    </tr>\n",
              "    <tr>\n",
              "      <th>22</th>\n",
              "      <td>Trump</td>\n",
              "      <td>Republican</td>\n",
              "      <td>46.1</td>\n",
              "      <td>2016</td>\n",
              "      <td>win</td>\n",
              "    </tr>\n",
              "  </tbody>\n",
              "</table>\n",
              "</div>"
            ],
            "text/plain": [
              "   Candidate       Party     %  Year Result\n",
              "7    Clinton  Democratic  43.0  1992    win\n",
              "10   Clinton  Democratic  49.2  1996    win\n",
              "14      Bush  Republican  47.9  2000    win\n",
              "22     Trump  Republican  46.1  2016    win"
            ]
          },
          "execution_count": 102,
          "metadata": {},
          "output_type": "execute_result"
        }
      ],
      "source": [
        "# Answer Here\n",
        "dresults = d[(d[\"Result\"]==\"win\") & (d[\"%\"] < 50)]\n",
        "dresults "
      ]
    },
    {
      "cell_type": "markdown",
      "metadata": {
        "id": "ToedM6lA6Bp7"
      },
      "source": [
        "Show all 'win' results between 1980 to 2000"
      ]
    },
    {
      "cell_type": "code",
      "execution_count": 103,
      "metadata": {
        "id": "RfqDKcii6Dcs"
      },
      "outputs": [
        {
          "data": {
            "text/html": [
              "<div>\n",
              "<style scoped>\n",
              "    .dataframe tbody tr th:only-of-type {\n",
              "        vertical-align: middle;\n",
              "    }\n",
              "\n",
              "    .dataframe tbody tr th {\n",
              "        vertical-align: top;\n",
              "    }\n",
              "\n",
              "    .dataframe thead th {\n",
              "        text-align: right;\n",
              "    }\n",
              "</style>\n",
              "<table border=\"1\" class=\"dataframe\">\n",
              "  <thead>\n",
              "    <tr style=\"text-align: right;\">\n",
              "      <th></th>\n",
              "      <th>Candidate</th>\n",
              "      <th>Party</th>\n",
              "      <th>%</th>\n",
              "      <th>Year</th>\n",
              "      <th>Result</th>\n",
              "    </tr>\n",
              "  </thead>\n",
              "  <tbody>\n",
              "    <tr>\n",
              "      <th>0</th>\n",
              "      <td>Reagan</td>\n",
              "      <td>Republican</td>\n",
              "      <td>50.7</td>\n",
              "      <td>1980</td>\n",
              "      <td>win</td>\n",
              "    </tr>\n",
              "    <tr>\n",
              "      <th>3</th>\n",
              "      <td>Reagan</td>\n",
              "      <td>Republican</td>\n",
              "      <td>58.8</td>\n",
              "      <td>1984</td>\n",
              "      <td>win</td>\n",
              "    </tr>\n",
              "    <tr>\n",
              "      <th>5</th>\n",
              "      <td>Bush</td>\n",
              "      <td>Republican</td>\n",
              "      <td>53.4</td>\n",
              "      <td>1988</td>\n",
              "      <td>win</td>\n",
              "    </tr>\n",
              "    <tr>\n",
              "      <th>7</th>\n",
              "      <td>Clinton</td>\n",
              "      <td>Democratic</td>\n",
              "      <td>43.0</td>\n",
              "      <td>1992</td>\n",
              "      <td>win</td>\n",
              "    </tr>\n",
              "    <tr>\n",
              "      <th>10</th>\n",
              "      <td>Clinton</td>\n",
              "      <td>Democratic</td>\n",
              "      <td>49.2</td>\n",
              "      <td>1996</td>\n",
              "      <td>win</td>\n",
              "    </tr>\n",
              "    <tr>\n",
              "      <th>14</th>\n",
              "      <td>Bush</td>\n",
              "      <td>Republican</td>\n",
              "      <td>47.9</td>\n",
              "      <td>2000</td>\n",
              "      <td>win</td>\n",
              "    </tr>\n",
              "  </tbody>\n",
              "</table>\n",
              "</div>"
            ],
            "text/plain": [
              "   Candidate       Party     %  Year Result\n",
              "0     Reagan  Republican  50.7  1980    win\n",
              "3     Reagan  Republican  58.8  1984    win\n",
              "5       Bush  Republican  53.4  1988    win\n",
              "7    Clinton  Democratic  43.0  1992    win\n",
              "10   Clinton  Democratic  49.2  1996    win\n",
              "14      Bush  Republican  47.9  2000    win"
            ]
          },
          "execution_count": 103,
          "metadata": {},
          "output_type": "execute_result"
        }
      ],
      "source": [
        "# Answer Here\n",
        "win_results = d[d[\"Result\"] == \"win\"] \n",
        "win_results[(win_results[\"Year\"] >= 1980) & (win_results[\"Year\"]<= 2000) ]"
      ]
    },
    {
      "cell_type": "markdown",
      "metadata": {
        "id": "pkonOW2pPtvR"
      },
      "source": [
        "## Loc and iLoc"
      ]
    },
    {
      "cell_type": "markdown",
      "metadata": {
        "id": "hSiAy9KD5eJk"
      },
      "source": [
        "Show 5 enteries from start"
      ]
    },
    {
      "cell_type": "code",
      "execution_count": 104,
      "metadata": {
        "id": "OIwnpgEM6HeI"
      },
      "outputs": [
        {
          "data": {
            "text/html": [
              "<div>\n",
              "<style scoped>\n",
              "    .dataframe tbody tr th:only-of-type {\n",
              "        vertical-align: middle;\n",
              "    }\n",
              "\n",
              "    .dataframe tbody tr th {\n",
              "        vertical-align: top;\n",
              "    }\n",
              "\n",
              "    .dataframe thead th {\n",
              "        text-align: right;\n",
              "    }\n",
              "</style>\n",
              "<table border=\"1\" class=\"dataframe\">\n",
              "  <thead>\n",
              "    <tr style=\"text-align: right;\">\n",
              "      <th></th>\n",
              "      <th>Candidate</th>\n",
              "      <th>Party</th>\n",
              "      <th>%</th>\n",
              "      <th>Year</th>\n",
              "      <th>Result</th>\n",
              "    </tr>\n",
              "  </thead>\n",
              "  <tbody>\n",
              "    <tr>\n",
              "      <th>0</th>\n",
              "      <td>Reagan</td>\n",
              "      <td>Republican</td>\n",
              "      <td>50.7</td>\n",
              "      <td>1980</td>\n",
              "      <td>win</td>\n",
              "    </tr>\n",
              "    <tr>\n",
              "      <th>1</th>\n",
              "      <td>Carter</td>\n",
              "      <td>Democratic</td>\n",
              "      <td>41.0</td>\n",
              "      <td>1980</td>\n",
              "      <td>loss</td>\n",
              "    </tr>\n",
              "    <tr>\n",
              "      <th>2</th>\n",
              "      <td>Anderson</td>\n",
              "      <td>Independent</td>\n",
              "      <td>6.6</td>\n",
              "      <td>1980</td>\n",
              "      <td>loss</td>\n",
              "    </tr>\n",
              "    <tr>\n",
              "      <th>3</th>\n",
              "      <td>Reagan</td>\n",
              "      <td>Republican</td>\n",
              "      <td>58.8</td>\n",
              "      <td>1984</td>\n",
              "      <td>win</td>\n",
              "    </tr>\n",
              "    <tr>\n",
              "      <th>4</th>\n",
              "      <td>Mondale</td>\n",
              "      <td>Democratic</td>\n",
              "      <td>37.6</td>\n",
              "      <td>1984</td>\n",
              "      <td>loss</td>\n",
              "    </tr>\n",
              "  </tbody>\n",
              "</table>\n",
              "</div>"
            ],
            "text/plain": [
              "  Candidate        Party     %  Year Result\n",
              "0    Reagan   Republican  50.7  1980    win\n",
              "1    Carter   Democratic  41.0  1980   loss\n",
              "2  Anderson  Independent   6.6  1980   loss\n",
              "3    Reagan   Republican  58.8  1984    win\n",
              "4   Mondale   Democratic  37.6  1984   loss"
            ]
          },
          "execution_count": 104,
          "metadata": {},
          "output_type": "execute_result"
        }
      ],
      "source": [
        "# Answer Here\n",
        "d.iloc[0:5]"
      ]
    },
    {
      "cell_type": "markdown",
      "metadata": {
        "id": "XHhLGedmPtvR"
      },
      "source": [
        "You can provide `.loc` a list of row labels [0-5] and column labels ['Candidate','Party', 'Year'] as input to return a dataframe"
      ]
    },
    {
      "cell_type": "code",
      "execution_count": 105,
      "metadata": {
        "id": "XUZe4G0WPtvR"
      },
      "outputs": [
        {
          "data": {
            "text/html": [
              "<div>\n",
              "<style scoped>\n",
              "    .dataframe tbody tr th:only-of-type {\n",
              "        vertical-align: middle;\n",
              "    }\n",
              "\n",
              "    .dataframe tbody tr th {\n",
              "        vertical-align: top;\n",
              "    }\n",
              "\n",
              "    .dataframe thead th {\n",
              "        text-align: right;\n",
              "    }\n",
              "</style>\n",
              "<table border=\"1\" class=\"dataframe\">\n",
              "  <thead>\n",
              "    <tr style=\"text-align: right;\">\n",
              "      <th></th>\n",
              "      <th>Candidate</th>\n",
              "      <th>Party</th>\n",
              "      <th>Year</th>\n",
              "    </tr>\n",
              "  </thead>\n",
              "  <tbody>\n",
              "    <tr>\n",
              "      <th>0</th>\n",
              "      <td>Reagan</td>\n",
              "      <td>Republican</td>\n",
              "      <td>1980</td>\n",
              "    </tr>\n",
              "    <tr>\n",
              "      <th>1</th>\n",
              "      <td>Carter</td>\n",
              "      <td>Democratic</td>\n",
              "      <td>1980</td>\n",
              "    </tr>\n",
              "    <tr>\n",
              "      <th>2</th>\n",
              "      <td>Anderson</td>\n",
              "      <td>Independent</td>\n",
              "      <td>1980</td>\n",
              "    </tr>\n",
              "    <tr>\n",
              "      <th>3</th>\n",
              "      <td>Reagan</td>\n",
              "      <td>Republican</td>\n",
              "      <td>1984</td>\n",
              "    </tr>\n",
              "    <tr>\n",
              "      <th>4</th>\n",
              "      <td>Mondale</td>\n",
              "      <td>Democratic</td>\n",
              "      <td>1984</td>\n",
              "    </tr>\n",
              "    <tr>\n",
              "      <th>5</th>\n",
              "      <td>Bush</td>\n",
              "      <td>Republican</td>\n",
              "      <td>1988</td>\n",
              "    </tr>\n",
              "  </tbody>\n",
              "</table>\n",
              "</div>"
            ],
            "text/plain": [
              "  Candidate        Party  Year\n",
              "0    Reagan   Republican  1980\n",
              "1    Carter   Democratic  1980\n",
              "2  Anderson  Independent  1980\n",
              "3    Reagan   Republican  1984\n",
              "4   Mondale   Democratic  1984\n",
              "5      Bush   Republican  1988"
            ]
          },
          "execution_count": 105,
          "metadata": {},
          "output_type": "execute_result"
        }
      ],
      "source": [
        "#Answer Here\n",
        "\n",
        "d.loc[0:5,['Candidate','Party', 'Year']]"
      ]
    },
    {
      "cell_type": "markdown",
      "metadata": {
        "id": "Tw5Er1BCPtvR"
      },
      "source": [
        "Loc also supports **slicing** (for all types, including numeric and string labels!). Note that the slicing for loc is **inclusive**, even for numeric slices.\n",
        "\n",
        "Use Slicing on Rows and Columns"
      ]
    },
    {
      "cell_type": "code",
      "execution_count": 106,
      "metadata": {
        "id": "SXI38aagPtvR",
        "scrolled": true
      },
      "outputs": [
        {
          "data": {
            "text/html": [
              "<div>\n",
              "<style scoped>\n",
              "    .dataframe tbody tr th:only-of-type {\n",
              "        vertical-align: middle;\n",
              "    }\n",
              "\n",
              "    .dataframe tbody tr th {\n",
              "        vertical-align: top;\n",
              "    }\n",
              "\n",
              "    .dataframe thead th {\n",
              "        text-align: right;\n",
              "    }\n",
              "</style>\n",
              "<table border=\"1\" class=\"dataframe\">\n",
              "  <thead>\n",
              "    <tr style=\"text-align: right;\">\n",
              "      <th></th>\n",
              "      <th>Candidate</th>\n",
              "      <th>Party</th>\n",
              "      <th>%</th>\n",
              "    </tr>\n",
              "  </thead>\n",
              "  <tbody>\n",
              "    <tr>\n",
              "      <th>0</th>\n",
              "      <td>Reagan</td>\n",
              "      <td>Republican</td>\n",
              "      <td>50.7</td>\n",
              "    </tr>\n",
              "    <tr>\n",
              "      <th>1</th>\n",
              "      <td>Carter</td>\n",
              "      <td>Democratic</td>\n",
              "      <td>41.0</td>\n",
              "    </tr>\n",
              "    <tr>\n",
              "      <th>2</th>\n",
              "      <td>Anderson</td>\n",
              "      <td>Independent</td>\n",
              "      <td>6.6</td>\n",
              "    </tr>\n",
              "    <tr>\n",
              "      <th>3</th>\n",
              "      <td>Reagan</td>\n",
              "      <td>Republican</td>\n",
              "      <td>58.8</td>\n",
              "    </tr>\n",
              "  </tbody>\n",
              "</table>\n",
              "</div>"
            ],
            "text/plain": [
              "  Candidate        Party     %\n",
              "0    Reagan   Republican  50.7\n",
              "1    Carter   Democratic  41.0\n",
              "2  Anderson  Independent   6.6\n",
              "3    Reagan   Republican  58.8"
            ]
          },
          "execution_count": 106,
          "metadata": {},
          "output_type": "execute_result"
        }
      ],
      "source": [
        "# Answer Here\n",
        "\n",
        "d.loc[0:3,\"Candidate\":\"%\"]"
      ]
    },
    {
      "cell_type": "markdown",
      "metadata": {
        "id": "pM5KD0kPPtvR"
      },
      "source": [
        "If we provide only a **single label** for the column argument, we get back a **Series**."
      ]
    },
    {
      "cell_type": "code",
      "execution_count": 107,
      "metadata": {
        "id": "Ps6PUX9_PtvS"
      },
      "outputs": [
        {
          "data": {
            "text/plain": [
              "0       Reagan\n",
              "1       Carter\n",
              "2     Anderson\n",
              "3       Reagan\n",
              "4      Mondale\n",
              "5         Bush\n",
              "6      Dukakis\n",
              "7      Clinton\n",
              "8         Bush\n",
              "9        Perot\n",
              "10     Clinton\n",
              "11        Dole\n",
              "12       Perot\n",
              "13        Gore\n",
              "14        Bush\n",
              "15       Kerry\n",
              "16        Bush\n",
              "17       Obama\n",
              "18      McCain\n",
              "19       Obama\n",
              "20      Romney\n",
              "21     Clinton\n",
              "22       Trump\n",
              "Name: Candidate, dtype: object"
            ]
          },
          "execution_count": 107,
          "metadata": {},
          "output_type": "execute_result"
        }
      ],
      "source": [
        "# Answer Here\n",
        "#2 ways to do this\n",
        "\n",
        "#1- using []\n",
        "d[\"Candidate\"]\n",
        "\n",
        "#2- using .\n",
        "d.Candidate"
      ]
    },
    {
      "cell_type": "markdown",
      "metadata": {
        "id": "QighByBIPtvS"
      },
      "source": [
        "If we give only one row but many column labels, we'll get back a **Series** corresponding to a row of the table. This new Series has a neat index, where **each entry is the name of the column** that the data came from."
      ]
    },
    {
      "cell_type": "code",
      "execution_count": 108,
      "metadata": {
        "id": "5XT8-_bpPtvS"
      },
      "outputs": [
        {
          "data": {
            "text/plain": [
              "Candidate        Reagan\n",
              "Party        Republican\n",
              "Name: 0, dtype: object"
            ]
          },
          "execution_count": 108,
          "metadata": {},
          "output_type": "execute_result"
        }
      ],
      "source": [
        "# Answer Here\n",
        "d.loc[0,[\"Candidate\",\"Party\"]]"
      ]
    },
    {
      "cell_type": "markdown",
      "metadata": {
        "id": "oB0GTCT5PtvS"
      },
      "source": [
        "If we omit the column argument altogether, the **default behavior is to retrieve all columns**."
      ]
    },
    {
      "cell_type": "code",
      "execution_count": 109,
      "metadata": {
        "id": "cewKbmCYPtvT"
      },
      "outputs": [
        {
          "data": {
            "text/plain": [
              "Candidate        Reagan\n",
              "Party        Republican\n",
              "%                  50.7\n",
              "Year               1980\n",
              "Result              win\n",
              "Name: 0, dtype: object"
            ]
          },
          "execution_count": 109,
          "metadata": {},
          "output_type": "execute_result"
        }
      ],
      "source": [
        "# Answer Here\n",
        "d.loc[0]"
      ]
    },
    {
      "cell_type": "markdown",
      "metadata": {
        "id": "GIuYoSqH7TYj"
      },
      "source": [
        "Specify Rows and Columns as List to retrive specific enteries"
      ]
    },
    {
      "cell_type": "code",
      "execution_count": 110,
      "metadata": {
        "id": "roAnjNt2PtvT",
        "scrolled": true
      },
      "outputs": [
        {
          "data": {
            "text/html": [
              "<div>\n",
              "<style scoped>\n",
              "    .dataframe tbody tr th:only-of-type {\n",
              "        vertical-align: middle;\n",
              "    }\n",
              "\n",
              "    .dataframe tbody tr th {\n",
              "        vertical-align: top;\n",
              "    }\n",
              "\n",
              "    .dataframe thead th {\n",
              "        text-align: right;\n",
              "    }\n",
              "</style>\n",
              "<table border=\"1\" class=\"dataframe\">\n",
              "  <thead>\n",
              "    <tr style=\"text-align: right;\">\n",
              "      <th></th>\n",
              "      <th>Party</th>\n",
              "      <th>Candidate</th>\n",
              "    </tr>\n",
              "  </thead>\n",
              "  <tbody>\n",
              "    <tr>\n",
              "      <th>0</th>\n",
              "      <td>Republican</td>\n",
              "      <td>Reagan</td>\n",
              "    </tr>\n",
              "    <tr>\n",
              "      <th>2</th>\n",
              "      <td>Independent</td>\n",
              "      <td>Anderson</td>\n",
              "    </tr>\n",
              "    <tr>\n",
              "      <th>5</th>\n",
              "      <td>Republican</td>\n",
              "      <td>Bush</td>\n",
              "    </tr>\n",
              "  </tbody>\n",
              "</table>\n",
              "</div>"
            ],
            "text/plain": [
              "         Party Candidate\n",
              "0   Republican    Reagan\n",
              "2  Independent  Anderson\n",
              "5   Republican      Bush"
            ]
          },
          "execution_count": 110,
          "metadata": {},
          "output_type": "execute_result"
        }
      ],
      "source": [
        "# Answer Here\n",
        "\n",
        "d.loc[[0,2,5],[\"Party\",\"Candidate\"]]"
      ]
    },
    {
      "cell_type": "markdown",
      "metadata": {
        "id": "533WKwGXPtvT"
      },
      "source": [
        "## String-labeled Rows\n",
        "\n",
        "Let's do a quick example using data with string-labeled rows instead of integer labeled rows, just to make sure we're really understanding loc.\n",
        "\n",
        "Use mottos.csv file"
      ]
    },
    {
      "cell_type": "code",
      "execution_count": 112,
      "metadata": {
        "id": "-y7r7wfBPtvT"
      },
      "outputs": [
        {
          "data": {
            "text/html": [
              "<div>\n",
              "<style scoped>\n",
              "    .dataframe tbody tr th:only-of-type {\n",
              "        vertical-align: middle;\n",
              "    }\n",
              "\n",
              "    .dataframe tbody tr th {\n",
              "        vertical-align: top;\n",
              "    }\n",
              "\n",
              "    .dataframe thead th {\n",
              "        text-align: right;\n",
              "    }\n",
              "</style>\n",
              "<table border=\"1\" class=\"dataframe\">\n",
              "  <thead>\n",
              "    <tr style=\"text-align: right;\">\n",
              "      <th></th>\n",
              "      <th>State</th>\n",
              "      <th>Motto</th>\n",
              "      <th>Translation</th>\n",
              "      <th>Language</th>\n",
              "      <th>Date Adopted</th>\n",
              "    </tr>\n",
              "  </thead>\n",
              "  <tbody>\n",
              "    <tr>\n",
              "      <th>0</th>\n",
              "      <td>Alabama</td>\n",
              "      <td>Audemus jura nostra defendere</td>\n",
              "      <td>We dare defend our rights!</td>\n",
              "      <td>Latin</td>\n",
              "      <td>1923</td>\n",
              "    </tr>\n",
              "    <tr>\n",
              "      <th>1</th>\n",
              "      <td>Alaska</td>\n",
              "      <td>North to the future</td>\n",
              "      <td>—</td>\n",
              "      <td>English</td>\n",
              "      <td>1967</td>\n",
              "    </tr>\n",
              "    <tr>\n",
              "      <th>2</th>\n",
              "      <td>Arizona</td>\n",
              "      <td>Ditat Deus</td>\n",
              "      <td>God enriches</td>\n",
              "      <td>Latin</td>\n",
              "      <td>1863</td>\n",
              "    </tr>\n",
              "  </tbody>\n",
              "</table>\n",
              "</div>"
            ],
            "text/plain": [
              "     State                          Motto                 Translation  \\\n",
              "0  Alabama  Audemus jura nostra defendere  We dare defend our rights!   \n",
              "1   Alaska            North to the future                           —   \n",
              "2  Arizona                     Ditat Deus                God enriches   \n",
              "\n",
              "  Language Date Adopted  \n",
              "0    Latin         1923  \n",
              "1  English         1967  \n",
              "2    Latin         1863  "
            ]
          },
          "execution_count": 112,
          "metadata": {},
          "output_type": "execute_result"
        }
      ],
      "source": [
        "# Answer Here\n",
        "data2= pd.read_csv(\"Excel files\\mottos.csv\")\n",
        "data2.head(3)"
      ]
    },
    {
      "cell_type": "markdown",
      "metadata": {
        "id": "8E1olDerPtvT"
      },
      "source": [
        "Extract slice, can be specified using slice notation, even if the rows have string labels instead of integer labels."
      ]
    },
    {
      "cell_type": "code",
      "execution_count": 113,
      "metadata": {},
      "outputs": [
        {
          "data": {
            "text/html": [
              "<div>\n",
              "<style scoped>\n",
              "    .dataframe tbody tr th:only-of-type {\n",
              "        vertical-align: middle;\n",
              "    }\n",
              "\n",
              "    .dataframe tbody tr th {\n",
              "        vertical-align: top;\n",
              "    }\n",
              "\n",
              "    .dataframe thead th {\n",
              "        text-align: right;\n",
              "    }\n",
              "</style>\n",
              "<table border=\"1\" class=\"dataframe\">\n",
              "  <thead>\n",
              "    <tr style=\"text-align: right;\">\n",
              "      <th></th>\n",
              "      <th>State</th>\n",
              "      <th>Motto</th>\n",
              "      <th>Translation</th>\n",
              "      <th>Language</th>\n",
              "      <th>Date Adopted</th>\n",
              "    </tr>\n",
              "  </thead>\n",
              "  <tbody>\n",
              "    <tr>\n",
              "      <th>0</th>\n",
              "      <td>Alabama</td>\n",
              "      <td>Audemus jura nostra defendere</td>\n",
              "      <td>We dare defend our rights!</td>\n",
              "      <td>Latin</td>\n",
              "      <td>1923</td>\n",
              "    </tr>\n",
              "    <tr>\n",
              "      <th>1</th>\n",
              "      <td>Alaska</td>\n",
              "      <td>North to the future</td>\n",
              "      <td>—</td>\n",
              "      <td>English</td>\n",
              "      <td>1967</td>\n",
              "    </tr>\n",
              "    <tr>\n",
              "      <th>2</th>\n",
              "      <td>Arizona</td>\n",
              "      <td>Ditat Deus</td>\n",
              "      <td>God enriches</td>\n",
              "      <td>Latin</td>\n",
              "      <td>1863</td>\n",
              "    </tr>\n",
              "    <tr>\n",
              "      <th>3</th>\n",
              "      <td>Arkansas</td>\n",
              "      <td>Regnat populus</td>\n",
              "      <td>The people rule</td>\n",
              "      <td>Latin</td>\n",
              "      <td>1907</td>\n",
              "    </tr>\n",
              "    <tr>\n",
              "      <th>4</th>\n",
              "      <td>California</td>\n",
              "      <td>Eureka (Εὕρηκα)</td>\n",
              "      <td>I have found it</td>\n",
              "      <td>Greek</td>\n",
              "      <td>1849</td>\n",
              "    </tr>\n",
              "  </tbody>\n",
              "</table>\n",
              "</div>"
            ],
            "text/plain": [
              "        State                          Motto                 Translation  \\\n",
              "0     Alabama  Audemus jura nostra defendere  We dare defend our rights!   \n",
              "1      Alaska            North to the future                           —   \n",
              "2     Arizona                     Ditat Deus                God enriches   \n",
              "3    Arkansas                 Regnat populus             The people rule   \n",
              "4  California                Eureka (Εὕρηκα)             I have found it   \n",
              "\n",
              "  Language Date Adopted  \n",
              "0    Latin         1923  \n",
              "1  English         1967  \n",
              "2    Latin         1863  \n",
              "3    Latin         1907  \n",
              "4    Greek         1849  "
            ]
          },
          "execution_count": 113,
          "metadata": {},
          "output_type": "execute_result"
        }
      ],
      "source": [
        "data2[0:5]"
      ]
    },
    {
      "cell_type": "markdown",
      "metadata": {
        "id": "9meAs22VPtvU"
      },
      "source": [
        "### iloc"
      ]
    },
    {
      "cell_type": "markdown",
      "metadata": {
        "id": "Kgz9kKXLPtvU"
      },
      "source": [
        "loc's cousin iloc is very similar, but is used to access based on numerical position instead of label. For example, to access to the top 3 rows and top 3 columns of a table, we can use [0:3, 0:3]. 'iloc' slicing is **exclusive**, just like standard Python slicing of numerical values.\n",
        "\n",
        "Use iloc to extract first 3 rows and columns from elections DataFrame"
      ]
    },
    {
      "cell_type": "code",
      "execution_count": 114,
      "metadata": {
        "id": "TveQUq2oPtvU"
      },
      "outputs": [
        {
          "data": {
            "text/html": [
              "<div>\n",
              "<style scoped>\n",
              "    .dataframe tbody tr th:only-of-type {\n",
              "        vertical-align: middle;\n",
              "    }\n",
              "\n",
              "    .dataframe tbody tr th {\n",
              "        vertical-align: top;\n",
              "    }\n",
              "\n",
              "    .dataframe thead th {\n",
              "        text-align: right;\n",
              "    }\n",
              "</style>\n",
              "<table border=\"1\" class=\"dataframe\">\n",
              "  <thead>\n",
              "    <tr style=\"text-align: right;\">\n",
              "      <th></th>\n",
              "      <th>Candidate</th>\n",
              "      <th>Party</th>\n",
              "      <th>%</th>\n",
              "    </tr>\n",
              "  </thead>\n",
              "  <tbody>\n",
              "    <tr>\n",
              "      <th>0</th>\n",
              "      <td>Reagan</td>\n",
              "      <td>Republican</td>\n",
              "      <td>50.7</td>\n",
              "    </tr>\n",
              "    <tr>\n",
              "      <th>1</th>\n",
              "      <td>Carter</td>\n",
              "      <td>Democratic</td>\n",
              "      <td>41.0</td>\n",
              "    </tr>\n",
              "    <tr>\n",
              "      <th>2</th>\n",
              "      <td>Anderson</td>\n",
              "      <td>Independent</td>\n",
              "      <td>6.6</td>\n",
              "    </tr>\n",
              "  </tbody>\n",
              "</table>\n",
              "</div>"
            ],
            "text/plain": [
              "  Candidate        Party     %\n",
              "0    Reagan   Republican  50.7\n",
              "1    Carter   Democratic  41.0\n",
              "2  Anderson  Independent   6.6"
            ]
          },
          "execution_count": 114,
          "metadata": {},
          "output_type": "execute_result"
        }
      ],
      "source": [
        "#Answer Here\n",
        "d.iloc[0:3,0:3]"
      ]
    },
    {
      "cell_type": "markdown",
      "metadata": {
        "id": "d75cITKiPtvV"
      },
      "source": [
        "We will use both `loc` and `iloc` in the course. `loc` is generally preferred for a number of reasons, for example:\n",
        "\n",
        "1. It is harder to make mistakes since you have to literally write out what you want to get.\n",
        "2. Code is easier to read, because the reader doesn't have to know e.g., what column #17 represents.\n",
        "3. It is robust against permutations of the data, e.g. the social security administration switches the order of two columns.\n",
        "\n",
        "However, iloc is sometimes more convenient. We'll provide examples of when iloc is the superior choice."
      ]
    },
    {
      "cell_type": "markdown",
      "metadata": {
        "id": "Sj-li9oQPtvV"
      },
      "source": [
        "## Handy Properties and Utility Functions for Series and DataFrames"
      ]
    },
    {
      "cell_type": "markdown",
      "metadata": {
        "id": "2D6yrBvcPtvV"
      },
      "source": [
        "The head, shape, size, and describe methods can be used to quickly get a good sense of the data we're working with. For example:"
      ]
    },
    {
      "cell_type": "code",
      "execution_count": null,
      "metadata": {
        "id": "3lj5YSbzPtvV"
      },
      "outputs": [
        {
          "data": {
            "text/html": [
              "<div>\n",
              "<style scoped>\n",
              "    .dataframe tbody tr th:only-of-type {\n",
              "        vertical-align: middle;\n",
              "    }\n",
              "\n",
              "    .dataframe tbody tr th {\n",
              "        vertical-align: top;\n",
              "    }\n",
              "\n",
              "    .dataframe thead th {\n",
              "        text-align: right;\n",
              "    }\n",
              "</style>\n",
              "<table border=\"1\" class=\"dataframe\">\n",
              "  <thead>\n",
              "    <tr style=\"text-align: right;\">\n",
              "      <th></th>\n",
              "      <th>State</th>\n",
              "      <th>Motto</th>\n",
              "      <th>Translation</th>\n",
              "      <th>Language</th>\n",
              "      <th>Date Adopted</th>\n",
              "    </tr>\n",
              "  </thead>\n",
              "  <tbody>\n",
              "    <tr>\n",
              "      <th>0</th>\n",
              "      <td>Alabama</td>\n",
              "      <td>Audemus jura nostra defendere</td>\n",
              "      <td>We dare defend our rights!</td>\n",
              "      <td>Latin</td>\n",
              "      <td>1923</td>\n",
              "    </tr>\n",
              "    <tr>\n",
              "      <th>1</th>\n",
              "      <td>Alaska</td>\n",
              "      <td>North to the future</td>\n",
              "      <td>—</td>\n",
              "      <td>English</td>\n",
              "      <td>1967</td>\n",
              "    </tr>\n",
              "    <tr>\n",
              "      <th>2</th>\n",
              "      <td>Arizona</td>\n",
              "      <td>Ditat Deus</td>\n",
              "      <td>God enriches</td>\n",
              "      <td>Latin</td>\n",
              "      <td>1863</td>\n",
              "    </tr>\n",
              "    <tr>\n",
              "      <th>3</th>\n",
              "      <td>Arkansas</td>\n",
              "      <td>Regnat populus</td>\n",
              "      <td>The people rule</td>\n",
              "      <td>Latin</td>\n",
              "      <td>1907</td>\n",
              "    </tr>\n",
              "    <tr>\n",
              "      <th>4</th>\n",
              "      <td>California</td>\n",
              "      <td>Eureka (Εὕρηκα)</td>\n",
              "      <td>I have found it</td>\n",
              "      <td>Greek</td>\n",
              "      <td>1849</td>\n",
              "    </tr>\n",
              "  </tbody>\n",
              "</table>\n",
              "</div>"
            ],
            "text/plain": [
              "        State                          Motto                 Translation  \\\n",
              "0     Alabama  Audemus jura nostra defendere  We dare defend our rights!   \n",
              "1      Alaska            North to the future                           —   \n",
              "2     Arizona                     Ditat Deus                God enriches   \n",
              "3    Arkansas                 Regnat populus             The people rule   \n",
              "4  California                Eureka (Εὕρηκα)             I have found it   \n",
              "\n",
              "  Language Date Adopted  \n",
              "0    Latin         1923  \n",
              "1  English         1967  \n",
              "2    Latin         1863  \n",
              "3    Latin         1907  \n",
              "4    Greek         1849  "
            ]
          },
          "execution_count": 61,
          "metadata": {},
          "output_type": "execute_result"
        }
      ],
      "source": [
        "# Answer Here\n",
        "data2.head()"
      ]
    },
    {
      "cell_type": "markdown",
      "metadata": {
        "id": "bQSKGPxTroVf"
      },
      "source": [
        "Size of DataFrame"
      ]
    },
    {
      "cell_type": "code",
      "execution_count": 115,
      "metadata": {
        "id": "iGVtW1YEPtvV"
      },
      "outputs": [
        {
          "data": {
            "text/plain": [
              "250"
            ]
          },
          "execution_count": 115,
          "metadata": {},
          "output_type": "execute_result"
        }
      ],
      "source": [
        "# Answer Here\n",
        "data2.size"
      ]
    },
    {
      "cell_type": "markdown",
      "metadata": {
        "id": "PB4R3k_6PtvW"
      },
      "source": [
        "The fact that the size is 250 means our data file is relatively small, with only 250 total entries.\n",
        "\n",
        "Shape of DataFrame"
      ]
    },
    {
      "cell_type": "code",
      "execution_count": 116,
      "metadata": {
        "id": "dBaU7nMNPtvW"
      },
      "outputs": [
        {
          "data": {
            "text/plain": [
              "(50, 5)"
            ]
          },
          "execution_count": 116,
          "metadata": {},
          "output_type": "execute_result"
        }
      ],
      "source": [
        "# Answer Here\n",
        "data2.shape"
      ]
    },
    {
      "cell_type": "markdown",
      "metadata": {
        "id": "NevFNt3_PtvW"
      },
      "source": [
        "Use describe function and extract the meaningful information from DataFrame"
      ]
    },
    {
      "cell_type": "code",
      "execution_count": 117,
      "metadata": {
        "id": "7T7Xg4wePtvW"
      },
      "outputs": [
        {
          "data": {
            "text/html": [
              "<div>\n",
              "<style scoped>\n",
              "    .dataframe tbody tr th:only-of-type {\n",
              "        vertical-align: middle;\n",
              "    }\n",
              "\n",
              "    .dataframe tbody tr th {\n",
              "        vertical-align: top;\n",
              "    }\n",
              "\n",
              "    .dataframe thead th {\n",
              "        text-align: right;\n",
              "    }\n",
              "</style>\n",
              "<table border=\"1\" class=\"dataframe\">\n",
              "  <thead>\n",
              "    <tr style=\"text-align: right;\">\n",
              "      <th></th>\n",
              "      <th>State</th>\n",
              "      <th>Motto</th>\n",
              "      <th>Translation</th>\n",
              "      <th>Language</th>\n",
              "      <th>Date Adopted</th>\n",
              "    </tr>\n",
              "  </thead>\n",
              "  <tbody>\n",
              "    <tr>\n",
              "      <th>count</th>\n",
              "      <td>50</td>\n",
              "      <td>50</td>\n",
              "      <td>49</td>\n",
              "      <td>50</td>\n",
              "      <td>50</td>\n",
              "    </tr>\n",
              "    <tr>\n",
              "      <th>unique</th>\n",
              "      <td>50</td>\n",
              "      <td>50</td>\n",
              "      <td>30</td>\n",
              "      <td>8</td>\n",
              "      <td>47</td>\n",
              "    </tr>\n",
              "    <tr>\n",
              "      <th>top</th>\n",
              "      <td>Alabama</td>\n",
              "      <td>Audemus jura nostra defendere</td>\n",
              "      <td>—</td>\n",
              "      <td>Latin</td>\n",
              "      <td>1893</td>\n",
              "    </tr>\n",
              "    <tr>\n",
              "      <th>freq</th>\n",
              "      <td>1</td>\n",
              "      <td>1</td>\n",
              "      <td>20</td>\n",
              "      <td>23</td>\n",
              "      <td>2</td>\n",
              "    </tr>\n",
              "  </tbody>\n",
              "</table>\n",
              "</div>"
            ],
            "text/plain": [
              "          State                          Motto Translation Language  \\\n",
              "count        50                             50          49       50   \n",
              "unique       50                             50          30        8   \n",
              "top     Alabama  Audemus jura nostra defendere           —    Latin   \n",
              "freq          1                              1          20       23   \n",
              "\n",
              "       Date Adopted  \n",
              "count            50  \n",
              "unique           47  \n",
              "top            1893  \n",
              "freq              2  "
            ]
          },
          "execution_count": 117,
          "metadata": {},
          "output_type": "execute_result"
        }
      ],
      "source": [
        "# Answer Here\n",
        "data2.describe()"
      ]
    },
    {
      "cell_type": "markdown",
      "metadata": {
        "id": "jEAxyt57PtvW"
      },
      "source": [
        "Above, we see a quick summary of all the data. For example, the most common language for mottos is Latin, which covers 23 different states. Does anything else seem surprising?"
      ]
    },
    {
      "cell_type": "markdown",
      "metadata": {
        "id": "5Sz84ZcoPtvX"
      },
      "source": [
        "We can get a direct reference to the index using .index."
      ]
    },
    {
      "cell_type": "code",
      "execution_count": 118,
      "metadata": {
        "id": "Oc8PNHQSPtvX"
      },
      "outputs": [
        {
          "data": {
            "text/plain": [
              "RangeIndex(start=0, stop=50, step=1)"
            ]
          },
          "execution_count": 118,
          "metadata": {},
          "output_type": "execute_result"
        }
      ],
      "source": [
        "# Answer Here\n",
        "data2.index"
      ]
    },
    {
      "cell_type": "markdown",
      "metadata": {
        "id": "IZRgHL-cPtvX"
      },
      "source": [
        "It turns out the columns also have an Index. We can access this index by using `.columns`."
      ]
    },
    {
      "cell_type": "code",
      "execution_count": 120,
      "metadata": {
        "colab": {
          "base_uri": "https://localhost:8080/"
        },
        "id": "b3uXufYwPtvX",
        "outputId": "c97a8be0-cdf1-4ace-da34-8ed493a72928"
      },
      "outputs": [
        {
          "data": {
            "text/plain": [
              "Index(['State', 'Motto', 'Translation', 'Language', 'Date Adopted'], dtype='object')"
            ]
          },
          "execution_count": 120,
          "metadata": {},
          "output_type": "execute_result"
        }
      ],
      "source": [
        "# Answer Here\n",
        "data2.columns"
      ]
    },
    {
      "cell_type": "markdown",
      "metadata": {
        "id": "vfqTqtXjPtvY"
      },
      "source": [
        "## Sorting and Value Counts\n",
        "\n",
        "There are also a ton of useful utility methods we can use with Data Frames and Series. For example, we can create a copy of a data frame sorted by a specific column using `sort_values`."
      ]
    },
    {
      "cell_type": "code",
      "execution_count": 125,
      "metadata": {
        "id": "ioH43WI_PtvY"
      },
      "outputs": [
        {
          "data": {
            "text/html": [
              "<div>\n",
              "<style scoped>\n",
              "    .dataframe tbody tr th:only-of-type {\n",
              "        vertical-align: middle;\n",
              "    }\n",
              "\n",
              "    .dataframe tbody tr th {\n",
              "        vertical-align: top;\n",
              "    }\n",
              "\n",
              "    .dataframe thead th {\n",
              "        text-align: right;\n",
              "    }\n",
              "</style>\n",
              "<table border=\"1\" class=\"dataframe\">\n",
              "  <thead>\n",
              "    <tr style=\"text-align: right;\">\n",
              "      <th></th>\n",
              "      <th>State</th>\n",
              "      <th>Motto</th>\n",
              "      <th>Translation</th>\n",
              "      <th>Language</th>\n",
              "      <th>Date Adopted</th>\n",
              "    </tr>\n",
              "  </thead>\n",
              "  <tbody>\n",
              "    <tr>\n",
              "      <th>20</th>\n",
              "      <td>Massachusetts</td>\n",
              "      <td>Ense petit placidam sub libertate quietem</td>\n",
              "      <td>By the sword we seek peace, but peace only und...</td>\n",
              "      <td>Latin</td>\n",
              "      <td>1775</td>\n",
              "    </tr>\n",
              "    <tr>\n",
              "      <th>45</th>\n",
              "      <td>Virginia</td>\n",
              "      <td>Sic semper tyrannis</td>\n",
              "      <td>Thus always to tyrants</td>\n",
              "      <td>Latin</td>\n",
              "      <td>1776</td>\n",
              "    </tr>\n",
              "    <tr>\n",
              "      <th>31</th>\n",
              "      <td>New York</td>\n",
              "      <td>Excelsior</td>\n",
              "      <td>Ever upward</td>\n",
              "      <td>Latin</td>\n",
              "      <td>1778</td>\n",
              "    </tr>\n",
              "    <tr>\n",
              "      <th>9</th>\n",
              "      <td>Georgia</td>\n",
              "      <td>Wisdom, Justice, Moderation</td>\n",
              "      <td>—</td>\n",
              "      <td>English</td>\n",
              "      <td>1798</td>\n",
              "    </tr>\n",
              "    <tr>\n",
              "      <th>12</th>\n",
              "      <td>Illinois</td>\n",
              "      <td>State sovereignty, national union</td>\n",
              "      <td>—</td>\n",
              "      <td>English</td>\n",
              "      <td>1819</td>\n",
              "    </tr>\n",
              "    <tr>\n",
              "      <th>18</th>\n",
              "      <td>Maine</td>\n",
              "      <td>Dirigo</td>\n",
              "      <td>I lead</td>\n",
              "      <td>Latin</td>\n",
              "      <td>1820</td>\n",
              "    </tr>\n",
              "    <tr>\n",
              "      <th>14</th>\n",
              "      <td>Iowa</td>\n",
              "      <td>Our liberties we prize and our rights we will ...</td>\n",
              "      <td>—</td>\n",
              "      <td>English</td>\n",
              "      <td>1847</td>\n",
              "    </tr>\n",
              "    <tr>\n",
              "      <th>7</th>\n",
              "      <td>Delaware</td>\n",
              "      <td>Liberty and Independence</td>\n",
              "      <td>—</td>\n",
              "      <td>English</td>\n",
              "      <td>1847</td>\n",
              "    </tr>\n",
              "    <tr>\n",
              "      <th>4</th>\n",
              "      <td>California</td>\n",
              "      <td>Eureka (Εὕρηκα)</td>\n",
              "      <td>I have found it</td>\n",
              "      <td>Greek</td>\n",
              "      <td>1849</td>\n",
              "    </tr>\n",
              "    <tr>\n",
              "      <th>48</th>\n",
              "      <td>Wisconsin</td>\n",
              "      <td>Forward</td>\n",
              "      <td>—</td>\n",
              "      <td>English</td>\n",
              "      <td>1851</td>\n",
              "    </tr>\n",
              "    <tr>\n",
              "      <th>36</th>\n",
              "      <td>Oregon</td>\n",
              "      <td>Alis volat propriis</td>\n",
              "      <td>She flies with her own wings</td>\n",
              "      <td>Latin</td>\n",
              "      <td>1854</td>\n",
              "    </tr>\n",
              "    <tr>\n",
              "      <th>15</th>\n",
              "      <td>Kansas</td>\n",
              "      <td>Ad astra per aspera</td>\n",
              "      <td>To the stars through difficulties</td>\n",
              "      <td>Latin</td>\n",
              "      <td>1861</td>\n",
              "    </tr>\n",
              "    <tr>\n",
              "      <th>22</th>\n",
              "      <td>Minnesota</td>\n",
              "      <td>L'étoile du Nord</td>\n",
              "      <td>The star of the North</td>\n",
              "      <td>French</td>\n",
              "      <td>1861</td>\n",
              "    </tr>\n",
              "    <tr>\n",
              "      <th>2</th>\n",
              "      <td>Arizona</td>\n",
              "      <td>Ditat Deus</td>\n",
              "      <td>God enriches</td>\n",
              "      <td>Latin</td>\n",
              "      <td>1863</td>\n",
              "    </tr>\n",
              "    <tr>\n",
              "      <th>26</th>\n",
              "      <td>Nebraska</td>\n",
              "      <td>Equality before the law</td>\n",
              "      <td>—</td>\n",
              "      <td>English</td>\n",
              "      <td>1867</td>\n",
              "    </tr>\n",
              "    <tr>\n",
              "      <th>8</th>\n",
              "      <td>Florida</td>\n",
              "      <td>In God We Trust</td>\n",
              "      <td>—</td>\n",
              "      <td>English</td>\n",
              "      <td>1868</td>\n",
              "    </tr>\n",
              "    <tr>\n",
              "      <th>19</th>\n",
              "      <td>Maryland</td>\n",
              "      <td>Fatti maschii, parole femine</td>\n",
              "      <td>Manly deeds, womanly words</td>\n",
              "      <td>Italian</td>\n",
              "      <td>1874</td>\n",
              "    </tr>\n",
              "    <tr>\n",
              "      <th>37</th>\n",
              "      <td>Pennsylvania</td>\n",
              "      <td>Virtue, liberty, and independence</td>\n",
              "      <td>—</td>\n",
              "      <td>English</td>\n",
              "      <td>1875</td>\n",
              "    </tr>\n",
              "    <tr>\n",
              "      <th>40</th>\n",
              "      <td>South Dakota</td>\n",
              "      <td>Under God the people rule</td>\n",
              "      <td>—</td>\n",
              "      <td>English</td>\n",
              "      <td>1885</td>\n",
              "    </tr>\n",
              "    <tr>\n",
              "      <th>30</th>\n",
              "      <td>New Mexico</td>\n",
              "      <td>Crescit eundo</td>\n",
              "      <td>It grows as it goes</td>\n",
              "      <td>Latin</td>\n",
              "      <td>1887</td>\n",
              "    </tr>\n",
              "    <tr>\n",
              "      <th>11</th>\n",
              "      <td>Idaho</td>\n",
              "      <td>Esto perpetua</td>\n",
              "      <td>Let it be perpetual</td>\n",
              "      <td>Latin</td>\n",
              "      <td>1890</td>\n",
              "    </tr>\n",
              "    <tr>\n",
              "      <th>32</th>\n",
              "      <td>North Carolina</td>\n",
              "      <td>Esse quam videri</td>\n",
              "      <td>To be, rather than to seem</td>\n",
              "      <td>Latin</td>\n",
              "      <td>1893</td>\n",
              "    </tr>\n",
              "    <tr>\n",
              "      <th>49</th>\n",
              "      <td>Wyoming</td>\n",
              "      <td>Equal Rights</td>\n",
              "      <td>—</td>\n",
              "      <td>English</td>\n",
              "      <td>1893</td>\n",
              "    </tr>\n",
              "    <tr>\n",
              "      <th>17</th>\n",
              "      <td>Louisiana</td>\n",
              "      <td>Union, justice, confidence</td>\n",
              "      <td>—</td>\n",
              "      <td>English</td>\n",
              "      <td>1902</td>\n",
              "    </tr>\n",
              "    <tr>\n",
              "      <th>3</th>\n",
              "      <td>Arkansas</td>\n",
              "      <td>Regnat populus</td>\n",
              "      <td>The people rule</td>\n",
              "      <td>Latin</td>\n",
              "      <td>1907</td>\n",
              "    </tr>\n",
              "    <tr>\n",
              "      <th>0</th>\n",
              "      <td>Alabama</td>\n",
              "      <td>Audemus jura nostra defendere</td>\n",
              "      <td>We dare defend our rights!</td>\n",
              "      <td>Latin</td>\n",
              "      <td>1923</td>\n",
              "    </tr>\n",
              "    <tr>\n",
              "      <th>42</th>\n",
              "      <td>Texas</td>\n",
              "      <td>Friendship</td>\n",
              "      <td>—</td>\n",
              "      <td>English</td>\n",
              "      <td>1930</td>\n",
              "    </tr>\n",
              "    <tr>\n",
              "      <th>13</th>\n",
              "      <td>Indiana</td>\n",
              "      <td>The Crossroads of America</td>\n",
              "      <td>—</td>\n",
              "      <td>English</td>\n",
              "      <td>1937</td>\n",
              "    </tr>\n",
              "    <tr>\n",
              "      <th>28</th>\n",
              "      <td>New Hampshire</td>\n",
              "      <td>Live Free or Die</td>\n",
              "      <td>—</td>\n",
              "      <td>English</td>\n",
              "      <td>1945</td>\n",
              "    </tr>\n",
              "    <tr>\n",
              "      <th>1</th>\n",
              "      <td>Alaska</td>\n",
              "      <td>North to the future</td>\n",
              "      <td>—</td>\n",
              "      <td>English</td>\n",
              "      <td>1967</td>\n",
              "    </tr>\n",
              "    <tr>\n",
              "      <th>16</th>\n",
              "      <td>Kentucky</td>\n",
              "      <td>Deo gratiam habeamus</td>\n",
              "      <td>Let us be grateful to God</td>\n",
              "      <td>Latin</td>\n",
              "      <td>2002</td>\n",
              "    </tr>\n",
              "    <tr>\n",
              "      <th>44</th>\n",
              "      <td>Vermont</td>\n",
              "      <td>Stella quarta decima fulgeat</td>\n",
              "      <td>May the fourteenth star shine bright</td>\n",
              "      <td>Latin</td>\n",
              "      <td>April 10, 2015</td>\n",
              "    </tr>\n",
              "    <tr>\n",
              "      <th>27</th>\n",
              "      <td>Nevada</td>\n",
              "      <td>All For Our Country</td>\n",
              "      <td>—</td>\n",
              "      <td>English</td>\n",
              "      <td>February 24, 1866</td>\n",
              "    </tr>\n",
              "    <tr>\n",
              "      <th>23</th>\n",
              "      <td>Mississippi</td>\n",
              "      <td>Virtute et armis</td>\n",
              "      <td>By valor and arms</td>\n",
              "      <td>Latin</td>\n",
              "      <td>February 7, 1894</td>\n",
              "    </tr>\n",
              "    <tr>\n",
              "      <th>25</th>\n",
              "      <td>Montana</td>\n",
              "      <td>Oro y plata</td>\n",
              "      <td>Gold and silver</td>\n",
              "      <td>Spanish</td>\n",
              "      <td>February 9, 1865</td>\n",
              "    </tr>\n",
              "    <tr>\n",
              "      <th>24</th>\n",
              "      <td>Missouri</td>\n",
              "      <td>Salus populi suprema lex esto</td>\n",
              "      <td>Let the welfare of the people be the supreme law</td>\n",
              "      <td>Latin</td>\n",
              "      <td>January 11, 1822</td>\n",
              "    </tr>\n",
              "    <tr>\n",
              "      <th>10</th>\n",
              "      <td>Hawaii</td>\n",
              "      <td>Ua mau ke ea o ka ʻāina i ka pono</td>\n",
              "      <td>The life of the land is perpetuated in righteo...</td>\n",
              "      <td>Hawaiian</td>\n",
              "      <td>July 31, 1843</td>\n",
              "    </tr>\n",
              "    <tr>\n",
              "      <th>21</th>\n",
              "      <td>Michigan</td>\n",
              "      <td>Si quaeris peninsulam amoenam circumspice</td>\n",
              "      <td>If you seek a pleasant peninsula, look about you</td>\n",
              "      <td>Latin</td>\n",
              "      <td>June 2, 1835</td>\n",
              "    </tr>\n",
              "    <tr>\n",
              "      <th>35</th>\n",
              "      <td>Oklahoma</td>\n",
              "      <td>Labor omnia vincit</td>\n",
              "      <td>Labor conquers all things</td>\n",
              "      <td>Latin</td>\n",
              "      <td>March 10, 1893</td>\n",
              "    </tr>\n",
              "    <tr>\n",
              "      <th>33</th>\n",
              "      <td>North Dakota</td>\n",
              "      <td>\\nSerit ut alteri saeclo prosit</td>\n",
              "      <td>One sows for the benefit of another age</td>\n",
              "      <td>Latin</td>\n",
              "      <td>March 11, 2011</td>\n",
              "    </tr>\n",
              "    <tr>\n",
              "      <th>29</th>\n",
              "      <td>New Jersey</td>\n",
              "      <td>Liberty and prosperity</td>\n",
              "      <td>—</td>\n",
              "      <td>English</td>\n",
              "      <td>March 26, 1928</td>\n",
              "    </tr>\n",
              "    <tr>\n",
              "      <th>39</th>\n",
              "      <td>South Carolina</td>\n",
              "      <td>Dum spiro spero \\nAnimis opibusque parati</td>\n",
              "      <td>While I breathe, I hope \\nReady in soul and re...</td>\n",
              "      <td>Latin</td>\n",
              "      <td>May 22, 1777</td>\n",
              "    </tr>\n",
              "    <tr>\n",
              "      <th>41</th>\n",
              "      <td>Tennessee</td>\n",
              "      <td>Agriculture and Commerce</td>\n",
              "      <td>—</td>\n",
              "      <td>English</td>\n",
              "      <td>May 24, 1802</td>\n",
              "    </tr>\n",
              "    <tr>\n",
              "      <th>43</th>\n",
              "      <td>Utah</td>\n",
              "      <td>Industry</td>\n",
              "      <td>NaN</td>\n",
              "      <td>English</td>\n",
              "      <td>May 3, 1896</td>\n",
              "    </tr>\n",
              "    <tr>\n",
              "      <th>38</th>\n",
              "      <td>Rhode Island</td>\n",
              "      <td>Hope</td>\n",
              "      <td>—</td>\n",
              "      <td>English</td>\n",
              "      <td>May 4, 1664</td>\n",
              "    </tr>\n",
              "    <tr>\n",
              "      <th>5</th>\n",
              "      <td>Colorado</td>\n",
              "      <td>Nil sine numine</td>\n",
              "      <td>Nothing without providence.</td>\n",
              "      <td>Latin</td>\n",
              "      <td>November 6, 1861</td>\n",
              "    </tr>\n",
              "    <tr>\n",
              "      <th>34</th>\n",
              "      <td>Ohio</td>\n",
              "      <td>With God, all things are possible</td>\n",
              "      <td>—</td>\n",
              "      <td>English</td>\n",
              "      <td>October 1, 1959</td>\n",
              "    </tr>\n",
              "    <tr>\n",
              "      <th>6</th>\n",
              "      <td>Connecticut</td>\n",
              "      <td>Qui transtulit sustinet</td>\n",
              "      <td>He who transplanted sustains</td>\n",
              "      <td>Latin</td>\n",
              "      <td>October 9, 1662</td>\n",
              "    </tr>\n",
              "    <tr>\n",
              "      <th>47</th>\n",
              "      <td>West Virginia</td>\n",
              "      <td>Montani semper liberi</td>\n",
              "      <td>Mountaineers are always free</td>\n",
              "      <td>Latin</td>\n",
              "      <td>September 26, 1863</td>\n",
              "    </tr>\n",
              "    <tr>\n",
              "      <th>46</th>\n",
              "      <td>Washington</td>\n",
              "      <td>Al-ki or Alki</td>\n",
              "      <td>By and by</td>\n",
              "      <td>Chinook Jargon</td>\n",
              "      <td>—</td>\n",
              "    </tr>\n",
              "  </tbody>\n",
              "</table>\n",
              "</div>"
            ],
            "text/plain": [
              "             State                                              Motto  \\\n",
              "20   Massachusetts          Ense petit placidam sub libertate quietem   \n",
              "45        Virginia                                Sic semper tyrannis   \n",
              "31        New York                                          Excelsior   \n",
              "9          Georgia                        Wisdom, Justice, Moderation   \n",
              "12        Illinois                  State sovereignty, national union   \n",
              "18           Maine                                             Dirigo   \n",
              "14            Iowa  Our liberties we prize and our rights we will ...   \n",
              "7         Delaware                           Liberty and Independence   \n",
              "4       California                                    Eureka (Εὕρηκα)   \n",
              "48       Wisconsin                                            Forward   \n",
              "36          Oregon                                Alis volat propriis   \n",
              "15          Kansas                                Ad astra per aspera   \n",
              "22       Minnesota                                   L'étoile du Nord   \n",
              "2          Arizona                                         Ditat Deus   \n",
              "26        Nebraska                            Equality before the law   \n",
              "8          Florida                                    In God We Trust   \n",
              "19        Maryland                       Fatti maschii, parole femine   \n",
              "37    Pennsylvania                  Virtue, liberty, and independence   \n",
              "40    South Dakota                          Under God the people rule   \n",
              "30      New Mexico                                      Crescit eundo   \n",
              "11           Idaho                                      Esto perpetua   \n",
              "32  North Carolina                                   Esse quam videri   \n",
              "49         Wyoming                                       Equal Rights   \n",
              "17       Louisiana                         Union, justice, confidence   \n",
              "3         Arkansas                                     Regnat populus   \n",
              "0          Alabama                      Audemus jura nostra defendere   \n",
              "42           Texas                                         Friendship   \n",
              "13         Indiana                          The Crossroads of America   \n",
              "28   New Hampshire                                   Live Free or Die   \n",
              "1           Alaska                                North to the future   \n",
              "16        Kentucky                               Deo gratiam habeamus   \n",
              "44         Vermont                       Stella quarta decima fulgeat   \n",
              "27          Nevada                                All For Our Country   \n",
              "23     Mississippi                                   Virtute et armis   \n",
              "25         Montana                                        Oro y plata   \n",
              "24        Missouri                      Salus populi suprema lex esto   \n",
              "10          Hawaii                  Ua mau ke ea o ka ʻāina i ka pono   \n",
              "21        Michigan          Si quaeris peninsulam amoenam circumspice   \n",
              "35        Oklahoma                                 Labor omnia vincit   \n",
              "33    North Dakota                    \\nSerit ut alteri saeclo prosit   \n",
              "29      New Jersey                             Liberty and prosperity   \n",
              "39  South Carolina          Dum spiro spero \\nAnimis opibusque parati   \n",
              "41       Tennessee                           Agriculture and Commerce   \n",
              "43            Utah                                           Industry   \n",
              "38    Rhode Island                                               Hope   \n",
              "5         Colorado                                    Nil sine numine   \n",
              "34            Ohio                  With God, all things are possible   \n",
              "6      Connecticut                            Qui transtulit sustinet   \n",
              "47   West Virginia                              Montani semper liberi   \n",
              "46      Washington                                      Al-ki or Alki   \n",
              "\n",
              "                                          Translation        Language  \\\n",
              "20  By the sword we seek peace, but peace only und...           Latin   \n",
              "45                             Thus always to tyrants           Latin   \n",
              "31                                        Ever upward           Latin   \n",
              "9                                                   —         English   \n",
              "12                                                  —         English   \n",
              "18                                             I lead           Latin   \n",
              "14                                                  —         English   \n",
              "7                                                   —         English   \n",
              "4                                     I have found it           Greek   \n",
              "48                                                  —         English   \n",
              "36                       She flies with her own wings           Latin   \n",
              "15                  To the stars through difficulties           Latin   \n",
              "22                              The star of the North          French   \n",
              "2                                        God enriches           Latin   \n",
              "26                                                  —         English   \n",
              "8                                                   —         English   \n",
              "19                         Manly deeds, womanly words         Italian   \n",
              "37                                                  —         English   \n",
              "40                                                  —         English   \n",
              "30                                It grows as it goes           Latin   \n",
              "11                                Let it be perpetual           Latin   \n",
              "32                         To be, rather than to seem           Latin   \n",
              "49                                                  —         English   \n",
              "17                                                  —         English   \n",
              "3                                     The people rule           Latin   \n",
              "0                          We dare defend our rights!           Latin   \n",
              "42                                                  —         English   \n",
              "13                                                  —         English   \n",
              "28                                                  —         English   \n",
              "1                                                   —         English   \n",
              "16                          Let us be grateful to God           Latin   \n",
              "44               May the fourteenth star shine bright           Latin   \n",
              "27                                                  —         English   \n",
              "23                                  By valor and arms           Latin   \n",
              "25                                    Gold and silver         Spanish   \n",
              "24   Let the welfare of the people be the supreme law           Latin   \n",
              "10  The life of the land is perpetuated in righteo...        Hawaiian   \n",
              "21   If you seek a pleasant peninsula, look about you           Latin   \n",
              "35                          Labor conquers all things           Latin   \n",
              "33            One sows for the benefit of another age           Latin   \n",
              "29                                                  —         English   \n",
              "39  While I breathe, I hope \\nReady in soul and re...           Latin   \n",
              "41                                                  —         English   \n",
              "43                                                NaN         English   \n",
              "38                                                  —         English   \n",
              "5                         Nothing without providence.           Latin   \n",
              "34                                                  —         English   \n",
              "6                        He who transplanted sustains           Latin   \n",
              "47                       Mountaineers are always free           Latin   \n",
              "46                                          By and by  Chinook Jargon   \n",
              "\n",
              "          Date Adopted  \n",
              "20                1775  \n",
              "45                1776  \n",
              "31                1778  \n",
              "9                 1798  \n",
              "12                1819  \n",
              "18                1820  \n",
              "14                1847  \n",
              "7                 1847  \n",
              "4                 1849  \n",
              "48                1851  \n",
              "36                1854  \n",
              "15                1861  \n",
              "22                1861  \n",
              "2                 1863  \n",
              "26                1867  \n",
              "8                 1868  \n",
              "19                1874  \n",
              "37                1875  \n",
              "40                1885  \n",
              "30                1887  \n",
              "11                1890  \n",
              "32                1893  \n",
              "49                1893  \n",
              "17                1902  \n",
              "3                 1907  \n",
              "0                 1923  \n",
              "42                1930  \n",
              "13                1937  \n",
              "28                1945  \n",
              "1                 1967  \n",
              "16                2002  \n",
              "44      April 10, 2015  \n",
              "27   February 24, 1866  \n",
              "23    February 7, 1894  \n",
              "25    February 9, 1865  \n",
              "24    January 11, 1822  \n",
              "10       July 31, 1843  \n",
              "21        June 2, 1835  \n",
              "35      March 10, 1893  \n",
              "33      March 11, 2011  \n",
              "29      March 26, 1928  \n",
              "39        May 22, 1777  \n",
              "41        May 24, 1802  \n",
              "43         May 3, 1896  \n",
              "38         May 4, 1664  \n",
              "5     November 6, 1861  \n",
              "34     October 1, 1959  \n",
              "6      October 9, 1662  \n",
              "47  September 26, 1863  \n",
              "46                   —  "
            ]
          },
          "execution_count": 125,
          "metadata": {},
          "output_type": "execute_result"
        }
      ],
      "source": [
        "# Answer Here\n",
        "data2.sort_values(by=\"Date Adopted\")"
      ]
    },
    {
      "cell_type": "markdown",
      "metadata": {
        "id": "LwW2YK8gPtvY"
      },
      "source": [
        "As mentioned before, all Data Frame methods return a copy and do **not** modify the original data structure, unless you set inplace to True."
      ]
    },
    {
      "cell_type": "markdown",
      "metadata": {
        "id": "tMqlf3Q8PtvY"
      },
      "source": [
        "If we want to sort in reverse order, we can set `ascending=False`."
      ]
    },
    {
      "cell_type": "code",
      "execution_count": 126,
      "metadata": {
        "id": "-Cx7vHzKPtvY"
      },
      "outputs": [
        {
          "data": {
            "text/html": [
              "<div>\n",
              "<style scoped>\n",
              "    .dataframe tbody tr th:only-of-type {\n",
              "        vertical-align: middle;\n",
              "    }\n",
              "\n",
              "    .dataframe tbody tr th {\n",
              "        vertical-align: top;\n",
              "    }\n",
              "\n",
              "    .dataframe thead th {\n",
              "        text-align: right;\n",
              "    }\n",
              "</style>\n",
              "<table border=\"1\" class=\"dataframe\">\n",
              "  <thead>\n",
              "    <tr style=\"text-align: right;\">\n",
              "      <th></th>\n",
              "      <th>Candidate</th>\n",
              "      <th>Party</th>\n",
              "      <th>%</th>\n",
              "      <th>Year</th>\n",
              "      <th>Result</th>\n",
              "    </tr>\n",
              "  </thead>\n",
              "  <tbody>\n",
              "    <tr>\n",
              "      <th>3</th>\n",
              "      <td>Reagan</td>\n",
              "      <td>Republican</td>\n",
              "      <td>58.8</td>\n",
              "      <td>1984</td>\n",
              "      <td>win</td>\n",
              "    </tr>\n",
              "    <tr>\n",
              "      <th>5</th>\n",
              "      <td>Bush</td>\n",
              "      <td>Republican</td>\n",
              "      <td>53.4</td>\n",
              "      <td>1988</td>\n",
              "      <td>win</td>\n",
              "    </tr>\n",
              "    <tr>\n",
              "      <th>17</th>\n",
              "      <td>Obama</td>\n",
              "      <td>Democratic</td>\n",
              "      <td>52.9</td>\n",
              "      <td>2008</td>\n",
              "      <td>win</td>\n",
              "    </tr>\n",
              "    <tr>\n",
              "      <th>19</th>\n",
              "      <td>Obama</td>\n",
              "      <td>Democratic</td>\n",
              "      <td>51.1</td>\n",
              "      <td>2012</td>\n",
              "      <td>win</td>\n",
              "    </tr>\n",
              "    <tr>\n",
              "      <th>0</th>\n",
              "      <td>Reagan</td>\n",
              "      <td>Republican</td>\n",
              "      <td>50.7</td>\n",
              "      <td>1980</td>\n",
              "      <td>win</td>\n",
              "    </tr>\n",
              "    <tr>\n",
              "      <th>16</th>\n",
              "      <td>Bush</td>\n",
              "      <td>Republican</td>\n",
              "      <td>50.7</td>\n",
              "      <td>2004</td>\n",
              "      <td>win</td>\n",
              "    </tr>\n",
              "    <tr>\n",
              "      <th>10</th>\n",
              "      <td>Clinton</td>\n",
              "      <td>Democratic</td>\n",
              "      <td>49.2</td>\n",
              "      <td>1996</td>\n",
              "      <td>win</td>\n",
              "    </tr>\n",
              "    <tr>\n",
              "      <th>13</th>\n",
              "      <td>Gore</td>\n",
              "      <td>Democratic</td>\n",
              "      <td>48.4</td>\n",
              "      <td>2000</td>\n",
              "      <td>loss</td>\n",
              "    </tr>\n",
              "    <tr>\n",
              "      <th>15</th>\n",
              "      <td>Kerry</td>\n",
              "      <td>Democratic</td>\n",
              "      <td>48.3</td>\n",
              "      <td>2004</td>\n",
              "      <td>loss</td>\n",
              "    </tr>\n",
              "    <tr>\n",
              "      <th>21</th>\n",
              "      <td>Clinton</td>\n",
              "      <td>Democratic</td>\n",
              "      <td>48.2</td>\n",
              "      <td>2016</td>\n",
              "      <td>loss</td>\n",
              "    </tr>\n",
              "    <tr>\n",
              "      <th>14</th>\n",
              "      <td>Bush</td>\n",
              "      <td>Republican</td>\n",
              "      <td>47.9</td>\n",
              "      <td>2000</td>\n",
              "      <td>win</td>\n",
              "    </tr>\n",
              "    <tr>\n",
              "      <th>20</th>\n",
              "      <td>Romney</td>\n",
              "      <td>Republican</td>\n",
              "      <td>47.2</td>\n",
              "      <td>2012</td>\n",
              "      <td>loss</td>\n",
              "    </tr>\n",
              "    <tr>\n",
              "      <th>22</th>\n",
              "      <td>Trump</td>\n",
              "      <td>Republican</td>\n",
              "      <td>46.1</td>\n",
              "      <td>2016</td>\n",
              "      <td>win</td>\n",
              "    </tr>\n",
              "    <tr>\n",
              "      <th>18</th>\n",
              "      <td>McCain</td>\n",
              "      <td>Republican</td>\n",
              "      <td>45.7</td>\n",
              "      <td>2008</td>\n",
              "      <td>loss</td>\n",
              "    </tr>\n",
              "    <tr>\n",
              "      <th>6</th>\n",
              "      <td>Dukakis</td>\n",
              "      <td>Democratic</td>\n",
              "      <td>45.6</td>\n",
              "      <td>1988</td>\n",
              "      <td>loss</td>\n",
              "    </tr>\n",
              "    <tr>\n",
              "      <th>7</th>\n",
              "      <td>Clinton</td>\n",
              "      <td>Democratic</td>\n",
              "      <td>43.0</td>\n",
              "      <td>1992</td>\n",
              "      <td>win</td>\n",
              "    </tr>\n",
              "    <tr>\n",
              "      <th>1</th>\n",
              "      <td>Carter</td>\n",
              "      <td>Democratic</td>\n",
              "      <td>41.0</td>\n",
              "      <td>1980</td>\n",
              "      <td>loss</td>\n",
              "    </tr>\n",
              "    <tr>\n",
              "      <th>11</th>\n",
              "      <td>Dole</td>\n",
              "      <td>Republican</td>\n",
              "      <td>40.7</td>\n",
              "      <td>1996</td>\n",
              "      <td>loss</td>\n",
              "    </tr>\n",
              "    <tr>\n",
              "      <th>4</th>\n",
              "      <td>Mondale</td>\n",
              "      <td>Democratic</td>\n",
              "      <td>37.6</td>\n",
              "      <td>1984</td>\n",
              "      <td>loss</td>\n",
              "    </tr>\n",
              "    <tr>\n",
              "      <th>8</th>\n",
              "      <td>Bush</td>\n",
              "      <td>Republican</td>\n",
              "      <td>37.4</td>\n",
              "      <td>1992</td>\n",
              "      <td>loss</td>\n",
              "    </tr>\n",
              "    <tr>\n",
              "      <th>9</th>\n",
              "      <td>Perot</td>\n",
              "      <td>Independent</td>\n",
              "      <td>18.9</td>\n",
              "      <td>1992</td>\n",
              "      <td>loss</td>\n",
              "    </tr>\n",
              "    <tr>\n",
              "      <th>12</th>\n",
              "      <td>Perot</td>\n",
              "      <td>Independent</td>\n",
              "      <td>8.4</td>\n",
              "      <td>1996</td>\n",
              "      <td>loss</td>\n",
              "    </tr>\n",
              "    <tr>\n",
              "      <th>2</th>\n",
              "      <td>Anderson</td>\n",
              "      <td>Independent</td>\n",
              "      <td>6.6</td>\n",
              "      <td>1980</td>\n",
              "      <td>loss</td>\n",
              "    </tr>\n",
              "  </tbody>\n",
              "</table>\n",
              "</div>"
            ],
            "text/plain": [
              "   Candidate        Party     %  Year Result\n",
              "3     Reagan   Republican  58.8  1984    win\n",
              "5       Bush   Republican  53.4  1988    win\n",
              "17     Obama   Democratic  52.9  2008    win\n",
              "19     Obama   Democratic  51.1  2012    win\n",
              "0     Reagan   Republican  50.7  1980    win\n",
              "16      Bush   Republican  50.7  2004    win\n",
              "10   Clinton   Democratic  49.2  1996    win\n",
              "13      Gore   Democratic  48.4  2000   loss\n",
              "15     Kerry   Democratic  48.3  2004   loss\n",
              "21   Clinton   Democratic  48.2  2016   loss\n",
              "14      Bush   Republican  47.9  2000    win\n",
              "20    Romney   Republican  47.2  2012   loss\n",
              "22     Trump   Republican  46.1  2016    win\n",
              "18    McCain   Republican  45.7  2008   loss\n",
              "6    Dukakis   Democratic  45.6  1988   loss\n",
              "7    Clinton   Democratic  43.0  1992    win\n",
              "1     Carter   Democratic  41.0  1980   loss\n",
              "11      Dole   Republican  40.7  1996   loss\n",
              "4    Mondale   Democratic  37.6  1984   loss\n",
              "8       Bush   Republican  37.4  1992   loss\n",
              "9      Perot  Independent  18.9  1992   loss\n",
              "12     Perot  Independent   8.4  1996   loss\n",
              "2   Anderson  Independent   6.6  1980   loss"
            ]
          },
          "execution_count": 126,
          "metadata": {},
          "output_type": "execute_result"
        }
      ],
      "source": [
        "d.sort_values('%', ascending=False)"
      ]
    },
    {
      "cell_type": "markdown",
      "metadata": {
        "id": "l88QC8yvPtvZ"
      },
      "source": [
        "We can also use `sort_values` on Series objects."
      ]
    },
    {
      "cell_type": "code",
      "execution_count": 127,
      "metadata": {
        "id": "4wTi414QPtva"
      },
      "outputs": [
        {
          "data": {
            "text/plain": [
              "46    Chinook Jargon\n",
              "49           English\n",
              "29           English\n",
              "28           English\n",
              "27           English\n",
              "26           English\n",
              "48           English\n",
              "37           English\n",
              "38           English\n",
              "40           English\n",
              "17           English\n",
              "34           English\n",
              "42           English\n",
              "14           English\n",
              "41           English\n",
              "12           English\n",
              "1            English\n",
              "13           English\n",
              "8            English\n",
              "7            English\n",
              "Name: Language, dtype: object"
            ]
          },
          "execution_count": 127,
          "metadata": {},
          "output_type": "execute_result"
        }
      ],
      "source": [
        "data2['Language'].sort_values().head(20)"
      ]
    },
    {
      "cell_type": "markdown",
      "metadata": {
        "id": "8_4EHw_lPtvb"
      },
      "source": [
        "For Series, the `value_counts` method is often quite handy."
      ]
    },
    {
      "cell_type": "code",
      "execution_count": 128,
      "metadata": {
        "id": "qO1Uxnw3Ptvb"
      },
      "outputs": [
        {
          "data": {
            "text/plain": [
              "Language\n",
              "Latin             23\n",
              "English           21\n",
              "Greek              1\n",
              "Hawaiian           1\n",
              "Italian            1\n",
              "French             1\n",
              "Spanish            1\n",
              "Chinook Jargon     1\n",
              "Name: count, dtype: int64"
            ]
          },
          "execution_count": 128,
          "metadata": {},
          "output_type": "execute_result"
        }
      ],
      "source": [
        "data2['Language'].value_counts()"
      ]
    },
    {
      "cell_type": "markdown",
      "metadata": {
        "id": "l1fAovTpPtvb"
      },
      "source": [
        "Also commonly used is the `unique` method, which returns **all unique values** as a numpy array."
      ]
    },
    {
      "cell_type": "code",
      "execution_count": 129,
      "metadata": {
        "id": "_ToE_vqVPtvb"
      },
      "outputs": [
        {
          "data": {
            "text/plain": [
              "array(['Latin', 'English', 'Greek', 'Hawaiian', 'Italian', 'French',\n",
              "       'Spanish', 'Chinook Jargon'], dtype=object)"
            ]
          },
          "execution_count": 129,
          "metadata": {},
          "output_type": "execute_result"
        }
      ],
      "source": [
        "data2['Language'].unique()"
      ]
    },
    {
      "cell_type": "code",
      "execution_count": 130,
      "metadata": {
        "colab": {
          "base_uri": "https://localhost:8080/"
        },
        "id": "HAYgnI5ZPtvb",
        "outputId": "fe2327f2-b209-45fe-dc98-b866fe139dd9"
      },
      "outputs": [
        {
          "data": {
            "text/plain": [
              "2"
            ]
          },
          "execution_count": 130,
          "metadata": {},
          "output_type": "execute_result"
        }
      ],
      "source": [
        "def fiba(n):\n",
        "    if n < 2:\n",
        "        return n\n",
        "    else:\n",
        "        return fiba(n-1) + fiba(n-2)\n",
        "\n",
        "\n",
        "\n",
        "fiba(3)"
      ]
    },
    {
      "cell_type": "markdown",
      "metadata": {
        "id": "nyvmtSviPtvc"
      },
      "source": [
        "# Thank you!"
      ]
    }
  ],
  "metadata": {
    "colab": {
      "provenance": []
    },
    "kernelspec": {
      "display_name": "Python 3",
      "language": "python",
      "name": "python3"
    },
    "language_info": {
      "codemirror_mode": {
        "name": "ipython",
        "version": 3
      },
      "file_extension": ".py",
      "mimetype": "text/x-python",
      "name": "python",
      "nbconvert_exporter": "python",
      "pygments_lexer": "ipython3",
      "version": "3.11.7"
    },
    "vscode": {
      "interpreter": {
        "hash": "7a3d88c904243d2c3f246166597f86d1c0a39f3d97496d1fe394945d0c6d436d"
      }
    }
  },
  "nbformat": 4,
  "nbformat_minor": 0
}
