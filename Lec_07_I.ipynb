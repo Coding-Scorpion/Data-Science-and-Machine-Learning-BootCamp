{
  "cells": [
    {
      "cell_type": "code",
      "execution_count": null,
      "metadata": {},
      "outputs": [],
      "source": []
    },
    {
      "cell_type": "code",
      "execution_count": null,
      "metadata": {},
      "outputs": [],
      "source": []
    },
    {
      "cell_type": "markdown",
      "metadata": {
        "id": "2PtM2eH8DZiX"
      },
      "source": [
        "# Lecture 07\n",
        "\n",
        "Your are provided data of a company and its employess in Json formate.\n",
        "You need to perform EDA and solve the problems listed down."
      ]
    },
    {
      "cell_type": "code",
      "execution_count": 27,
      "metadata": {
        "id": "5ywZGhGIDxBt"
      },
      "outputs": [],
      "source": [
        "# Load Libraries\n",
        "import numpy as np\n",
        "import pandas as pd\n",
        "import json"
      ]
    },
    {
      "cell_type": "code",
      "execution_count": 28,
      "metadata": {},
      "outputs": [],
      "source": [
        "#code Here\n",
        "d_path = \"H:\\Machine Learning\\EDA\\employee_company_data.json\"\n",
        "with open(d_path, \"rb\") as f:\n",
        "    jdata = json.load(f)"
      ]
    },
    {
      "cell_type": "markdown",
      "metadata": {
        "id": "5b1RG3I5D1cE"
      },
      "source": [
        "**Question 1:**\n",
        "\n",
        "Retrieve and display the company's name and location from the JSON data."
      ]
    },
    {
      "cell_type": "code",
      "execution_count": 29,
      "metadata": {
        "id": "d0fHGFRCD-Kq"
      },
      "outputs": [
        {
          "data": {
            "text/plain": [
              "'San Francisco, CA'"
            ]
          },
          "execution_count": 29,
          "metadata": {},
          "output_type": "execute_result"
        }
      ],
      "source": [
        "jdata['company_info']['location']"
      ]
    },
    {
      "cell_type": "code",
      "execution_count": 30,
      "metadata": {},
      "outputs": [
        {
          "data": {
            "text/plain": [
              "{'metadata': {'version': '1.0',\n",
              "  'description': 'Employee and Company Data',\n",
              "  'last_updated': '2023-09-30'},\n",
              " 'employees': [{'id': 1,\n",
              "   'firstName': 'John',\n",
              "   'lastName': 'Doe',\n",
              "   'position': 'Software Engineer',\n",
              "   'salary': 75000,\n",
              "   'email': 'john.doe@techcorp.com',\n",
              "   'hireDate': '2020-05-15',\n",
              "   'manager': 'Michael Brown',\n",
              "   'address': {'street': '123 Main St',\n",
              "    'city': 'San Francisco',\n",
              "    'state': 'CA',\n",
              "    'zipcode': '94101'}},\n",
              "  {'id': 2,\n",
              "   'firstName': 'Alice',\n",
              "   'lastName': 'Smith',\n",
              "   'position': 'Data Analyst',\n",
              "   'salary': 60000,\n",
              "   'email': 'alice.smith@techcorp.com',\n",
              "   'hireDate': '2019-08-22',\n",
              "   'manager': 'Michael Brown',\n",
              "   'address': {'street': '456 Elm St',\n",
              "    'city': 'San Francisco',\n",
              "    'state': 'CA',\n",
              "    'zipcode': '94102'}},\n",
              "  {'id': 3,\n",
              "   'firstName': 'Bob',\n",
              "   'lastName': 'Johnson',\n",
              "   'position': 'Product Manager',\n",
              "   'salary': 85000,\n",
              "   'email': 'bob.johnson@techcorp.com',\n",
              "   'hireDate': '2018-03-10',\n",
              "   'manager': 'Sarah Williams',\n",
              "   'address': {'street': '789 Oak St',\n",
              "    'city': 'San Francisco',\n",
              "    'state': 'CA',\n",
              "    'zipcode': '94103'}},\n",
              "  {'id': 4,\n",
              "   'firstName': 'Emily',\n",
              "   'lastName': 'Wilson',\n",
              "   'position': 'UX Designer',\n",
              "   'salary': 70000,\n",
              "   'email': 'emily.wilson@techcorp.com',\n",
              "   'hireDate': '2021-02-28',\n",
              "   'manager': 'Sarah Williams',\n",
              "   'address': {'street': '101 Pine St',\n",
              "    'city': 'San Francisco',\n",
              "    'state': 'CA',\n",
              "    'zipcode': '94104'}}],\n",
              " 'departments': {'engineering': ['John Doe', 'Alice Smith'],\n",
              "  'product_management': ['Bob Johnson', 'Emily Wilson'],\n",
              "  'design': ['Emily Wilson']},\n",
              " 'company_info': {'name': 'TechCorp',\n",
              "  'location': 'San Francisco, CA',\n",
              "  'foundedYear': 2000,\n",
              "  'ceo': 'Sarah Williams'},\n",
              " 'office_locations': {'san_francisco_hq': {'street': '500 Tech Plaza',\n",
              "   'city': 'San Francisco',\n",
              "   'state': 'CA',\n",
              "   'zipcode': '94105'},\n",
              "  'new_york_branch': {'street': '123 Wall St',\n",
              "   'city': 'New York',\n",
              "   'state': 'NY',\n",
              "   'zipcode': '10005'}},\n",
              " 'benefits': {'health_insurance': True,\n",
              "  'retirement_plan': True,\n",
              "  'vacation_days': 20}}"
            ]
          },
          "execution_count": 30,
          "metadata": {},
          "output_type": "execute_result"
        }
      ],
      "source": [
        "jdata"
      ]
    },
    {
      "cell_type": "code",
      "execution_count": 31,
      "metadata": {},
      "outputs": [],
      "source": [
        "employes = jdata['employees']\n",
        "company = jdata['company_info']\n",
        "location = jdata['office_locations']\n",
        "benefits = jdata['benefits']\n",
        "departs = jdata[\"departments\"]\n",
        "ben = jdata['benefits']"
      ]
    },
    {
      "cell_type": "code",
      "execution_count": 32,
      "metadata": {},
      "outputs": [],
      "source": [
        "data = pd.json_normalize(jdata['employees'])"
      ]
    },
    {
      "cell_type": "code",
      "execution_count": 33,
      "metadata": {},
      "outputs": [],
      "source": [
        "emp_data = pd.DataFrame(employes)\n",
        "comp_data = pd.DataFrame([company])\n",
        "loc_data = pd.DataFrame(location)\n",
        "ben_data = pd.DataFrame([benefits])\n",
        "departs_data = pd.DataFrame([departs])\n",
        "ben_data = pd.DataFrame(ben, index=[0])\n"
      ]
    },
    {
      "cell_type": "code",
      "execution_count": 34,
      "metadata": {},
      "outputs": [
        {
          "data": {
            "text/html": [
              "<div>\n",
              "<style scoped>\n",
              "    .dataframe tbody tr th:only-of-type {\n",
              "        vertical-align: middle;\n",
              "    }\n",
              "\n",
              "    .dataframe tbody tr th {\n",
              "        vertical-align: top;\n",
              "    }\n",
              "\n",
              "    .dataframe thead th {\n",
              "        text-align: right;\n",
              "    }\n",
              "</style>\n",
              "<table border=\"1\" class=\"dataframe\">\n",
              "  <thead>\n",
              "    <tr style=\"text-align: right;\">\n",
              "      <th></th>\n",
              "      <th>id</th>\n",
              "      <th>firstName</th>\n",
              "      <th>lastName</th>\n",
              "      <th>position</th>\n",
              "      <th>salary</th>\n",
              "      <th>email</th>\n",
              "      <th>hireDate</th>\n",
              "      <th>manager</th>\n",
              "      <th>address.street</th>\n",
              "      <th>address.city</th>\n",
              "      <th>address.state</th>\n",
              "      <th>address.zipcode</th>\n",
              "    </tr>\n",
              "  </thead>\n",
              "  <tbody>\n",
              "    <tr>\n",
              "      <th>0</th>\n",
              "      <td>1</td>\n",
              "      <td>John</td>\n",
              "      <td>Doe</td>\n",
              "      <td>Software Engineer</td>\n",
              "      <td>75000</td>\n",
              "      <td>john.doe@techcorp.com</td>\n",
              "      <td>2020-05-15</td>\n",
              "      <td>Michael Brown</td>\n",
              "      <td>123 Main St</td>\n",
              "      <td>San Francisco</td>\n",
              "      <td>CA</td>\n",
              "      <td>94101</td>\n",
              "    </tr>\n",
              "    <tr>\n",
              "      <th>1</th>\n",
              "      <td>2</td>\n",
              "      <td>Alice</td>\n",
              "      <td>Smith</td>\n",
              "      <td>Data Analyst</td>\n",
              "      <td>60000</td>\n",
              "      <td>alice.smith@techcorp.com</td>\n",
              "      <td>2019-08-22</td>\n",
              "      <td>Michael Brown</td>\n",
              "      <td>456 Elm St</td>\n",
              "      <td>San Francisco</td>\n",
              "      <td>CA</td>\n",
              "      <td>94102</td>\n",
              "    </tr>\n",
              "    <tr>\n",
              "      <th>2</th>\n",
              "      <td>3</td>\n",
              "      <td>Bob</td>\n",
              "      <td>Johnson</td>\n",
              "      <td>Product Manager</td>\n",
              "      <td>85000</td>\n",
              "      <td>bob.johnson@techcorp.com</td>\n",
              "      <td>2018-03-10</td>\n",
              "      <td>Sarah Williams</td>\n",
              "      <td>789 Oak St</td>\n",
              "      <td>San Francisco</td>\n",
              "      <td>CA</td>\n",
              "      <td>94103</td>\n",
              "    </tr>\n",
              "    <tr>\n",
              "      <th>3</th>\n",
              "      <td>4</td>\n",
              "      <td>Emily</td>\n",
              "      <td>Wilson</td>\n",
              "      <td>UX Designer</td>\n",
              "      <td>70000</td>\n",
              "      <td>emily.wilson@techcorp.com</td>\n",
              "      <td>2021-02-28</td>\n",
              "      <td>Sarah Williams</td>\n",
              "      <td>101 Pine St</td>\n",
              "      <td>San Francisco</td>\n",
              "      <td>CA</td>\n",
              "      <td>94104</td>\n",
              "    </tr>\n",
              "  </tbody>\n",
              "</table>\n",
              "</div>"
            ],
            "text/plain": [
              "   id firstName lastName           position  salary  \\\n",
              "0   1      John      Doe  Software Engineer   75000   \n",
              "1   2     Alice    Smith       Data Analyst   60000   \n",
              "2   3       Bob  Johnson    Product Manager   85000   \n",
              "3   4     Emily   Wilson        UX Designer   70000   \n",
              "\n",
              "                       email    hireDate         manager address.street  \\\n",
              "0      john.doe@techcorp.com  2020-05-15   Michael Brown    123 Main St   \n",
              "1   alice.smith@techcorp.com  2019-08-22   Michael Brown     456 Elm St   \n",
              "2   bob.johnson@techcorp.com  2018-03-10  Sarah Williams     789 Oak St   \n",
              "3  emily.wilson@techcorp.com  2021-02-28  Sarah Williams    101 Pine St   \n",
              "\n",
              "    address.city address.state address.zipcode  \n",
              "0  San Francisco            CA           94101  \n",
              "1  San Francisco            CA           94102  \n",
              "2  San Francisco            CA           94103  \n",
              "3  San Francisco            CA           94104  "
            ]
          },
          "execution_count": 34,
          "metadata": {},
          "output_type": "execute_result"
        }
      ],
      "source": [
        "pd.json_normalize(jdata['employees'])"
      ]
    },
    {
      "cell_type": "code",
      "execution_count": 35,
      "metadata": {},
      "outputs": [
        {
          "data": {
            "text/html": [
              "<div>\n",
              "<style scoped>\n",
              "    .dataframe tbody tr th:only-of-type {\n",
              "        vertical-align: middle;\n",
              "    }\n",
              "\n",
              "    .dataframe tbody tr th {\n",
              "        vertical-align: top;\n",
              "    }\n",
              "\n",
              "    .dataframe thead th {\n",
              "        text-align: right;\n",
              "    }\n",
              "</style>\n",
              "<table border=\"1\" class=\"dataframe\">\n",
              "  <thead>\n",
              "    <tr style=\"text-align: right;\">\n",
              "      <th></th>\n",
              "      <th>engineering</th>\n",
              "      <th>product_management</th>\n",
              "      <th>design</th>\n",
              "    </tr>\n",
              "  </thead>\n",
              "  <tbody>\n",
              "    <tr>\n",
              "      <th>0</th>\n",
              "      <td>[John Doe, Alice Smith]</td>\n",
              "      <td>[Bob Johnson, Emily Wilson]</td>\n",
              "      <td>[Emily Wilson]</td>\n",
              "    </tr>\n",
              "  </tbody>\n",
              "</table>\n",
              "</div>"
            ],
            "text/plain": [
              "               engineering           product_management          design\n",
              "0  [John Doe, Alice Smith]  [Bob Johnson, Emily Wilson]  [Emily Wilson]"
            ]
          },
          "execution_count": 35,
          "metadata": {},
          "output_type": "execute_result"
        }
      ],
      "source": [
        "pd.json_normalize(departs)"
      ]
    },
    {
      "cell_type": "markdown",
      "metadata": {
        "id": "yypx_Ds5J7kt"
      },
      "source": [
        "Convert given employees data into a dataframe."
      ]
    },
    {
      "cell_type": "markdown",
      "metadata": {
        "id": "XVDdCE9oD_lJ"
      },
      "source": [
        "**Question 2:**\n",
        "\n",
        " Find and display the first name, last name, and email address of the employee with ID 3.\n"
      ]
    },
    {
      "cell_type": "code",
      "execution_count": 36,
      "metadata": {
        "id": "yDo74tyYEIlx"
      },
      "outputs": [
        {
          "data": {
            "text/html": [
              "<div>\n",
              "<style scoped>\n",
              "    .dataframe tbody tr th:only-of-type {\n",
              "        vertical-align: middle;\n",
              "    }\n",
              "\n",
              "    .dataframe tbody tr th {\n",
              "        vertical-align: top;\n",
              "    }\n",
              "\n",
              "    .dataframe thead th {\n",
              "        text-align: right;\n",
              "    }\n",
              "</style>\n",
              "<table border=\"1\" class=\"dataframe\">\n",
              "  <thead>\n",
              "    <tr style=\"text-align: right;\">\n",
              "      <th></th>\n",
              "      <th>firstName</th>\n",
              "      <th>lastName</th>\n",
              "      <th>email</th>\n",
              "    </tr>\n",
              "  </thead>\n",
              "  <tbody>\n",
              "    <tr>\n",
              "      <th>2</th>\n",
              "      <td>Bob</td>\n",
              "      <td>Johnson</td>\n",
              "      <td>bob.johnson@techcorp.com</td>\n",
              "    </tr>\n",
              "  </tbody>\n",
              "</table>\n",
              "</div>"
            ],
            "text/plain": [
              "  firstName lastName                     email\n",
              "2       Bob  Johnson  bob.johnson@techcorp.com"
            ]
          },
          "execution_count": 36,
          "metadata": {},
          "output_type": "execute_result"
        }
      ],
      "source": [
        "#code Here\n",
        "id_3 = emp_data[emp_data['id']==3]\n",
        "id_3[['firstName','lastName','email']]\n",
        "\n"
      ]
    },
    {
      "cell_type": "code",
      "execution_count": null,
      "metadata": {},
      "outputs": [],
      "source": []
    },
    {
      "cell_type": "code",
      "execution_count": 37,
      "metadata": {},
      "outputs": [
        {
          "data": {
            "text/plain": [
              "0    2\n",
              "Name: engineering, dtype: int64"
            ]
          },
          "execution_count": 37,
          "metadata": {},
          "output_type": "execute_result"
        }
      ],
      "source": [
        "departs_data[\"engineering\"].str.len()"
      ]
    },
    {
      "cell_type": "markdown",
      "metadata": {
        "id": "Jui5-2CsEK4B"
      },
      "source": [
        "**Question 3:**\n",
        "\n",
        "Find the department with the most employees, and display its name along with the number of employees it has."
      ]
    },
    {
      "cell_type": "code",
      "execution_count": 38,
      "metadata": {
        "id": "Jlh2Cc4mFzuc"
      },
      "outputs": [
        {
          "name": "stdout",
          "output_type": "stream",
          "text": [
            "The department name is engineering and the number of employee is 2\n"
          ]
        }
      ],
      "source": [
        "# code Here\n",
        "max_dep = departs_data.idxmax(axis=1)[0]\n",
        "emp_num = departs_data[max_dep].str.len()\n",
        "\n",
        "print(f\"The department name is {max_dep} and the number of employee is {emp_num[0]}\")"
      ]
    },
    {
      "cell_type": "code",
      "execution_count": null,
      "metadata": {},
      "outputs": [],
      "source": []
    },
    {
      "cell_type": "code",
      "execution_count": 39,
      "metadata": {},
      "outputs": [
        {
          "data": {
            "text/html": [
              "<div>\n",
              "<style scoped>\n",
              "    .dataframe tbody tr th:only-of-type {\n",
              "        vertical-align: middle;\n",
              "    }\n",
              "\n",
              "    .dataframe tbody tr th {\n",
              "        vertical-align: top;\n",
              "    }\n",
              "\n",
              "    .dataframe thead th {\n",
              "        text-align: right;\n",
              "    }\n",
              "</style>\n",
              "<table border=\"1\" class=\"dataframe\">\n",
              "  <thead>\n",
              "    <tr style=\"text-align: right;\">\n",
              "      <th></th>\n",
              "      <th>engineering</th>\n",
              "      <th>product_management</th>\n",
              "      <th>design</th>\n",
              "    </tr>\n",
              "  </thead>\n",
              "  <tbody>\n",
              "    <tr>\n",
              "      <th>0</th>\n",
              "      <td>[John Doe, Alice Smith]</td>\n",
              "      <td>[Bob Johnson, Emily Wilson]</td>\n",
              "      <td>[Emily Wilson]</td>\n",
              "    </tr>\n",
              "  </tbody>\n",
              "</table>\n",
              "</div>"
            ],
            "text/plain": [
              "               engineering           product_management          design\n",
              "0  [John Doe, Alice Smith]  [Bob Johnson, Emily Wilson]  [Emily Wilson]"
            ]
          },
          "execution_count": 39,
          "metadata": {},
          "output_type": "execute_result"
        }
      ],
      "source": [
        "departs_data"
      ]
    },
    {
      "cell_type": "markdown",
      "metadata": {
        "id": "E90nhwtTF9Ng"
      },
      "source": [
        "**Question 4:**\n",
        "\n",
        "Retrieve and display the street addresses of the \"san_francisco_hq\" and \"new_york_branch\" office locations."
      ]
    },
    {
      "cell_type": "code",
      "execution_count": 40,
      "metadata": {
        "id": "oGesYRSuHCM1"
      },
      "outputs": [
        {
          "data": {
            "text/plain": [
              "san_francisco_hq    500 Tech Plaza\n",
              "new_york_branch        123 Wall St\n",
              "Name: street, dtype: object"
            ]
          },
          "execution_count": 40,
          "metadata": {},
          "output_type": "execute_result"
        }
      ],
      "source": [
        "# code Here\n",
        "location =jdata['office_locations']\n",
        "location_data = pd.DataFrame(location)\n",
        "location_data.loc['street']\n",
        "\n"
      ]
    },
    {
      "cell_type": "markdown",
      "metadata": {
        "id": "csJGVy5_HDy9"
      },
      "source": [
        "**Question 5:**\n",
        "\n",
        "Determine whether the company offers health insurance and a retirement plan. Provide the results as \"Yes\" or \"No.\""
      ]
    },
    {
      "cell_type": "code",
      "execution_count": 41,
      "metadata": {},
      "outputs": [
        {
          "name": "stdout",
          "output_type": "stream",
          "text": [
            "Health insurence yes\n"
          ]
        }
      ],
      "source": [
        "if (ben_data['health_insurance'].all()):\n",
        "    print(\"Health insurence yes\")\n",
        "else:\n",
        "    print(\"Health insurence NO\")\n"
      ]
    },
    {
      "cell_type": "code",
      "execution_count": 42,
      "metadata": {},
      "outputs": [
        {
          "name": "stdout",
          "output_type": "stream",
          "text": [
            "retirement_plan yes\n"
          ]
        }
      ],
      "source": [
        "if (ben_data['retirement_plan'].all()):\n",
        "    print(\"retirement_plan yes\")\n",
        "else:\n",
        "    print(\"retirement_plan NO\")"
      ]
    },
    {
      "cell_type": "markdown",
      "metadata": {
        "id": "A_odL01bIeW9"
      },
      "source": [
        "**Question 6:**\n",
        "\n",
        "Display the version and last updated date from the metadata section of the JSON data."
      ]
    },
    {
      "cell_type": "code",
      "execution_count": 43,
      "metadata": {
        "id": "pb9Xy3m2Iytd"
      },
      "outputs": [
        {
          "data": {
            "text/html": [
              "<div>\n",
              "<style scoped>\n",
              "    .dataframe tbody tr th:only-of-type {\n",
              "        vertical-align: middle;\n",
              "    }\n",
              "\n",
              "    .dataframe tbody tr th {\n",
              "        vertical-align: top;\n",
              "    }\n",
              "\n",
              "    .dataframe thead th {\n",
              "        text-align: right;\n",
              "    }\n",
              "</style>\n",
              "<table border=\"1\" class=\"dataframe\">\n",
              "  <thead>\n",
              "    <tr style=\"text-align: right;\">\n",
              "      <th></th>\n",
              "      <th>version</th>\n",
              "      <th>last_updated</th>\n",
              "    </tr>\n",
              "  </thead>\n",
              "  <tbody>\n",
              "    <tr>\n",
              "      <th>0</th>\n",
              "      <td>1.0</td>\n",
              "      <td>2023-09-30</td>\n",
              "    </tr>\n",
              "  </tbody>\n",
              "</table>\n",
              "</div>"
            ],
            "text/plain": [
              "  version last_updated\n",
              "0     1.0   2023-09-30"
            ]
          },
          "execution_count": 43,
          "metadata": {},
          "output_type": "execute_result"
        }
      ],
      "source": [
        "# code Here\n",
        "\n",
        "e = jdata['metadata']\n",
        "met = pd.DataFrame([e])\n",
        "met[['version','last_updated']]"
      ]
    },
    {
      "cell_type": "markdown",
      "metadata": {
        "id": "uP7uTQUsJDKQ"
      },
      "source": [
        "**Question 7:**\n",
        "\n",
        " Sort the employees by their hire date in ascending order and display the first five employees in the sorted list."
      ]
    },
    {
      "cell_type": "code",
      "execution_count": 44,
      "metadata": {
        "id": "_uHzAfPnJh4n"
      },
      "outputs": [
        {
          "data": {
            "text/plain": [
              "2    2018-03-10\n",
              "1    2019-08-22\n",
              "0    2020-05-15\n",
              "3    2021-02-28\n",
              "Name: hireDate, dtype: object"
            ]
          },
          "execution_count": 44,
          "metadata": {},
          "output_type": "execute_result"
        }
      ],
      "source": [
        "# code Here\n",
        "data['hireDate'].sort_values()"
      ]
    },
    {
      "cell_type": "code",
      "execution_count": 45,
      "metadata": {},
      "outputs": [
        {
          "data": {
            "text/html": [
              "<div>\n",
              "<style scoped>\n",
              "    .dataframe tbody tr th:only-of-type {\n",
              "        vertical-align: middle;\n",
              "    }\n",
              "\n",
              "    .dataframe tbody tr th {\n",
              "        vertical-align: top;\n",
              "    }\n",
              "\n",
              "    .dataframe thead th {\n",
              "        text-align: right;\n",
              "    }\n",
              "</style>\n",
              "<table border=\"1\" class=\"dataframe\">\n",
              "  <thead>\n",
              "    <tr style=\"text-align: right;\">\n",
              "      <th></th>\n",
              "      <th>id</th>\n",
              "      <th>firstName</th>\n",
              "      <th>lastName</th>\n",
              "      <th>position</th>\n",
              "      <th>salary</th>\n",
              "      <th>email</th>\n",
              "      <th>hireDate</th>\n",
              "      <th>manager</th>\n",
              "      <th>address.street</th>\n",
              "      <th>address.city</th>\n",
              "      <th>address.state</th>\n",
              "      <th>address.zipcode</th>\n",
              "    </tr>\n",
              "  </thead>\n",
              "  <tbody>\n",
              "    <tr>\n",
              "      <th>2</th>\n",
              "      <td>3</td>\n",
              "      <td>Bob</td>\n",
              "      <td>Johnson</td>\n",
              "      <td>Product Manager</td>\n",
              "      <td>85000</td>\n",
              "      <td>bob.johnson@techcorp.com</td>\n",
              "      <td>2018-03-10</td>\n",
              "      <td>Sarah Williams</td>\n",
              "      <td>789 Oak St</td>\n",
              "      <td>San Francisco</td>\n",
              "      <td>CA</td>\n",
              "      <td>94103</td>\n",
              "    </tr>\n",
              "    <tr>\n",
              "      <th>1</th>\n",
              "      <td>2</td>\n",
              "      <td>Alice</td>\n",
              "      <td>Smith</td>\n",
              "      <td>Data Analyst</td>\n",
              "      <td>60000</td>\n",
              "      <td>alice.smith@techcorp.com</td>\n",
              "      <td>2019-08-22</td>\n",
              "      <td>Michael Brown</td>\n",
              "      <td>456 Elm St</td>\n",
              "      <td>San Francisco</td>\n",
              "      <td>CA</td>\n",
              "      <td>94102</td>\n",
              "    </tr>\n",
              "    <tr>\n",
              "      <th>0</th>\n",
              "      <td>1</td>\n",
              "      <td>John</td>\n",
              "      <td>Doe</td>\n",
              "      <td>Software Engineer</td>\n",
              "      <td>75000</td>\n",
              "      <td>john.doe@techcorp.com</td>\n",
              "      <td>2020-05-15</td>\n",
              "      <td>Michael Brown</td>\n",
              "      <td>123 Main St</td>\n",
              "      <td>San Francisco</td>\n",
              "      <td>CA</td>\n",
              "      <td>94101</td>\n",
              "    </tr>\n",
              "    <tr>\n",
              "      <th>3</th>\n",
              "      <td>4</td>\n",
              "      <td>Emily</td>\n",
              "      <td>Wilson</td>\n",
              "      <td>UX Designer</td>\n",
              "      <td>70000</td>\n",
              "      <td>emily.wilson@techcorp.com</td>\n",
              "      <td>2021-02-28</td>\n",
              "      <td>Sarah Williams</td>\n",
              "      <td>101 Pine St</td>\n",
              "      <td>San Francisco</td>\n",
              "      <td>CA</td>\n",
              "      <td>94104</td>\n",
              "    </tr>\n",
              "  </tbody>\n",
              "</table>\n",
              "</div>"
            ],
            "text/plain": [
              "   id firstName lastName           position  salary  \\\n",
              "2   3       Bob  Johnson    Product Manager   85000   \n",
              "1   2     Alice    Smith       Data Analyst   60000   \n",
              "0   1      John      Doe  Software Engineer   75000   \n",
              "3   4     Emily   Wilson        UX Designer   70000   \n",
              "\n",
              "                       email    hireDate         manager address.street  \\\n",
              "2   bob.johnson@techcorp.com  2018-03-10  Sarah Williams     789 Oak St   \n",
              "1   alice.smith@techcorp.com  2019-08-22   Michael Brown     456 Elm St   \n",
              "0      john.doe@techcorp.com  2020-05-15   Michael Brown    123 Main St   \n",
              "3  emily.wilson@techcorp.com  2021-02-28  Sarah Williams    101 Pine St   \n",
              "\n",
              "    address.city address.state address.zipcode  \n",
              "2  San Francisco            CA           94103  \n",
              "1  San Francisco            CA           94102  \n",
              "0  San Francisco            CA           94101  \n",
              "3  San Francisco            CA           94104  "
            ]
          },
          "execution_count": 45,
          "metadata": {},
          "output_type": "execute_result"
        }
      ],
      "source": [
        "data.sort_values(by='hireDate').head(5)"
      ]
    },
    {
      "cell_type": "markdown",
      "metadata": {
        "id": "n7XmTMjjJqOM"
      },
      "source": [
        "**Question 8:**\n",
        "\n",
        "Count the number of employees in the dataset and display the result."
      ]
    },
    {
      "cell_type": "code",
      "execution_count": 46,
      "metadata": {
        "id": "-cVlWdRLJ1zP"
      },
      "outputs": [
        {
          "data": {
            "text/plain": [
              "4"
            ]
          },
          "execution_count": 46,
          "metadata": {},
          "output_type": "execute_result"
        }
      ],
      "source": [
        "# code Here\n",
        "len(data['firstName'])"
      ]
    },
    {
      "cell_type": "code",
      "execution_count": 47,
      "metadata": {},
      "outputs": [
        {
          "data": {
            "text/html": [
              "<div>\n",
              "<style scoped>\n",
              "    .dataframe tbody tr th:only-of-type {\n",
              "        vertical-align: middle;\n",
              "    }\n",
              "\n",
              "    .dataframe tbody tr th {\n",
              "        vertical-align: top;\n",
              "    }\n",
              "\n",
              "    .dataframe thead th {\n",
              "        text-align: right;\n",
              "    }\n",
              "</style>\n",
              "<table border=\"1\" class=\"dataframe\">\n",
              "  <thead>\n",
              "    <tr style=\"text-align: right;\">\n",
              "      <th></th>\n",
              "      <th>id</th>\n",
              "      <th>firstName</th>\n",
              "      <th>lastName</th>\n",
              "      <th>position</th>\n",
              "      <th>salary</th>\n",
              "      <th>email</th>\n",
              "      <th>hireDate</th>\n",
              "      <th>manager</th>\n",
              "      <th>address.street</th>\n",
              "      <th>address.city</th>\n",
              "      <th>address.state</th>\n",
              "      <th>address.zipcode</th>\n",
              "    </tr>\n",
              "  </thead>\n",
              "  <tbody>\n",
              "    <tr>\n",
              "      <th>0</th>\n",
              "      <td>1</td>\n",
              "      <td>John</td>\n",
              "      <td>Doe</td>\n",
              "      <td>Software Engineer</td>\n",
              "      <td>75000</td>\n",
              "      <td>john.doe@techcorp.com</td>\n",
              "      <td>2020-05-15</td>\n",
              "      <td>Michael Brown</td>\n",
              "      <td>123 Main St</td>\n",
              "      <td>San Francisco</td>\n",
              "      <td>CA</td>\n",
              "      <td>94101</td>\n",
              "    </tr>\n",
              "    <tr>\n",
              "      <th>1</th>\n",
              "      <td>2</td>\n",
              "      <td>Alice</td>\n",
              "      <td>Smith</td>\n",
              "      <td>Data Analyst</td>\n",
              "      <td>60000</td>\n",
              "      <td>alice.smith@techcorp.com</td>\n",
              "      <td>2019-08-22</td>\n",
              "      <td>Michael Brown</td>\n",
              "      <td>456 Elm St</td>\n",
              "      <td>San Francisco</td>\n",
              "      <td>CA</td>\n",
              "      <td>94102</td>\n",
              "    </tr>\n",
              "    <tr>\n",
              "      <th>2</th>\n",
              "      <td>3</td>\n",
              "      <td>Bob</td>\n",
              "      <td>Johnson</td>\n",
              "      <td>Product Manager</td>\n",
              "      <td>85000</td>\n",
              "      <td>bob.johnson@techcorp.com</td>\n",
              "      <td>2018-03-10</td>\n",
              "      <td>Sarah Williams</td>\n",
              "      <td>789 Oak St</td>\n",
              "      <td>San Francisco</td>\n",
              "      <td>CA</td>\n",
              "      <td>94103</td>\n",
              "    </tr>\n",
              "    <tr>\n",
              "      <th>3</th>\n",
              "      <td>4</td>\n",
              "      <td>Emily</td>\n",
              "      <td>Wilson</td>\n",
              "      <td>UX Designer</td>\n",
              "      <td>70000</td>\n",
              "      <td>emily.wilson@techcorp.com</td>\n",
              "      <td>2021-02-28</td>\n",
              "      <td>Sarah Williams</td>\n",
              "      <td>101 Pine St</td>\n",
              "      <td>San Francisco</td>\n",
              "      <td>CA</td>\n",
              "      <td>94104</td>\n",
              "    </tr>\n",
              "  </tbody>\n",
              "</table>\n",
              "</div>"
            ],
            "text/plain": [
              "   id firstName lastName           position  salary  \\\n",
              "0   1      John      Doe  Software Engineer   75000   \n",
              "1   2     Alice    Smith       Data Analyst   60000   \n",
              "2   3       Bob  Johnson    Product Manager   85000   \n",
              "3   4     Emily   Wilson        UX Designer   70000   \n",
              "\n",
              "                       email    hireDate         manager address.street  \\\n",
              "0      john.doe@techcorp.com  2020-05-15   Michael Brown    123 Main St   \n",
              "1   alice.smith@techcorp.com  2019-08-22   Michael Brown     456 Elm St   \n",
              "2   bob.johnson@techcorp.com  2018-03-10  Sarah Williams     789 Oak St   \n",
              "3  emily.wilson@techcorp.com  2021-02-28  Sarah Williams    101 Pine St   \n",
              "\n",
              "    address.city address.state address.zipcode  \n",
              "0  San Francisco            CA           94101  \n",
              "1  San Francisco            CA           94102  \n",
              "2  San Francisco            CA           94103  \n",
              "3  San Francisco            CA           94104  "
            ]
          },
          "execution_count": 47,
          "metadata": {},
          "output_type": "execute_result"
        }
      ],
      "source": [
        "data.head()"
      ]
    },
    {
      "cell_type": "markdown",
      "metadata": {
        "id": "fuOvAHNQKQPG"
      },
      "source": [
        "**Question 9:**\n",
        "\n",
        "Identify employees who do not have a manager (i.e., manager field is empty), and display their names and positions."
      ]
    },
    {
      "cell_type": "code",
      "execution_count": 48,
      "metadata": {
        "id": "KlEY1SANKVc4"
      },
      "outputs": [
        {
          "data": {
            "text/html": [
              "<div>\n",
              "<style scoped>\n",
              "    .dataframe tbody tr th:only-of-type {\n",
              "        vertical-align: middle;\n",
              "    }\n",
              "\n",
              "    .dataframe tbody tr th {\n",
              "        vertical-align: top;\n",
              "    }\n",
              "\n",
              "    .dataframe thead th {\n",
              "        text-align: right;\n",
              "    }\n",
              "</style>\n",
              "<table border=\"1\" class=\"dataframe\">\n",
              "  <thead>\n",
              "    <tr style=\"text-align: right;\">\n",
              "      <th></th>\n",
              "      <th>id</th>\n",
              "      <th>firstName</th>\n",
              "      <th>lastName</th>\n",
              "      <th>position</th>\n",
              "      <th>salary</th>\n",
              "      <th>email</th>\n",
              "      <th>hireDate</th>\n",
              "      <th>manager</th>\n",
              "      <th>address.street</th>\n",
              "      <th>address.city</th>\n",
              "      <th>address.state</th>\n",
              "      <th>address.zipcode</th>\n",
              "    </tr>\n",
              "  </thead>\n",
              "  <tbody>\n",
              "  </tbody>\n",
              "</table>\n",
              "</div>"
            ],
            "text/plain": [
              "Empty DataFrame\n",
              "Columns: [id, firstName, lastName, position, salary, email, hireDate, manager, address.street, address.city, address.state, address.zipcode]\n",
              "Index: []"
            ]
          },
          "execution_count": 48,
          "metadata": {},
          "output_type": "execute_result"
        }
      ],
      "source": [
        "# code Here\n",
        "data[data['manager'] == None]"
      ]
    },
    {
      "cell_type": "code",
      "execution_count": 54,
      "metadata": {},
      "outputs": [
        {
          "data": {
            "text/plain": [
              "0    123 Main St\n",
              "1     456 Elm St\n",
              "2     789 Oak St\n",
              "3    101 Pine St\n",
              "Name: address.street, dtype: object"
            ]
          },
          "execution_count": 54,
          "metadata": {},
          "output_type": "execute_result"
        }
      ],
      "source": [
        "data[\"address.street\"]"
      ]
    },
    {
      "cell_type": "markdown",
      "metadata": {
        "id": "tYV7TQDMKX-o"
      },
      "source": [
        "**Question 10: Bonus Part**\n",
        "\n",
        "Using a geocoding service or library of your choice (e.g., geopy), convert the street addresses of all office locations into latitude and longitude coordinates. Then, provide the coordinates for each office location."
      ]
    },
    {
      "cell_type": "markdown",
      "metadata": {},
      "source": []
    },
    {
      "cell_type": "code",
      "execution_count": 57,
      "metadata": {},
      "outputs": [
        {
          "name": "stdout",
          "output_type": "stream",
          "text": [
            "Error occurred: Non-successful status code 403\n",
            "Address: 123 Main St, Coordinates: (None, None)\n",
            "Error occurred: Non-successful status code 403\n",
            "Address: 456 Elm St, Coordinates: (None, None)\n",
            "Error occurred: HTTPSConnectionPool(host='nominatim.openstreetmap.org', port=443): Max retries exceeded with url: /search?q=789+Oak+St&format=json&limit=1 (Caused by ReadTimeoutError(\"HTTPSConnectionPool(host='nominatim.openstreetmap.org', port=443): Read timed out. (read timeout=1)\"))\n",
            "Address: 789 Oak St, Coordinates: (None, None)\n",
            "Error occurred: Non-successful status code 403\n",
            "Address: 101 Pine St, Coordinates: (None, None)\n",
            "       Address Latitude Longitude\n",
            "0  123 Main St     None      None\n",
            "1   456 Elm St     None      None\n",
            "2   789 Oak St     None      None\n",
            "3  101 Pine St     None      None\n"
          ]
        }
      ],
      "source": [
        "from geopy.geocoders import Nominatim\n",
        "import pandas as pd\n",
        "import time\n",
        "\n",
        "# Sample DataFrame\n",
        "data = pd.DataFrame({\n",
        "    \"address.street\": [\"123 Main St\", \"456 Elm St\", \"789 Oak St\", \"101 Pine St\"]\n",
        "})\n",
        "\n",
        "# Initialize the geocoder with a unique user agent\n",
        "geolocator = Nominatim(user_agent=\"myGeocoder123\")\n",
        "\n",
        "# Example addresses\n",
        "addresses = data[\"address.street\"]\n",
        "\n",
        "# Function to get latitude and longitude\n",
        "def get_coordinates(address):\n",
        "    try:\n",
        "        location = geolocator.geocode(address)\n",
        "        if location:\n",
        "            return (location.latitude, location.longitude)\n",
        "        else:\n",
        "            print(f\"Could not geocode address: {address}\")\n",
        "            return (None, None)\n",
        "    except Exception as e:\n",
        "        print(f\"Error occurred: {e}\")\n",
        "        return (None, None)\n",
        "\n",
        "# Apply the function to each address with a delay to avoid overloading the service\n",
        "coordinates = []\n",
        "for address in addresses:\n",
        "    coord = get_coordinates(address)\n",
        "    coordinates.append(coord)\n",
        "    print(f\"Address: {address}, Coordinates: {coord}\")\n",
        "    time.sleep(1)  # Add delay to avoid getting blocked\n",
        "\n",
        "# Create a DataFrame with the results\n",
        "df = pd.DataFrame({\n",
        "    \"Address\": addresses,\n",
        "    \"Latitude\": [coord[0] for coord in coordinates],\n",
        "    \"Longitude\": [coord[1] for coord in coordinates]\n",
        "})\n",
        "\n",
        "print(df)\n"
      ]
    },
    {
      "cell_type": "markdown",
      "metadata": {},
      "source": []
    }
  ],
  "metadata": {
    "colab": {
      "provenance": []
    },
    "kernelspec": {
      "display_name": "Python 3",
      "name": "python3"
    },
    "language_info": {
      "codemirror_mode": {
        "name": "ipython",
        "version": 3
      },
      "file_extension": ".py",
      "mimetype": "text/x-python",
      "name": "python",
      "nbconvert_exporter": "python",
      "pygments_lexer": "ipython3",
      "version": "3.11.7"
    }
  },
  "nbformat": 4,
  "nbformat_minor": 0
}
