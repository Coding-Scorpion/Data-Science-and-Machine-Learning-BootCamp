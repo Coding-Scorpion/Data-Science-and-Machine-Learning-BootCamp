{
  "cells": [
    {
      "cell_type": "code",
      "execution_count": 2,
      "metadata": {
        "id": "qQxFQvrEEKqm"
      },
      "outputs": [],
      "source": [
        "import numpy as np"
      ]
    },
    {
      "cell_type": "markdown",
      "metadata": {
        "id": "5dL78wl-ElhS"
      },
      "source": [
        "# Q.1\n",
        "**Statement:** You are working with a retail store that needs to manage its inventory efficiently. They have provided you with a dataset containing information about products, their quantities in stock, and the number of units sold daily for the past week. Total number of products are 5. Your task is to calculate the following:\n",
        "\n",
        "\n",
        "\n",
        "1.The total sales for each product over the past week.\n",
        "\n",
        "2.The average daily sales for each product.\n",
        "\n",
        "3.The product with the highest sales.\n",
        "\n",
        "4.The product with the lowest sales.\n",
        "\n",
        "5.The total sales for all products combined.\n",
        "\n",
        "You are required to use NumPy for efficient data processing and calculations. Write code to solve this inventory management problem."
      ]
    },
    {
      "cell_type": "code",
      "execution_count": 8,
      "metadata": {
        "id": "DxtXsLXRVpdW"
      },
      "outputs": [
        {
          "name": "stdout",
          "output_type": "stream",
          "text": [
            "Total sales for each product:\n",
            "Product A: 175\n",
            "Product B: 72\n",
            "Product C: 205\n",
            "Product D: 204\n",
            "Product E: 210\n",
            "\n",
            "Average daily sales for each product:\n",
            "Product A: 25.0\n",
            "Product B: 10.285714285714286\n",
            "Product C: 29.285714285714285\n",
            "Product D: 29.142857142857142\n",
            "Product E: 30.0\n",
            "\n",
            "The product with the highest sales: Product E\n",
            "The product with the lowest sales: Product B\n",
            "\n",
            "Total sales for all products combined: 866\n"
          ]
        }
      ],
      "source": [
        "import numpy as np\n",
        "\n",
        "product_names = np.array(['Product A', 'Product B', 'Product C', 'Product D', 'Product E'])\n",
        "quantities_in_stock = np.array([100, 150, 200, 250, 50])\n",
        "\n",
        "daily_sales_data = np.array([[10, 15, 20, 25, 30, 35, 40],\n",
        "                             [5, 7, 8, 10, 12, 14, 16],\n",
        "                             [15, 20, 25, 30, 35, 40, 40],\n",
        "                             [12, 25, 20, 40, 20, 32, 55],\n",
        "                             [15, 20, 25, 30, 35, 40, 45]])\n",
        "\n",
        "# 1. Calculate total sales for each product\n",
        "\n",
        "each_Product_sale = np.sum(daily_sales_data, axis=1)\n",
        "\n",
        "# 2. Calculate average daily sales for each product\n",
        "average_sale = np.mean(daily_sales_data, axis=1)\n",
        "\n",
        "# 3. Identify the product with the highest sales\n",
        "highest_sales = product_names[np.argmax(each_Product_sale)]\n",
        "\n",
        "# 4. Identify the product with the lowest sales\n",
        "lowest_sales = product_names[np.argmin(each_Product_sale)]\n",
        "\n",
        "# 5. Calculate the total sales for all products combined\n",
        "total_sales = np.sum(each_Product_sale)\n",
        "\n",
        "# Display results\n",
        "print(\"Total sales for each product:\")\n",
        "for i, product in enumerate(product_names):\n",
        "    print(f\"{product}: {each_Product_sale[i]}\")\n",
        "\n",
        "print(\"\\nAverage daily sales for each product:\")\n",
        "for i, product in enumerate(product_names):\n",
        "    print(f\"{product}: {average_sale[i]}\")\n",
        "\n",
        "print(f\"\\nThe product with the highest sales: {highest_sales}\")\n",
        "print(f\"The product with the lowest sales: {lowest_sales}\")\n",
        "\n",
        "print(f\"\\nTotal sales for all products combined: {total_sales}\")\n",
        "\n"
      ]
    },
    {
      "cell_type": "markdown",
      "metadata": {
        "id": "ICk1qoQHVwDc"
      },
      "source": [
        "# Q.2\n",
        "**Statement:** Statement: You are working with a manufacturing plant that produces various components. They have provided you with data on the production rates of five different machines over the past month. Your task is to analyze the performance of these machines by calculating the following metrics:\n",
        "\n",
        "1.The total production output for each machine over the past month.\n",
        "\n",
        "2.The average daily production rate for each machine.\n",
        "\n",
        "3.The machine with the highest total production output.\n",
        "\n",
        "4.The machine with the lowest total production output.\n",
        "\n",
        "The overall production efficiency of the plant, which is defined as the ratio of the total production output to the total number of hours worked, and working hour for each day is 2 hours."
      ]
    },
    {
      "cell_type": "code",
      "execution_count": 3,
      "metadata": {
        "id": "lIu6pfmgbUQd"
      },
      "outputs": [
        {
          "name": "stdout",
          "output_type": "stream",
          "text": [
            "Total production output for each machine: [4589 4612 4425 4801 4637]\n",
            "Average daily production rate for each machine: [152.96666667 153.73333333 147.5        160.03333333 154.56666667]\n",
            "Machine with the highest total production output: 4\n",
            "Machine with the lowest total production output: 3\n",
            "Overall production efficiency of the plant: 384.4\n"
          ]
        }
      ],
      "source": [
        "\n",
        "\n",
        "# Data for 5 machines\n",
        "\n",
        "# Generate random production rates between 100 and 200 for 5 machines and 30 days\n",
        "production_data = np.random.randint(100, 201, size=(5, 30))\n",
        "\n",
        "\n",
        "# Calculate total production output for each machine over the past month\n",
        "total_production_output = np.sum(production_data, axis=1)\n",
        "\n",
        "# Calculate average daily production rate for each machine\n",
        "num_days = production_data.shape[1]\n",
        "average_daily_production_rate = total_production_output / num_days\n",
        "\n",
        "\n",
        "# Find the machine with the highest and lowest total production output\n",
        "machine_highest_total = np.argmax(total_production_output) + 1\n",
        "\n",
        "machine_lowest_total = np.argmin(total_production_output) + 1 \n",
        "\n",
        "\n",
        "\n",
        "total_hours_worked = num_days * 2 \n",
        "\n",
        "# Calculate the overall production efficiency of the plant\n",
        "overall_efficiency = np.sum(total_production_output) / total_hours_worked\n",
        "\n",
        "#All results\n",
        "\n",
        "print(\"Total production output for each machine:\", total_production_output)\n",
        "print(\"Average daily production rate for each machine:\", average_daily_production_rate)\n",
        "print(\"Machine with the highest total production output:\", machine_highest_total)\n",
        "print(\"Machine with the lowest total production output:\", machine_lowest_total)\n",
        "print(\"Overall production efficiency of the plant:\", overall_efficiency)\n",
        "\n",
        "\n"
      ]
    },
    {
      "cell_type": "markdown",
      "metadata": {
        "id": "Ayc9TG-vff7A"
      },
      "source": [
        "# Q3:\n",
        "\n",
        "**Statment**\n",
        "You are working on a project that involves simulating sensor data for a network of 10 sensors over a period of 15 days. Each sensor collects data once per hour. Your task is to generate a NumPy array named sensor_data to represent this simulated sensor data and perform following statistical analysis on it.\n",
        "\n",
        "Populate the sensor_data array with random floating-point values between 0.0 and 100.0\n",
        "The generated values should represent sensor readings collected once per hour.\n",
        "\n",
        "After generating the sensor_data array, perform the following statistical **calculations:**\n",
        "\n",
        "1.Calculate the mean (average) sensor reading for each sensor over the 15 days.\n",
        "\n",
        "2.Calculate the standard deviation of sensor readings for each sensor.\n",
        "\n",
        "3.Calculate the maximum sensor reading for each sensor.\n",
        "\n",
        "4.Calculate the minimum sensor reading for each sensor.\n",
        "\n",
        "5.Calculate the overall mean sensor reading for all sensors and all days.\n",
        "\n",
        "6.Calculate the overall standard deviation of sensor readings for all sensors an"
      ]
    },
    {
      "cell_type": "code",
      "execution_count": 9,
      "metadata": {
        "id": "TWSK9GA1gfz0"
      },
      "outputs": [
        {
          "name": "stdout",
          "output_type": "stream",
          "text": [
            "Mean sensor reading for each sensor over the 15 days:\n",
            "[50.84499621 50.26957417 49.48244658 48.90341498 49.29904117 51.54171919\n",
            " 50.56236825 51.66960388 47.00453646 49.4890902 ]\n",
            "\n",
            "Standard deviation of sensor readings for each sensor:\n",
            "[29.22454877 28.63798397 28.81576726 29.71245236 28.55253926 28.33637633\n",
            " 27.66280211 29.56998004 28.9586865  29.57322843]\n",
            "\n",
            "Maximum sensor reading for each sensor:\n",
            "[99.87995778 99.98063417 99.39475819 99.70752765 99.78436493 99.40159031\n",
            " 99.81806875 99.78916624 99.78476747 99.81085145]\n",
            "\n",
            "Minimum sensor reading for each sensor:\n",
            "[0.30460633 0.12496338 0.19018978 0.17015609 0.08400904 0.67292706\n",
            " 0.10411815 0.37916742 0.21132566 0.19618137]\n",
            "\n",
            "Overall mean sensor reading for all sensors and all days:\n",
            "49.90667910910669\n",
            "\n",
            "Overall standard deviation of sensor readings for all sensors:\n",
            "28.940898289966466\n"
          ]
        }
      ],
      "source": [
        "import numpy as np\n",
        "\n",
        "# Data Generation Requirements\n",
        "num_sensors = 10\n",
        "num_days = 15\n",
        "hours_per_day = 24\n",
        "shape = (num_sensors, num_days * hours_per_day)\n",
        "\n",
        "# Generate sensor data\n",
        "sensor_data = np.random.uniform(0.0, 100.0, size=shape)\n",
        "\n",
        "# 1. Calculate the mean (average) sensor reading for each sensor over the 15 days.\n",
        "mean_sensor_reading_per_sensor = np.mean(sensor_data, axis=1)\n",
        "\n",
        "# 2. Calculate the standard deviation of sensor readings for each sensor.\n",
        "std_dev_sensor_readings_per_sensor = np.std(sensor_data, axis=1)\n",
        "\n",
        "# 3. Calculate the maximum sensor reading for each sensor.\n",
        "max_sensor_reading_per_sensor = np.max(sensor_data, axis=1)\n",
        "\n",
        "# 4. Calculate the minimum sensor reading for each sensor.\n",
        "min_sensor_reading_per_sensor = np.min(sensor_data, axis=1)\n",
        "\n",
        "# 5. Calculate the overall mean sensor reading for all sensors and all days.\n",
        "overall_mean_sensor_reading = np.mean(sensor_data)\n",
        "\n",
        "# 6. Calculate the overall standard deviation of sensor readings for all sensors.\n",
        "overall_std_dev_sensor_readings = np.std(sensor_data)\n",
        "\n",
        "# Display results\n",
        "print(\"Mean sensor reading for each sensor over the 15 days:\")\n",
        "print(mean_sensor_reading_per_sensor)\n",
        "\n",
        "print(\"\\nStandard deviation of sensor readings for each sensor:\")\n",
        "print(std_dev_sensor_readings_per_sensor)\n",
        "\n",
        "print(\"\\nMaximum sensor reading for each sensor:\")\n",
        "print(max_sensor_reading_per_sensor)\n",
        "\n",
        "print(\"\\nMinimum sensor reading for each sensor:\")\n",
        "print(min_sensor_reading_per_sensor)\n",
        "\n",
        "print(\"\\nOverall mean sensor reading for all sensors and all days:\")\n",
        "print(overall_mean_sensor_reading)\n",
        "\n",
        "print(\"\\nOverall standard deviation of sensor readings for all sensors:\")\n",
        "print(overall_std_dev_sensor_readings)\n",
        "\n"
      ]
    },
    {
      "cell_type": "markdown",
      "metadata": {
        "id": "IShr0NSyhcEc"
      },
      "source": [
        "# Q4:\n",
        "\n",
        "**Statement**: You are tasked with analyzing the exam scores of 30 students in a class over a period of 10 exams. The exam scores are represented as a NumPy, where each row corresponds to a different student, and each column represents their score in a specific exam.\n",
        "\n",
        "Populate the exam_scores array with random integer values between 50 and 100 to simulate students' exam performance.\n",
        "\n",
        "After generating the exam_scores array, perform the following tasks:\n",
        "\n",
        "1.Calculate the average score for each student over the 10 exams.\n",
        "\n",
        "2.Calculate the standard deviation of scores for each student.\n",
        "\n",
        "3.Identify students who have consistently performed well, defined as those whose average score is above 85.\n",
        "\n",
        "4.Identify students who may need additional support, defined as those whose average score is below 50.\n",
        "\n",
        "Write code to create and populate the exam_scores array and then perform the specified statistical analysis and performance evaluation tasks on the data.\n",
        "\n",
        "\n",
        "\n"
      ]
    },
    {
      "cell_type": "code",
      "execution_count": 10,
      "metadata": {
        "id": "F3p_SMeoiT2o"
      },
      "outputs": [
        {
          "name": "stdout",
          "output_type": "stream",
          "text": [
            "Average score for each student over the 10 exams:\n",
            "[78.  77.9 78.1 74.4 75.3 70.1 66.1 77.9 76.4 67.7 72.1 69.8 83.9 68.\n",
            " 72.6 75.  74.5 73.8 70.5 78.  73.4 78.4 75.8 75.1 72.6 77.  74.4 75.2\n",
            " 73.1 78.6]\n",
            "\n",
            "Standard deviation of scores for each student:\n",
            "[16.39512123 14.35583505 13.1791502  11.68931136 14.62224333 12.87982919\n",
            " 11.37936729 11.81058847 13.92982412 12.23968954  9.49157521 16.19753068\n",
            " 11.80211845 13.0537351  11.42978565 15.64608577 14.88791456 18.0432813\n",
            " 11.80889495 13.33416664 18.3640954  12.53156016 11.57410904  7.95550124\n",
            " 13.61029022 17.22207885 14.70510116 14.29545382 15.72545707 13.41789849]\n",
            "\n",
            "Students who have consistently performed well (average score > 85):\n",
            "No students have consistently performed well.\n",
            "\n",
            "Students who may need additional support (average score < 50):\n",
            "No students need additional support.\n"
          ]
        }
      ],
      "source": [
        "import numpy as np\n",
        "\n",
        "# Create the exam_scores array (30 students, 10 exams)\n",
        "num_students = 30\n",
        "num_exams = 10\n",
        "\n",
        "# Populate the exam_scores array with random scores between 50 and 100\n",
        "exam_scores = np.random.randint(50, 101, size=(num_students, num_exams))\n",
        "\n",
        "# 1. Calculate the average score for each student over the 10 exams\n",
        "average_scores_per_student = np.mean(exam_scores, axis=1)\n",
        "\n",
        "# 2. Calculate the standard deviation of scores for each student\n",
        "std_dev_scores_per_student = np.std(exam_scores, axis=1)\n",
        "\n",
        "# 3. Identify students who have consistently performed well (average score > 85)\n",
        "well_performing_students = np.where(average_scores_per_student > 85)[0]\n",
        "\n",
        "# 4. Identify students who may need additional support (average score < 50)\n",
        "students_needing_support = np.where(average_scores_per_student < 50)[0]\n",
        "\n",
        "# Display results\n",
        "print(\"Average score for each student over the 10 exams:\")\n",
        "print(average_scores_per_student)\n",
        "\n",
        "print(\"\\nStandard deviation of scores for each student:\")\n",
        "print(std_dev_scores_per_student)\n",
        "\n",
        "print(\"\\nStudents who have consistently performed well (average score > 85):\")\n",
        "if len(well_performing_students) > 0:\n",
        "    print(well_performing_students)\n",
        "else:\n",
        "    print(\"No students have consistently performed well.\")\n",
        "\n",
        "print(\"\\nStudents who may need additional support (average score < 50):\")\n",
        "if len(students_needing_support) > 0:\n",
        "    print(students_needing_support)\n",
        "else:\n",
        "    print(\"No students need additional support.\")\n"
      ]
    },
    {
      "cell_type": "code",
      "execution_count": null,
      "metadata": {},
      "outputs": [],
      "source": []
    }
  ],
  "metadata": {
    "colab": {
      "provenance": []
    },
    "kernelspec": {
      "display_name": "Python 3",
      "name": "python3"
    },
    "language_info": {
      "codemirror_mode": {
        "name": "ipython",
        "version": 3
      },
      "file_extension": ".py",
      "mimetype": "text/x-python",
      "name": "python",
      "nbconvert_exporter": "python",
      "pygments_lexer": "ipython3",
      "version": "3.11.7"
    }
  },
  "nbformat": 4,
  "nbformat_minor": 0
}
