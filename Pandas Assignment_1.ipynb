{
  "cells": [
    {
      "cell_type": "markdown",
      "metadata": {
        "id": "QbIJFrhS30Fj"
      },
      "source": [
        "\n",
        "\n",
        "# **Assignment 1**\n",
        "\n",
        "\n",
        "# Q1:\n",
        "Generate a DataFrame with four columns ('Name', 'Age', 'Gender', 'City') and five rows of sample data.\n",
        "\n",
        "\n",
        "\n"
      ]
    },
    {
      "cell_type": "code",
      "execution_count": 1,
      "metadata": {},
      "outputs": [],
      "source": [
        "import pandas as pd\n",
        "import numpy as np"
      ]
    },
    {
      "cell_type": "code",
      "execution_count": 2,
      "metadata": {
        "id": "jVVSG4uP3vZK"
      },
      "outputs": [
        {
          "data": {
            "text/html": [
              "<div>\n",
              "<style scoped>\n",
              "    .dataframe tbody tr th:only-of-type {\n",
              "        vertical-align: middle;\n",
              "    }\n",
              "\n",
              "    .dataframe tbody tr th {\n",
              "        vertical-align: top;\n",
              "    }\n",
              "\n",
              "    .dataframe thead th {\n",
              "        text-align: right;\n",
              "    }\n",
              "</style>\n",
              "<table border=\"1\" class=\"dataframe\">\n",
              "  <thead>\n",
              "    <tr style=\"text-align: right;\">\n",
              "      <th></th>\n",
              "      <th>Name</th>\n",
              "      <th>Age</th>\n",
              "      <th>Gender</th>\n",
              "      <th>City</th>\n",
              "    </tr>\n",
              "  </thead>\n",
              "  <tbody>\n",
              "    <tr>\n",
              "      <th>0</th>\n",
              "      <td>Ali</td>\n",
              "      <td>12</td>\n",
              "      <td>Male</td>\n",
              "      <td>Mecca</td>\n",
              "    </tr>\n",
              "    <tr>\n",
              "      <th>1</th>\n",
              "      <td>Ahmed</td>\n",
              "      <td>11</td>\n",
              "      <td>Male</td>\n",
              "      <td>Madina</td>\n",
              "    </tr>\n",
              "    <tr>\n",
              "      <th>2</th>\n",
              "      <td>Aleesha</td>\n",
              "      <td>7</td>\n",
              "      <td>Female</td>\n",
              "      <td>Istanbul</td>\n",
              "    </tr>\n",
              "    <tr>\n",
              "      <th>3</th>\n",
              "      <td>Asim</td>\n",
              "      <td>6</td>\n",
              "      <td>Male</td>\n",
              "      <td>venus</td>\n",
              "    </tr>\n",
              "    <tr>\n",
              "      <th>4</th>\n",
              "      <td>Ayesha</td>\n",
              "      <td>2</td>\n",
              "      <td>Female</td>\n",
              "      <td>Islamabad</td>\n",
              "    </tr>\n",
              "  </tbody>\n",
              "</table>\n",
              "</div>"
            ],
            "text/plain": [
              "      Name  Age  Gender       City\n",
              "0      Ali   12    Male      Mecca\n",
              "1    Ahmed   11    Male     Madina\n",
              "2  Aleesha    7  Female   Istanbul\n",
              "3     Asim    6    Male      venus\n",
              "4   Ayesha    2  Female  Islamabad"
            ]
          },
          "execution_count": 2,
          "metadata": {},
          "output_type": "execute_result"
        }
      ],
      "source": [
        "\n",
        "# Code Here\n",
        "#let create dataframe using Dict\n",
        "dict_data = {\n",
        "    \"Name\" : [\"Ali\",\"Ahmed\",\"Aleesha\",\"Asim\",\"Ayesha\"],\n",
        "    \"Age\"  : [12,11,7,6,2],\n",
        "    \"Gender\" : [\"Male\",\"Male\",\"Female\",\"Male\",\"Female\"],\n",
        "    \"City\"   : [\"Mecca\",\"Madina\",\"Istanbul\",\"venus\",\"Islamabad\"]\n",
        "}\n",
        "data = pd.DataFrame(dict_data)\n",
        "\n",
        "data"
      ]
    },
    {
      "cell_type": "markdown",
      "metadata": {
        "id": "YLGnZPKk4l_J"
      },
      "source": [
        "# Q2:\n",
        " **Create a Series:** Create a Series containing the names of your favorite movies and their corresponding ratings (out of 10)."
      ]
    },
    {
      "cell_type": "code",
      "execution_count": 3,
      "metadata": {
        "id": "jGQBLOje5C4q"
      },
      "outputs": [
        {
          "name": "stdout",
          "output_type": "stream",
          "text": [
            " Farouk Omar          9.3\n",
            "The Lion of Desert    8.2\n",
            "Men of Anjolos        7.1\n",
            "Journery to Makkah    7.3\n",
            "Name: Favourite movies with Ratings, dtype: float64\n"
          ]
        }
      ],
      "source": [
        "# Code Here\n",
        "movies = [\" Farouk Omar\", \"The Lion of Desert\",\"Men of Anjolos\",\"Journery to Makkah\"]\n",
        "ratings = [9.3,8.2,7.1,7.3]\n",
        "movie_series = pd.Series(ratings,index=movies,name=\"Favourite movies with Ratings\")\n",
        "print(movie_series)"
      ]
    },
    {
      "cell_type": "markdown",
      "metadata": {
        "id": "Jm9hkxXw5GsE"
      },
      "source": [
        "# Q3:\n",
        "\n",
        "**Index Labeling:** Set custom row labels for the DataFrame created in question 1, using meaningful identifiers instead of default numerical indices."
      ]
    },
    {
      "cell_type": "code",
      "execution_count": 4,
      "metadata": {
        "id": "_kZCVBu35QBM"
      },
      "outputs": [
        {
          "data": {
            "text/html": [
              "<div>\n",
              "<style scoped>\n",
              "    .dataframe tbody tr th:only-of-type {\n",
              "        vertical-align: middle;\n",
              "    }\n",
              "\n",
              "    .dataframe tbody tr th {\n",
              "        vertical-align: top;\n",
              "    }\n",
              "\n",
              "    .dataframe thead th {\n",
              "        text-align: right;\n",
              "    }\n",
              "</style>\n",
              "<table border=\"1\" class=\"dataframe\">\n",
              "  <thead>\n",
              "    <tr style=\"text-align: right;\">\n",
              "      <th></th>\n",
              "      <th>Name</th>\n",
              "      <th>Age</th>\n",
              "      <th>Gender</th>\n",
              "      <th>City</th>\n",
              "    </tr>\n",
              "  </thead>\n",
              "  <tbody>\n",
              "    <tr>\n",
              "      <th>Row 1</th>\n",
              "      <td>Ali</td>\n",
              "      <td>12</td>\n",
              "      <td>Male</td>\n",
              "      <td>Mecca</td>\n",
              "    </tr>\n",
              "    <tr>\n",
              "      <th>Row 2</th>\n",
              "      <td>Ahmed</td>\n",
              "      <td>11</td>\n",
              "      <td>Male</td>\n",
              "      <td>Madina</td>\n",
              "    </tr>\n",
              "    <tr>\n",
              "      <th>Row 3</th>\n",
              "      <td>Aleesha</td>\n",
              "      <td>7</td>\n",
              "      <td>Female</td>\n",
              "      <td>Istanbul</td>\n",
              "    </tr>\n",
              "    <tr>\n",
              "      <th>Row 4</th>\n",
              "      <td>Asim</td>\n",
              "      <td>6</td>\n",
              "      <td>Male</td>\n",
              "      <td>venus</td>\n",
              "    </tr>\n",
              "    <tr>\n",
              "      <th>Row 5</th>\n",
              "      <td>Ayesha</td>\n",
              "      <td>2</td>\n",
              "      <td>Female</td>\n",
              "      <td>Islamabad</td>\n",
              "    </tr>\n",
              "  </tbody>\n",
              "</table>\n",
              "</div>"
            ],
            "text/plain": [
              "          Name  Age  Gender       City\n",
              "Row 1      Ali   12    Male      Mecca\n",
              "Row 2    Ahmed   11    Male     Madina\n",
              "Row 3  Aleesha    7  Female   Istanbul\n",
              "Row 4     Asim    6    Male      venus\n",
              "Row 5   Ayesha    2  Female  Islamabad"
            ]
          },
          "execution_count": 4,
          "metadata": {},
          "output_type": "execute_result"
        }
      ],
      "source": [
        "# code Here\n",
        "data.index = ['Row 1',\"Row 2\",\"Row 3\",\"Row 4\",\"Row 5\"]\n",
        "data"
      ]
    },
    {
      "cell_type": "markdown",
      "metadata": {
        "id": "vcinZchF5RcR"
      },
      "source": [
        "# Q4:\n",
        "\n",
        "**Row Labeling:** Assign unique identifiers to the rows in the DataFrame created in question 1, such as 'Person1', 'Person2', etc."
      ]
    },
    {
      "cell_type": "code",
      "execution_count": 5,
      "metadata": {},
      "outputs": [],
      "source": [
        "data.index= [\"Person 1\",\"Person 2\",\"Person 3\",\"Person 4\",\"Person 5\"]"
      ]
    },
    {
      "cell_type": "code",
      "execution_count": 6,
      "metadata": {
        "id": "GEzDgwl35cJ4"
      },
      "outputs": [
        {
          "name": "stdout",
          "output_type": "stream",
          "text": [
            "             Name  Age  Gender       City\n",
            "Person 1      Ali   12    Male      Mecca\n",
            "Person 2    Ahmed   11    Male     Madina\n",
            "Person 3  Aleesha    7  Female   Istanbul\n",
            "Person 4     Asim    6    Male      venus\n",
            "Person 5   Ayesha    2  Female  Islamabad\n"
          ]
        }
      ],
      "source": [
        "print(data)"
      ]
    },
    {
      "cell_type": "markdown",
      "metadata": {
        "id": "V4pKNycV5eYk"
      },
      "source": [
        "# Q5:\n",
        "\n",
        "**Accessing Data:** Extract the 'Name' column from the DataFrame created in question 1 and display it in the Jupyter Notebook. Then, access the rating of your favorite movie from the Series created in question 2"
      ]
    },
    {
      "cell_type": "code",
      "execution_count": 7,
      "metadata": {
        "id": "e22MVzed5jHp"
      },
      "outputs": [
        {
          "name": "stdout",
          "output_type": "stream",
          "text": [
            "The Name column is :: \n",
            " Person 1        Ali\n",
            "Person 2      Ahmed\n",
            "Person 3    Aleesha\n",
            "Person 4       Asim\n",
            "Person 5     Ayesha\n",
            "Name: Name, dtype: object\n"
          ]
        }
      ],
      "source": [
        "print(\"The Name column is :: \\n\",data[\"Name\"])\n",
        "\n"
      ]
    },
    {
      "cell_type": "code",
      "execution_count": 8,
      "metadata": {},
      "outputs": [
        {
          "name": "stdout",
          "output_type": "stream",
          "text": [
            "The Ratings of the movie 'Men of Anjolos' is 7.1\n"
          ]
        }
      ],
      "source": [
        "print(f\"The Ratings of the movie 'Men of Anjolos' is {movie_series['Men of Anjolos']}\")\n"
      ]
    },
    {
      "cell_type": "code",
      "execution_count": null,
      "metadata": {},
      "outputs": [],
      "source": []
    }
  ],
  "metadata": {
    "colab": {
      "provenance": []
    },
    "kernelspec": {
      "display_name": "Python 3",
      "name": "python3"
    },
    "language_info": {
      "codemirror_mode": {
        "name": "ipython",
        "version": 3
      },
      "file_extension": ".py",
      "mimetype": "text/x-python",
      "name": "python",
      "nbconvert_exporter": "python",
      "pygments_lexer": "ipython3",
      "version": "3.11.7"
    }
  },
  "nbformat": 4,
  "nbformat_minor": 0
}
