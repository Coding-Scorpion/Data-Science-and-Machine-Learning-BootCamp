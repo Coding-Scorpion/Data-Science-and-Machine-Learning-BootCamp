{
  "cells": [
    {
      "cell_type": "markdown",
      "metadata": {
        "id": "a_7EMsHcVRPU"
      },
      "source": [
        "# Text Wrangling and Regex\n",
        "\n",
        "Adapted from Lisa Yan, Will Fithian, Joseph Gonzalez, Deborah Nolan, Sam Lau\n",
        "\n",
        "Updated by Bella Crouch\n",
        "\n",
        "Working with text: applying string methods and regular expressions"
      ]
    },
    {
      "cell_type": "code",
      "execution_count": 36,
      "metadata": {},
      "outputs": [],
      "source": [
        "import numpy as np\n",
        "import pandas as pd\n",
        "import re"
      ]
    },
    {
      "cell_type": "markdown",
      "metadata": {
        "id": "V7E0m86GVRPn"
      },
      "source": [
        "<br/><br/>\n",
        "<br/>\n",
        "\n",
        "---\n",
        "\n",
        "# Real World Case Study: Restaurant Data\n",
        "\n",
        "In this example, we will show how regexes can allow us to track quantitative data across categories defined by the appearance of various text fields.\n",
        "\n",
        "In this example we'll see how the presence of certain keywords can affect quantitative data:\n",
        "\n",
        "> **How do restaurant health scores vary as a function of the number of violations that mention a particular keyword?**\n",
        "> <br/>\n",
        "> (e.g., unclean surfaces, vermin, permits, etc.)"
      ]
    },
    {
      "cell_type": "code",
      "execution_count": 37,
      "metadata": {
        "id": "dmeANCm0VRPn",
        "outputId": "2364460e-0139-4663-adc6-4afebed527d4"
      },
      "outputs": [
        {
          "data": {
            "text/html": [
              "<div>\n",
              "<style scoped>\n",
              "    .dataframe tbody tr th:only-of-type {\n",
              "        vertical-align: middle;\n",
              "    }\n",
              "\n",
              "    .dataframe tbody tr th {\n",
              "        vertical-align: top;\n",
              "    }\n",
              "\n",
              "    .dataframe thead th {\n",
              "        text-align: right;\n",
              "    }\n",
              "</style>\n",
              "<table border=\"1\" class=\"dataframe\">\n",
              "  <thead>\n",
              "    <tr style=\"text-align: right;\">\n",
              "      <th></th>\n",
              "      <th>bid</th>\n",
              "      <th>date</th>\n",
              "      <th>dsc</th>\n",
              "    </tr>\n",
              "  </thead>\n",
              "  <tbody>\n",
              "    <tr>\n",
              "      <th>0</th>\n",
              "      <td>19</td>\n",
              "      <td>20171211</td>\n",
              "      <td>Inadequate food safety knowledge or lack of ce...</td>\n",
              "    </tr>\n",
              "    <tr>\n",
              "      <th>1</th>\n",
              "      <td>19</td>\n",
              "      <td>20171211</td>\n",
              "      <td>Unapproved or unmaintained equipment or utensils</td>\n",
              "    </tr>\n",
              "    <tr>\n",
              "      <th>2</th>\n",
              "      <td>19</td>\n",
              "      <td>20160513</td>\n",
              "      <td>Unapproved or unmaintained equipment or utensi...</td>\n",
              "    </tr>\n",
              "    <tr>\n",
              "      <th>3</th>\n",
              "      <td>19</td>\n",
              "      <td>20160513</td>\n",
              "      <td>Unclean or degraded floors walls or ceilings  ...</td>\n",
              "    </tr>\n",
              "    <tr>\n",
              "      <th>4</th>\n",
              "      <td>19</td>\n",
              "      <td>20160513</td>\n",
              "      <td>Food safety certificate or food handler card n...</td>\n",
              "    </tr>\n",
              "  </tbody>\n",
              "</table>\n",
              "</div>"
            ],
            "text/plain": [
              "   bid      date                                                dsc\n",
              "0   19  20171211  Inadequate food safety knowledge or lack of ce...\n",
              "1   19  20171211   Unapproved or unmaintained equipment or utensils\n",
              "2   19  20160513  Unapproved or unmaintained equipment or utensi...\n",
              "3   19  20160513  Unclean or degraded floors walls or ceilings  ...\n",
              "4   19  20160513  Food safety certificate or food handler card n..."
            ]
          },
          "execution_count": 37,
          "metadata": {},
          "output_type": "execute_result"
        }
      ],
      "source": [
        "# code here\n",
        "\n",
        "data = pd.read_csv(\"violations.csv\")\n",
        "data.columns =[\"bid\",\"date\",\"dsc\"]\n",
        "data.head()"
      ]
    },
    {
      "cell_type": "code",
      "execution_count": 38,
      "metadata": {},
      "outputs": [
        {
          "data": {
            "text/plain": [
              "(39042, 3)"
            ]
          },
          "execution_count": 38,
          "metadata": {},
          "output_type": "execute_result"
        }
      ],
      "source": [
        "data.shape"
      ]
    },
    {
      "cell_type": "code",
      "execution_count": 39,
      "metadata": {
        "id": "zO2nWCbeVRPo",
        "outputId": "74e39270-bf1d-4e36-dd82-81751a82e29e"
      },
      "outputs": [
        {
          "data": {
            "text/plain": [
              "(14253,)"
            ]
          },
          "execution_count": 39,
          "metadata": {},
          "output_type": "execute_result"
        }
      ],
      "source": [
        "# code here\n",
        "description = data[\"dsc\"]\n",
        "val_counts = description.value_counts()\n",
        "val_counts.shape"
      ]
    },
    {
      "cell_type": "markdown",
      "metadata": {
        "id": "Vpb54MQTVRPo"
      },
      "source": [
        "That's a lot of different descriptions!! Can we **canonicalize** at all? Let's explore two sets of 10 rows."
      ]
    },
    {
      "cell_type": "code",
      "execution_count": 40,
      "metadata": {
        "id": "6Q8PN7bKVRPo",
        "outputId": "1d009aea-352b-4fd1-8491-2b22ef255f3e"
      },
      "outputs": [
        {
          "data": {
            "text/plain": [
              "0    Inadequate food safety knowledge or lack of ce...\n",
              "1     Unapproved or unmaintained equipment or utensils\n",
              "2    Unapproved or unmaintained equipment or utensi...\n",
              "3    Unclean or degraded floors walls or ceilings  ...\n",
              "4    Food safety certificate or food handler card n...\n",
              "5                                Improper food storage\n",
              "6    Unclean or degraded floors walls or ceilings  ...\n",
              "7    Unclean or degraded floors walls or ceilings  ...\n",
              "8    Unclean or degraded floors walls or ceilings  ...\n",
              "9    Food safety certificate or food handler card n...\n",
              "Name: dsc, dtype: object"
            ]
          },
          "execution_count": 40,
          "metadata": {},
          "output_type": "execute_result"
        }
      ],
      "source": [
        "# code here\n",
        "description[:10]"
      ]
    },
    {
      "cell_type": "code",
      "execution_count": 41,
      "metadata": {
        "id": "GwaFVyCAVRPo",
        "outputId": "2aa1d44d-5f30-4057-95a6-5b66de148f7a",
        "scrolled": true
      },
      "outputs": [
        {
          "data": {
            "text/plain": [
              "90    Moderate risk vermin infestation  [ date viola...\n",
              "91    Wiping cloths not clean or properly stored or ...\n",
              "92    Low risk vermin infestation  [ date violation ...\n",
              "93    Improper storage of equipment utensils or line...\n",
              "94    Improper food storage  [ date violation correc...\n",
              "95    Improper storage use or identification of toxi...\n",
              "96    High risk food holding temperature   [ date vi...\n",
              "97    Unclean or degraded floors walls or ceilings  ...\n",
              "98                                Improper food storage\n",
              "99    Inadequately cleaned or sanitized food contact...\n",
              "Name: dsc, dtype: object"
            ]
          },
          "execution_count": 41,
          "metadata": {},
          "output_type": "execute_result"
        }
      ],
      "source": [
        "# code here\n",
        "description[90:100]"
      ]
    },
    {
      "cell_type": "code",
      "execution_count": 42,
      "metadata": {
        "id": "jr3XxD3bVRPo",
        "outputId": "1d0b2bea-e072-48ca-a5b6-361262d9337e"
      },
      "outputs": [
        {
          "data": {
            "text/html": [
              "<div>\n",
              "<style scoped>\n",
              "    .dataframe tbody tr th:only-of-type {\n",
              "        vertical-align: middle;\n",
              "    }\n",
              "\n",
              "    .dataframe tbody tr th {\n",
              "        vertical-align: top;\n",
              "    }\n",
              "\n",
              "    .dataframe thead th {\n",
              "        text-align: right;\n",
              "    }\n",
              "</style>\n",
              "<table border=\"1\" class=\"dataframe\">\n",
              "  <thead>\n",
              "    <tr style=\"text-align: right;\">\n",
              "      <th></th>\n",
              "      <th>bid</th>\n",
              "      <th>date</th>\n",
              "      <th>dsc</th>\n",
              "      <th>clean_desc</th>\n",
              "    </tr>\n",
              "  </thead>\n",
              "  <tbody>\n",
              "    <tr>\n",
              "      <th>0</th>\n",
              "      <td>19</td>\n",
              "      <td>20171211</td>\n",
              "      <td>Inadequate food safety knowledge or lack of ce...</td>\n",
              "      <td>inadequate food safety knowledge or lack of ce...</td>\n",
              "    </tr>\n",
              "    <tr>\n",
              "      <th>1</th>\n",
              "      <td>19</td>\n",
              "      <td>20171211</td>\n",
              "      <td>Unapproved or unmaintained equipment or utensils</td>\n",
              "      <td>unapproved or unmaintained equipment or utensils</td>\n",
              "    </tr>\n",
              "    <tr>\n",
              "      <th>2</th>\n",
              "      <td>19</td>\n",
              "      <td>20160513</td>\n",
              "      <td>Unapproved or unmaintained equipment or utensi...</td>\n",
              "      <td>unapproved or unmaintained equipment or utensils</td>\n",
              "    </tr>\n",
              "    <tr>\n",
              "      <th>3</th>\n",
              "      <td>19</td>\n",
              "      <td>20160513</td>\n",
              "      <td>Unclean or degraded floors walls or ceilings  ...</td>\n",
              "      <td>unclean or degraded floors walls or ceilings</td>\n",
              "    </tr>\n",
              "    <tr>\n",
              "      <th>4</th>\n",
              "      <td>19</td>\n",
              "      <td>20160513</td>\n",
              "      <td>Food safety certificate or food handler card n...</td>\n",
              "      <td>food safety certificate or food handler card n...</td>\n",
              "    </tr>\n",
              "  </tbody>\n",
              "</table>\n",
              "</div>"
            ],
            "text/plain": [
              "   bid      date                                                dsc  \\\n",
              "0   19  20171211  Inadequate food safety knowledge or lack of ce...   \n",
              "1   19  20171211   Unapproved or unmaintained equipment or utensils   \n",
              "2   19  20160513  Unapproved or unmaintained equipment or utensi...   \n",
              "3   19  20160513  Unclean or degraded floors walls or ceilings  ...   \n",
              "4   19  20160513  Food safety certificate or food handler card n...   \n",
              "\n",
              "                                          clean_desc  \n",
              "0  inadequate food safety knowledge or lack of ce...  \n",
              "1   unapproved or unmaintained equipment or utensils  \n",
              "2   unapproved or unmaintained equipment or utensils  \n",
              "3       unclean or degraded floors walls or ceilings  \n",
              "4  food safety certificate or food handler card n...  "
            ]
          },
          "execution_count": 42,
          "metadata": {},
          "output_type": "execute_result"
        }
      ],
      "source": [
        "# Use regular expressions to cut out the extra info in square braces.\n",
        "# code here\n",
        "\n",
        "\n",
        "data['clean_desc'] = (data['dsc']\n",
        "             .str.replace(r'\\s*\\[.*\\]$', '', regex=True)\n",
        "# \\s* matches any whitespace characters (spaces, tabs) zero or more times.\n",
        "# The dot (.) is a wildcard character that matches any single character except newline characters.\n",
        "#.* matches zero or more of any character.\n",
        "#The pattern \\[.*\\] matches any sequence of characters enclosed within square brackets,\n",
        "# including the brackets themselves.\n",
        "# So This pattern effectively removes any text within square brackets (including the brackets themselves) \n",
        "#if it appears at the end of the string.\n",
        "\n",
        "             .str.strip() #This method removes any leading and trailing whitespace from the text.\n",
        "             .str.lower()) \n",
        "data.head()"
      ]
    },
    {
      "cell_type": "code",
      "execution_count": 43,
      "metadata": {
        "id": "9iX6jSlFVRPo",
        "outputId": "e367bcea-4fca-492d-da3d-183db91729c6"
      },
      "outputs": [
        {
          "data": {
            "text/plain": [
              "68"
            ]
          },
          "execution_count": 43,
          "metadata": {},
          "output_type": "execute_result"
        }
      ],
      "source": [
        "# canonicalizing definitely helped\n",
        "len(data[\"clean_desc\"].value_counts())"
      ]
    },
    {
      "cell_type": "code",
      "execution_count": 44,
      "metadata": {
        "id": "i2M2qalrVRPp",
        "outputId": "f79cfc04-42d6-4008-b562-dfb68b1bfdc4"
      },
      "outputs": [
        {
          "data": {
            "text/plain": [
              "clean_desc\n",
              "unclean or degraded floors walls or ceilings               3507\n",
              "moderate risk food holding temperature                     2542\n",
              "inadequate and inaccessible handwashing facilities         2529\n",
              "unapproved or unmaintained equipment or utensils           2382\n",
              "inadequately cleaned or sanitized food contact surfaces    2301\n",
              "Name: count, dtype: int64"
            ]
          },
          "execution_count": 44,
          "metadata": {},
          "output_type": "execute_result"
        }
      ],
      "source": [
        "# code here\n",
        "data[\"clean_desc\"].value_counts().head()"
      ]
    },
    {
      "cell_type": "markdown",
      "metadata": {
        "id": "ziO1uIi8VRPp"
      },
      "source": [
        "Remember our research question:\n",
        "\n",
        "> **How do restaurant health scores vary as a function of the number of violations that mention a particular keyword?**\n",
        "> <br/>\n",
        "> (e.g., unclean surfaces, vermin, permits, etc.)\n",
        "\n",
        "<br/>\n",
        "\n",
        "Below, we use regular expressions and `df.assign()` ([documentation](https://pandas.pydata.org/pandas-docs/stable/reference/api/pandas.DataFrame.assign.html?highlight=assign#pandas.DataFrame.assign)) to **method chain** our creation of new boolean features, one per keyword."
      ]
    },
    {
      "cell_type": "code",
      "execution_count": 45,
      "metadata": {
        "id": "ZErX9k6mVRPp",
        "outputId": "eb55c879-9d0e-4c86-cee1-f2a21b805e36"
      },
      "outputs": [
        {
          "data": {
            "text/html": [
              "<div>\n",
              "<style scoped>\n",
              "    .dataframe tbody tr th:only-of-type {\n",
              "        vertical-align: middle;\n",
              "    }\n",
              "\n",
              "    .dataframe tbody tr th {\n",
              "        vertical-align: top;\n",
              "    }\n",
              "\n",
              "    .dataframe thead th {\n",
              "        text-align: right;\n",
              "    }\n",
              "</style>\n",
              "<table border=\"1\" class=\"dataframe\">\n",
              "  <thead>\n",
              "    <tr style=\"text-align: right;\">\n",
              "      <th></th>\n",
              "      <th>bid</th>\n",
              "      <th>date</th>\n",
              "      <th>dsc</th>\n",
              "      <th>clean_desc</th>\n",
              "      <th>is_unclean</th>\n",
              "      <th>is_high_risk</th>\n",
              "      <th>is_vermin</th>\n",
              "      <th>is_surface</th>\n",
              "      <th>is_human</th>\n",
              "      <th>is_permit</th>\n",
              "    </tr>\n",
              "  </thead>\n",
              "  <tbody>\n",
              "    <tr>\n",
              "      <th>0</th>\n",
              "      <td>19</td>\n",
              "      <td>20171211</td>\n",
              "      <td>Inadequate food safety knowledge or lack of ce...</td>\n",
              "      <td>inadequate food safety knowledge or lack of ce...</td>\n",
              "      <td>False</td>\n",
              "      <td>False</td>\n",
              "      <td>False</td>\n",
              "      <td>False</td>\n",
              "      <td>True</td>\n",
              "      <td>False</td>\n",
              "    </tr>\n",
              "    <tr>\n",
              "      <th>1</th>\n",
              "      <td>19</td>\n",
              "      <td>20171211</td>\n",
              "      <td>Unapproved or unmaintained equipment or utensils</td>\n",
              "      <td>unapproved or unmaintained equipment or utensils</td>\n",
              "      <td>False</td>\n",
              "      <td>False</td>\n",
              "      <td>False</td>\n",
              "      <td>False</td>\n",
              "      <td>True</td>\n",
              "      <td>False</td>\n",
              "    </tr>\n",
              "    <tr>\n",
              "      <th>2</th>\n",
              "      <td>19</td>\n",
              "      <td>20160513</td>\n",
              "      <td>Unapproved or unmaintained equipment or utensi...</td>\n",
              "      <td>unapproved or unmaintained equipment or utensils</td>\n",
              "      <td>False</td>\n",
              "      <td>False</td>\n",
              "      <td>False</td>\n",
              "      <td>False</td>\n",
              "      <td>True</td>\n",
              "      <td>False</td>\n",
              "    </tr>\n",
              "    <tr>\n",
              "      <th>3</th>\n",
              "      <td>19</td>\n",
              "      <td>20160513</td>\n",
              "      <td>Unclean or degraded floors walls or ceilings  ...</td>\n",
              "      <td>unclean or degraded floors walls or ceilings</td>\n",
              "      <td>True</td>\n",
              "      <td>False</td>\n",
              "      <td>False</td>\n",
              "      <td>True</td>\n",
              "      <td>True</td>\n",
              "      <td>False</td>\n",
              "    </tr>\n",
              "    <tr>\n",
              "      <th>4</th>\n",
              "      <td>19</td>\n",
              "      <td>20160513</td>\n",
              "      <td>Food safety certificate or food handler card n...</td>\n",
              "      <td>food safety certificate or food handler card n...</td>\n",
              "      <td>False</td>\n",
              "      <td>False</td>\n",
              "      <td>False</td>\n",
              "      <td>False</td>\n",
              "      <td>True</td>\n",
              "      <td>False</td>\n",
              "    </tr>\n",
              "  </tbody>\n",
              "</table>\n",
              "</div>"
            ],
            "text/plain": [
              "   bid      date                                                dsc  \\\n",
              "0   19  20171211  Inadequate food safety knowledge or lack of ce...   \n",
              "1   19  20171211   Unapproved or unmaintained equipment or utensils   \n",
              "2   19  20160513  Unapproved or unmaintained equipment or utensi...   \n",
              "3   19  20160513  Unclean or degraded floors walls or ceilings  ...   \n",
              "4   19  20160513  Food safety certificate or food handler card n...   \n",
              "\n",
              "                                          clean_desc  is_unclean  \\\n",
              "0  inadequate food safety knowledge or lack of ce...       False   \n",
              "1   unapproved or unmaintained equipment or utensils       False   \n",
              "2   unapproved or unmaintained equipment or utensils       False   \n",
              "3       unclean or degraded floors walls or ceilings        True   \n",
              "4  food safety certificate or food handler card n...       False   \n",
              "\n",
              "   is_high_risk  is_vermin  is_surface  is_human  is_permit  \n",
              "0         False      False       False      True      False  \n",
              "1         False      False       False      True      False  \n",
              "2         False      False       False      True      False  \n",
              "3         False      False        True      True      False  \n",
              "4         False      False       False      True      False  "
            ]
          },
          "execution_count": 45,
          "metadata": {},
          "output_type": "execute_result"
        }
      ],
      "source": [
        "# use regular expressions to assign new features for the presence of various keywords\n",
        "# regex metacharacter |\n",
        "# code here\n",
        "\n",
        "with_features = (data\n",
        " .assign(is_unclean     = data['clean_desc'].str.contains('clean'))\n",
        " .assign(is_high_risk = data['clean_desc'].str.contains('high risk'))\n",
        " .assign(is_vermin    = data['clean_desc'].str.contains('vermin'))\n",
        " .assign(is_surface   = data['clean_desc'].str.contains('surface | floor'))\n",
        " .assign(is_human     = data['clean_desc'].str.contains('human |'))\n",
        " .assign(is_permit    = data['clean_desc'].str.contains('permit | allow'))\n",
        ")\n",
        "\n",
        "\n",
        "with_features.head()"
      ]
    },
    {
      "cell_type": "markdown",
      "metadata": {
        "id": "xMonrRerVRPp"
      },
      "source": [
        "<br/><br/>\n",
        "\n",
        "### EDA\n",
        "\n",
        "That's the end of our text wrangling. Now let's do some more analysis to analyze restaurant health as a function of the number of violation keywords.\n",
        "\n",
        "To do so we'll first group so that our **granularity** is one inspection for a business on particular date. This effectively counts the number of violations by keyword for a given inspection."
      ]
    },
    {
      "cell_type": "code",
      "execution_count": 46,
      "metadata": {
        "id": "Lmse631UVRPp",
        "outputId": "0bc7d050-7ff3-4a4e-a3f6-6cefa0859ebf"
      },
      "outputs": [
        {
          "data": {
            "text/html": [
              "<div>\n",
              "<style scoped>\n",
              "    .dataframe tbody tr th:only-of-type {\n",
              "        vertical-align: middle;\n",
              "    }\n",
              "\n",
              "    .dataframe tbody tr th {\n",
              "        vertical-align: top;\n",
              "    }\n",
              "\n",
              "    .dataframe thead th {\n",
              "        text-align: right;\n",
              "    }\n",
              "</style>\n",
              "<table border=\"1\" class=\"dataframe\">\n",
              "  <thead>\n",
              "    <tr style=\"text-align: right;\">\n",
              "      <th></th>\n",
              "      <th>bid</th>\n",
              "      <th>date</th>\n",
              "      <th>is_unclean</th>\n",
              "      <th>is_high_risk</th>\n",
              "      <th>is_vermin</th>\n",
              "      <th>is_surface</th>\n",
              "      <th>is_human</th>\n",
              "      <th>is_permit</th>\n",
              "    </tr>\n",
              "  </thead>\n",
              "  <tbody>\n",
              "    <tr>\n",
              "      <th>255</th>\n",
              "      <td>489</td>\n",
              "      <td>20150728</td>\n",
              "      <td>5</td>\n",
              "      <td>0</td>\n",
              "      <td>2</td>\n",
              "      <td>1</td>\n",
              "      <td>12</td>\n",
              "      <td>0</td>\n",
              "    </tr>\n",
              "    <tr>\n",
              "      <th>256</th>\n",
              "      <td>489</td>\n",
              "      <td>20150807</td>\n",
              "      <td>1</td>\n",
              "      <td>0</td>\n",
              "      <td>0</td>\n",
              "      <td>0</td>\n",
              "      <td>3</td>\n",
              "      <td>0</td>\n",
              "    </tr>\n",
              "    <tr>\n",
              "      <th>257</th>\n",
              "      <td>489</td>\n",
              "      <td>20160308</td>\n",
              "      <td>2</td>\n",
              "      <td>2</td>\n",
              "      <td>1</td>\n",
              "      <td>0</td>\n",
              "      <td>6</td>\n",
              "      <td>0</td>\n",
              "    </tr>\n",
              "    <tr>\n",
              "      <th>258</th>\n",
              "      <td>489</td>\n",
              "      <td>20160721</td>\n",
              "      <td>2</td>\n",
              "      <td>1</td>\n",
              "      <td>1</td>\n",
              "      <td>0</td>\n",
              "      <td>7</td>\n",
              "      <td>1</td>\n",
              "    </tr>\n",
              "    <tr>\n",
              "      <th>259</th>\n",
              "      <td>489</td>\n",
              "      <td>20161220</td>\n",
              "      <td>3</td>\n",
              "      <td>0</td>\n",
              "      <td>1</td>\n",
              "      <td>1</td>\n",
              "      <td>7</td>\n",
              "      <td>0</td>\n",
              "    </tr>\n",
              "  </tbody>\n",
              "</table>\n",
              "</div>"
            ],
            "text/plain": [
              "     bid      date  is_unclean  is_high_risk  is_vermin  is_surface  is_human  \\\n",
              "255  489  20150728           5             0          2           1        12   \n",
              "256  489  20150807           1             0          0           0         3   \n",
              "257  489  20160308           2             2          1           0         6   \n",
              "258  489  20160721           2             1          1           0         7   \n",
              "259  489  20161220           3             0          1           1         7   \n",
              "\n",
              "     is_permit  \n",
              "255          0  \n",
              "256          0  \n",
              "257          0  \n",
              "258          1  \n",
              "259          0  "
            ]
          },
          "execution_count": 46,
          "metadata": {},
          "output_type": "execute_result"
        }
      ],
      "source": [
        "# code here\n",
        "count_features = (with_features\n",
        " .groupby(['bid', 'date']).sum(numeric_only=True).reset_index())\n",
        "count_features.iloc[255:260, :]\n"
      ]
    },
    {
      "cell_type": "markdown",
      "metadata": {
        "id": "wE4UHgONVRPp"
      },
      "source": [
        "Check out our new dataframe in action:"
      ]
    },
    {
      "cell_type": "code",
      "execution_count": 47,
      "metadata": {
        "id": "OAvEuMJ8VRPp",
        "outputId": "6258c30b-f4f4-4a6f-b77d-b24166aca138"
      },
      "outputs": [
        {
          "data": {
            "text/html": [
              "<div>\n",
              "<style scoped>\n",
              "    .dataframe tbody tr th:only-of-type {\n",
              "        vertical-align: middle;\n",
              "    }\n",
              "\n",
              "    .dataframe tbody tr th {\n",
              "        vertical-align: top;\n",
              "    }\n",
              "\n",
              "    .dataframe thead th {\n",
              "        text-align: right;\n",
              "    }\n",
              "</style>\n",
              "<table border=\"1\" class=\"dataframe\">\n",
              "  <thead>\n",
              "    <tr style=\"text-align: right;\">\n",
              "      <th></th>\n",
              "      <th>bid</th>\n",
              "      <th>date</th>\n",
              "      <th>is_unclean</th>\n",
              "      <th>is_high_risk</th>\n",
              "      <th>is_vermin</th>\n",
              "      <th>is_surface</th>\n",
              "      <th>is_human</th>\n",
              "      <th>is_permit</th>\n",
              "    </tr>\n",
              "  </thead>\n",
              "  <tbody>\n",
              "    <tr>\n",
              "      <th>9693</th>\n",
              "      <td>79794</td>\n",
              "      <td>20170809</td>\n",
              "      <td>0</td>\n",
              "      <td>0</td>\n",
              "      <td>0</td>\n",
              "      <td>0</td>\n",
              "      <td>2</td>\n",
              "      <td>0</td>\n",
              "    </tr>\n",
              "    <tr>\n",
              "      <th>11893</th>\n",
              "      <td>89643</td>\n",
              "      <td>20170118</td>\n",
              "      <td>2</td>\n",
              "      <td>0</td>\n",
              "      <td>0</td>\n",
              "      <td>0</td>\n",
              "      <td>2</td>\n",
              "      <td>0</td>\n",
              "    </tr>\n",
              "    <tr>\n",
              "      <th>9161</th>\n",
              "      <td>77755</td>\n",
              "      <td>20160527</td>\n",
              "      <td>1</td>\n",
              "      <td>1</td>\n",
              "      <td>0</td>\n",
              "      <td>0</td>\n",
              "      <td>6</td>\n",
              "      <td>0</td>\n",
              "    </tr>\n",
              "    <tr>\n",
              "      <th>9484</th>\n",
              "      <td>78962</td>\n",
              "      <td>20150213</td>\n",
              "      <td>1</td>\n",
              "      <td>0</td>\n",
              "      <td>0</td>\n",
              "      <td>0</td>\n",
              "      <td>6</td>\n",
              "      <td>0</td>\n",
              "    </tr>\n",
              "    <tr>\n",
              "      <th>822</th>\n",
              "      <td>1566</td>\n",
              "      <td>20160301</td>\n",
              "      <td>1</td>\n",
              "      <td>1</td>\n",
              "      <td>0</td>\n",
              "      <td>1</td>\n",
              "      <td>4</td>\n",
              "      <td>0</td>\n",
              "    </tr>\n",
              "  </tbody>\n",
              "</table>\n",
              "</div>"
            ],
            "text/plain": [
              "         bid      date  is_unclean  is_high_risk  is_vermin  is_surface  \\\n",
              "9693   79794  20170809           0             0          0           0   \n",
              "11893  89643  20170118           2             0          0           0   \n",
              "9161   77755  20160527           1             1          0           0   \n",
              "9484   78962  20150213           1             0          0           0   \n",
              "822     1566  20160301           1             1          0           1   \n",
              "\n",
              "       is_human  is_permit  \n",
              "9693          2          0  \n",
              "11893         2          0  \n",
              "9161          6          0  \n",
              "9484          6          0  \n",
              "822           4          0  "
            ]
          },
          "execution_count": 47,
          "metadata": {},
          "output_type": "execute_result"
        }
      ],
      "source": [
        "count_features.sample(5,replace=True)"
      ]
    },
    {
      "cell_type": "markdown",
      "metadata": {
        "id": "SiSZiKh4VRPq"
      },
      "source": [
        "Now we'll reshape this \"wide\" table into a \"tidy\" table using a pandas feature called `pd.melt` ([documentation](https://pandas.pydata.org/pandas-docs/stable/reference/api/pandas.DataFrame.melt.html?highlight=pd%20melt)) which we won't describe in any detail, other than that it's effectively the inverse of `pd.pivot_table`.\n",
        "\n",
        "Our **granularity** is now a violation type for a given inspection (for a business on a particular date)."
      ]
    },
    {
      "cell_type": "code",
      "execution_count": 48,
      "metadata": {
        "id": "gfNDQT6kVRPq",
        "outputId": "8771426d-9303-41e3-a19f-bc93cee9eaa7"
      },
      "outputs": [
        {
          "data": {
            "text/html": [
              "<div>\n",
              "<style scoped>\n",
              "    .dataframe tbody tr th:only-of-type {\n",
              "        vertical-align: middle;\n",
              "    }\n",
              "\n",
              "    .dataframe tbody tr th {\n",
              "        vertical-align: top;\n",
              "    }\n",
              "\n",
              "    .dataframe thead th {\n",
              "        text-align: right;\n",
              "    }\n",
              "</style>\n",
              "<table border=\"1\" class=\"dataframe\">\n",
              "  <thead>\n",
              "    <tr style=\"text-align: right;\">\n",
              "      <th></th>\n",
              "      <th>bid</th>\n",
              "      <th>date</th>\n",
              "      <th>feature</th>\n",
              "      <th>num_vios</th>\n",
              "    </tr>\n",
              "  </thead>\n",
              "  <tbody>\n",
              "    <tr>\n",
              "      <th>255</th>\n",
              "      <td>489</td>\n",
              "      <td>20150728</td>\n",
              "      <td>is_unclean</td>\n",
              "      <td>5</td>\n",
              "    </tr>\n",
              "    <tr>\n",
              "      <th>12517</th>\n",
              "      <td>489</td>\n",
              "      <td>20150728</td>\n",
              "      <td>is_high_risk</td>\n",
              "      <td>0</td>\n",
              "    </tr>\n",
              "    <tr>\n",
              "      <th>24779</th>\n",
              "      <td>489</td>\n",
              "      <td>20150728</td>\n",
              "      <td>is_vermin</td>\n",
              "      <td>2</td>\n",
              "    </tr>\n",
              "    <tr>\n",
              "      <th>37041</th>\n",
              "      <td>489</td>\n",
              "      <td>20150728</td>\n",
              "      <td>is_surface</td>\n",
              "      <td>1</td>\n",
              "    </tr>\n",
              "    <tr>\n",
              "      <th>49303</th>\n",
              "      <td>489</td>\n",
              "      <td>20150728</td>\n",
              "      <td>is_human</td>\n",
              "      <td>12</td>\n",
              "    </tr>\n",
              "    <tr>\n",
              "      <th>61565</th>\n",
              "      <td>489</td>\n",
              "      <td>20150728</td>\n",
              "      <td>is_permit</td>\n",
              "      <td>0</td>\n",
              "    </tr>\n",
              "  </tbody>\n",
              "</table>\n",
              "</div>"
            ],
            "text/plain": [
              "       bid      date       feature  num_vios\n",
              "255    489  20150728    is_unclean         5\n",
              "12517  489  20150728  is_high_risk         0\n",
              "24779  489  20150728     is_vermin         2\n",
              "37041  489  20150728    is_surface         1\n",
              "49303  489  20150728      is_human        12\n",
              "61565  489  20150728     is_permit         0"
            ]
          },
          "execution_count": 48,
          "metadata": {},
          "output_type": "execute_result"
        }
      ],
      "source": [
        "# code here\n",
        "total_violations = pd.melt(count_features, id_vars=['bid', 'date'],\n",
        "            var_name='feature', value_name='num_vios')\n",
        "\n",
        "# show a particular inspection's results\n",
        "# code here\n",
        "total_violations[(total_violations['bid'] == 489) & (total_violations['date'] == 20150728)]"
      ]
    },
    {
      "cell_type": "markdown",
      "metadata": {
        "id": "-5XTcuXaVRPq"
      },
      "source": [
        "Remember our research question:\n",
        "\n",
        "> **How do restaurant health scores vary as a function of the number of violations that mention a particular keyword?**\n",
        "> <br/>\n",
        "> (e.g., unclean surfaces, vermin, permits, etc.)\n",
        "\n",
        "<br/>\n",
        "\n",
        "We have the second half of this question! Now let's **join** our table with the inspection scores, located in `inspections.csv`."
      ]
    },
    {
      "cell_type": "code",
      "execution_count": 49,
      "metadata": {
        "id": "u5KnxDllVRPq",
        "outputId": "e21bd071-ac01-43c5-fa2a-12c9a70cc2a4"
      },
      "outputs": [
        {
          "data": {
            "text/html": [
              "<div>\n",
              "<style scoped>\n",
              "    .dataframe tbody tr th:only-of-type {\n",
              "        vertical-align: middle;\n",
              "    }\n",
              "\n",
              "    .dataframe tbody tr th {\n",
              "        vertical-align: top;\n",
              "    }\n",
              "\n",
              "    .dataframe thead th {\n",
              "        text-align: right;\n",
              "    }\n",
              "</style>\n",
              "<table border=\"1\" class=\"dataframe\">\n",
              "  <thead>\n",
              "    <tr style=\"text-align: right;\">\n",
              "      <th></th>\n",
              "      <th>bid</th>\n",
              "      <th>score</th>\n",
              "      <th>date</th>\n",
              "    </tr>\n",
              "  </thead>\n",
              "  <tbody>\n",
              "    <tr>\n",
              "      <th>0</th>\n",
              "      <td>19</td>\n",
              "      <td>94</td>\n",
              "      <td>20160513</td>\n",
              "    </tr>\n",
              "    <tr>\n",
              "      <th>1</th>\n",
              "      <td>19</td>\n",
              "      <td>94</td>\n",
              "      <td>20171211</td>\n",
              "    </tr>\n",
              "    <tr>\n",
              "      <th>2</th>\n",
              "      <td>24</td>\n",
              "      <td>98</td>\n",
              "      <td>20171101</td>\n",
              "    </tr>\n",
              "    <tr>\n",
              "      <th>3</th>\n",
              "      <td>24</td>\n",
              "      <td>98</td>\n",
              "      <td>20161005</td>\n",
              "    </tr>\n",
              "    <tr>\n",
              "      <th>4</th>\n",
              "      <td>24</td>\n",
              "      <td>96</td>\n",
              "      <td>20160311</td>\n",
              "    </tr>\n",
              "  </tbody>\n",
              "</table>\n",
              "</div>"
            ],
            "text/plain": [
              "   bid  score      date\n",
              "0   19     94  20160513\n",
              "1   19     94  20171211\n",
              "2   24     98  20171101\n",
              "3   24     98  20161005\n",
              "4   24     96  20160311"
            ]
          },
          "execution_count": 49,
          "metadata": {},
          "output_type": "execute_result"
        }
      ],
      "source": [
        "# read in the scores\n",
        "# code here\n",
        "\n",
        "df = pd.read_csv(r'H:\\Machine Learning\\EDA\\inspections.csv',\n",
        "                  header=0,\n",
        "                  usecols=[0, 1, 2],\n",
        "                  names=['bid', 'score', 'date'])\n",
        "df.head()"
      ]
    },
    {
      "cell_type": "markdown",
      "metadata": {
        "id": "Xy9yxre9VRPq"
      },
      "source": [
        "While the inspection scores were stored in a separate file from the violation descriptions, we notice that the **primary key** in inspections is (`bid`, `date`)! So we can reference this key in our join."
      ]
    },
    {
      "cell_type": "code",
      "execution_count": 50,
      "metadata": {
        "id": "3hi509gbVRPq",
        "outputId": "a59eacc5-9e58-4b29-ac81-121cdcae5cd6"
      },
      "outputs": [
        {
          "data": {
            "text/html": [
              "<div>\n",
              "<style scoped>\n",
              "    .dataframe tbody tr th:only-of-type {\n",
              "        vertical-align: middle;\n",
              "    }\n",
              "\n",
              "    .dataframe tbody tr th {\n",
              "        vertical-align: top;\n",
              "    }\n",
              "\n",
              "    .dataframe thead th {\n",
              "        text-align: right;\n",
              "    }\n",
              "</style>\n",
              "<table border=\"1\" class=\"dataframe\">\n",
              "  <thead>\n",
              "    <tr style=\"text-align: right;\">\n",
              "      <th></th>\n",
              "      <th>bid</th>\n",
              "      <th>score_x</th>\n",
              "      <th>date</th>\n",
              "      <th>score_y</th>\n",
              "    </tr>\n",
              "  </thead>\n",
              "  <tbody>\n",
              "    <tr>\n",
              "      <th>0</th>\n",
              "      <td>19</td>\n",
              "      <td>94</td>\n",
              "      <td>20160513</td>\n",
              "      <td>94</td>\n",
              "    </tr>\n",
              "    <tr>\n",
              "      <th>1</th>\n",
              "      <td>19</td>\n",
              "      <td>94</td>\n",
              "      <td>20171211</td>\n",
              "      <td>94</td>\n",
              "    </tr>\n",
              "    <tr>\n",
              "      <th>2</th>\n",
              "      <td>24</td>\n",
              "      <td>98</td>\n",
              "      <td>20171101</td>\n",
              "      <td>98</td>\n",
              "    </tr>\n",
              "    <tr>\n",
              "      <th>3</th>\n",
              "      <td>24</td>\n",
              "      <td>98</td>\n",
              "      <td>20161005</td>\n",
              "      <td>98</td>\n",
              "    </tr>\n",
              "    <tr>\n",
              "      <th>4</th>\n",
              "      <td>24</td>\n",
              "      <td>96</td>\n",
              "      <td>20160311</td>\n",
              "      <td>96</td>\n",
              "    </tr>\n",
              "    <tr>\n",
              "      <th>5</th>\n",
              "      <td>31</td>\n",
              "      <td>98</td>\n",
              "      <td>20151204</td>\n",
              "      <td>98</td>\n",
              "    </tr>\n",
              "    <tr>\n",
              "      <th>6</th>\n",
              "      <td>45</td>\n",
              "      <td>78</td>\n",
              "      <td>20160104</td>\n",
              "      <td>78</td>\n",
              "    </tr>\n",
              "    <tr>\n",
              "      <th>7</th>\n",
              "      <td>45</td>\n",
              "      <td>88</td>\n",
              "      <td>20170307</td>\n",
              "      <td>88</td>\n",
              "    </tr>\n",
              "    <tr>\n",
              "      <th>8</th>\n",
              "      <td>45</td>\n",
              "      <td>85</td>\n",
              "      <td>20170914</td>\n",
              "      <td>85</td>\n",
              "    </tr>\n",
              "    <tr>\n",
              "      <th>9</th>\n",
              "      <td>45</td>\n",
              "      <td>84</td>\n",
              "      <td>20160614</td>\n",
              "      <td>84</td>\n",
              "    </tr>\n",
              "    <tr>\n",
              "      <th>10</th>\n",
              "      <td>48</td>\n",
              "      <td>94</td>\n",
              "      <td>20160630</td>\n",
              "      <td>94</td>\n",
              "    </tr>\n",
              "    <tr>\n",
              "      <th>11</th>\n",
              "      <td>54</td>\n",
              "      <td>100</td>\n",
              "      <td>20150526</td>\n",
              "      <td>100</td>\n",
              "    </tr>\n",
              "  </tbody>\n",
              "</table>\n",
              "</div>"
            ],
            "text/plain": [
              "    bid  score_x      date  score_y\n",
              "0    19       94  20160513       94\n",
              "1    19       94  20171211       94\n",
              "2    24       98  20171101       98\n",
              "3    24       98  20161005       98\n",
              "4    24       96  20160311       96\n",
              "5    31       98  20151204       98\n",
              "6    45       78  20160104       78\n",
              "7    45       88  20170307       88\n",
              "8    45       85  20170914       85\n",
              "9    45       84  20160614       84\n",
              "10   48       94  20160630       94\n",
              "11   54      100  20150526      100"
            ]
          },
          "execution_count": 50,
          "metadata": {},
          "output_type": "execute_result"
        }
      ],
      "source": [
        "# join scores with the table broken down by violation type\n",
        "# code here\n",
        "\n",
        "violation_df = (df.merge(df, on=['bid', 'date'])\n",
        ")\n",
        "violation_df.head(12)"
      ]
    },
    {
      "cell_type": "markdown",
      "metadata": {},
      "source": [
        "# It took too much time to solve this case study but I learned lot of new things from this case study"
      ]
    },
    {
      "cell_type": "markdown",
      "metadata": {},
      "source": []
    }
  ],
  "metadata": {
    "colab": {
      "provenance": []
    },
    "kernelspec": {
      "display_name": "Python 3 (ipykernel)",
      "language": "python",
      "name": "python3"
    },
    "language_info": {
      "codemirror_mode": {
        "name": "ipython",
        "version": 3
      },
      "file_extension": ".py",
      "mimetype": "text/x-python",
      "name": "python",
      "nbconvert_exporter": "python",
      "pygments_lexer": "ipython3",
      "version": "3.11.7"
    }
  },
  "nbformat": 4,
  "nbformat_minor": 0
}
