{
  "cells": [
    {
      "cell_type": "markdown",
      "metadata": {
        "id": "a_7EMsHcVRPU"
      },
      "source": [
        "# Text Wrangling and Regex\n",
        "Working with text: applying string methods and regular expressions"
      ]
    },
    {
      "cell_type": "code",
      "execution_count": 1,
      "metadata": {
        "id": "F05iGGw6VRPY"
      },
      "outputs": [],
      "source": [
        "import matplotlib.pyplot as plt\n",
        "import numpy as np\n",
        "import pandas as pd\n",
        "import seaborn as sns\n",
        "import zipfile\n",
        "import pandas as pd"
      ]
    },
    {
      "cell_type": "markdown",
      "metadata": {
        "id": "8o2x8DIBVRPZ"
      },
      "source": [
        "## Demo 1: Canonicalizing County Names"
      ]
    },
    {
      "cell_type": "code",
      "execution_count": 2,
      "metadata": {
        "colab": {
          "base_uri": "https://localhost:8080/",
          "height": 333
        },
        "id": "drDN55X1VRPa",
        "outputId": "e87a0569-ef8a-4353-bc76-8b0606287b1e"
      },
      "outputs": [
        {
          "data": {
            "text/html": [
              "<div>\n",
              "<style scoped>\n",
              "    .dataframe tbody tr th:only-of-type {\n",
              "        vertical-align: middle;\n",
              "    }\n",
              "\n",
              "    .dataframe tbody tr th {\n",
              "        vertical-align: top;\n",
              "    }\n",
              "\n",
              "    .dataframe thead th {\n",
              "        text-align: right;\n",
              "    }\n",
              "</style>\n",
              "<table border=\"1\" class=\"dataframe\">\n",
              "  <thead>\n",
              "    <tr style=\"text-align: right;\">\n",
              "      <th></th>\n",
              "      <th>County</th>\n",
              "      <th>State</th>\n",
              "    </tr>\n",
              "  </thead>\n",
              "  <tbody>\n",
              "    <tr>\n",
              "      <th>0</th>\n",
              "      <td>De Witt County</td>\n",
              "      <td>IL</td>\n",
              "    </tr>\n",
              "    <tr>\n",
              "      <th>1</th>\n",
              "      <td>Lac qui Parle County</td>\n",
              "      <td>MN</td>\n",
              "    </tr>\n",
              "    <tr>\n",
              "      <th>2</th>\n",
              "      <td>Lewis and Clark County</td>\n",
              "      <td>MT</td>\n",
              "    </tr>\n",
              "    <tr>\n",
              "      <th>3</th>\n",
              "      <td>St John the Baptist Parish</td>\n",
              "      <td>LS</td>\n",
              "    </tr>\n",
              "  </tbody>\n",
              "</table>\n",
              "</div>"
            ],
            "text/plain": [
              "                       County State\n",
              "0              De Witt County    IL\n",
              "1        Lac qui Parle County    MN\n",
              "2      Lewis and Clark County    MT\n",
              "3  St John the Baptist Parish    LS"
            ]
          },
          "metadata": {},
          "output_type": "display_data"
        },
        {
          "data": {
            "text/html": [
              "<div>\n",
              "<style scoped>\n",
              "    .dataframe tbody tr th:only-of-type {\n",
              "        vertical-align: middle;\n",
              "    }\n",
              "\n",
              "    .dataframe tbody tr th {\n",
              "        vertical-align: top;\n",
              "    }\n",
              "\n",
              "    .dataframe thead th {\n",
              "        text-align: right;\n",
              "    }\n",
              "</style>\n",
              "<table border=\"1\" class=\"dataframe\">\n",
              "  <thead>\n",
              "    <tr style=\"text-align: right;\">\n",
              "      <th></th>\n",
              "      <th>County</th>\n",
              "      <th>Population</th>\n",
              "    </tr>\n",
              "  </thead>\n",
              "  <tbody>\n",
              "    <tr>\n",
              "      <th>0</th>\n",
              "      <td>DeWitt</td>\n",
              "      <td>16798</td>\n",
              "    </tr>\n",
              "    <tr>\n",
              "      <th>1</th>\n",
              "      <td>Lac Qui Parle</td>\n",
              "      <td>8067</td>\n",
              "    </tr>\n",
              "    <tr>\n",
              "      <th>2</th>\n",
              "      <td>Lewis &amp; Clark</td>\n",
              "      <td>55716</td>\n",
              "    </tr>\n",
              "    <tr>\n",
              "      <th>3</th>\n",
              "      <td>St. John the Baptist</td>\n",
              "      <td>43044</td>\n",
              "    </tr>\n",
              "  </tbody>\n",
              "</table>\n",
              "</div>"
            ],
            "text/plain": [
              "                 County  Population\n",
              "0                DeWitt       16798\n",
              "1         Lac Qui Parle        8067\n",
              "2         Lewis & Clark       55716\n",
              "3  St. John the Baptist       43044"
            ]
          },
          "metadata": {},
          "output_type": "display_data"
        }
      ],
      "source": [
        "# read both states and population csv files\n",
        "states = pd.read_csv('county_and_state.csv')\n",
        "populations = pd.read_csv('county_and_population.csv')\n",
        "\n",
        "\n",
        "# display allows us to view a DataFrame without returning it as an object\n",
        "display(states)\n",
        "\n",
        "display(populations)"
      ]
    },
    {
      "cell_type": "markdown",
      "metadata": {
        "id": "mVxSRsSUVRPb"
      },
      "source": [
        "Both of these DataFrames share a \"County\" column. Unfortunately, formatting differences mean that we can't directly merge the two DataFrames using the \"County\"s."
      ]
    },
    {
      "cell_type": "code",
      "execution_count": 3,
      "metadata": {
        "colab": {
          "base_uri": "https://localhost:8080/",
          "height": 53
        },
        "id": "N79BJ3H6VRPb",
        "outputId": "e69177fb-2d74-4dd4-a257-5c2f988df320"
      },
      "outputs": [
        {
          "data": {
            "text/html": [
              "<div>\n",
              "<style scoped>\n",
              "    .dataframe tbody tr th:only-of-type {\n",
              "        vertical-align: middle;\n",
              "    }\n",
              "\n",
              "    .dataframe tbody tr th {\n",
              "        vertical-align: top;\n",
              "    }\n",
              "\n",
              "    .dataframe thead th {\n",
              "        text-align: right;\n",
              "    }\n",
              "</style>\n",
              "<table border=\"1\" class=\"dataframe\">\n",
              "  <thead>\n",
              "    <tr style=\"text-align: right;\">\n",
              "      <th></th>\n",
              "      <th>County</th>\n",
              "      <th>State</th>\n",
              "      <th>Population</th>\n",
              "    </tr>\n",
              "  </thead>\n",
              "  <tbody>\n",
              "  </tbody>\n",
              "</table>\n",
              "</div>"
            ],
            "text/plain": [
              "Empty DataFrame\n",
              "Columns: [County, State, Population]\n",
              "Index: []"
            ]
          },
          "execution_count": 3,
          "metadata": {},
          "output_type": "execute_result"
        }
      ],
      "source": [
        "# apply merage\n",
        "states.merge(populations, left_on= 'County', right_on= 'County')\n"
      ]
    },
    {
      "cell_type": "code",
      "execution_count": 4,
      "metadata": {},
      "outputs": [
        {
          "data": {
            "text/html": [
              "<div>\n",
              "<style scoped>\n",
              "    .dataframe tbody tr th:only-of-type {\n",
              "        vertical-align: middle;\n",
              "    }\n",
              "\n",
              "    .dataframe tbody tr th {\n",
              "        vertical-align: top;\n",
              "    }\n",
              "\n",
              "    .dataframe thead th {\n",
              "        text-align: right;\n",
              "    }\n",
              "</style>\n",
              "<table border=\"1\" class=\"dataframe\">\n",
              "  <thead>\n",
              "    <tr style=\"text-align: right;\">\n",
              "      <th></th>\n",
              "      <th>County</th>\n",
              "      <th>State</th>\n",
              "    </tr>\n",
              "  </thead>\n",
              "  <tbody>\n",
              "    <tr>\n",
              "      <th>0</th>\n",
              "      <td>De Witt County</td>\n",
              "      <td>IL</td>\n",
              "    </tr>\n",
              "    <tr>\n",
              "      <th>1</th>\n",
              "      <td>Lac qui Parle County</td>\n",
              "      <td>MN</td>\n",
              "    </tr>\n",
              "    <tr>\n",
              "      <th>2</th>\n",
              "      <td>Lewis and Clark County</td>\n",
              "      <td>MT</td>\n",
              "    </tr>\n",
              "    <tr>\n",
              "      <th>3</th>\n",
              "      <td>St John the Baptist Parish</td>\n",
              "      <td>LS</td>\n",
              "    </tr>\n",
              "  </tbody>\n",
              "</table>\n",
              "</div>"
            ],
            "text/plain": [
              "                       County State\n",
              "0              De Witt County    IL\n",
              "1        Lac qui Parle County    MN\n",
              "2      Lewis and Clark County    MT\n",
              "3  St John the Baptist Parish    LS"
            ]
          },
          "execution_count": 4,
          "metadata": {},
          "output_type": "execute_result"
        }
      ],
      "source": [
        "states.head()"
      ]
    },
    {
      "cell_type": "markdown",
      "metadata": {
        "id": "Qq72dOqGVRPb"
      },
      "source": [
        "To address this, we can **canonicalize** the \"County\" string data to apply a common formatting."
      ]
    },
    {
      "cell_type": "code",
      "execution_count": 5,
      "metadata": {
        "id": "0-wB8nUpVRPc"
      },
      "outputs": [],
      "source": [
        "# define some str operation need to perform on County col in each dataframe\n",
        "\n",
        "def str_oper(county_series):\n",
        "    return (county_series.str.lower().str.replace(' ', '').str.replace('&', 'and').str.replace('.', '') \n",
        "            .str.replace('county', '') .str.replace('parish', ''))"
      ]
    },
    {
      "cell_type": "code",
      "execution_count": 6,
      "metadata": {
        "id": "2skKHykLAVPH"
      },
      "outputs": [],
      "source": [
        "# apply that customized function\n",
        "states[\"County\"] = str_oper(states[\"County\"])\n",
        "populations[\"County\"] = str_oper(populations[\"County\"])"
      ]
    },
    {
      "cell_type": "code",
      "execution_count": 7,
      "metadata": {
        "colab": {
          "base_uri": "https://localhost:8080/",
          "height": 333
        },
        "id": "S86udCGbVRPc",
        "outputId": "963caafa-c523-46cf-e451-98817bb314f9"
      },
      "outputs": [
        {
          "data": {
            "text/html": [
              "<div>\n",
              "<style scoped>\n",
              "    .dataframe tbody tr th:only-of-type {\n",
              "        vertical-align: middle;\n",
              "    }\n",
              "\n",
              "    .dataframe tbody tr th {\n",
              "        vertical-align: top;\n",
              "    }\n",
              "\n",
              "    .dataframe thead th {\n",
              "        text-align: right;\n",
              "    }\n",
              "</style>\n",
              "<table border=\"1\" class=\"dataframe\">\n",
              "  <thead>\n",
              "    <tr style=\"text-align: right;\">\n",
              "      <th></th>\n",
              "      <th>County</th>\n",
              "      <th>State</th>\n",
              "    </tr>\n",
              "  </thead>\n",
              "  <tbody>\n",
              "    <tr>\n",
              "      <th>0</th>\n",
              "      <td>dewitt</td>\n",
              "      <td>IL</td>\n",
              "    </tr>\n",
              "    <tr>\n",
              "      <th>1</th>\n",
              "      <td>lacquiparle</td>\n",
              "      <td>MN</td>\n",
              "    </tr>\n",
              "    <tr>\n",
              "      <th>2</th>\n",
              "      <td>lewisandclark</td>\n",
              "      <td>MT</td>\n",
              "    </tr>\n",
              "    <tr>\n",
              "      <th>3</th>\n",
              "      <td>stjohnthebaptist</td>\n",
              "      <td>LS</td>\n",
              "    </tr>\n",
              "  </tbody>\n",
              "</table>\n",
              "</div>"
            ],
            "text/plain": [
              "             County State\n",
              "0            dewitt    IL\n",
              "1       lacquiparle    MN\n",
              "2     lewisandclark    MT\n",
              "3  stjohnthebaptist    LS"
            ]
          },
          "metadata": {},
          "output_type": "display_data"
        },
        {
          "data": {
            "text/html": [
              "<div>\n",
              "<style scoped>\n",
              "    .dataframe tbody tr th:only-of-type {\n",
              "        vertical-align: middle;\n",
              "    }\n",
              "\n",
              "    .dataframe tbody tr th {\n",
              "        vertical-align: top;\n",
              "    }\n",
              "\n",
              "    .dataframe thead th {\n",
              "        text-align: right;\n",
              "    }\n",
              "</style>\n",
              "<table border=\"1\" class=\"dataframe\">\n",
              "  <thead>\n",
              "    <tr style=\"text-align: right;\">\n",
              "      <th></th>\n",
              "      <th>County</th>\n",
              "      <th>Population</th>\n",
              "    </tr>\n",
              "  </thead>\n",
              "  <tbody>\n",
              "    <tr>\n",
              "      <th>0</th>\n",
              "      <td>dewitt</td>\n",
              "      <td>16798</td>\n",
              "    </tr>\n",
              "    <tr>\n",
              "      <th>1</th>\n",
              "      <td>lacquiparle</td>\n",
              "      <td>8067</td>\n",
              "    </tr>\n",
              "    <tr>\n",
              "      <th>2</th>\n",
              "      <td>lewisandclark</td>\n",
              "      <td>55716</td>\n",
              "    </tr>\n",
              "    <tr>\n",
              "      <th>3</th>\n",
              "      <td>stjohnthebaptist</td>\n",
              "      <td>43044</td>\n",
              "    </tr>\n",
              "  </tbody>\n",
              "</table>\n",
              "</div>"
            ],
            "text/plain": [
              "             County  Population\n",
              "0            dewitt       16798\n",
              "1       lacquiparle        8067\n",
              "2     lewisandclark       55716\n",
              "3  stjohnthebaptist       43044"
            ]
          },
          "metadata": {},
          "output_type": "display_data"
        }
      ],
      "source": [
        "display(states)\n",
        "\n",
        "display(populations)\n"
      ]
    },
    {
      "cell_type": "markdown",
      "metadata": {
        "id": "s0eTwouyVRPd"
      },
      "source": [
        "Now, the merge works as expected!"
      ]
    },
    {
      "cell_type": "code",
      "execution_count": 8,
      "metadata": {
        "colab": {
          "base_uri": "https://localhost:8080/",
          "height": 175
        },
        "id": "RWxrZmieVRPd",
        "outputId": "988a6619-d1a9-45e7-f5be-1abab8012b1e"
      },
      "outputs": [
        {
          "data": {
            "text/html": [
              "<div>\n",
              "<style scoped>\n",
              "    .dataframe tbody tr th:only-of-type {\n",
              "        vertical-align: middle;\n",
              "    }\n",
              "\n",
              "    .dataframe tbody tr th {\n",
              "        vertical-align: top;\n",
              "    }\n",
              "\n",
              "    .dataframe thead th {\n",
              "        text-align: right;\n",
              "    }\n",
              "</style>\n",
              "<table border=\"1\" class=\"dataframe\">\n",
              "  <thead>\n",
              "    <tr style=\"text-align: right;\">\n",
              "      <th></th>\n",
              "      <th>County</th>\n",
              "      <th>State</th>\n",
              "      <th>Population</th>\n",
              "    </tr>\n",
              "  </thead>\n",
              "  <tbody>\n",
              "    <tr>\n",
              "      <th>0</th>\n",
              "      <td>dewitt</td>\n",
              "      <td>IL</td>\n",
              "      <td>16798</td>\n",
              "    </tr>\n",
              "    <tr>\n",
              "      <th>1</th>\n",
              "      <td>lacquiparle</td>\n",
              "      <td>MN</td>\n",
              "      <td>8067</td>\n",
              "    </tr>\n",
              "    <tr>\n",
              "      <th>2</th>\n",
              "      <td>lewisandclark</td>\n",
              "      <td>MT</td>\n",
              "      <td>55716</td>\n",
              "    </tr>\n",
              "    <tr>\n",
              "      <th>3</th>\n",
              "      <td>stjohnthebaptist</td>\n",
              "      <td>LS</td>\n",
              "      <td>43044</td>\n",
              "    </tr>\n",
              "  </tbody>\n",
              "</table>\n",
              "</div>"
            ],
            "text/plain": [
              "             County State  Population\n",
              "0            dewitt    IL       16798\n",
              "1       lacquiparle    MN        8067\n",
              "2     lewisandclark    MT       55716\n",
              "3  stjohnthebaptist    LS       43044"
            ]
          },
          "execution_count": 8,
          "metadata": {},
          "output_type": "execute_result"
        }
      ],
      "source": [
        "# merage both frames\n",
        "states.merge(populations, left_on=\"County\", right_on=\"County\")"
      ]
    },
    {
      "cell_type": "markdown",
      "metadata": {
        "id": "y9BpCc9LVRPd"
      },
      "source": [
        "## Demo 2: Extracting Log Data"
      ]
    },
    {
      "cell_type": "code",
      "execution_count": 9,
      "metadata": {
        "colab": {
          "base_uri": "https://localhost:8080/"
        },
        "id": "8DYnVoFpVRPd",
        "outputId": "25f69198-3293-4ad2-b7e6-bde3cbffdd17"
      },
      "outputs": [],
      "source": [
        "# Load log.txt\n",
        "with open('log.txt', 'r') as fil:\n",
        "    file = fil.readlines()"
      ]
    },
    {
      "cell_type": "code",
      "execution_count": 10,
      "metadata": {},
      "outputs": [
        {
          "data": {
            "text/plain": [
              "['169.237.46.168 - - [26/Jan/2014:10:47:58 -0800] \"GET /stat141/Winter04/ HTTP/1.1\" 200 2585 \"http://anson.ucdavis.edu/courses/\"\\n',\n",
              " '193.205.203.3 - - [2/Feb/2005:17:23:6 -0800] \"GET /stat141/Notes/dim.html HTTP/1.0\" 404 302 \"http://eeyore.ucdavis.edu/stat141/Notes/session.html\"\\n',\n",
              " '169.237.46.240 - \"\" [3/Feb/2006:10:18:37 -0800] \"GET /stat141/homework/Solutions/hw1Sol.pdf HTTP/1.1\"\\n']"
            ]
          },
          "execution_count": 10,
          "metadata": {},
          "output_type": "execute_result"
        }
      ],
      "source": [
        "file"
      ]
    },
    {
      "cell_type": "markdown",
      "metadata": {
        "id": "HlmGK6xkVRPd"
      },
      "source": [
        "Suppose we want to extract the day, month, year, hour, minutes, seconds, and timezone. Looking at the data, we see that these items are not in a fixed position relative to the beginning of the string. That is, slicing by some fixed offset isn't going to work."
      ]
    },
    {
      "cell_type": "code",
      "execution_count": 11,
      "metadata": {
        "colab": {
          "base_uri": "https://localhost:8080/",
          "height": 35
        },
        "id": "DEgoE30aVRPe",
        "outputId": "fd6e9e73-c1b5-435c-d94b-cffd73e46517"
      },
      "outputs": [
        {
          "data": {
            "text/plain": [
              "'26/Jan/2014'"
            ]
          },
          "execution_count": 11,
          "metadata": {},
          "output_type": "execute_result"
        }
      ],
      "source": [
        "# find and print DD/MM/YY from first line, second line\n",
        "\n",
        "file[0][20:31]\n",
        "\n",
        "# Too much frustrated\n"
      ]
    },
    {
      "cell_type": "code",
      "execution_count": 12,
      "metadata": {
        "id": "ty9kxXErVRPe",
        "outputId": "a6704d9c-2dd8-48d5-82a2-2d34a2959743"
      },
      "outputs": [
        {
          "data": {
            "text/plain": [
              "'/Feb/2005:1'"
            ]
          },
          "execution_count": 12,
          "metadata": {},
          "output_type": "execute_result"
        }
      ],
      "source": [
        "file[1][20:31]"
      ]
    },
    {
      "cell_type": "markdown",
      "metadata": {
        "id": "b356NxH3VRPe"
      },
      "source": [
        "Instead, we'll need to use some more sophisticated thinking. Let's focus on only the first line of the file."
      ]
    },
    {
      "cell_type": "code",
      "execution_count": 13,
      "metadata": {
        "colab": {
          "base_uri": "https://localhost:8080/",
          "height": 53
        },
        "id": "Tm2P-kQhVRPe",
        "outputId": "0fc95d6c-c7f6-4efd-af3f-281f282aaba6"
      },
      "outputs": [
        {
          "data": {
            "text/plain": [
              "'169.237.46.168 - - [26/Jan/2014:10:47:58 -0800] \"GET /stat141/Winter04/ HTTP/1.1\" 200 2585 \"http://anson.ucdavis.edu/courses/\"\\n'"
            ]
          },
          "execution_count": 13,
          "metadata": {},
          "output_type": "execute_result"
        }
      ],
      "source": [
        "# read 1st line only\n",
        "line_1 = file[0]\n",
        "line_1"
      ]
    },
    {
      "cell_type": "code",
      "execution_count": 14,
      "metadata": {},
      "outputs": [
        {
          "data": {
            "text/plain": [
              "('2014', '10', '47', '58 -0800')"
            ]
          },
          "execution_count": 14,
          "metadata": {},
          "output_type": "execute_result"
        }
      ],
      "source": [
        "square_brack = line_1.split(\"[\")[1].split(']')[0]                                             # find the text enclosed in square brackets\n",
        "day, month, rest = square_brack.split('/') \n",
        "\n",
        "year, hour, minute, rest = rest.split(':') \n",
        "\n",
        "year, hour, minute, rest"
      ]
    },
    {
      "cell_type": "code",
      "execution_count": 15,
      "metadata": {
        "id": "g9JkLDZiVRPe",
        "outputId": "4b23244d-fc05-4f1e-cb8b-2918de97bb54"
      },
      "outputs": [
        {
          "data": {
            "text/plain": [
              "('26', 'Jan', '2014', '10', '10', '58', '-0800')"
            ]
          },
          "execution_count": 15,
          "metadata": {},
          "output_type": "execute_result"
        }
      ],
      "source": [
        "# apply string operations and print day, month, year, and time\n",
        "\n",
        "square_brack = line_1.split(\"[\")[1].split(']')[0]   # find the text enclosed in square brackets\n",
        "day, month, rest = square_brack.split('/')          # split up the date/month/year\n",
        "hours,minute,second,rest = rest.split(':')          # split up the hour:minute:second\n",
        "second, time_zon = rest.split(' ')                 # split the timezone after the blank space\n",
        "day, month, year, hour, minute, second, time_zon\n"
      ]
    },
    {
      "cell_type": "markdown",
      "metadata": {
        "id": "zRiSXdNYVRPe"
      },
      "source": [
        "This worked, but felt fairly \"hacky\" – the code above isn't particularly elegant. A much more sophisticated but common approach is to extract the information we need using a *regular expression*."
      ]
    },
    {
      "cell_type": "markdown",
      "metadata": {
        "id": "OWcy2fO1VRPf"
      },
      "source": [
        "\n",
        "# Regular Expressions"
      ]
    },
    {
      "cell_type": "markdown",
      "metadata": {
        "id": "9grl1xLQVRPf"
      },
      "source": [
        "\n",
        "## String Extraction with Regex\n",
        "\n",
        "Python `re.findall` returns a list of all extracted matches:"
      ]
    },
    {
      "cell_type": "code",
      "execution_count": 33,
      "metadata": {
        "colab": {
          "base_uri": "https://localhost:8080/"
        },
        "id": "jq885tGmVRPf",
        "outputId": "8e6d061c-fbda-479b-fe20-e099c5caefea"
      },
      "outputs": [
        {
          "data": {
            "text/plain": [
              "['123-45-6789', '321-45-6789']"
            ]
          },
          "execution_count": 33,
          "metadata": {},
          "output_type": "execute_result"
        }
      ],
      "source": [
        "# find out all social sequrity numbers from text below\n",
        "import re\n",
        "text = \"My social security number is 123-45-6789 bro, or actually maybe it’s 321-45-6789.\";\n",
        "pattern = r\"[0-9]{3}-[0-9]{2}-[0-9]{4}\"\n",
        "re.findall(pattern,text)\n"
      ]
    },
    {
      "cell_type": "markdown",
      "metadata": {
        "id": "B9_QHVR_VRPf"
      },
      "source": [
        "<br/>\n",
        "\n",
        "Now, let's see vectorized extraction in `pandas`:"
      ]
    },
    {
      "cell_type": "markdown",
      "metadata": {
        "id": "QXkLyoGJVRPf"
      },
      "source": [
        " `.str.findall` returns a `Series` of lists of all matches in each record."
      ]
    },
    {
      "cell_type": "code",
      "execution_count": 17,
      "metadata": {
        "colab": {
          "base_uri": "https://localhost:8080/",
          "height": 175
        },
        "id": "Q5ZzAxXbVRPf",
        "outputId": "f4372d77-82f8-4c34-a5d1-bb5f6053d54c"
      },
      "outputs": [
        {
          "data": {
            "text/html": [
              "<div>\n",
              "<style scoped>\n",
              "    .dataframe tbody tr th:only-of-type {\n",
              "        vertical-align: middle;\n",
              "    }\n",
              "\n",
              "    .dataframe tbody tr th {\n",
              "        vertical-align: top;\n",
              "    }\n",
              "\n",
              "    .dataframe thead th {\n",
              "        text-align: right;\n",
              "    }\n",
              "</style>\n",
              "<table border=\"1\" class=\"dataframe\">\n",
              "  <thead>\n",
              "    <tr style=\"text-align: right;\">\n",
              "      <th></th>\n",
              "      <th>Social Security No.</th>\n",
              "    </tr>\n",
              "  </thead>\n",
              "  <tbody>\n",
              "    <tr>\n",
              "      <th>0</th>\n",
              "      <td>987-65-4321</td>\n",
              "    </tr>\n",
              "    <tr>\n",
              "      <th>1</th>\n",
              "      <td>forty</td>\n",
              "    </tr>\n",
              "    <tr>\n",
              "      <th>2</th>\n",
              "      <td>123-45-6789 bro or 321-45-6789</td>\n",
              "    </tr>\n",
              "    <tr>\n",
              "      <th>3</th>\n",
              "      <td>999-99-9999</td>\n",
              "    </tr>\n",
              "  </tbody>\n",
              "</table>\n",
              "</div>"
            ],
            "text/plain": [
              "              Social Security No.\n",
              "0                     987-65-4321\n",
              "1                           forty\n",
              "2  123-45-6789 bro or 321-45-6789\n",
              "3                     999-99-9999"
            ]
          },
          "execution_count": 17,
          "metadata": {},
          "output_type": "execute_result"
        }
      ],
      "source": [
        "# convert the ['987-65-4321', 'forty', '123-45-6789 bro or 321-45-6789', '999-99-9999']\n",
        "# into data frame and extract all Social sequrity numbers\n",
        "reg_pattern = r\"[0-9]{3}-[0-9]{2}-[0-9]{4}\"\n",
        "df_ssn = pd.DataFrame(['987-65-4321', 'forty', '123-45-6789 bro or 321-45-6789', '999-99-9999'],columns=\n",
        "                      [\"Social Security No.\"])#)\n",
        "\n",
        "df_ssn[\"Social Security No.\"].str.findall(reg_pattern)\n",
        "\n",
        "df_ssn"
      ]
    },
    {
      "cell_type": "code",
      "execution_count": 18,
      "metadata": {},
      "outputs": [
        {
          "data": {
            "text/plain": [
              "0                 [987-65-4321]\n",
              "1                            []\n",
              "2    [123-45-6789, 321-45-6789]\n",
              "3                 [999-99-9999]\n",
              "Name: Social Security No., dtype: object"
            ]
          },
          "execution_count": 18,
          "metadata": {},
          "output_type": "execute_result"
        }
      ],
      "source": [
        "df_ssn[\"Social Security No.\"].str.findall(reg_pattern)"
      ]
    },
    {
      "cell_type": "code",
      "execution_count": 19,
      "metadata": {
        "colab": {
          "base_uri": "https://localhost:8080/",
          "height": 175
        },
        "id": "fo5c1uk9VRPg",
        "outputId": "828b7ad4-eb76-440d-b550-f9ff18cbc97f"
      },
      "outputs": [
        {
          "data": {
            "text/plain": [
              "0                 [987-65-4321]\n",
              "2    [123-45-6789, 321-45-6789]\n",
              "3                 [999-99-9999]\n",
              "Name: Social Security No., dtype: object"
            ]
          },
          "execution_count": 19,
          "metadata": {},
          "output_type": "execute_result"
        }
      ],
      "source": [
        "# -> Series of lists\n",
        "a = df_ssn[\"Social Security No.\"].str.findall(reg_pattern)\n",
        "\n",
        "# Apply str.findall() and remove empty strings from the result\n",
        "a.drop(1)"
      ]
    },
    {
      "cell_type": "code",
      "execution_count": 20,
      "metadata": {
        "colab": {
          "base_uri": "https://localhost:8080/"
        },
        "id": "uTCrWc6apOUc",
        "outputId": "f25b265d-15c9-46ba-a04e-a30c76522e0d"
      },
      "outputs": [
        {
          "data": {
            "text/plain": [
              "['AA', 'B', 'B']"
            ]
          },
          "execution_count": 20,
          "metadata": {},
          "output_type": "execute_result"
        }
      ],
      "source": [
        "# find out AA or B from 'AA B B aaaabbbb'\n",
        "\n",
        "text = \"AA B B aaaabbbb\"\n",
        "pat = r'AA|B'\n",
        "re.findall(pat,text)\n",
        "\n"
      ]
    },
    {
      "cell_type": "markdown",
      "metadata": {
        "id": "3OqJQ1lkVRPg"
      },
      "source": [
        "## Extraction Using Regex Capture Groups"
      ]
    },
    {
      "cell_type": "markdown",
      "metadata": {
        "id": "7HUXN7eWVRPg"
      },
      "source": [
        "The Python function `re.findall`, in combination with parentheses returns specific substrings (i.e., **capture groups**) within each matched string, or **match**."
      ]
    },
    {
      "cell_type": "code",
      "execution_count": 21,
      "metadata": {
        "colab": {
          "base_uri": "https://localhost:8080/"
        },
        "id": "U0Toa9K2VRPg",
        "outputId": "07b29d23-55ec-42d9-95b0-0e1ffbfe9267"
      },
      "outputs": [
        {
          "name": "stdout",
          "output_type": "stream",
          "text": [
            "08 30 00\n",
            "Hour is 08 , minute is 30 , second is 00\n"
          ]
        }
      ],
      "source": [
        "# find out hour, mint and second\n",
        "import re\n",
        "text = \"\"\"I will meet you at 08:30:00 pm tomorrow\"\"\"\n",
        "    \n",
        "reg_pattern2 = \"(\\d\\d):(\\d\\d):(\\d\\d).*\"\n",
        "pattern_matches = re.findall(reg_pattern2, text)\n",
        "hour,minute,second = pattern_matches[0]\n",
        "print(hour,minute,second)\n",
        "print(f\"Hour is {hour} , minute is {minute} , second is {second}\")\n"
      ]
    },
    {
      "cell_type": "markdown",
      "metadata": {
        "id": "sI1LJMXXVRPg"
      },
      "source": [
        "<br/>\n",
        "\n",
        "In `pandas`, we can use `.str.extract` to extract each capture group of **only the first match** of each record into separate columns."
      ]
    },
    {
      "cell_type": "code",
      "execution_count": 22,
      "metadata": {
        "id": "ULNJ8H5PVRPg",
        "outputId": "dd07cf36-9d25-49d1-ace9-7331d0b14470"
      },
      "outputs": [
        {
          "data": {
            "text/html": [
              "<div>\n",
              "<style scoped>\n",
              "    .dataframe tbody tr th:only-of-type {\n",
              "        vertical-align: middle;\n",
              "    }\n",
              "\n",
              "    .dataframe tbody tr th {\n",
              "        vertical-align: top;\n",
              "    }\n",
              "\n",
              "    .dataframe thead th {\n",
              "        text-align: right;\n",
              "    }\n",
              "</style>\n",
              "<table border=\"1\" class=\"dataframe\">\n",
              "  <thead>\n",
              "    <tr style=\"text-align: right;\">\n",
              "      <th></th>\n",
              "      <th>Social Security No.</th>\n",
              "    </tr>\n",
              "  </thead>\n",
              "  <tbody>\n",
              "    <tr>\n",
              "      <th>0</th>\n",
              "      <td>987-65-4321</td>\n",
              "    </tr>\n",
              "    <tr>\n",
              "      <th>1</th>\n",
              "      <td>forty</td>\n",
              "    </tr>\n",
              "    <tr>\n",
              "      <th>2</th>\n",
              "      <td>123-45-6789 bro or 321-45-6789</td>\n",
              "    </tr>\n",
              "    <tr>\n",
              "      <th>3</th>\n",
              "      <td>999-99-9999</td>\n",
              "    </tr>\n",
              "  </tbody>\n",
              "</table>\n",
              "</div>"
            ],
            "text/plain": [
              "              Social Security No.\n",
              "0                     987-65-4321\n",
              "1                           forty\n",
              "2  123-45-6789 bro or 321-45-6789\n",
              "3                     999-99-9999"
            ]
          },
          "execution_count": 22,
          "metadata": {},
          "output_type": "execute_result"
        }
      ],
      "source": [
        "# back to SSNs\n",
        "df_ssn"
      ]
    },
    {
      "cell_type": "code",
      "execution_count": 23,
      "metadata": {
        "id": "ZRU2DyN5VRPh",
        "outputId": "14046a14-7acf-434c-85cf-73cb74e0f844"
      },
      "outputs": [
        {
          "data": {
            "text/html": [
              "<div>\n",
              "<style scoped>\n",
              "    .dataframe tbody tr th:only-of-type {\n",
              "        vertical-align: middle;\n",
              "    }\n",
              "\n",
              "    .dataframe tbody tr th {\n",
              "        vertical-align: top;\n",
              "    }\n",
              "\n",
              "    .dataframe thead th {\n",
              "        text-align: right;\n",
              "    }\n",
              "</style>\n",
              "<table border=\"1\" class=\"dataframe\">\n",
              "  <thead>\n",
              "    <tr style=\"text-align: right;\">\n",
              "      <th></th>\n",
              "      <th>0</th>\n",
              "      <th>1</th>\n",
              "      <th>2</th>\n",
              "    </tr>\n",
              "  </thead>\n",
              "  <tbody>\n",
              "    <tr>\n",
              "      <th>0</th>\n",
              "      <td>987</td>\n",
              "      <td>65</td>\n",
              "      <td>4321</td>\n",
              "    </tr>\n",
              "    <tr>\n",
              "      <th>1</th>\n",
              "      <td>NaN</td>\n",
              "      <td>NaN</td>\n",
              "      <td>NaN</td>\n",
              "    </tr>\n",
              "    <tr>\n",
              "      <th>2</th>\n",
              "      <td>123</td>\n",
              "      <td>45</td>\n",
              "      <td>6789</td>\n",
              "    </tr>\n",
              "    <tr>\n",
              "      <th>3</th>\n",
              "      <td>999</td>\n",
              "      <td>99</td>\n",
              "      <td>9999</td>\n",
              "    </tr>\n",
              "  </tbody>\n",
              "</table>\n",
              "</div>"
            ],
            "text/plain": [
              "     0    1     2\n",
              "0  987   65  4321\n",
              "1  NaN  NaN   NaN\n",
              "2  123   45  6789\n",
              "3  999   99  9999"
            ]
          },
          "execution_count": 23,
          "metadata": {},
          "output_type": "execute_result"
        }
      ],
      "source": [
        "# Will extract the first match of all groups\n",
        " # 3 groups\n",
        "group_pattern = r\"([0-9]{3})-([0-9]{2})-([0-9]{4})\" # 3 groups\n",
        "df_ssn['Social Security No.'].str.extract(group_pattern)"
      ]
    },
    {
      "cell_type": "markdown",
      "metadata": {
        "id": "8B6dd4MvVRPh"
      },
      "source": [
        "Alternatively, `.str.extractall` extracts **all matches** of each record into separate columns. Rows are then MultiIndexed by original record index and match index."
      ]
    },
    {
      "cell_type": "code",
      "execution_count": 24,
      "metadata": {
        "id": "07owGV7gVRPh",
        "outputId": "d31e7c09-88ed-451d-f540-58ef5b99c030"
      },
      "outputs": [
        {
          "data": {
            "text/html": [
              "<div>\n",
              "<style scoped>\n",
              "    .dataframe tbody tr th:only-of-type {\n",
              "        vertical-align: middle;\n",
              "    }\n",
              "\n",
              "    .dataframe tbody tr th {\n",
              "        vertical-align: top;\n",
              "    }\n",
              "\n",
              "    .dataframe thead th {\n",
              "        text-align: right;\n",
              "    }\n",
              "</style>\n",
              "<table border=\"1\" class=\"dataframe\">\n",
              "  <thead>\n",
              "    <tr style=\"text-align: right;\">\n",
              "      <th></th>\n",
              "      <th></th>\n",
              "      <th>0</th>\n",
              "      <th>1</th>\n",
              "      <th>2</th>\n",
              "    </tr>\n",
              "    <tr>\n",
              "      <th></th>\n",
              "      <th>match</th>\n",
              "      <th></th>\n",
              "      <th></th>\n",
              "      <th></th>\n",
              "    </tr>\n",
              "  </thead>\n",
              "  <tbody>\n",
              "    <tr>\n",
              "      <th>0</th>\n",
              "      <th>0</th>\n",
              "      <td>987</td>\n",
              "      <td>65</td>\n",
              "      <td>4321</td>\n",
              "    </tr>\n",
              "    <tr>\n",
              "      <th rowspan=\"2\" valign=\"top\">2</th>\n",
              "      <th>0</th>\n",
              "      <td>123</td>\n",
              "      <td>45</td>\n",
              "      <td>6789</td>\n",
              "    </tr>\n",
              "    <tr>\n",
              "      <th>1</th>\n",
              "      <td>321</td>\n",
              "      <td>45</td>\n",
              "      <td>6789</td>\n",
              "    </tr>\n",
              "    <tr>\n",
              "      <th>3</th>\n",
              "      <th>0</th>\n",
              "      <td>999</td>\n",
              "      <td>99</td>\n",
              "      <td>9999</td>\n",
              "    </tr>\n",
              "  </tbody>\n",
              "</table>\n",
              "</div>"
            ],
            "text/plain": [
              "           0   1     2\n",
              "  match               \n",
              "0 0      987  65  4321\n",
              "2 0      123  45  6789\n",
              "  1      321  45  6789\n",
              "3 0      999  99  9999"
            ]
          },
          "execution_count": 24,
          "metadata": {},
          "output_type": "execute_result"
        }
      ],
      "source": [
        "# -> DataFrame, one row per match\n",
        "df_ssn['Social Security No.'].str.extractall(group_pattern)"
      ]
    },
    {
      "cell_type": "markdown",
      "metadata": {
        "id": "WAzK7hhQVRPh"
      },
      "source": [
        "## Canonicalization with Regex"
      ]
    },
    {
      "cell_type": "markdown",
      "metadata": {
        "id": "KI9-af_WVRPh"
      },
      "source": [
        "In regular Python, canonicalize with `re.sub` (standing for \"substitute\"):"
      ]
    },
    {
      "cell_type": "code",
      "execution_count": 25,
      "metadata": {
        "id": "EF8Xg5OfVRPh",
        "outputId": "a7b8bbc6-376f-4481-cdb9-ec1228a1cd8e"
      },
      "outputs": [
        {
          "data": {
            "text/plain": [
              "'Moo'"
            ]
          },
          "execution_count": 25,
          "metadata": {},
          "output_type": "execute_result"
        }
      ],
      "source": [
        "# find out Moo from given text\n",
        "text = '<div><td valign=\"top\">Moo</td></div>'\n",
        "pattern = r\"<[^>]+>\"\n",
        "re.sub(pattern, '', text)\n"
      ]
    },
    {
      "cell_type": "markdown",
      "metadata": {
        "id": "ofa1iBkIVRPl"
      },
      "source": [
        "<br/>\n",
        "\n",
        "In `pandas`, canonicalize with `Series.str.replace`."
      ]
    },
    {
      "cell_type": "code",
      "execution_count": 26,
      "metadata": {
        "id": "wOu2AZDLVRPm",
        "outputId": "3cf5b2e8-2ddc-4c9d-9034-a7f69fc68866"
      },
      "outputs": [
        {
          "data": {
            "text/html": [
              "<div>\n",
              "<style scoped>\n",
              "    .dataframe tbody tr th:only-of-type {\n",
              "        vertical-align: middle;\n",
              "    }\n",
              "\n",
              "    .dataframe tbody tr th {\n",
              "        vertical-align: top;\n",
              "    }\n",
              "\n",
              "    .dataframe thead th {\n",
              "        text-align: right;\n",
              "    }\n",
              "</style>\n",
              "<table border=\"1\" class=\"dataframe\">\n",
              "  <thead>\n",
              "    <tr style=\"text-align: right;\">\n",
              "      <th></th>\n",
              "      <th>Html</th>\n",
              "    </tr>\n",
              "  </thead>\n",
              "  <tbody>\n",
              "    <tr>\n",
              "      <th>0</th>\n",
              "      <td>&lt;div&gt;&lt;td valign=\"top\"&gt;Moo&lt;/td&gt;&lt;/div&gt;</td>\n",
              "    </tr>\n",
              "    <tr>\n",
              "      <th>1</th>\n",
              "      <td>&lt;a href=\"http://ds100.org\"&gt;Link&lt;/a&gt;</td>\n",
              "    </tr>\n",
              "    <tr>\n",
              "      <th>2</th>\n",
              "      <td>&lt;b&gt;Bold text&lt;/b&gt;</td>\n",
              "    </tr>\n",
              "  </tbody>\n",
              "</table>\n",
              "</div>"
            ],
            "text/plain": [
              "                                   Html\n",
              "0  <div><td valign=\"top\">Moo</td></div>\n",
              "1   <a href=\"http://ds100.org\">Link</a>\n",
              "2                      <b>Bold text</b>"
            ]
          },
          "execution_count": 26,
          "metadata": {},
          "output_type": "execute_result"
        }
      ],
      "source": [
        "# example dataframe of strings\n",
        "df_html = pd.DataFrame(['<div><td valign=\"top\">Moo</td></div>',\n",
        "                   '<a href=\"http://ds100.org\">Link</a>',\n",
        "                   '<b>Bold text</b>'], columns=['Html'])\n",
        "df_html"
      ]
    },
    {
      "cell_type": "code",
      "execution_count": 27,
      "metadata": {
        "id": "JaatuL5XVRPm",
        "outputId": "07a1f27b-d863-48ee-b2a7-f4a78e306009"
      },
      "outputs": [
        {
          "data": {
            "text/html": [
              "<div>\n",
              "<style scoped>\n",
              "    .dataframe tbody tr th:only-of-type {\n",
              "        vertical-align: middle;\n",
              "    }\n",
              "\n",
              "    .dataframe tbody tr th {\n",
              "        vertical-align: top;\n",
              "    }\n",
              "\n",
              "    .dataframe thead th {\n",
              "        text-align: right;\n",
              "    }\n",
              "</style>\n",
              "<table border=\"1\" class=\"dataframe\">\n",
              "  <thead>\n",
              "    <tr style=\"text-align: right;\">\n",
              "      <th></th>\n",
              "      <th>Html</th>\n",
              "    </tr>\n",
              "  </thead>\n",
              "  <tbody>\n",
              "    <tr>\n",
              "      <th>0</th>\n",
              "      <td>Moo</td>\n",
              "    </tr>\n",
              "    <tr>\n",
              "      <th>1</th>\n",
              "      <td>Link</td>\n",
              "    </tr>\n",
              "    <tr>\n",
              "      <th>2</th>\n",
              "      <td>Bold text</td>\n",
              "    </tr>\n",
              "  </tbody>\n",
              "</table>\n",
              "</div>"
            ],
            "text/plain": [
              "        Html\n",
              "0        Moo\n",
              "1       Link\n",
              "2  Bold text"
            ]
          },
          "execution_count": 27,
          "metadata": {},
          "output_type": "execute_result"
        }
      ],
      "source": [
        "# find out Moo, Link, and Bold text from each row of df_html dataframe\n",
        "df_html[\"Html\"].str.replace(pattern, '', regex=True).to_frame()\n",
        "\n"
      ]
    },
    {
      "cell_type": "markdown",
      "metadata": {
        "id": "9b7xBnqXVRPm"
      },
      "source": [
        "\n",
        "# Revisiting Text Log Processing using Regex"
      ]
    },
    {
      "cell_type": "markdown",
      "metadata": {
        "id": "vcLHUVNSVRPm"
      },
      "source": [
        "### Python `re` version"
      ]
    },
    {
      "cell_type": "code",
      "execution_count": 28,
      "metadata": {
        "id": "NgeZ1U4fVRPm",
        "outputId": "e8efa34b-8bbc-4c81-843a-5292a15734ad"
      },
      "outputs": [
        {
          "data": {
            "text/plain": [
              "'169.237.46.168 - - [26/Jan/2014:10:47:58 -0800] \"GET /stat141/Winter04/ HTTP/1.1\" 200 2585 \"http://anson.ucdavis.edu/courses/\"\\n'"
            ]
          },
          "metadata": {},
          "output_type": "display_data"
        },
        {
          "data": {
            "text/plain": [
              "('26', 'Jan', '2014', '10', '47', '58', '-0800')"
            ]
          },
          "execution_count": 28,
          "metadata": {},
          "output_type": "execute_result"
        }
      ],
      "source": [
        "line = file[0]\n",
        "display(line)\n",
        "\n",
        "pattern = r'\\[(\\d+)\\/(\\w+)\\/(\\d+):(\\d+):(\\d+):(\\d+) (.+)\\]'\n",
        "day, month, year, hour, minute, second, time_zone = re.findall(pattern, line)[0] # get first match\n",
        "day, month, year, hour, minute, second, time_zone"
      ]
    },
    {
      "cell_type": "markdown",
      "metadata": {
        "id": "rOw9J1VrVRPm"
      },
      "source": [
        "### `pandas` version"
      ]
    },
    {
      "cell_type": "code",
      "execution_count": 29,
      "metadata": {
        "id": "QNWAEjmsVRPm",
        "outputId": "8802c8fe-cacd-4abb-dc1f-517c72e25719"
      },
      "outputs": [
        {
          "data": {
            "text/html": [
              "<div>\n",
              "<style scoped>\n",
              "    .dataframe tbody tr th:only-of-type {\n",
              "        vertical-align: middle;\n",
              "    }\n",
              "\n",
              "    .dataframe tbody tr th {\n",
              "        vertical-align: top;\n",
              "    }\n",
              "\n",
              "    .dataframe thead th {\n",
              "        text-align: right;\n",
              "    }\n",
              "</style>\n",
              "<table border=\"1\" class=\"dataframe\">\n",
              "  <thead>\n",
              "    <tr style=\"text-align: right;\">\n",
              "      <th></th>\n",
              "      <th>Log_History</th>\n",
              "    </tr>\n",
              "  </thead>\n",
              "  <tbody>\n",
              "    <tr>\n",
              "      <th>0</th>\n",
              "      <td>169.237.46.168 - - [26/Jan/2014:10:47:58 -0800...</td>\n",
              "    </tr>\n",
              "    <tr>\n",
              "      <th>1</th>\n",
              "      <td>193.205.203.3 - - [2/Feb/2005:17:23:6 -0800] \"...</td>\n",
              "    </tr>\n",
              "    <tr>\n",
              "      <th>2</th>\n",
              "      <td>169.237.46.240 - \"\" [3/Feb/2006:10:18:37 -0800...</td>\n",
              "    </tr>\n",
              "  </tbody>\n",
              "</table>\n",
              "</div>"
            ],
            "text/plain": [
              "                                         Log_History\n",
              "0  169.237.46.168 - - [26/Jan/2014:10:47:58 -0800...\n",
              "1  193.205.203.3 - - [2/Feb/2005:17:23:6 -0800] \"...\n",
              "2  169.237.46.240 - \"\" [3/Feb/2006:10:18:37 -0800..."
            ]
          },
          "execution_count": 29,
          "metadata": {},
          "output_type": "execute_result"
        }
      ],
      "source": [
        "# convert lines of above provided log.txt file into data frame and then find out date and time\n",
        "\n",
        "data = pd.DataFrame(file, columns=['Log_History'])\n",
        "data"
      ]
    },
    {
      "cell_type": "markdown",
      "metadata": {
        "id": "kj-tf9qOVRPm"
      },
      "source": [
        "Option 1: `Series.str.findall`"
      ]
    },
    {
      "cell_type": "code",
      "execution_count": 30,
      "metadata": {
        "id": "PCC9QrYYVRPn",
        "outputId": "d083970a-febf-4ff4-8745-af8a6c1f6897"
      },
      "outputs": [
        {
          "data": {
            "text/plain": [
              "0    [(26, Jan, 2014, 10, 47, 58, -0800)]\n",
              "1      [(2, Feb, 2005, 17, 23, 6, -0800)]\n",
              "2     [(3, Feb, 2006, 10, 18, 37, -0800)]\n",
              "Name: Log_History, dtype: object"
            ]
          },
          "execution_count": 30,
          "metadata": {},
          "output_type": "execute_result"
        }
      ],
      "source": [
        "pattern = r'\\[(\\d+)\\/(\\w+)\\/(\\d+):(\\d+):(\\d+):(\\d+) (.+)\\]'\n",
        "data['Log_History'].str.findall(pattern)"
      ]
    },
    {
      "cell_type": "markdown",
      "metadata": {
        "id": "kC9rVmgMVRPn"
      },
      "source": [
        "<br/>\n",
        "\n",
        "Option 2: `Series.str.extractall`"
      ]
    },
    {
      "cell_type": "code",
      "execution_count": 31,
      "metadata": {
        "id": "WXUzuDv4VRPn",
        "outputId": "415a3c94-22ae-43b2-e958-485fc03932db"
      },
      "outputs": [
        {
          "data": {
            "text/html": [
              "<div>\n",
              "<style scoped>\n",
              "    .dataframe tbody tr th:only-of-type {\n",
              "        vertical-align: middle;\n",
              "    }\n",
              "\n",
              "    .dataframe tbody tr th {\n",
              "        vertical-align: top;\n",
              "    }\n",
              "\n",
              "    .dataframe thead th {\n",
              "        text-align: right;\n",
              "    }\n",
              "</style>\n",
              "<table border=\"1\" class=\"dataframe\">\n",
              "  <thead>\n",
              "    <tr style=\"text-align: right;\">\n",
              "      <th></th>\n",
              "      <th></th>\n",
              "      <th>0</th>\n",
              "      <th>1</th>\n",
              "      <th>2</th>\n",
              "      <th>3</th>\n",
              "      <th>4</th>\n",
              "      <th>5</th>\n",
              "      <th>6</th>\n",
              "    </tr>\n",
              "    <tr>\n",
              "      <th></th>\n",
              "      <th>match</th>\n",
              "      <th></th>\n",
              "      <th></th>\n",
              "      <th></th>\n",
              "      <th></th>\n",
              "      <th></th>\n",
              "      <th></th>\n",
              "      <th></th>\n",
              "    </tr>\n",
              "  </thead>\n",
              "  <tbody>\n",
              "    <tr>\n",
              "      <th>0</th>\n",
              "      <th>0</th>\n",
              "      <td>26</td>\n",
              "      <td>Jan</td>\n",
              "      <td>2014</td>\n",
              "      <td>10</td>\n",
              "      <td>47</td>\n",
              "      <td>58</td>\n",
              "      <td>-0800</td>\n",
              "    </tr>\n",
              "    <tr>\n",
              "      <th>1</th>\n",
              "      <th>0</th>\n",
              "      <td>2</td>\n",
              "      <td>Feb</td>\n",
              "      <td>2005</td>\n",
              "      <td>17</td>\n",
              "      <td>23</td>\n",
              "      <td>6</td>\n",
              "      <td>-0800</td>\n",
              "    </tr>\n",
              "    <tr>\n",
              "      <th>2</th>\n",
              "      <th>0</th>\n",
              "      <td>3</td>\n",
              "      <td>Feb</td>\n",
              "      <td>2006</td>\n",
              "      <td>10</td>\n",
              "      <td>18</td>\n",
              "      <td>37</td>\n",
              "      <td>-0800</td>\n",
              "    </tr>\n",
              "  </tbody>\n",
              "</table>\n",
              "</div>"
            ],
            "text/plain": [
              "          0    1     2   3   4   5      6\n",
              "  match                                  \n",
              "0 0      26  Jan  2014  10  47  58  -0800\n",
              "1 0       2  Feb  2005  17  23   6  -0800\n",
              "2 0       3  Feb  2006  10  18  37  -0800"
            ]
          },
          "execution_count": 31,
          "metadata": {},
          "output_type": "execute_result"
        }
      ],
      "source": [
        "# apply extractall function and then some wrangling\n",
        "df = data['Log_History'].str.extractall(pattern)\n",
        "df"
      ]
    },
    {
      "cell_type": "markdown",
      "metadata": {
        "id": "OJLR8aMLVRPn"
      },
      "source": [
        "Wrangling either of these two DataFrames into a nice format (like below) is left as an exercise for you! You will do a related problem on the homework.\n",
        "\n",
        "\n",
        "||Day|Month|Year|Hour|Minute|Second|Time Zone|\n",
        "|---|---|---|---|---|---|---|---|\n",
        "|0|26|Jan|2014|10|47|58|-0800|\n",
        "|1|2|Feb|2005|17|23|6|-0800|\n",
        "|2|3|Feb|2006|10|18|37|-0800|\n"
      ]
    },
    {
      "cell_type": "code",
      "execution_count": 32,
      "metadata": {
        "id": "RXVKyUmlVRPn"
      },
      "outputs": [
        {
          "data": {
            "text/html": [
              "<div>\n",
              "<style scoped>\n",
              "    .dataframe tbody tr th:only-of-type {\n",
              "        vertical-align: middle;\n",
              "    }\n",
              "\n",
              "    .dataframe tbody tr th {\n",
              "        vertical-align: top;\n",
              "    }\n",
              "\n",
              "    .dataframe thead th {\n",
              "        text-align: right;\n",
              "    }\n",
              "</style>\n",
              "<table border=\"1\" class=\"dataframe\">\n",
              "  <thead>\n",
              "    <tr style=\"text-align: right;\">\n",
              "      <th></th>\n",
              "      <th>Day</th>\n",
              "      <th>Month</th>\n",
              "      <th>Year</th>\n",
              "      <th>Hour</th>\n",
              "      <th>Minute</th>\n",
              "      <th>Second</th>\n",
              "      <th>Time Zone</th>\n",
              "    </tr>\n",
              "  </thead>\n",
              "  <tbody>\n",
              "    <tr>\n",
              "      <th>0</th>\n",
              "      <td>26</td>\n",
              "      <td>Jan</td>\n",
              "      <td>2014</td>\n",
              "      <td>10</td>\n",
              "      <td>47</td>\n",
              "      <td>58</td>\n",
              "      <td>-0800</td>\n",
              "    </tr>\n",
              "    <tr>\n",
              "      <th>1</th>\n",
              "      <td>2</td>\n",
              "      <td>Feb</td>\n",
              "      <td>2005</td>\n",
              "      <td>17</td>\n",
              "      <td>23</td>\n",
              "      <td>6</td>\n",
              "      <td>-0800</td>\n",
              "    </tr>\n",
              "    <tr>\n",
              "      <th>2</th>\n",
              "      <td>3</td>\n",
              "      <td>Feb</td>\n",
              "      <td>2006</td>\n",
              "      <td>10</td>\n",
              "      <td>18</td>\n",
              "      <td>37</td>\n",
              "      <td>-0800</td>\n",
              "    </tr>\n",
              "  </tbody>\n",
              "</table>\n",
              "</div>"
            ],
            "text/plain": [
              "  Day Month  Year Hour Minute Second Time Zone\n",
              "0  26   Jan  2014   10     47     58     -0800\n",
              "1   2   Feb  2005   17     23      6     -0800\n",
              "2   3   Feb  2006   10     18     37     -0800"
            ]
          },
          "execution_count": 32,
          "metadata": {},
          "output_type": "execute_result"
        }
      ],
      "source": [
        "# your code here\n",
        "final_df = df.copy()\n",
        "final_df.columns = [\"Day\",\"Month\",\"Year\",\"Hour\",\"Minute\",\"Second\",\"Time Zone\"]\n",
        "final_df= final_df.droplevel(level=\"match\")\n",
        "final_df\n",
        "\n"
      ]
    },
    {
      "cell_type": "code",
      "execution_count": null,
      "metadata": {},
      "outputs": [],
      "source": []
    }
  ],
  "metadata": {
    "colab": {
      "provenance": []
    },
    "kernelspec": {
      "display_name": "Python 3 (ipykernel)",
      "language": "python",
      "name": "python3"
    },
    "language_info": {
      "codemirror_mode": {
        "name": "ipython",
        "version": 3
      },
      "file_extension": ".py",
      "mimetype": "text/x-python",
      "name": "python",
      "nbconvert_exporter": "python",
      "pygments_lexer": "ipython3",
      "version": "3.11.7"
    }
  },
  "nbformat": 4,
  "nbformat_minor": 0
}
