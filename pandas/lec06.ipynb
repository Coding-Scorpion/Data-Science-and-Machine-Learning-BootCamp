{
  "cells": [
    {
      "cell_type": "markdown",
      "id": "f32b1ffd-6b46-41d2-91ea-58a02cd4ee31",
      "metadata": {
        "id": "f32b1ffd-6b46-41d2-91ea-58a02cd4ee31"
      },
      "source": [
        "# Lecture 6\n",
        "\n",
        "Data Science, Fall 2023\n",
        "\n",
        "\n",
        "\n",
        "A demonstration of exploratory data analysis to accompany Lecture 6 (originally planned for Lecture 5)."
      ]
    },
    {
      "cell_type": "code",
      "execution_count": 103,
      "id": "52653181-9343-44e4-b198-540a5f3b4b28",
      "metadata": {
        "ExecuteTime": {
          "end_time": "2018-02-02T15:15:15.363920Z",
          "start_time": "2018-02-02T15:15:14.337886Z"
        },
        "id": "52653181-9343-44e4-b198-540a5f3b4b28"
      },
      "outputs": [],
      "source": [
        "import numpy as np\n",
        "import pandas as pd"
      ]
    },
    {
      "cell_type": "code",
      "execution_count": 104,
      "id": "c76a6c48-110a-498a-918e-4269e519b83c",
      "metadata": {
        "id": "c76a6c48-110a-498a-918e-4269e519b83c"
      },
      "outputs": [],
      "source": [
        "import matplotlib.pyplot as plt\n",
        "import seaborn as sns\n",
        "#%matplotlib inline\n",
        "plt.rcParams['figure.figsize'] = (12, 9)\n",
        "\n",
        "sns.set()\n",
        "sns.set_context('talk')\n",
        "\n",
        "np.set_printoptions(threshold=20, precision=2, suppress=True)\n",
        "pd.set_option('display.max_rows', 30)\n",
        "pd.set_option('display.max_columns',7)\n",
        "pd.set_option('display.precision', 2)\n",
        "# This option stops scientific notation for pandas\n",
        "pd.set_option('display.float_format', '{:.2f}'.format)\n"
      ]
    },
    {
      "cell_type": "code",
      "execution_count": null,
      "id": "40894b84",
      "metadata": {},
      "outputs": [],
      "source": []
    },
    {
      "cell_type": "markdown",
      "id": "xBq8RdaEAMcZ",
      "metadata": {
        "id": "xBq8RdaEAMcZ"
      },
      "source": [
        "These options are used to customize the display of pandas DataFrames for better readability and precision when working with data. Here's why each option is helpful:"
      ]
    },
    {
      "cell_type": "markdown",
      "id": "26fe9f52-e4d4-4066-a56c-b5575061b979",
      "metadata": {
        "id": "26fe9f52-e4d4-4066-a56c-b5575061b979"
      },
      "source": [
        "# Tuberculosis in the United States"
      ]
    },
    {
      "cell_type": "markdown",
      "id": "d8e1ed79-85c3-4654-bd00-f546e7fea6c0",
      "metadata": {
        "id": "d8e1ed79-85c3-4654-bd00-f546e7fea6c0"
      },
      "source": [
        "What can we say about the presence of Tuberculosis in the United States?\n",
        "\n",
        "Let's look at the data included in the [original CDC article](https://www.cdc.gov/mmwr/volumes/71/wr/mm7112a1.htm?s_cid=mm7112a1_w#T1_down) published in 2021."
      ]
    },
    {
      "cell_type": "markdown",
      "id": "ce8867f0-f161-404d-9cd6-7c85d997d2c5",
      "metadata": {
        "id": "ce8867f0-f161-404d-9cd6-7c85d997d2c5"
      },
      "source": [
        "<br/>\n",
        "\n",
        "---\n",
        "\n",
        "# CSV and Nice Field Names\n",
        "Suppose Table 1 was saved as a CSV file located in `data/cdc_tuberculosis.csv`."
      ]
    },
    {
      "cell_type": "markdown",
      "id": "39d1eccf-0803-4056-ac5a-ca33c0263b43",
      "metadata": {
        "id": "39d1eccf-0803-4056-ac5a-ca33c0263b43"
      },
      "source": [
        "We can then explore the CSV (which is a text file, and does not contain binary-encoded data) in many ways:\n",
        "1. Using a text editor like the one in DataHub (right-click on the file and use `Open->Editor`), emacs, vim, VSCode, etc.\n",
        "2. Opening the CSV directly in DataHub (read-only), Excel, Google Sheets, etc.\n",
        "3. The Python file object\n",
        "4. pandas, using `pd.read_csv()`\n",
        "\n",
        "1, 2. Let's start with the first two so we really solidify the idea of a CSV as **rectangular data (i.e., tabular data) stored as comma-separated values**."
      ]
    },
    {
      "cell_type": "markdown",
      "id": "2ffbfc29-5c6c-4b6c-be75-9b3d549d4159",
      "metadata": {
        "id": "2ffbfc29-5c6c-4b6c-be75-9b3d549d4159"
      },
      "source": [
        "\n",
        "\n",
        "4. Finally, let's see the tried-and-true Data Science approach: pandas."
      ]
    },
    {
      "cell_type": "code",
      "execution_count": 105,
      "id": "f8348a64-0454-440a-ac02-c0c796aea68b",
      "metadata": {
        "id": "f8348a64-0454-440a-ac02-c0c796aea68b"
      },
      "outputs": [
        {
          "data": {
            "text/html": [
              "<div>\n",
              "<style scoped>\n",
              "    .dataframe tbody tr th:only-of-type {\n",
              "        vertical-align: middle;\n",
              "    }\n",
              "\n",
              "    .dataframe tbody tr th {\n",
              "        vertical-align: top;\n",
              "    }\n",
              "\n",
              "    .dataframe thead th {\n",
              "        text-align: right;\n",
              "    }\n",
              "</style>\n",
              "<table border=\"1\" class=\"dataframe\">\n",
              "  <thead>\n",
              "    <tr style=\"text-align: right;\">\n",
              "      <th></th>\n",
              "      <th>U.S. jurisdiction</th>\n",
              "      <th>2019</th>\n",
              "      <th>2020</th>\n",
              "      <th>2021</th>\n",
              "      <th>2019.1</th>\n",
              "      <th>2020.1</th>\n",
              "      <th>2021.1</th>\n",
              "    </tr>\n",
              "  </thead>\n",
              "  <tbody>\n",
              "    <tr>\n",
              "      <th>0</th>\n",
              "      <td>Total</td>\n",
              "      <td>8900</td>\n",
              "      <td>7173</td>\n",
              "      <td>7860</td>\n",
              "      <td>2.71</td>\n",
              "      <td>2.16</td>\n",
              "      <td>2.37</td>\n",
              "    </tr>\n",
              "    <tr>\n",
              "      <th>1</th>\n",
              "      <td>Alabama</td>\n",
              "      <td>87</td>\n",
              "      <td>72</td>\n",
              "      <td>92</td>\n",
              "      <td>1.77</td>\n",
              "      <td>1.43</td>\n",
              "      <td>1.83</td>\n",
              "    </tr>\n",
              "  </tbody>\n",
              "</table>\n",
              "</div>"
            ],
            "text/plain": [
              "  U.S. jurisdiction  2019  2020  2021  2019.1  2020.1  2021.1\n",
              "0             Total  8900  7173  7860    2.71    2.16    2.37\n",
              "1           Alabama    87    72    92    1.77    1.43    1.83"
            ]
          },
          "execution_count": 105,
          "metadata": {},
          "output_type": "execute_result"
        }
      ],
      "source": [
        "# Read tuberculosis data\n",
        "\n",
        "tuber_data = pd.read_csv(\"H:\\Machine Learning\\EDA\\cdc_tuberculosis.csv\",thousands=',',header=1)\n",
        "tuber_data.head(2)\n"
      ]
    },
    {
      "cell_type": "markdown",
      "id": "b1424618-8ae7-4e5e-837a-665f85a68006",
      "metadata": {
        "id": "b1424618-8ae7-4e5e-837a-665f85a68006"
      },
      "source": [
        "Wait, what's up with the \"Unnamed\" column names? And the first row, for that matter?\n",
        "\n",
        "Congratulations -- you're ready to wrangle your data. Because of how things are stored, we'll need to clean the data a bit to name our columns better."
      ]
    },
    {
      "cell_type": "markdown",
      "id": "c24610db-deef-4760-86a7-d82e4bb18693",
      "metadata": {
        "id": "c24610db-deef-4760-86a7-d82e4bb18693"
      },
      "source": [
        "A reasonable first step is to identify the row with the right header. The `pd.read_csv()` function ([documentation](https://pandas.pydata.org/docs/reference/api/pandas.read_csv.html)) has the convenient `header` parameter:"
      ]
    },
    {
      "cell_type": "code",
      "execution_count": 106,
      "id": "1a9dff58-3938-4348-8fd3-b9057fde21ac",
      "metadata": {
        "id": "1a9dff58-3938-4348-8fd3-b9057fde21ac"
      },
      "outputs": [
        {
          "data": {
            "text/html": [
              "<div>\n",
              "<style scoped>\n",
              "    .dataframe tbody tr th:only-of-type {\n",
              "        vertical-align: middle;\n",
              "    }\n",
              "\n",
              "    .dataframe tbody tr th {\n",
              "        vertical-align: top;\n",
              "    }\n",
              "\n",
              "    .dataframe thead th {\n",
              "        text-align: right;\n",
              "    }\n",
              "</style>\n",
              "<table border=\"1\" class=\"dataframe\">\n",
              "  <thead>\n",
              "    <tr style=\"text-align: right;\">\n",
              "      <th></th>\n",
              "      <th>U.S. jurisdiction</th>\n",
              "      <th>2019</th>\n",
              "      <th>2020</th>\n",
              "      <th>2021</th>\n",
              "      <th>2019.1</th>\n",
              "      <th>2020.1</th>\n",
              "      <th>2021.1</th>\n",
              "    </tr>\n",
              "  </thead>\n",
              "  <tbody>\n",
              "    <tr>\n",
              "      <th>0</th>\n",
              "      <td>Total</td>\n",
              "      <td>8900</td>\n",
              "      <td>7173</td>\n",
              "      <td>7860</td>\n",
              "      <td>2.71</td>\n",
              "      <td>2.16</td>\n",
              "      <td>2.37</td>\n",
              "    </tr>\n",
              "    <tr>\n",
              "      <th>1</th>\n",
              "      <td>Alabama</td>\n",
              "      <td>87</td>\n",
              "      <td>72</td>\n",
              "      <td>92</td>\n",
              "      <td>1.77</td>\n",
              "      <td>1.43</td>\n",
              "      <td>1.83</td>\n",
              "    </tr>\n",
              "  </tbody>\n",
              "</table>\n",
              "</div>"
            ],
            "text/plain": [
              "  U.S. jurisdiction  2019  2020  2021  2019.1  2020.1  2021.1\n",
              "0             Total  8900  7173  7860    2.71    2.16    2.37\n",
              "1           Alabama    87    72    92    1.77    1.43    1.83"
            ]
          },
          "execution_count": 106,
          "metadata": {},
          "output_type": "execute_result"
        }
      ],
      "source": [
        "# Answer Here\n",
        "\n",
        "tuber_data = pd.read_csv(\"H:\\Machine Learning\\EDA\\cdc_tuberculosis.csv\",thousands=',',header=1)\n",
        "tuber_data.head(2)"
      ]
    },
    {
      "cell_type": "markdown",
      "id": "c55ef769-0c85-462d-81d3-f4c0265add8b",
      "metadata": {
        "id": "c55ef769-0c85-462d-81d3-f4c0265add8b"
      },
      "source": [
        "Wait...but now we can't differentiate betwen the \"Number of TB cases\" and \"TB incidence\" year columns. pandas has tried to make our lives easier by automatically adding \".1\" to the latter columns, but this doesn't help us as humans understand the data.\n",
        "\n",
        "We can do this manually with `df.rename()` [documentation]"
      ]
    },
    {
      "cell_type": "code",
      "execution_count": 107,
      "id": "f9fd2029-d22d-409b-b6f1-248aad532df7",
      "metadata": {
        "id": "f9fd2029-d22d-409b-b6f1-248aad532df7"
      },
      "outputs": [],
      "source": [
        "# Rename column List\n",
        "tuber_data.columns = ['States','TB_cases(2019)','TB_cases(2020)','TB_cases(2021)','TB_inci(2019)','TB_inci(2020)','TB_inci(2021)']"
      ]
    },
    {
      "cell_type": "code",
      "execution_count": 108,
      "id": "1c411d9f",
      "metadata": {},
      "outputs": [
        {
          "data": {
            "text/html": [
              "<div>\n",
              "<style scoped>\n",
              "    .dataframe tbody tr th:only-of-type {\n",
              "        vertical-align: middle;\n",
              "    }\n",
              "\n",
              "    .dataframe tbody tr th {\n",
              "        vertical-align: top;\n",
              "    }\n",
              "\n",
              "    .dataframe thead th {\n",
              "        text-align: right;\n",
              "    }\n",
              "</style>\n",
              "<table border=\"1\" class=\"dataframe\">\n",
              "  <thead>\n",
              "    <tr style=\"text-align: right;\">\n",
              "      <th></th>\n",
              "      <th>States</th>\n",
              "      <th>TB_cases(2019)</th>\n",
              "      <th>TB_cases(2020)</th>\n",
              "      <th>TB_cases(2021)</th>\n",
              "      <th>TB_inci(2019)</th>\n",
              "      <th>TB_inci(2020)</th>\n",
              "      <th>TB_inci(2021)</th>\n",
              "    </tr>\n",
              "  </thead>\n",
              "  <tbody>\n",
              "    <tr>\n",
              "      <th>0</th>\n",
              "      <td>Total</td>\n",
              "      <td>8900</td>\n",
              "      <td>7173</td>\n",
              "      <td>7860</td>\n",
              "      <td>2.71</td>\n",
              "      <td>2.16</td>\n",
              "      <td>2.37</td>\n",
              "    </tr>\n",
              "    <tr>\n",
              "      <th>1</th>\n",
              "      <td>Alabama</td>\n",
              "      <td>87</td>\n",
              "      <td>72</td>\n",
              "      <td>92</td>\n",
              "      <td>1.77</td>\n",
              "      <td>1.43</td>\n",
              "      <td>1.83</td>\n",
              "    </tr>\n",
              "  </tbody>\n",
              "</table>\n",
              "</div>"
            ],
            "text/plain": [
              "    States  TB_cases(2019)  TB_cases(2020)  TB_cases(2021)  TB_inci(2019)  \\\n",
              "0    Total            8900            7173            7860           2.71   \n",
              "1  Alabama              87              72              92           1.77   \n",
              "\n",
              "   TB_inci(2020)  TB_inci(2021)  \n",
              "0           2.16           2.37  \n",
              "1           1.43           1.83  "
            ]
          },
          "execution_count": 108,
          "metadata": {},
          "output_type": "execute_result"
        }
      ],
      "source": [
        "tuber_data.head(2)"
      ]
    },
    {
      "cell_type": "markdown",
      "id": "1bf49b6d-fbe0-4c6e-8ab2-b541bc72e0c1",
      "metadata": {
        "id": "1bf49b6d-fbe0-4c6e-8ab2-b541bc72e0c1"
      },
      "source": [
        "<br/><br/>\n",
        "\n",
        "---\n",
        "\n",
        "# Record Granularity"
      ]
    },
    {
      "cell_type": "markdown",
      "id": "271b596e-15cd-43e0-9f91-86a9eab2d9f6",
      "metadata": {
        "id": "271b596e-15cd-43e0-9f91-86a9eab2d9f6"
      },
      "source": [
        "You might already be wondering: What's up with that first record?\n",
        "\n",
        "Row 0 is what we call a **rollup record**, or summary record. It's often useful when displaying tables to humans. The **granularity** of record 0 (Totals) vs the rest of the records (States) is different."
      ]
    },
    {
      "cell_type": "markdown",
      "id": "25390b21-b853-4bea-8ac2-ed02a78fda99",
      "metadata": {
        "id": "25390b21-b853-4bea-8ac2-ed02a78fda99"
      },
      "source": [
        "<br/>\n",
        "\n",
        "Okay, EDA step two. How was the rollup record aggregated?\n",
        "\n",
        "Let's check if Total TB cases is the sum of all state TB cases. If we sum over all rows, we should get **2x** the total cases in each of our TB cases by year (why?)."
      ]
    },
    {
      "cell_type": "code",
      "execution_count": 109,
      "id": "3c136707-b247-4ea9-93b5-79ef5b394da4",
      "metadata": {
        "id": "3c136707-b247-4ea9-93b5-79ef5b394da4"
      },
      "outputs": [],
      "source": [
        "# Apply sum to tb DataFrame\n",
        "\n",
        "tuber_data[\"Total_Cases\"] = tuber_data[['TB_cases(2019)','TB_cases(2020)','TB_cases(2021)']].sum(axis=1)\n",
        "tuber_data[\"Total_incidence\"] = tuber_data[['TB_inci(2019)','TB_inci(2020)','TB_inci(2021)']].sum(axis=1)\n"
      ]
    },
    {
      "cell_type": "code",
      "execution_count": 110,
      "id": "80753f04",
      "metadata": {},
      "outputs": [
        {
          "data": {
            "text/html": [
              "<div>\n",
              "<style scoped>\n",
              "    .dataframe tbody tr th:only-of-type {\n",
              "        vertical-align: middle;\n",
              "    }\n",
              "\n",
              "    .dataframe tbody tr th {\n",
              "        vertical-align: top;\n",
              "    }\n",
              "\n",
              "    .dataframe thead th {\n",
              "        text-align: right;\n",
              "    }\n",
              "</style>\n",
              "<table border=\"1\" class=\"dataframe\">\n",
              "  <thead>\n",
              "    <tr style=\"text-align: right;\">\n",
              "      <th></th>\n",
              "      <th>States</th>\n",
              "      <th>TB_cases(2019)</th>\n",
              "      <th>TB_cases(2020)</th>\n",
              "      <th>...</th>\n",
              "      <th>TB_inci(2021)</th>\n",
              "      <th>Total_Cases</th>\n",
              "      <th>Total_incidence</th>\n",
              "    </tr>\n",
              "  </thead>\n",
              "  <tbody>\n",
              "    <tr>\n",
              "      <th>0</th>\n",
              "      <td>Total</td>\n",
              "      <td>8900</td>\n",
              "      <td>7173</td>\n",
              "      <td>...</td>\n",
              "      <td>2.37</td>\n",
              "      <td>23933</td>\n",
              "      <td>7.24</td>\n",
              "    </tr>\n",
              "    <tr>\n",
              "      <th>1</th>\n",
              "      <td>Alabama</td>\n",
              "      <td>87</td>\n",
              "      <td>72</td>\n",
              "      <td>...</td>\n",
              "      <td>1.83</td>\n",
              "      <td>251</td>\n",
              "      <td>5.03</td>\n",
              "    </tr>\n",
              "    <tr>\n",
              "      <th>2</th>\n",
              "      <td>Alaska</td>\n",
              "      <td>58</td>\n",
              "      <td>58</td>\n",
              "      <td>...</td>\n",
              "      <td>7.92</td>\n",
              "      <td>174</td>\n",
              "      <td>23.75</td>\n",
              "    </tr>\n",
              "    <tr>\n",
              "      <th>3</th>\n",
              "      <td>Arizona</td>\n",
              "      <td>183</td>\n",
              "      <td>136</td>\n",
              "      <td>...</td>\n",
              "      <td>1.77</td>\n",
              "      <td>448</td>\n",
              "      <td>6.17</td>\n",
              "    </tr>\n",
              "    <tr>\n",
              "      <th>4</th>\n",
              "      <td>Arkansas</td>\n",
              "      <td>64</td>\n",
              "      <td>59</td>\n",
              "      <td>...</td>\n",
              "      <td>2.28</td>\n",
              "      <td>192</td>\n",
              "      <td>6.36</td>\n",
              "    </tr>\n",
              "  </tbody>\n",
              "</table>\n",
              "<p>5 rows × 9 columns</p>\n",
              "</div>"
            ],
            "text/plain": [
              "     States  TB_cases(2019)  TB_cases(2020)  ...  TB_inci(2021)  Total_Cases  \\\n",
              "0     Total            8900            7173  ...           2.37        23933   \n",
              "1   Alabama              87              72  ...           1.83          251   \n",
              "2    Alaska              58              58  ...           7.92          174   \n",
              "3   Arizona             183             136  ...           1.77          448   \n",
              "4  Arkansas              64              59  ...           2.28          192   \n",
              "\n",
              "   Total_incidence  \n",
              "0             7.24  \n",
              "1             5.03  \n",
              "2            23.75  \n",
              "3             6.17  \n",
              "4             6.36  \n",
              "\n",
              "[5 rows x 9 columns]"
            ]
          },
          "execution_count": 110,
          "metadata": {},
          "output_type": "execute_result"
        }
      ],
      "source": [
        "tuber_data.head()"
      ]
    },
    {
      "cell_type": "markdown",
      "id": "e3843ad9-afe2-4787-a979-5b62e4af2c4a",
      "metadata": {
        "id": "e3843ad9-afe2-4787-a979-5b62e4af2c4a"
      },
      "source": [
        "<br/>\n",
        "\n",
        "Whoa, what's going on? Check out the column types:"
      ]
    },
    {
      "cell_type": "code",
      "execution_count": 111,
      "id": "cd373432-2770-4218-af2d-4cc52d32cdfa",
      "metadata": {
        "id": "cd373432-2770-4218-af2d-4cc52d32cdfa"
      },
      "outputs": [
        {
          "name": "stdout",
          "output_type": "stream",
          "text": [
            "<class 'pandas.core.frame.DataFrame'>\n",
            "RangeIndex: 52 entries, 0 to 51\n",
            "Data columns (total 9 columns):\n",
            " #   Column           Non-Null Count  Dtype  \n",
            "---  ------           --------------  -----  \n",
            " 0   States           52 non-null     object \n",
            " 1   TB_cases(2019)   52 non-null     int64  \n",
            " 2   TB_cases(2020)   52 non-null     int64  \n",
            " 3   TB_cases(2021)   52 non-null     int64  \n",
            " 4   TB_inci(2019)    52 non-null     float64\n",
            " 5   TB_inci(2020)    52 non-null     float64\n",
            " 6   TB_inci(2021)    52 non-null     float64\n",
            " 7   Total_Cases      52 non-null     int64  \n",
            " 8   Total_incidence  52 non-null     float64\n",
            "dtypes: float64(4), int64(4), object(1)\n",
            "memory usage: 3.8+ KB\n"
          ]
        }
      ],
      "source": [
        "# Find datatype for each column\n",
        "tuber_data.info()\n"
      ]
    },
    {
      "cell_type": "markdown",
      "id": "105bf5fe-4a77-4335-8fd7-6c0f8ed68ad4",
      "metadata": {
        "id": "105bf5fe-4a77-4335-8fd7-6c0f8ed68ad4"
      },
      "source": [
        "<br/>\n",
        "\n",
        "Looks like those commas are causing all TB cases to be read as the `object` datatype, or **storage type** (close to the Python string datatype), so pandas is concatenating strings instead of adding integers.\n",
        "\n",
        "<br/>\n",
        "\n",
        "Fortunately `read_csv` also has a `thousands` parameter (for what it's worth, I didn't know this beforehand--I [googled](https://pandas.pydata.org/docs/reference/api/pandas.read_csv.html) this):"
      ]
    },
    {
      "cell_type": "code",
      "execution_count": 112,
      "id": "539e288c-2d73-404e-8a2f-cc98d0428255",
      "metadata": {
        "id": "539e288c-2d73-404e-8a2f-cc98d0428255"
      },
      "outputs": [],
      "source": [
        "# improve readability: chaining method calls with outer parentheses/line breaks\n",
        "\n",
        "# I performed this operation in the very first column while reading the dataframe\n"
      ]
    },
    {
      "cell_type": "code",
      "execution_count": 113,
      "id": "b0eb545c-26f4-46cb-958d-3597a2cc6784",
      "metadata": {
        "id": "b0eb545c-26f4-46cb-958d-3597a2cc6784"
      },
      "outputs": [],
      "source": [
        "# now apply sum\n",
        "# Answer Here\n",
        "\n",
        "\n",
        "tuber_data[\"Total_Cases\"] = tuber_data[['TB_cases(2019)','TB_cases(2020)','TB_cases(2021)']].sum(axis=1)\n",
        "tuber_data[\"Total_incidence\"] = tuber_data[['TB_inci(2019)','TB_inci(2020)','TB_inci(2021)']].sum(axis=1)\n",
        "\n",
        "\n",
        "\n"
      ]
    },
    {
      "cell_type": "code",
      "execution_count": 114,
      "id": "074b44ec",
      "metadata": {},
      "outputs": [
        {
          "data": {
            "text/html": [
              "<div>\n",
              "<style scoped>\n",
              "    .dataframe tbody tr th:only-of-type {\n",
              "        vertical-align: middle;\n",
              "    }\n",
              "\n",
              "    .dataframe tbody tr th {\n",
              "        vertical-align: top;\n",
              "    }\n",
              "\n",
              "    .dataframe thead th {\n",
              "        text-align: right;\n",
              "    }\n",
              "</style>\n",
              "<table border=\"1\" class=\"dataframe\">\n",
              "  <thead>\n",
              "    <tr style=\"text-align: right;\">\n",
              "      <th></th>\n",
              "      <th>States</th>\n",
              "      <th>TB_cases(2019)</th>\n",
              "      <th>TB_cases(2020)</th>\n",
              "      <th>...</th>\n",
              "      <th>TB_inci(2021)</th>\n",
              "      <th>Total_Cases</th>\n",
              "      <th>Total_incidence</th>\n",
              "    </tr>\n",
              "  </thead>\n",
              "  <tbody>\n",
              "    <tr>\n",
              "      <th>0</th>\n",
              "      <td>Total</td>\n",
              "      <td>8900</td>\n",
              "      <td>7173</td>\n",
              "      <td>...</td>\n",
              "      <td>2.37</td>\n",
              "      <td>23933</td>\n",
              "      <td>7.24</td>\n",
              "    </tr>\n",
              "    <tr>\n",
              "      <th>1</th>\n",
              "      <td>Alabama</td>\n",
              "      <td>87</td>\n",
              "      <td>72</td>\n",
              "      <td>...</td>\n",
              "      <td>1.83</td>\n",
              "      <td>251</td>\n",
              "      <td>5.03</td>\n",
              "    </tr>\n",
              "    <tr>\n",
              "      <th>2</th>\n",
              "      <td>Alaska</td>\n",
              "      <td>58</td>\n",
              "      <td>58</td>\n",
              "      <td>...</td>\n",
              "      <td>7.92</td>\n",
              "      <td>174</td>\n",
              "      <td>23.75</td>\n",
              "    </tr>\n",
              "    <tr>\n",
              "      <th>3</th>\n",
              "      <td>Arizona</td>\n",
              "      <td>183</td>\n",
              "      <td>136</td>\n",
              "      <td>...</td>\n",
              "      <td>1.77</td>\n",
              "      <td>448</td>\n",
              "      <td>6.17</td>\n",
              "    </tr>\n",
              "    <tr>\n",
              "      <th>4</th>\n",
              "      <td>Arkansas</td>\n",
              "      <td>64</td>\n",
              "      <td>59</td>\n",
              "      <td>...</td>\n",
              "      <td>2.28</td>\n",
              "      <td>192</td>\n",
              "      <td>6.36</td>\n",
              "    </tr>\n",
              "  </tbody>\n",
              "</table>\n",
              "<p>5 rows × 9 columns</p>\n",
              "</div>"
            ],
            "text/plain": [
              "     States  TB_cases(2019)  TB_cases(2020)  ...  TB_inci(2021)  Total_Cases  \\\n",
              "0     Total            8900            7173  ...           2.37        23933   \n",
              "1   Alabama              87              72  ...           1.83          251   \n",
              "2    Alaska              58              58  ...           7.92          174   \n",
              "3   Arizona             183             136  ...           1.77          448   \n",
              "4  Arkansas              64              59  ...           2.28          192   \n",
              "\n",
              "   Total_incidence  \n",
              "0             7.24  \n",
              "1             5.03  \n",
              "2            23.75  \n",
              "3             6.17  \n",
              "4             6.36  \n",
              "\n",
              "[5 rows x 9 columns]"
            ]
          },
          "execution_count": 114,
          "metadata": {},
          "output_type": "execute_result"
        }
      ],
      "source": [
        "tuber_data.head()"
      ]
    },
    {
      "cell_type": "markdown",
      "id": "d8e7f6c0-6eeb-4344-9636-00e8bc4c2c2b",
      "metadata": {
        "id": "d8e7f6c0-6eeb-4344-9636-00e8bc4c2c2b"
      },
      "source": [
        "The Total TB cases look right. Phew!\n",
        "\n",
        "(We'll leave it to your own EDA to figure out how the TB incidence \"Totals\" were aggregated.)"
      ]
    },
    {
      "cell_type": "markdown",
      "id": "7c5bad23-78be-4927-ab64-fc8e9a0ab2ae",
      "metadata": {
        "id": "7c5bad23-78be-4927-ab64-fc8e9a0ab2ae"
      },
      "source": [
        "Let's just look at the records with **state-level granularity**:"
      ]
    },
    {
      "cell_type": "code",
      "execution_count": 115,
      "id": "0d62fe68-3121-4a74-b4cb-3c12f2ec672f",
      "metadata": {
        "id": "0d62fe68-3121-4a74-b4cb-3c12f2ec672f"
      },
      "outputs": [
        {
          "data": {
            "text/html": [
              "<div>\n",
              "<style scoped>\n",
              "    .dataframe tbody tr th:only-of-type {\n",
              "        vertical-align: middle;\n",
              "    }\n",
              "\n",
              "    .dataframe tbody tr th {\n",
              "        vertical-align: top;\n",
              "    }\n",
              "\n",
              "    .dataframe thead th {\n",
              "        text-align: right;\n",
              "    }\n",
              "</style>\n",
              "<table border=\"1\" class=\"dataframe\">\n",
              "  <thead>\n",
              "    <tr style=\"text-align: right;\">\n",
              "      <th></th>\n",
              "      <th>States</th>\n",
              "      <th>TB_cases(2019)</th>\n",
              "      <th>TB_cases(2020)</th>\n",
              "      <th>...</th>\n",
              "      <th>TB_inci(2021)</th>\n",
              "      <th>Total_Cases</th>\n",
              "      <th>Total_incidence</th>\n",
              "    </tr>\n",
              "  </thead>\n",
              "  <tbody>\n",
              "    <tr>\n",
              "      <th>1</th>\n",
              "      <td>Alabama</td>\n",
              "      <td>87</td>\n",
              "      <td>72</td>\n",
              "      <td>...</td>\n",
              "      <td>1.83</td>\n",
              "      <td>251</td>\n",
              "      <td>5.03</td>\n",
              "    </tr>\n",
              "    <tr>\n",
              "      <th>2</th>\n",
              "      <td>Alaska</td>\n",
              "      <td>58</td>\n",
              "      <td>58</td>\n",
              "      <td>...</td>\n",
              "      <td>7.92</td>\n",
              "      <td>174</td>\n",
              "      <td>23.75</td>\n",
              "    </tr>\n",
              "    <tr>\n",
              "      <th>3</th>\n",
              "      <td>Arizona</td>\n",
              "      <td>183</td>\n",
              "      <td>136</td>\n",
              "      <td>...</td>\n",
              "      <td>1.77</td>\n",
              "      <td>448</td>\n",
              "      <td>6.17</td>\n",
              "    </tr>\n",
              "    <tr>\n",
              "      <th>4</th>\n",
              "      <td>Arkansas</td>\n",
              "      <td>64</td>\n",
              "      <td>59</td>\n",
              "      <td>...</td>\n",
              "      <td>2.28</td>\n",
              "      <td>192</td>\n",
              "      <td>6.36</td>\n",
              "    </tr>\n",
              "    <tr>\n",
              "      <th>5</th>\n",
              "      <td>California</td>\n",
              "      <td>2111</td>\n",
              "      <td>1706</td>\n",
              "      <td>...</td>\n",
              "      <td>4.46</td>\n",
              "      <td>5567</td>\n",
              "      <td>14.13</td>\n",
              "    </tr>\n",
              "  </tbody>\n",
              "</table>\n",
              "<p>5 rows × 9 columns</p>\n",
              "</div>"
            ],
            "text/plain": [
              "       States  TB_cases(2019)  TB_cases(2020)  ...  TB_inci(2021)  \\\n",
              "1     Alabama              87              72  ...           1.83   \n",
              "2      Alaska              58              58  ...           7.92   \n",
              "3     Arizona             183             136  ...           1.77   \n",
              "4    Arkansas              64              59  ...           2.28   \n",
              "5  California            2111            1706  ...           4.46   \n",
              "\n",
              "   Total_Cases  Total_incidence  \n",
              "1          251             5.03  \n",
              "2          174            23.75  \n",
              "3          448             6.17  \n",
              "4          192             6.36  \n",
              "5         5567            14.13  \n",
              "\n",
              "[5 rows x 9 columns]"
            ]
          },
          "execution_count": 115,
          "metadata": {},
          "output_type": "execute_result"
        }
      ],
      "source": [
        "# Answer Here\n",
        "tuber_data.drop(0,axis=0,inplace=True)\n",
        "tuber_data.head()"
      ]
    },
    {
      "cell_type": "markdown",
      "id": "767fc8d3-9442-43d9-adef-30274ec6aae8",
      "metadata": {
        "id": "767fc8d3-9442-43d9-adef-30274ec6aae8"
      },
      "source": [
        "What do each of these values represent? Why?\n",
        "\n",
        "To the lecture!"
      ]
    },
    {
      "cell_type": "markdown",
      "id": "5214187a-a70d-49f9-9073-fa6e7d383482",
      "metadata": {
        "id": "5214187a-a70d-49f9-9073-fa6e7d383482"
      },
      "source": [
        "\n",
        "# Gather Census Data\n",
        "\n",
        "U.S. Census population estimates [source](https://www.census.gov/data/tables/time-series/demo/popest/2010s-state-total.html) (2019), [source](https://www.census.gov/data/tables/time-series/demo/popest/2020s-state-total.html) (2020-2021).\n",
        "\n",
        "Running the below cells cleans the data. We encourage you to closely explore the CSV and study these lines after lecture...\n",
        "\n",
        "There are a few new methods here:\n",
        "* `df.convert_dtypes()` ([documentation](https://pandas.pydata.org/docs/reference/api/pandas.DataFrame.convert_dtypes.html)) conveniently converts all float dtypes into ints and is out of scope for the class.\n",
        "* `df.drop_na()` ([documentation](https://pandas.pydata.org/docs/reference/api/pandas.DataFrame.dropna.html)) will be explained in more detail next time."
      ]
    },
    {
      "cell_type": "code",
      "execution_count": 134,
      "id": "2601a523-56bd-4c37-83fe-b57c18648acb",
      "metadata": {
        "id": "2601a523-56bd-4c37-83fe-b57c18648acb"
      },
      "outputs": [
        {
          "data": {
            "text/html": [
              "<div>\n",
              "<style scoped>\n",
              "    .dataframe tbody tr th:only-of-type {\n",
              "        vertical-align: middle;\n",
              "    }\n",
              "\n",
              "    .dataframe tbody tr th {\n",
              "        vertical-align: top;\n",
              "    }\n",
              "\n",
              "    .dataframe thead th {\n",
              "        text-align: right;\n",
              "    }\n",
              "</style>\n",
              "<table border=\"1\" class=\"dataframe\">\n",
              "  <thead>\n",
              "    <tr style=\"text-align: right;\">\n",
              "      <th></th>\n",
              "      <th>Unnamed: 0</th>\n",
              "      <th>Census</th>\n",
              "      <th>Estimates Base</th>\n",
              "      <th>...</th>\n",
              "      <th>2017</th>\n",
              "      <th>2018</th>\n",
              "      <th>2019</th>\n",
              "    </tr>\n",
              "  </thead>\n",
              "  <tbody>\n",
              "    <tr>\n",
              "      <th>0</th>\n",
              "      <td>United States</td>\n",
              "      <td>308745538.00</td>\n",
              "      <td>308758105.00</td>\n",
              "      <td>...</td>\n",
              "      <td>324985539.00</td>\n",
              "      <td>326687501.00</td>\n",
              "      <td>328239523.00</td>\n",
              "    </tr>\n",
              "    <tr>\n",
              "      <th>1</th>\n",
              "      <td>Northeast</td>\n",
              "      <td>55317240.00</td>\n",
              "      <td>55318443.00</td>\n",
              "      <td>...</td>\n",
              "      <td>56059240.00</td>\n",
              "      <td>56046620.00</td>\n",
              "      <td>55982803.00</td>\n",
              "    </tr>\n",
              "    <tr>\n",
              "      <th>2</th>\n",
              "      <td>Midwest</td>\n",
              "      <td>66927001.00</td>\n",
              "      <td>66929725.00</td>\n",
              "      <td>...</td>\n",
              "      <td>68126781.00</td>\n",
              "      <td>68236628.00</td>\n",
              "      <td>68329004.00</td>\n",
              "    </tr>\n",
              "    <tr>\n",
              "      <th>3</th>\n",
              "      <td>South</td>\n",
              "      <td>114555744.00</td>\n",
              "      <td>114563030.00</td>\n",
              "      <td>...</td>\n",
              "      <td>123542189.00</td>\n",
              "      <td>124569433.00</td>\n",
              "      <td>125580448.00</td>\n",
              "    </tr>\n",
              "    <tr>\n",
              "      <th>4</th>\n",
              "      <td>West</td>\n",
              "      <td>71945553.00</td>\n",
              "      <td>71946907.00</td>\n",
              "      <td>...</td>\n",
              "      <td>77257329.00</td>\n",
              "      <td>77834820.00</td>\n",
              "      <td>78347268.00</td>\n",
              "    </tr>\n",
              "  </tbody>\n",
              "</table>\n",
              "<p>5 rows × 13 columns</p>\n",
              "</div>"
            ],
            "text/plain": [
              "      Unnamed: 0       Census  Estimates Base  ...         2017         2018  \\\n",
              "0  United States 308745538.00    308758105.00  ... 324985539.00 326687501.00   \n",
              "1      Northeast  55317240.00     55318443.00  ...  56059240.00  56046620.00   \n",
              "2        Midwest  66927001.00     66929725.00  ...  68126781.00  68236628.00   \n",
              "3          South 114555744.00    114563030.00  ... 123542189.00 124569433.00   \n",
              "4           West  71945553.00     71946907.00  ...  77257329.00  77834820.00   \n",
              "\n",
              "          2019  \n",
              "0 328239523.00  \n",
              "1  55982803.00  \n",
              "2  68329004.00  \n",
              "3 125580448.00  \n",
              "4  78347268.00  \n",
              "\n",
              "[5 rows x 13 columns]"
            ]
          },
          "execution_count": 134,
          "metadata": {},
          "output_type": "execute_result"
        }
      ],
      "source": [
        "# Load 2010s census data\n",
        "# Answer Here\n",
        "\n",
        "cen_data = pd.read_csv(r\"H:\\Machine Learning\\EDA\\nst-est2019-01.csv\", header=3, thousands=\",\")\n",
        "cen_data.head()\n"
      ]
    },
    {
      "cell_type": "markdown",
      "id": "bs4we3I90lDC",
      "metadata": {
        "id": "bs4we3I90lDC"
      },
      "source": [
        "# Apply some EDA\n",
        "\n",
        "Drop the column of Estiamte Base\n",
        "\n",
        "Rename Unnamed: 0 as 'Geographic Area'\n",
        "\n",
        "\"smart\" converting of columns, use at your own risk\n",
        "\n",
        ".dropna() to drop records with NaN\n",
        "\n",
        "You can also suggest any change that can be helpful for EDA\n",
        "\n"
      ]
    },
    {
      "cell_type": "code",
      "execution_count": 135,
      "id": "1m2Bdv2fyLJG",
      "metadata": {
        "id": "1m2Bdv2fyLJG"
      },
      "outputs": [],
      "source": [
        "\n",
        "# with pd.option_context('display.min_rows', 30): # shows more rows\n",
        "#     display(census_2010s_df)\n",
        "\n",
        "cen_data = (\n",
        "    cen_data\n",
        "    .drop(columns=[\"Estimates Base\"])\n",
        "    .rename(columns={\"Unnamed: 0\": \"Geographic Area\"})\n",
        "    .convert_dtypes()                \n",
        "    .dropna()                   \n",
        ")\n"
      ]
    },
    {
      "cell_type": "code",
      "execution_count": 136,
      "id": "2bbbbf04",
      "metadata": {},
      "outputs": [
        {
          "data": {
            "text/html": [
              "<div>\n",
              "<style scoped>\n",
              "    .dataframe tbody tr th:only-of-type {\n",
              "        vertical-align: middle;\n",
              "    }\n",
              "\n",
              "    .dataframe tbody tr th {\n",
              "        vertical-align: top;\n",
              "    }\n",
              "\n",
              "    .dataframe thead th {\n",
              "        text-align: right;\n",
              "    }\n",
              "</style>\n",
              "<table border=\"1\" class=\"dataframe\">\n",
              "  <thead>\n",
              "    <tr style=\"text-align: right;\">\n",
              "      <th></th>\n",
              "      <th>Geographic Area</th>\n",
              "      <th>Census</th>\n",
              "      <th>2010</th>\n",
              "      <th>...</th>\n",
              "      <th>2017</th>\n",
              "      <th>2018</th>\n",
              "      <th>2019</th>\n",
              "    </tr>\n",
              "  </thead>\n",
              "  <tbody>\n",
              "    <tr>\n",
              "      <th>0</th>\n",
              "      <td>United States</td>\n",
              "      <td>308745538</td>\n",
              "      <td>309321666</td>\n",
              "      <td>...</td>\n",
              "      <td>324985539</td>\n",
              "      <td>326687501</td>\n",
              "      <td>328239523</td>\n",
              "    </tr>\n",
              "    <tr>\n",
              "      <th>1</th>\n",
              "      <td>Northeast</td>\n",
              "      <td>55317240</td>\n",
              "      <td>55380134</td>\n",
              "      <td>...</td>\n",
              "      <td>56059240</td>\n",
              "      <td>56046620</td>\n",
              "      <td>55982803</td>\n",
              "    </tr>\n",
              "    <tr>\n",
              "      <th>2</th>\n",
              "      <td>Midwest</td>\n",
              "      <td>66927001</td>\n",
              "      <td>66974416</td>\n",
              "      <td>...</td>\n",
              "      <td>68126781</td>\n",
              "      <td>68236628</td>\n",
              "      <td>68329004</td>\n",
              "    </tr>\n",
              "    <tr>\n",
              "      <th>3</th>\n",
              "      <td>South</td>\n",
              "      <td>114555744</td>\n",
              "      <td>114866680</td>\n",
              "      <td>...</td>\n",
              "      <td>123542189</td>\n",
              "      <td>124569433</td>\n",
              "      <td>125580448</td>\n",
              "    </tr>\n",
              "    <tr>\n",
              "      <th>4</th>\n",
              "      <td>West</td>\n",
              "      <td>71945553</td>\n",
              "      <td>72100436</td>\n",
              "      <td>...</td>\n",
              "      <td>77257329</td>\n",
              "      <td>77834820</td>\n",
              "      <td>78347268</td>\n",
              "    </tr>\n",
              "  </tbody>\n",
              "</table>\n",
              "<p>5 rows × 12 columns</p>\n",
              "</div>"
            ],
            "text/plain": [
              "  Geographic Area     Census       2010  ...       2017       2018       2019\n",
              "0   United States  308745538  309321666  ...  324985539  326687501  328239523\n",
              "1       Northeast   55317240   55380134  ...   56059240   56046620   55982803\n",
              "2         Midwest   66927001   66974416  ...   68126781   68236628   68329004\n",
              "3           South  114555744  114866680  ...  123542189  124569433  125580448\n",
              "4            West   71945553   72100436  ...   77257329   77834820   78347268\n",
              "\n",
              "[5 rows x 12 columns]"
            ]
          },
          "execution_count": 136,
          "metadata": {},
          "output_type": "execute_result"
        }
      ],
      "source": [
        "# census 2020s data\n",
        "cen_data.head(5)"
      ]
    },
    {
      "cell_type": "code",
      "execution_count": 137,
      "id": "368d0d13-cc1c-43a8-92c3-757ed22fc5ee",
      "metadata": {
        "id": "368d0d13-cc1c-43a8-92c3-757ed22fc5ee"
      },
      "outputs": [],
      "source": [
        "cen_data[\"Geographic Area\"] = cen_data[\"Geographic Area\"].str.strip('.')"
      ]
    },
    {
      "cell_type": "code",
      "execution_count": 138,
      "id": "hbVqnRPT29rJ",
      "metadata": {
        "id": "hbVqnRPT29rJ"
      },
      "outputs": [
        {
          "name": "stdout",
          "output_type": "stream",
          "text": [
            "Index(['Geographic Area', 'Census', '2010', '2011', '2012', '2013', '2014',\n",
            "       '2015', '2016', '2017', '2018', '2019'],\n",
            "      dtype='object')\n",
            "Index(['States', 'TB_cases(2019)', 'TB_cases(2020)', 'TB_cases(2021)',\n",
            "       'TB_inci(2019)', 'TB_inci(2020)', 'TB_inci(2021)', 'Total_Cases',\n",
            "       'Total_incidence'],\n",
            "      dtype='object')\n"
          ]
        }
      ],
      "source": [
        "# perform EDA Here\n",
        "\n",
        "print(cen_data.columns)\n",
        "print(tuber_data.columns)"
      ]
    },
    {
      "cell_type": "markdown",
      "id": "a2e4d8b6-c7f5-44d7-a2c6-e66548d65099",
      "metadata": {
        "id": "a2e4d8b6-c7f5-44d7-a2c6-e66548d65099"
      },
      "source": [
        "<br/><br/>\n",
        "\n",
        "---\n",
        "\n",
        "# Join Data (Merge DataFrames)"
      ]
    },
    {
      "cell_type": "markdown",
      "id": "f29a74f0-36fa-4a47-a0c9-2c5df6e6f9cd",
      "metadata": {
        "id": "f29a74f0-36fa-4a47-a0c9-2c5df6e6f9cd"
      },
      "source": [
        "Time to `merge`! Here I use the DataFrame method `df1.merge(right=df2, ...)` on DataFrame `df1` ([documentation](https://pandas.pydata.org/docs/reference/api/pandas.DataFrame.merge.html)). Contrast this with the function `pd.merge(left=df1, right=df2, ...)` ([documentation](https://pandas.pydata.org/docs/reference/api/pandas.merge.html?highlight=pandas%20merge#pandas.merge)). Feel free to use either."
      ]
    },
    {
      "cell_type": "code",
      "execution_count": 142,
      "id": "0d48f15a",
      "metadata": {},
      "outputs": [],
      "source": [
        "# merge TB dataframe with two US census dataframes\n",
        "tb_census_df = (\n",
        "    tuber_data\n",
        "    .merge(right=cen_data,\n",
        "           left_on=\"States\", right_on=\"Geographic Area\")\n",
        "    .merge(right=cen_data,\n",
        "           left_on=\"States\", right_on=\"Geographic Area\")\n",
        ")"
      ]
    },
    {
      "cell_type": "code",
      "execution_count": 143,
      "id": "0d3e093a-860a-45f1-b976-3133f34586c5",
      "metadata": {
        "id": "0d3e093a-860a-45f1-b976-3133f34586c5"
      },
      "outputs": [
        {
          "data": {
            "text/html": [
              "<div>\n",
              "<style scoped>\n",
              "    .dataframe tbody tr th:only-of-type {\n",
              "        vertical-align: middle;\n",
              "    }\n",
              "\n",
              "    .dataframe tbody tr th {\n",
              "        vertical-align: top;\n",
              "    }\n",
              "\n",
              "    .dataframe thead th {\n",
              "        text-align: right;\n",
              "    }\n",
              "</style>\n",
              "<table border=\"1\" class=\"dataframe\">\n",
              "  <thead>\n",
              "    <tr style=\"text-align: right;\">\n",
              "      <th></th>\n",
              "      <th>States</th>\n",
              "      <th>TB_cases(2019)</th>\n",
              "      <th>TB_cases(2020)</th>\n",
              "      <th>TB_cases(2021)</th>\n",
              "      <th>TB_inci(2019)</th>\n",
              "      <th>TB_inci(2020)</th>\n",
              "      <th>TB_inci(2021)</th>\n",
              "      <th>Total_Cases</th>\n",
              "      <th>Total_incidence</th>\n",
              "      <th>Geographic Area</th>\n",
              "      <th>Census</th>\n",
              "      <th>2010</th>\n",
              "      <th>2011</th>\n",
              "      <th>2012</th>\n",
              "      <th>2013</th>\n",
              "      <th>2014</th>\n",
              "      <th>2015</th>\n",
              "      <th>2016</th>\n",
              "      <th>2017</th>\n",
              "      <th>2018</th>\n",
              "      <th>2019</th>\n",
              "    </tr>\n",
              "  </thead>\n",
              "  <tbody>\n",
              "    <tr>\n",
              "      <th>0</th>\n",
              "      <td>Alabama</td>\n",
              "      <td>87</td>\n",
              "      <td>72</td>\n",
              "      <td>92</td>\n",
              "      <td>1.77</td>\n",
              "      <td>1.43</td>\n",
              "      <td>1.83</td>\n",
              "      <td>251</td>\n",
              "      <td>5.03</td>\n",
              "      <td>Alabama</td>\n",
              "      <td>4779736</td>\n",
              "      <td>4785437</td>\n",
              "      <td>4799069</td>\n",
              "      <td>4815588</td>\n",
              "      <td>4830081</td>\n",
              "      <td>4841799</td>\n",
              "      <td>4852347</td>\n",
              "      <td>4863525</td>\n",
              "      <td>4874486</td>\n",
              "      <td>4887681</td>\n",
              "      <td>4903185</td>\n",
              "    </tr>\n",
              "    <tr>\n",
              "      <th>1</th>\n",
              "      <td>Alaska</td>\n",
              "      <td>58</td>\n",
              "      <td>58</td>\n",
              "      <td>58</td>\n",
              "      <td>7.91</td>\n",
              "      <td>7.92</td>\n",
              "      <td>7.92</td>\n",
              "      <td>174</td>\n",
              "      <td>23.75</td>\n",
              "      <td>Alaska</td>\n",
              "      <td>710231</td>\n",
              "      <td>713910</td>\n",
              "      <td>722128</td>\n",
              "      <td>730443</td>\n",
              "      <td>737068</td>\n",
              "      <td>736283</td>\n",
              "      <td>737498</td>\n",
              "      <td>741456</td>\n",
              "      <td>739700</td>\n",
              "      <td>735139</td>\n",
              "      <td>731545</td>\n",
              "    </tr>\n",
              "    <tr>\n",
              "      <th>2</th>\n",
              "      <td>Arizona</td>\n",
              "      <td>183</td>\n",
              "      <td>136</td>\n",
              "      <td>129</td>\n",
              "      <td>2.51</td>\n",
              "      <td>1.89</td>\n",
              "      <td>1.77</td>\n",
              "      <td>448</td>\n",
              "      <td>6.17</td>\n",
              "      <td>Arizona</td>\n",
              "      <td>6392017</td>\n",
              "      <td>6407172</td>\n",
              "      <td>6472643</td>\n",
              "      <td>6554978</td>\n",
              "      <td>6632764</td>\n",
              "      <td>6730413</td>\n",
              "      <td>6829676</td>\n",
              "      <td>6941072</td>\n",
              "      <td>7044008</td>\n",
              "      <td>7158024</td>\n",
              "      <td>7278717</td>\n",
              "    </tr>\n",
              "    <tr>\n",
              "      <th>3</th>\n",
              "      <td>Arkansas</td>\n",
              "      <td>64</td>\n",
              "      <td>59</td>\n",
              "      <td>69</td>\n",
              "      <td>2.12</td>\n",
              "      <td>1.96</td>\n",
              "      <td>2.28</td>\n",
              "      <td>192</td>\n",
              "      <td>6.36</td>\n",
              "      <td>Arkansas</td>\n",
              "      <td>2915918</td>\n",
              "      <td>2921964</td>\n",
              "      <td>2940667</td>\n",
              "      <td>2952164</td>\n",
              "      <td>2959400</td>\n",
              "      <td>2967392</td>\n",
              "      <td>2978048</td>\n",
              "      <td>2989918</td>\n",
              "      <td>3001345</td>\n",
              "      <td>3009733</td>\n",
              "      <td>3017804</td>\n",
              "    </tr>\n",
              "    <tr>\n",
              "      <th>4</th>\n",
              "      <td>California</td>\n",
              "      <td>2111</td>\n",
              "      <td>1706</td>\n",
              "      <td>1750</td>\n",
              "      <td>5.35</td>\n",
              "      <td>4.32</td>\n",
              "      <td>4.46</td>\n",
              "      <td>5567</td>\n",
              "      <td>14.13</td>\n",
              "      <td>California</td>\n",
              "      <td>37253956</td>\n",
              "      <td>37319502</td>\n",
              "      <td>37638369</td>\n",
              "      <td>37948800</td>\n",
              "      <td>38260787</td>\n",
              "      <td>38596972</td>\n",
              "      <td>38918045</td>\n",
              "      <td>39167117</td>\n",
              "      <td>39358497</td>\n",
              "      <td>39461588</td>\n",
              "      <td>39512223</td>\n",
              "    </tr>\n",
              "    <tr>\n",
              "      <th>...</th>\n",
              "      <td>...</td>\n",
              "      <td>...</td>\n",
              "      <td>...</td>\n",
              "      <td>...</td>\n",
              "      <td>...</td>\n",
              "      <td>...</td>\n",
              "      <td>...</td>\n",
              "      <td>...</td>\n",
              "      <td>...</td>\n",
              "      <td>...</td>\n",
              "      <td>...</td>\n",
              "      <td>...</td>\n",
              "      <td>...</td>\n",
              "      <td>...</td>\n",
              "      <td>...</td>\n",
              "      <td>...</td>\n",
              "      <td>...</td>\n",
              "      <td>...</td>\n",
              "      <td>...</td>\n",
              "      <td>...</td>\n",
              "      <td>...</td>\n",
              "    </tr>\n",
              "    <tr>\n",
              "      <th>46</th>\n",
              "      <td>Virginia</td>\n",
              "      <td>191</td>\n",
              "      <td>169</td>\n",
              "      <td>161</td>\n",
              "      <td>2.23</td>\n",
              "      <td>1.96</td>\n",
              "      <td>1.86</td>\n",
              "      <td>521</td>\n",
              "      <td>6.05</td>\n",
              "      <td>Virginia</td>\n",
              "      <td>8001024</td>\n",
              "      <td>8023699</td>\n",
              "      <td>8101155</td>\n",
              "      <td>8185080</td>\n",
              "      <td>8252427</td>\n",
              "      <td>8310993</td>\n",
              "      <td>8361808</td>\n",
              "      <td>8410106</td>\n",
              "      <td>8463587</td>\n",
              "      <td>8501286</td>\n",
              "      <td>8535519</td>\n",
              "    </tr>\n",
              "    <tr>\n",
              "      <th>47</th>\n",
              "      <td>Washington</td>\n",
              "      <td>221</td>\n",
              "      <td>163</td>\n",
              "      <td>199</td>\n",
              "      <td>2.90</td>\n",
              "      <td>2.11</td>\n",
              "      <td>2.57</td>\n",
              "      <td>583</td>\n",
              "      <td>7.58</td>\n",
              "      <td>Washington</td>\n",
              "      <td>6724540</td>\n",
              "      <td>6742830</td>\n",
              "      <td>6826627</td>\n",
              "      <td>6897058</td>\n",
              "      <td>6963985</td>\n",
              "      <td>7054655</td>\n",
              "      <td>7163657</td>\n",
              "      <td>7294771</td>\n",
              "      <td>7423362</td>\n",
              "      <td>7523869</td>\n",
              "      <td>7614893</td>\n",
              "    </tr>\n",
              "    <tr>\n",
              "      <th>48</th>\n",
              "      <td>West Virginia</td>\n",
              "      <td>9</td>\n",
              "      <td>13</td>\n",
              "      <td>7</td>\n",
              "      <td>0.50</td>\n",
              "      <td>0.73</td>\n",
              "      <td>0.39</td>\n",
              "      <td>29</td>\n",
              "      <td>1.62</td>\n",
              "      <td>West Virginia</td>\n",
              "      <td>1852994</td>\n",
              "      <td>1854239</td>\n",
              "      <td>1856301</td>\n",
              "      <td>1856872</td>\n",
              "      <td>1853914</td>\n",
              "      <td>1849489</td>\n",
              "      <td>1842050</td>\n",
              "      <td>1831023</td>\n",
              "      <td>1817004</td>\n",
              "      <td>1804291</td>\n",
              "      <td>1792147</td>\n",
              "    </tr>\n",
              "    <tr>\n",
              "      <th>49</th>\n",
              "      <td>Wisconsin</td>\n",
              "      <td>51</td>\n",
              "      <td>35</td>\n",
              "      <td>66</td>\n",
              "      <td>0.88</td>\n",
              "      <td>0.59</td>\n",
              "      <td>1.12</td>\n",
              "      <td>152</td>\n",
              "      <td>2.59</td>\n",
              "      <td>Wisconsin</td>\n",
              "      <td>5686986</td>\n",
              "      <td>5690475</td>\n",
              "      <td>5705288</td>\n",
              "      <td>5719960</td>\n",
              "      <td>5736754</td>\n",
              "      <td>5751525</td>\n",
              "      <td>5760940</td>\n",
              "      <td>5772628</td>\n",
              "      <td>5790186</td>\n",
              "      <td>5807406</td>\n",
              "      <td>5822434</td>\n",
              "    </tr>\n",
              "    <tr>\n",
              "      <th>50</th>\n",
              "      <td>Wyoming</td>\n",
              "      <td>1</td>\n",
              "      <td>0</td>\n",
              "      <td>3</td>\n",
              "      <td>0.17</td>\n",
              "      <td>0.00</td>\n",
              "      <td>0.52</td>\n",
              "      <td>4</td>\n",
              "      <td>0.69</td>\n",
              "      <td>Wyoming</td>\n",
              "      <td>563626</td>\n",
              "      <td>564487</td>\n",
              "      <td>567299</td>\n",
              "      <td>576305</td>\n",
              "      <td>582122</td>\n",
              "      <td>582531</td>\n",
              "      <td>585613</td>\n",
              "      <td>584215</td>\n",
              "      <td>578931</td>\n",
              "      <td>577601</td>\n",
              "      <td>578759</td>\n",
              "    </tr>\n",
              "  </tbody>\n",
              "</table>\n",
              "<p>51 rows × 21 columns</p>\n",
              "</div>"
            ],
            "text/plain": [
              "           States  TB_cases(2019)  TB_cases(2020)  TB_cases(2021)  \\\n",
              "0         Alabama              87              72              92   \n",
              "1          Alaska              58              58              58   \n",
              "2         Arizona             183             136             129   \n",
              "3        Arkansas              64              59              69   \n",
              "4      California            2111            1706            1750   \n",
              "..            ...             ...             ...             ...   \n",
              "46       Virginia             191             169             161   \n",
              "47     Washington             221             163             199   \n",
              "48  West Virginia               9              13               7   \n",
              "49      Wisconsin              51              35              66   \n",
              "50        Wyoming               1               0               3   \n",
              "\n",
              "    TB_inci(2019)  TB_inci(2020)  TB_inci(2021)  Total_Cases  Total_incidence  \\\n",
              "0            1.77           1.43           1.83          251             5.03   \n",
              "1            7.91           7.92           7.92          174            23.75   \n",
              "2            2.51           1.89           1.77          448             6.17   \n",
              "3            2.12           1.96           2.28          192             6.36   \n",
              "4            5.35           4.32           4.46         5567            14.13   \n",
              "..            ...            ...            ...          ...              ...   \n",
              "46           2.23           1.96           1.86          521             6.05   \n",
              "47           2.90           2.11           2.57          583             7.58   \n",
              "48           0.50           0.73           0.39           29             1.62   \n",
              "49           0.88           0.59           1.12          152             2.59   \n",
              "50           0.17           0.00           0.52            4             0.69   \n",
              "\n",
              "   Geographic Area    Census      2010      2011      2012      2013  \\\n",
              "0          Alabama   4779736   4785437   4799069   4815588   4830081   \n",
              "1           Alaska    710231    713910    722128    730443    737068   \n",
              "2          Arizona   6392017   6407172   6472643   6554978   6632764   \n",
              "3         Arkansas   2915918   2921964   2940667   2952164   2959400   \n",
              "4       California  37253956  37319502  37638369  37948800  38260787   \n",
              "..             ...       ...       ...       ...       ...       ...   \n",
              "46        Virginia   8001024   8023699   8101155   8185080   8252427   \n",
              "47      Washington   6724540   6742830   6826627   6897058   6963985   \n",
              "48   West Virginia   1852994   1854239   1856301   1856872   1853914   \n",
              "49       Wisconsin   5686986   5690475   5705288   5719960   5736754   \n",
              "50         Wyoming    563626    564487    567299    576305    582122   \n",
              "\n",
              "        2014      2015      2016      2017      2018      2019  \n",
              "0    4841799   4852347   4863525   4874486   4887681   4903185  \n",
              "1     736283    737498    741456    739700    735139    731545  \n",
              "2    6730413   6829676   6941072   7044008   7158024   7278717  \n",
              "3    2967392   2978048   2989918   3001345   3009733   3017804  \n",
              "4   38596972  38918045  39167117  39358497  39461588  39512223  \n",
              "..       ...       ...       ...       ...       ...       ...  \n",
              "46   8310993   8361808   8410106   8463587   8501286   8535519  \n",
              "47   7054655   7163657   7294771   7423362   7523869   7614893  \n",
              "48   1849489   1842050   1831023   1817004   1804291   1792147  \n",
              "49   5751525   5760940   5772628   5790186   5807406   5822434  \n",
              "50    582531    585613    584215    578931    577601    578759  \n",
              "\n",
              "[51 rows x 21 columns]"
            ]
          },
          "execution_count": 143,
          "metadata": {},
          "output_type": "execute_result"
        }
      ],
      "source": [
        "pd.set_option('display.max_columns',33)\n",
        "tb_census_df"
      ]
    },
    {
      "cell_type": "markdown",
      "id": "9110759b-cca6-430b-a42e-b6a23404b045",
      "metadata": {
        "id": "9110759b-cca6-430b-a42e-b6a23404b045"
      },
      "source": [
        "This is a little unwieldy. We could either drop the unneeded columns now, or just merge on smaller census DataFrames. Let's do the latter."
      ]
    },
    {
      "cell_type": "code",
      "execution_count": null,
      "id": "b2abbb58-f0be-4559-889d-61de7152afc0",
      "metadata": {
        "id": "b2abbb58-f0be-4559-889d-61de7152afc0"
      },
      "outputs": [],
      "source": [
        "\n"
      ]
    },
    {
      "cell_type": "markdown",
      "id": "0cf27543-e70b-457c-9714-965a60e96dc3",
      "metadata": {
        "id": "0cf27543-e70b-457c-9714-965a60e96dc3"
      },
      "source": [
        "\n",
        "## Reproduce incidence\n",
        "\n",
        "Let's recompute incidence to make sure we know where the original CDC numbers came from.\n",
        "\n",
        "From the [CDC report](https://www.cdc.gov/mmwr/volumes/71/wr/mm7112a1.htm?s_cid=mm7112a1_w#T1_down): TB incidence is computed as “Cases per 100,000 persons using mid-year population estimates from the U.S. Census Bureau.”\n",
        "\n",
        "If we define a group as 100,000 people, then we can compute the TB incidence for a given state population as\n",
        "\n",
        "$$\\text{TB incidence} = \\frac{\\text{# TB cases in population}}{\\text{# groups in population}} = \\frac{\\text{# TB cases in population}}{\\text{population}/100000} $$\n",
        "\n",
        "$$= \\frac{\\text{# TB cases in population}}{\\text{population}} \\times 100000$$\n",
        "\n",
        "Let's try this for 2019:"
      ]
    },
    {
      "cell_type": "code",
      "execution_count": 122,
      "id": "2723f184-e3f4-41f6-8022-1f10ce8b66cc",
      "metadata": {
        "id": "2723f184-e3f4-41f6-8022-1f10ce8b66cc"
      },
      "outputs": [
        {
          "ename": "KeyError",
          "evalue": "'TB cases 2019'",
          "output_type": "error",
          "traceback": [
            "\u001b[1;31m---------------------------------------------------------------------------\u001b[0m",
            "\u001b[1;31mKeyError\u001b[0m                                  Traceback (most recent call last)",
            "File \u001b[1;32mc:\\Users\\Usman\\anaconda3\\Lib\\site-packages\\pandas\\core\\indexes\\base.py:3791\u001b[0m, in \u001b[0;36mIndex.get_loc\u001b[1;34m(self, key)\u001b[0m\n\u001b[0;32m   3790\u001b[0m \u001b[38;5;28;01mtry\u001b[39;00m:\n\u001b[1;32m-> 3791\u001b[0m     \u001b[38;5;28;01mreturn\u001b[39;00m \u001b[38;5;28mself\u001b[39m\u001b[38;5;241m.\u001b[39m_engine\u001b[38;5;241m.\u001b[39mget_loc(casted_key)\n\u001b[0;32m   3792\u001b[0m \u001b[38;5;28;01mexcept\u001b[39;00m \u001b[38;5;167;01mKeyError\u001b[39;00m \u001b[38;5;28;01mas\u001b[39;00m err:\n",
            "File \u001b[1;32mindex.pyx:152\u001b[0m, in \u001b[0;36mpandas._libs.index.IndexEngine.get_loc\u001b[1;34m()\u001b[0m\n",
            "File \u001b[1;32mindex.pyx:181\u001b[0m, in \u001b[0;36mpandas._libs.index.IndexEngine.get_loc\u001b[1;34m()\u001b[0m\n",
            "File \u001b[1;32mpandas\\_libs\\hashtable_class_helper.pxi:7080\u001b[0m, in \u001b[0;36mpandas._libs.hashtable.PyObjectHashTable.get_item\u001b[1;34m()\u001b[0m\n",
            "File \u001b[1;32mpandas\\_libs\\hashtable_class_helper.pxi:7088\u001b[0m, in \u001b[0;36mpandas._libs.hashtable.PyObjectHashTable.get_item\u001b[1;34m()\u001b[0m\n",
            "\u001b[1;31mKeyError\u001b[0m: 'TB cases 2019'",
            "\nThe above exception was the direct cause of the following exception:\n",
            "\u001b[1;31mKeyError\u001b[0m                                  Traceback (most recent call last)",
            "Cell \u001b[1;32mIn[122], line 1\u001b[0m\n\u001b[1;32m----> 1\u001b[0m data[\u001b[38;5;124m\"\u001b[39m\u001b[38;5;124mrecompute incidence 2019\u001b[39m\u001b[38;5;124m\"\u001b[39m] \u001b[38;5;241m=\u001b[39m data[\u001b[38;5;124m\"\u001b[39m\u001b[38;5;124mTB cases 2019\u001b[39m\u001b[38;5;124m\"\u001b[39m]\u001b[38;5;241m/\u001b[39mdata[\u001b[38;5;124m\"\u001b[39m\u001b[38;5;124m2019\u001b[39m\u001b[38;5;124m\"\u001b[39m]\u001b[38;5;241m*\u001b[39m\u001b[38;5;241m100000\u001b[39m\n\u001b[0;32m      2\u001b[0m tb_census_df\u001b[38;5;241m.\u001b[39mhead(\u001b[38;5;241m5\u001b[39m)\n",
            "File \u001b[1;32mc:\\Users\\Usman\\anaconda3\\Lib\\site-packages\\pandas\\core\\frame.py:3893\u001b[0m, in \u001b[0;36mDataFrame.__getitem__\u001b[1;34m(self, key)\u001b[0m\n\u001b[0;32m   3891\u001b[0m \u001b[38;5;28;01mif\u001b[39;00m \u001b[38;5;28mself\u001b[39m\u001b[38;5;241m.\u001b[39mcolumns\u001b[38;5;241m.\u001b[39mnlevels \u001b[38;5;241m>\u001b[39m \u001b[38;5;241m1\u001b[39m:\n\u001b[0;32m   3892\u001b[0m     \u001b[38;5;28;01mreturn\u001b[39;00m \u001b[38;5;28mself\u001b[39m\u001b[38;5;241m.\u001b[39m_getitem_multilevel(key)\n\u001b[1;32m-> 3893\u001b[0m indexer \u001b[38;5;241m=\u001b[39m \u001b[38;5;28mself\u001b[39m\u001b[38;5;241m.\u001b[39mcolumns\u001b[38;5;241m.\u001b[39mget_loc(key)\n\u001b[0;32m   3894\u001b[0m \u001b[38;5;28;01mif\u001b[39;00m is_integer(indexer):\n\u001b[0;32m   3895\u001b[0m     indexer \u001b[38;5;241m=\u001b[39m [indexer]\n",
            "File \u001b[1;32mc:\\Users\\Usman\\anaconda3\\Lib\\site-packages\\pandas\\core\\indexes\\base.py:3798\u001b[0m, in \u001b[0;36mIndex.get_loc\u001b[1;34m(self, key)\u001b[0m\n\u001b[0;32m   3793\u001b[0m     \u001b[38;5;28;01mif\u001b[39;00m \u001b[38;5;28misinstance\u001b[39m(casted_key, \u001b[38;5;28mslice\u001b[39m) \u001b[38;5;129;01mor\u001b[39;00m (\n\u001b[0;32m   3794\u001b[0m         \u001b[38;5;28misinstance\u001b[39m(casted_key, abc\u001b[38;5;241m.\u001b[39mIterable)\n\u001b[0;32m   3795\u001b[0m         \u001b[38;5;129;01mand\u001b[39;00m \u001b[38;5;28many\u001b[39m(\u001b[38;5;28misinstance\u001b[39m(x, \u001b[38;5;28mslice\u001b[39m) \u001b[38;5;28;01mfor\u001b[39;00m x \u001b[38;5;129;01min\u001b[39;00m casted_key)\n\u001b[0;32m   3796\u001b[0m     ):\n\u001b[0;32m   3797\u001b[0m         \u001b[38;5;28;01mraise\u001b[39;00m InvalidIndexError(key)\n\u001b[1;32m-> 3798\u001b[0m     \u001b[38;5;28;01mraise\u001b[39;00m \u001b[38;5;167;01mKeyError\u001b[39;00m(key) \u001b[38;5;28;01mfrom\u001b[39;00m \u001b[38;5;21;01merr\u001b[39;00m\n\u001b[0;32m   3799\u001b[0m \u001b[38;5;28;01mexcept\u001b[39;00m \u001b[38;5;167;01mTypeError\u001b[39;00m:\n\u001b[0;32m   3800\u001b[0m     \u001b[38;5;66;03m# If we have a listlike key, _check_indexing_error will raise\u001b[39;00m\n\u001b[0;32m   3801\u001b[0m     \u001b[38;5;66;03m#  InvalidIndexError. Otherwise we fall through and re-raise\u001b[39;00m\n\u001b[0;32m   3802\u001b[0m     \u001b[38;5;66;03m#  the TypeError.\u001b[39;00m\n\u001b[0;32m   3803\u001b[0m     \u001b[38;5;28mself\u001b[39m\u001b[38;5;241m.\u001b[39m_check_indexing_error(key)\n",
            "\u001b[1;31mKeyError\u001b[0m: 'TB cases 2019'"
          ]
        }
      ],
      "source": [
        "data[\"recompute incidence 2019\"] = data[\"TB cases 2019\"]/data[\"2019\"]*100000\n",
        "tb_census_df.head(5)"
      ]
    },
    {
      "cell_type": "markdown",
      "id": "e86fff7c-22de-485a-a20a-495c753860a3",
      "metadata": {
        "id": "e86fff7c-22de-485a-a20a-495c753860a3"
      },
      "source": [
        "Awesome!!!\n",
        "\n",
        "Let's use a for-loop and Python format strings to compute TB incidence for all years. Python f-strings are just used for the purposes of this demo, but they're handy to know when you explore data beyond this course ([Python documentation](https://docs.python.org/3/tutorial/inputoutput.html))."
      ]
    },
    {
      "cell_type": "code",
      "execution_count": null,
      "id": "921b16a2-2340-4805-889c-8f044a1832f8",
      "metadata": {
        "id": "921b16a2-2340-4805-889c-8f044a1832f8"
      },
      "outputs": [],
      "source": [
        "# recompute incidence for all years\n",
        "for year in [2019, 2020, 2021]:\n",
        "    tb_census_df[f\"recompute incidence {year}\"] = tb_census_df[f\"TB cases {year}\"]/tb_census_df[f\"{year}\"]*100000\n",
        "tb_census_df.head(5)"
      ]
    },
    {
      "cell_type": "markdown",
      "id": "2190ec9f-d7e9-4032-8bcf-ca9ebb3644f8",
      "metadata": {
        "id": "2190ec9f-d7e9-4032-8bcf-ca9ebb3644f8"
      },
      "source": [
        "These numbers look pretty close!!! There are a few errors in the hundredths place, particularly in 2021. It may be useful to further explore reasons behind this discrepancy. We'll leave it to you!"
      ]
    },
    {
      "cell_type": "code",
      "execution_count": null,
      "id": "ce02240c-08cb-4c2b-a571-eb3ac0907088",
      "metadata": {
        "id": "ce02240c-08cb-4c2b-a571-eb3ac0907088"
      },
      "outputs": [],
      "source": [
        "tb_census_df.describe()"
      ]
    }
  ],
  "metadata": {
    "colab": {
      "provenance": []
    },
    "kernelspec": {
      "display_name": "Python 3 (ipykernel)",
      "language": "python",
      "name": "python3"
    },
    "language_info": {
      "codemirror_mode": {
        "name": "ipython",
        "version": 3
      },
      "file_extension": ".py",
      "mimetype": "text/x-python",
      "name": "python",
      "nbconvert_exporter": "python",
      "pygments_lexer": "ipython3",
      "version": "3.11.7"
    }
  },
  "nbformat": 4,
  "nbformat_minor": 5
}
