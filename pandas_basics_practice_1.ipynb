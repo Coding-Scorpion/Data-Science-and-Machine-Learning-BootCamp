{
  "cells": [
    {
      "cell_type": "code",
      "execution_count": 1,
      "metadata": {
        "id": "6PIse7FRFVO2"
      },
      "outputs": [],
      "source": [
        "%matplotlib inline\n",
        "import matplotlib.pyplot as plt\n",
        "import seaborn as sns\n",
        "import numpy as np\n",
        "import pandas as pd\n",
        "from IPython.display import display\n",
        "from IPython.display import Image\n",
        "sns.set_context(\"notebook\")"
      ]
    },
    {
      "cell_type": "code",
      "execution_count": null,
      "metadata": {
        "colab": {
          "base_uri": "https://localhost:8080/"
        },
        "id": "61hY5_a-K1bi",
        "outputId": "c92c9405-4629-40a8-ea8c-46e50df92906"
      },
      "outputs": [],
      "source": []
    },
    {
      "cell_type": "markdown",
      "metadata": {
        "id": "Do3KBRcu3Ee2"
      },
      "source": [
        "# Extracting Data and Filtering\n",
        ":The `[]` operator supports array of booleans as an input. In this case, the array must be exactly as long as the number of rows.\n",
        "\n",
        "The result is a **filtered version of the data frame**, where **only rows corresponding to True appear**.\n",
        "\n",
        "# Q1.\n",
        "Select multiple criteria by creating multiple boolean Series and combining them using the `&` operator. For Examole Result is win and %win is more than 50."
      ]
    },
    {
      "cell_type": "code",
      "execution_count": 2,
      "metadata": {
        "id": "n6ahrlX728Fb"
      },
      "outputs": [],
      "source": [
        "import urllib.request\n",
        "import os.path\n",
        "import zipfile\n",
        "import pandas as pd\n",
        "import numpy as np\n"
      ]
    },
    {
      "cell_type": "markdown",
      "metadata": {
        "id": "Qpjba2Q-FVO3"
      },
      "source": [
        "We will nowe work with a dataset containing the names of all babies born in California, USA. Visit the [Social Security Adminisitration Website](https://www.ssa.gov/oact/babynames/limits.html) for more details about the dataset if you want."
      ]
    },
    {
      "cell_type": "markdown",
      "metadata": {
        "id": "8Cy00jhFFVO4"
      },
      "source": [
        "**Let's start by loading the Baby Names dataset.**"
      ]
    },
    {
      "cell_type": "code",
      "execution_count": 3,
      "metadata": {},
      "outputs": [],
      "source": [
        "field_names = ['State', 'Sex', 'Year', 'Name', 'Count']\n",
        "\n",
        "babynames = pd.read_csv('H:/Machine Learning/babynamesbystate/STATE.CA.TXT', header=None, names=field_names)\n",
        "\n",
        "baby = babynames.copy()\n",
        "\n"
      ]
    },
    {
      "cell_type": "code",
      "execution_count": 4,
      "metadata": {},
      "outputs": [
        {
          "data": {
            "text/html": [
              "<div>\n",
              "<style scoped>\n",
              "    .dataframe tbody tr th:only-of-type {\n",
              "        vertical-align: middle;\n",
              "    }\n",
              "\n",
              "    .dataframe tbody tr th {\n",
              "        vertical-align: top;\n",
              "    }\n",
              "\n",
              "    .dataframe thead th {\n",
              "        text-align: right;\n",
              "    }\n",
              "</style>\n",
              "<table border=\"1\" class=\"dataframe\">\n",
              "  <thead>\n",
              "    <tr style=\"text-align: right;\">\n",
              "      <th></th>\n",
              "      <th>State</th>\n",
              "      <th>Sex</th>\n",
              "      <th>Year</th>\n",
              "      <th>Name</th>\n",
              "      <th>Count</th>\n",
              "    </tr>\n",
              "  </thead>\n",
              "  <tbody>\n",
              "    <tr>\n",
              "      <th>0</th>\n",
              "      <td>CA</td>\n",
              "      <td>F</td>\n",
              "      <td>1910</td>\n",
              "      <td>Mary</td>\n",
              "      <td>295</td>\n",
              "    </tr>\n",
              "    <tr>\n",
              "      <th>1</th>\n",
              "      <td>CA</td>\n",
              "      <td>F</td>\n",
              "      <td>1910</td>\n",
              "      <td>Helen</td>\n",
              "      <td>239</td>\n",
              "    </tr>\n",
              "    <tr>\n",
              "      <th>2</th>\n",
              "      <td>CA</td>\n",
              "      <td>F</td>\n",
              "      <td>1910</td>\n",
              "      <td>Dorothy</td>\n",
              "      <td>220</td>\n",
              "    </tr>\n",
              "    <tr>\n",
              "      <th>3</th>\n",
              "      <td>CA</td>\n",
              "      <td>F</td>\n",
              "      <td>1910</td>\n",
              "      <td>Margaret</td>\n",
              "      <td>163</td>\n",
              "    </tr>\n",
              "    <tr>\n",
              "      <th>4</th>\n",
              "      <td>CA</td>\n",
              "      <td>F</td>\n",
              "      <td>1910</td>\n",
              "      <td>Frances</td>\n",
              "      <td>134</td>\n",
              "    </tr>\n",
              "  </tbody>\n",
              "</table>\n",
              "</div>"
            ],
            "text/plain": [
              "  State Sex  Year      Name  Count\n",
              "0    CA   F  1910      Mary    295\n",
              "1    CA   F  1910     Helen    239\n",
              "2    CA   F  1910   Dorothy    220\n",
              "3    CA   F  1910  Margaret    163\n",
              "4    CA   F  1910   Frances    134"
            ]
          },
          "execution_count": 4,
          "metadata": {},
          "output_type": "execute_result"
        }
      ],
      "source": [
        "baby.head(5)"
      ]
    },
    {
      "cell_type": "markdown",
      "metadata": {
        "id": "6WTNw56KfRA2"
      },
      "source": [
        "# Q2.\n",
        "Calculate the some statics of babynames DataFrame using Utility Functions, like .describe(), .size(), .shape() and report your analysis in comments"
      ]
    },
    {
      "cell_type": "code",
      "execution_count": 7,
      "metadata": {
        "id": "WOX88FOSFVO5"
      },
      "outputs": [
        {
          "name": "stdout",
          "output_type": "stream",
          "text": [
            "The size is  2037140\n",
            "The shape is ::  (407428, 5)\n",
            "The description of data is ::                  Year          Count\n",
            "count  407428.000000  407428.000000\n",
            "mean     1985.733609      79.543456\n",
            "std        27.007660     293.698654\n",
            "min      1910.000000       5.000000\n",
            "25%      1969.000000       7.000000\n",
            "50%      1992.000000      13.000000\n",
            "75%      2008.000000      38.000000\n",
            "max      2022.000000    8260.000000\n"
          ]
        }
      ],
      "source": [
        "# .size()\n",
        "print(\"The size is \",baby.size)\n",
        "\n",
        "#Report -- size will return the total number of elements in the dataframe\n",
        "\n",
        "\n",
        "#Shape\n",
        "print(\"The shape is :: \",baby.shape)\n",
        "#Report -- Shape will return the number of rows and number of column in the dataframe\n",
        "\n",
        "# .describe()\n",
        "print(\"The description of data is :: \",baby.describe())\n",
        "\n",
        "#Report -- .describe() will show the basic description or information about data like mean,std,min etc\n",
        "\n",
        "\n",
        "\n"
      ]
    },
    {
      "cell_type": "markdown",
      "metadata": {
        "id": "SfH7STDBhWC7"
      },
      "source": [
        "# Q.3:\n",
        "\n",
        "Using the babynames DataFrame that contains baby names data for the state of California, how can you use the 'isin' method to find out which records have names that are in a given list of names, such as \"Emma,\" \"Liam,\" and \"Olivia,\" and what would be the output of this operation when applied to the first 15 rows of the DataFrame (babynames.head(15))?"
      ]
    },
    {
      "cell_type": "code",
      "execution_count": 9,
      "metadata": {
        "id": "hqBOidu2hpCh"
      },
      "outputs": [
        {
          "data": {
            "text/html": [
              "<div>\n",
              "<style scoped>\n",
              "    .dataframe tbody tr th:only-of-type {\n",
              "        vertical-align: middle;\n",
              "    }\n",
              "\n",
              "    .dataframe tbody tr th {\n",
              "        vertical-align: top;\n",
              "    }\n",
              "\n",
              "    .dataframe thead th {\n",
              "        text-align: right;\n",
              "    }\n",
              "</style>\n",
              "<table border=\"1\" class=\"dataframe\">\n",
              "  <thead>\n",
              "    <tr style=\"text-align: right;\">\n",
              "      <th></th>\n",
              "      <th>State</th>\n",
              "      <th>Sex</th>\n",
              "      <th>Year</th>\n",
              "      <th>Name</th>\n",
              "      <th>Count</th>\n",
              "    </tr>\n",
              "  </thead>\n",
              "  <tbody>\n",
              "    <tr>\n",
              "      <th>53</th>\n",
              "      <td>CA</td>\n",
              "      <td>F</td>\n",
              "      <td>1910</td>\n",
              "      <td>Emma</td>\n",
              "      <td>29</td>\n",
              "    </tr>\n",
              "    <tr>\n",
              "      <th>293</th>\n",
              "      <td>CA</td>\n",
              "      <td>F</td>\n",
              "      <td>1911</td>\n",
              "      <td>Emma</td>\n",
              "      <td>29</td>\n",
              "    </tr>\n",
              "    <tr>\n",
              "      <th>525</th>\n",
              "      <td>CA</td>\n",
              "      <td>F</td>\n",
              "      <td>1912</td>\n",
              "      <td>Emma</td>\n",
              "      <td>56</td>\n",
              "    </tr>\n",
              "    <tr>\n",
              "      <th>701</th>\n",
              "      <td>CA</td>\n",
              "      <td>F</td>\n",
              "      <td>1912</td>\n",
              "      <td>Olivia</td>\n",
              "      <td>8</td>\n",
              "    </tr>\n",
              "    <tr>\n",
              "      <th>840</th>\n",
              "      <td>CA</td>\n",
              "      <td>F</td>\n",
              "      <td>1913</td>\n",
              "      <td>Emma</td>\n",
              "      <td>56</td>\n",
              "    </tr>\n",
              "    <tr>\n",
              "      <th>1168</th>\n",
              "      <td>CA</td>\n",
              "      <td>F</td>\n",
              "      <td>1914</td>\n",
              "      <td>Emma</td>\n",
              "      <td>65</td>\n",
              "    </tr>\n",
              "    <tr>\n",
              "      <th>1437</th>\n",
              "      <td>CA</td>\n",
              "      <td>F</td>\n",
              "      <td>1914</td>\n",
              "      <td>Olivia</td>\n",
              "      <td>6</td>\n",
              "    </tr>\n",
              "    <tr>\n",
              "      <th>1542</th>\n",
              "      <td>CA</td>\n",
              "      <td>F</td>\n",
              "      <td>1915</td>\n",
              "      <td>Emma</td>\n",
              "      <td>86</td>\n",
              "    </tr>\n",
              "    <tr>\n",
              "      <th>1869</th>\n",
              "      <td>CA</td>\n",
              "      <td>F</td>\n",
              "      <td>1915</td>\n",
              "      <td>Olivia</td>\n",
              "      <td>6</td>\n",
              "    </tr>\n",
              "    <tr>\n",
              "      <th>2009</th>\n",
              "      <td>CA</td>\n",
              "      <td>F</td>\n",
              "      <td>1916</td>\n",
              "      <td>Emma</td>\n",
              "      <td>78</td>\n",
              "    </tr>\n",
              "    <tr>\n",
              "      <th>2195</th>\n",
              "      <td>CA</td>\n",
              "      <td>F</td>\n",
              "      <td>1916</td>\n",
              "      <td>Olivia</td>\n",
              "      <td>12</td>\n",
              "    </tr>\n",
              "    <tr>\n",
              "      <th>2467</th>\n",
              "      <td>CA</td>\n",
              "      <td>F</td>\n",
              "      <td>1917</td>\n",
              "      <td>Emma</td>\n",
              "      <td>95</td>\n",
              "    </tr>\n",
              "    <tr>\n",
              "      <th>2639</th>\n",
              "      <td>CA</td>\n",
              "      <td>F</td>\n",
              "      <td>1917</td>\n",
              "      <td>Olivia</td>\n",
              "      <td>15</td>\n",
              "    </tr>\n",
              "    <tr>\n",
              "      <th>2958</th>\n",
              "      <td>CA</td>\n",
              "      <td>F</td>\n",
              "      <td>1918</td>\n",
              "      <td>Emma</td>\n",
              "      <td>83</td>\n",
              "    </tr>\n",
              "    <tr>\n",
              "      <th>3136</th>\n",
              "      <td>CA</td>\n",
              "      <td>F</td>\n",
              "      <td>1918</td>\n",
              "      <td>Olivia</td>\n",
              "      <td>15</td>\n",
              "    </tr>\n",
              "  </tbody>\n",
              "</table>\n",
              "</div>"
            ],
            "text/plain": [
              "     State Sex  Year    Name  Count\n",
              "53      CA   F  1910    Emma     29\n",
              "293     CA   F  1911    Emma     29\n",
              "525     CA   F  1912    Emma     56\n",
              "701     CA   F  1912  Olivia      8\n",
              "840     CA   F  1913    Emma     56\n",
              "1168    CA   F  1914    Emma     65\n",
              "1437    CA   F  1914  Olivia      6\n",
              "1542    CA   F  1915    Emma     86\n",
              "1869    CA   F  1915  Olivia      6\n",
              "2009    CA   F  1916    Emma     78\n",
              "2195    CA   F  1916  Olivia     12\n",
              "2467    CA   F  1917    Emma     95\n",
              "2639    CA   F  1917  Olivia     15\n",
              "2958    CA   F  1918    Emma     83\n",
              "3136    CA   F  1918  Olivia     15"
            ]
          },
          "execution_count": 9,
          "metadata": {},
          "output_type": "execute_result"
        }
      ],
      "source": [
        "# List of names to check\n",
        "name_list = [\"Emma\", \"Liam\", \"Olivia\"]\n",
        "\n",
        "# We can use isin method to filter records with names in the name_list\n",
        "filtered_dataframe = baby[baby[\"Name\"].isin(name_list)]\n",
        "\n",
        "# Display the filtered DataFrame\n",
        "filtered_dataframe.head(15)\n",
        "\n",
        "#Report -- This will show the first 15 rows only"
      ]
    },
    {
      "cell_type": "markdown",
      "metadata": {
        "id": "3LdJ07oPinL7"
      },
      "source": [
        "# Q.4:\n",
        "How can you use the 'str.startswith' method in pandas to filter records in a babyname DataFrame? Provide an example code using the babynames DataFrame and explain how this method can be employed to extract data for baby names that begin with 'A' or 'B' set of letters."
      ]
    },
    {
      "cell_type": "code",
      "execution_count": 10,
      "metadata": {
        "id": "tVqVmJ4ajln9"
      },
      "outputs": [
        {
          "name": "stdout",
          "output_type": "stream",
          "text": [
            "Baby names starting with 'A' and B:        State Sex  Year     Name  Count\n",
            "7         CA   F  1910    Alice    118\n",
            "23        CA   F  1910  Bernice     59\n",
            "31        CA   F  1910     Anna     51\n",
            "32        CA   F  1910      Ann     47\n",
            "36        CA   F  1910    Betty     40\n",
            "...      ...  ..   ...      ...    ...\n",
            "407125    CA   M  2022   Brando      5\n",
            "407126    CA   M  2022  Braxtyn      5\n",
            "407127    CA   M  2022  Brenden      5\n",
            "407128    CA   M  2022     Brix      5\n",
            "407129    CA   M  2022    Broly      5\n",
            "\n",
            "[61691 rows x 5 columns]\n"
          ]
        }
      ],
      "source": [
        "# Filter rows where the 'Name' column starts with 'A'\n",
        "str_filter = baby[(baby[\"Name\"].str.startswith(\"A\")) |( baby[\"Name\"].str.startswith(\"B\"))]\n",
        "# Display the filtered DataFrame\n",
        "print(\"Baby names starting with 'A' and B:\",str_filter)\n",
        "\n",
        "\n"
      ]
    },
    {
      "cell_type": "markdown",
      "metadata": {
        "id": "pMQ3UZysFVO6"
      },
      "source": [
        "# Q.5\n",
        "\n",
        "Find the most popular baby name in California in 2012\n",
        "\n",
        "__Exercise__: Try to find the most popular baby name by finding the maximum value for 'Count' and then apply filtering to find the name.\n"
      ]
    },
    {
      "cell_type": "code",
      "execution_count": 11,
      "metadata": {
        "id": "hZxRzE-FFVO6"
      },
      "outputs": [
        {
          "data": {
            "text/plain": [
              "'Sophia'"
            ]
          },
          "execution_count": 11,
          "metadata": {},
          "output_type": "execute_result"
        }
      ],
      "source": [
        "data= baby[baby[\"Year\"] == 2012]\n",
        "\n",
        "\n",
        "\n",
        "data.loc[data[\"Count\"].idxmax(),\"Name\"]\n"
      ]
    },
    {
      "cell_type": "markdown",
      "metadata": {
        "id": "oENLC2gLFVO7"
      },
      "source": [
        "# Q. 6\n",
        "Find baby names that start with J, in th Year from 2001 to 2019\n",
        "\n",
        "*Note: To answer this question, we need a way to look at the individual characters of the baby names*"
      ]
    },
    {
      "cell_type": "code",
      "execution_count": 12,
      "metadata": {
        "id": "Z2wBuGwyFVO7"
      },
      "outputs": [
        {
          "name": "stderr",
          "output_type": "stream",
          "text": [
            "C:\\Users\\Usman\\AppData\\Local\\Temp\\ipykernel_6196\\857156259.py:3: UserWarning: Boolean Series key will be reindexed to match DataFrame index.\n",
            "  baby[(baby[\"Year\"] >= 2001)  & (baby[\"Year\"] <= 2019)][baby[\"Name\"].str.startswith(\"J\")]\n"
          ]
        },
        {
          "data": {
            "text/html": [
              "<div>\n",
              "<style scoped>\n",
              "    .dataframe tbody tr th:only-of-type {\n",
              "        vertical-align: middle;\n",
              "    }\n",
              "\n",
              "    .dataframe tbody tr th {\n",
              "        vertical-align: top;\n",
              "    }\n",
              "\n",
              "    .dataframe thead th {\n",
              "        text-align: right;\n",
              "    }\n",
              "</style>\n",
              "<table border=\"1\" class=\"dataframe\">\n",
              "  <thead>\n",
              "    <tr style=\"text-align: right;\">\n",
              "      <th></th>\n",
              "      <th>State</th>\n",
              "      <th>Sex</th>\n",
              "      <th>Year</th>\n",
              "      <th>Name</th>\n",
              "      <th>Count</th>\n",
              "    </tr>\n",
              "  </thead>\n",
              "  <tbody>\n",
              "    <tr>\n",
              "      <th>152826</th>\n",
              "      <td>CA</td>\n",
              "      <td>F</td>\n",
              "      <td>2001</td>\n",
              "      <td>Jessica</td>\n",
              "      <td>2244</td>\n",
              "    </tr>\n",
              "    <tr>\n",
              "      <th>152828</th>\n",
              "      <td>CA</td>\n",
              "      <td>F</td>\n",
              "      <td>2001</td>\n",
              "      <td>Jennifer</td>\n",
              "      <td>2027</td>\n",
              "    </tr>\n",
              "    <tr>\n",
              "      <th>152832</th>\n",
              "      <td>CA</td>\n",
              "      <td>F</td>\n",
              "      <td>2001</td>\n",
              "      <td>Jasmine</td>\n",
              "      <td>1655</td>\n",
              "    </tr>\n",
              "    <tr>\n",
              "      <th>152847</th>\n",
              "      <td>CA</td>\n",
              "      <td>F</td>\n",
              "      <td>2001</td>\n",
              "      <td>Jacqueline</td>\n",
              "      <td>1195</td>\n",
              "    </tr>\n",
              "    <tr>\n",
              "      <th>152857</th>\n",
              "      <td>CA</td>\n",
              "      <td>F</td>\n",
              "      <td>2001</td>\n",
              "      <td>Julia</td>\n",
              "      <td>983</td>\n",
              "    </tr>\n",
              "    <tr>\n",
              "      <th>...</th>\n",
              "      <td>...</td>\n",
              "      <td>...</td>\n",
              "      <td>...</td>\n",
              "      <td>...</td>\n",
              "      <td>...</td>\n",
              "    </tr>\n",
              "    <tr>\n",
              "      <th>398685</th>\n",
              "      <td>CA</td>\n",
              "      <td>M</td>\n",
              "      <td>2019</td>\n",
              "      <td>Joseantonio</td>\n",
              "      <td>5</td>\n",
              "    </tr>\n",
              "    <tr>\n",
              "      <th>398686</th>\n",
              "      <td>CA</td>\n",
              "      <td>M</td>\n",
              "      <td>2019</td>\n",
              "      <td>Jovian</td>\n",
              "      <td>5</td>\n",
              "    </tr>\n",
              "    <tr>\n",
              "      <th>398687</th>\n",
              "      <td>CA</td>\n",
              "      <td>M</td>\n",
              "      <td>2019</td>\n",
              "      <td>Jujhar</td>\n",
              "      <td>5</td>\n",
              "    </tr>\n",
              "    <tr>\n",
              "      <th>398688</th>\n",
              "      <td>CA</td>\n",
              "      <td>M</td>\n",
              "      <td>2019</td>\n",
              "      <td>Jullian</td>\n",
              "      <td>5</td>\n",
              "    </tr>\n",
              "    <tr>\n",
              "      <th>398689</th>\n",
              "      <td>CA</td>\n",
              "      <td>M</td>\n",
              "      <td>2019</td>\n",
              "      <td>June</td>\n",
              "      <td>5</td>\n",
              "    </tr>\n",
              "  </tbody>\n",
              "</table>\n",
              "<p>11276 rows × 5 columns</p>\n",
              "</div>"
            ],
            "text/plain": [
              "       State Sex  Year         Name  Count\n",
              "152826    CA   F  2001      Jessica   2244\n",
              "152828    CA   F  2001     Jennifer   2027\n",
              "152832    CA   F  2001      Jasmine   1655\n",
              "152847    CA   F  2001   Jacqueline   1195\n",
              "152857    CA   F  2001        Julia    983\n",
              "...      ...  ..   ...          ...    ...\n",
              "398685    CA   M  2019  Joseantonio      5\n",
              "398686    CA   M  2019       Jovian      5\n",
              "398687    CA   M  2019       Jujhar      5\n",
              "398688    CA   M  2019      Jullian      5\n",
              "398689    CA   M  2019         June      5\n",
              "\n",
              "[11276 rows x 5 columns]"
            ]
          },
          "execution_count": 12,
          "metadata": {},
          "output_type": "execute_result"
        }
      ],
      "source": [
        "# Note: Series has powerful string manipulation methods associated with it\n",
        "\n",
        "baby[(baby[\"Year\"] >= 2001)  & (baby[\"Year\"] <= 2019)][baby[\"Name\"].str.startswith(\"J\")]\n",
        "\n"
      ]
    },
    {
      "cell_type": "markdown",
      "metadata": {
        "id": "8RiGrIV-mIbP"
      },
      "source": [
        "# Q.7\n",
        "Add a new column called \"name_length\" to the babynames DataFrame, you can use .str.len() in existing Name column. Moreover. also modify the Length values with new values like existing_value-1 and rename the length column with new label as desceribe in slides.\n",
        "\n"
      ]
    },
    {
      "cell_type": "code",
      "execution_count": 13,
      "metadata": {
        "id": "SQEAYy8Jm8lu"
      },
      "outputs": [
        {
          "data": {
            "text/html": [
              "<div>\n",
              "<style scoped>\n",
              "    .dataframe tbody tr th:only-of-type {\n",
              "        vertical-align: middle;\n",
              "    }\n",
              "\n",
              "    .dataframe tbody tr th {\n",
              "        vertical-align: top;\n",
              "    }\n",
              "\n",
              "    .dataframe thead th {\n",
              "        text-align: right;\n",
              "    }\n",
              "</style>\n",
              "<table border=\"1\" class=\"dataframe\">\n",
              "  <thead>\n",
              "    <tr style=\"text-align: right;\">\n",
              "      <th></th>\n",
              "      <th>State</th>\n",
              "      <th>Sex</th>\n",
              "      <th>Year</th>\n",
              "      <th>Name</th>\n",
              "      <th>Count</th>\n",
              "      <th>Length</th>\n",
              "    </tr>\n",
              "  </thead>\n",
              "  <tbody>\n",
              "    <tr>\n",
              "      <th>0</th>\n",
              "      <td>CA</td>\n",
              "      <td>F</td>\n",
              "      <td>1910</td>\n",
              "      <td>Mary</td>\n",
              "      <td>295</td>\n",
              "      <td>4</td>\n",
              "    </tr>\n",
              "    <tr>\n",
              "      <th>1</th>\n",
              "      <td>CA</td>\n",
              "      <td>F</td>\n",
              "      <td>1910</td>\n",
              "      <td>Helen</td>\n",
              "      <td>239</td>\n",
              "      <td>5</td>\n",
              "    </tr>\n",
              "    <tr>\n",
              "      <th>2</th>\n",
              "      <td>CA</td>\n",
              "      <td>F</td>\n",
              "      <td>1910</td>\n",
              "      <td>Dorothy</td>\n",
              "      <td>220</td>\n",
              "      <td>7</td>\n",
              "    </tr>\n",
              "    <tr>\n",
              "      <th>3</th>\n",
              "      <td>CA</td>\n",
              "      <td>F</td>\n",
              "      <td>1910</td>\n",
              "      <td>Margaret</td>\n",
              "      <td>163</td>\n",
              "      <td>8</td>\n",
              "    </tr>\n",
              "    <tr>\n",
              "      <th>4</th>\n",
              "      <td>CA</td>\n",
              "      <td>F</td>\n",
              "      <td>1910</td>\n",
              "      <td>Frances</td>\n",
              "      <td>134</td>\n",
              "      <td>7</td>\n",
              "    </tr>\n",
              "    <tr>\n",
              "      <th>...</th>\n",
              "      <td>...</td>\n",
              "      <td>...</td>\n",
              "      <td>...</td>\n",
              "      <td>...</td>\n",
              "      <td>...</td>\n",
              "      <td>...</td>\n",
              "    </tr>\n",
              "    <tr>\n",
              "      <th>407423</th>\n",
              "      <td>CA</td>\n",
              "      <td>M</td>\n",
              "      <td>2022</td>\n",
              "      <td>Zayvier</td>\n",
              "      <td>5</td>\n",
              "      <td>7</td>\n",
              "    </tr>\n",
              "    <tr>\n",
              "      <th>407424</th>\n",
              "      <td>CA</td>\n",
              "      <td>M</td>\n",
              "      <td>2022</td>\n",
              "      <td>Zia</td>\n",
              "      <td>5</td>\n",
              "      <td>3</td>\n",
              "    </tr>\n",
              "    <tr>\n",
              "      <th>407425</th>\n",
              "      <td>CA</td>\n",
              "      <td>M</td>\n",
              "      <td>2022</td>\n",
              "      <td>Zora</td>\n",
              "      <td>5</td>\n",
              "      <td>4</td>\n",
              "    </tr>\n",
              "    <tr>\n",
              "      <th>407426</th>\n",
              "      <td>CA</td>\n",
              "      <td>M</td>\n",
              "      <td>2022</td>\n",
              "      <td>Zuriel</td>\n",
              "      <td>5</td>\n",
              "      <td>6</td>\n",
              "    </tr>\n",
              "    <tr>\n",
              "      <th>407427</th>\n",
              "      <td>CA</td>\n",
              "      <td>M</td>\n",
              "      <td>2022</td>\n",
              "      <td>Zylo</td>\n",
              "      <td>5</td>\n",
              "      <td>4</td>\n",
              "    </tr>\n",
              "  </tbody>\n",
              "</table>\n",
              "<p>407428 rows × 6 columns</p>\n",
              "</div>"
            ],
            "text/plain": [
              "       State Sex  Year      Name  Count  Length\n",
              "0         CA   F  1910      Mary    295       4\n",
              "1         CA   F  1910     Helen    239       5\n",
              "2         CA   F  1910   Dorothy    220       7\n",
              "3         CA   F  1910  Margaret    163       8\n",
              "4         CA   F  1910   Frances    134       7\n",
              "...      ...  ..   ...       ...    ...     ...\n",
              "407423    CA   M  2022   Zayvier      5       7\n",
              "407424    CA   M  2022       Zia      5       3\n",
              "407425    CA   M  2022      Zora      5       4\n",
              "407426    CA   M  2022    Zuriel      5       6\n",
              "407427    CA   M  2022      Zylo      5       4\n",
              "\n",
              "[407428 rows x 6 columns]"
            ]
          },
          "execution_count": 13,
          "metadata": {},
          "output_type": "execute_result"
        }
      ],
      "source": [
        "# Calculate the length of each name and add it as a new column \"_length\"\n",
        "baby[\"name_length\"] = baby[\"Name\"].str.len()\n",
        "\n",
        "# Display the updated DataFrame\n",
        "baby.head(4)\n",
        "\n",
        "\n",
        "# Rename the \"_length\" column to \"Length\"\n",
        "baby.rename(columns={\"name_length\":\"Length\"},inplace=True)\n",
        "\n",
        "baby\n",
        "\n"
      ]
    },
    {
      "cell_type": "code",
      "execution_count": null,
      "metadata": {},
      "outputs": [
        {
          "name": "stdout",
          "output_type": "stream",
          "text": [
            "After adding values the dataframe becomes :: \n"
          ]
        },
        {
          "data": {
            "text/html": [
              "<div>\n",
              "<style scoped>\n",
              "    .dataframe tbody tr th:only-of-type {\n",
              "        vertical-align: middle;\n",
              "    }\n",
              "\n",
              "    .dataframe tbody tr th {\n",
              "        vertical-align: top;\n",
              "    }\n",
              "\n",
              "    .dataframe thead th {\n",
              "        text-align: right;\n",
              "    }\n",
              "</style>\n",
              "<table border=\"1\" class=\"dataframe\">\n",
              "  <thead>\n",
              "    <tr style=\"text-align: right;\">\n",
              "      <th></th>\n",
              "      <th>State</th>\n",
              "      <th>Sex</th>\n",
              "      <th>Year</th>\n",
              "      <th>Name</th>\n",
              "      <th>Count</th>\n",
              "      <th>Length</th>\n",
              "    </tr>\n",
              "  </thead>\n",
              "  <tbody>\n",
              "    <tr>\n",
              "      <th>0</th>\n",
              "      <td>CA</td>\n",
              "      <td>F</td>\n",
              "      <td>1910</td>\n",
              "      <td>Mary</td>\n",
              "      <td>295</td>\n",
              "      <td>4</td>\n",
              "    </tr>\n",
              "    <tr>\n",
              "      <th>1</th>\n",
              "      <td>CA</td>\n",
              "      <td>F</td>\n",
              "      <td>1910</td>\n",
              "      <td>Helen</td>\n",
              "      <td>239</td>\n",
              "      <td>5</td>\n",
              "    </tr>\n",
              "    <tr>\n",
              "      <th>2</th>\n",
              "      <td>CA</td>\n",
              "      <td>F</td>\n",
              "      <td>1910</td>\n",
              "      <td>Dorothy</td>\n",
              "      <td>220</td>\n",
              "      <td>7</td>\n",
              "    </tr>\n",
              "    <tr>\n",
              "      <th>3</th>\n",
              "      <td>CA</td>\n",
              "      <td>F</td>\n",
              "      <td>1910</td>\n",
              "      <td>Margaret</td>\n",
              "      <td>163</td>\n",
              "      <td>8</td>\n",
              "    </tr>\n",
              "    <tr>\n",
              "      <th>4</th>\n",
              "      <td>CA</td>\n",
              "      <td>F</td>\n",
              "      <td>1910</td>\n",
              "      <td>Frances</td>\n",
              "      <td>134</td>\n",
              "      <td>7</td>\n",
              "    </tr>\n",
              "    <tr>\n",
              "      <th>...</th>\n",
              "      <td>...</td>\n",
              "      <td>...</td>\n",
              "      <td>...</td>\n",
              "      <td>...</td>\n",
              "      <td>...</td>\n",
              "      <td>...</td>\n",
              "    </tr>\n",
              "    <tr>\n",
              "      <th>407423</th>\n",
              "      <td>CA</td>\n",
              "      <td>M</td>\n",
              "      <td>2022</td>\n",
              "      <td>Zayvier</td>\n",
              "      <td>5</td>\n",
              "      <td>7</td>\n",
              "    </tr>\n",
              "    <tr>\n",
              "      <th>407424</th>\n",
              "      <td>CA</td>\n",
              "      <td>M</td>\n",
              "      <td>2022</td>\n",
              "      <td>Zia</td>\n",
              "      <td>5</td>\n",
              "      <td>3</td>\n",
              "    </tr>\n",
              "    <tr>\n",
              "      <th>407425</th>\n",
              "      <td>CA</td>\n",
              "      <td>M</td>\n",
              "      <td>2022</td>\n",
              "      <td>Zora</td>\n",
              "      <td>5</td>\n",
              "      <td>4</td>\n",
              "    </tr>\n",
              "    <tr>\n",
              "      <th>407426</th>\n",
              "      <td>CA</td>\n",
              "      <td>M</td>\n",
              "      <td>2022</td>\n",
              "      <td>Zuriel</td>\n",
              "      <td>5</td>\n",
              "      <td>6</td>\n",
              "    </tr>\n",
              "    <tr>\n",
              "      <th>407427</th>\n",
              "      <td>CA</td>\n",
              "      <td>M</td>\n",
              "      <td>2022</td>\n",
              "      <td>Zylo</td>\n",
              "      <td>5</td>\n",
              "      <td>4</td>\n",
              "    </tr>\n",
              "  </tbody>\n",
              "</table>\n",
              "<p>407428 rows × 6 columns</p>\n",
              "</div>"
            ],
            "text/plain": [
              "       State Sex  Year      Name  Count  Length\n",
              "0         CA   F  1910      Mary    295       4\n",
              "1         CA   F  1910     Helen    239       5\n",
              "2         CA   F  1910   Dorothy    220       7\n",
              "3         CA   F  1910  Margaret    163       8\n",
              "4         CA   F  1910   Frances    134       7\n",
              "...      ...  ..   ...       ...    ...     ...\n",
              "407423    CA   M  2022   Zayvier      5       7\n",
              "407424    CA   M  2022       Zia      5       3\n",
              "407425    CA   M  2022      Zora      5       4\n",
              "407426    CA   M  2022    Zuriel      5       6\n",
              "407427    CA   M  2022      Zylo      5       4\n",
              "\n",
              "[407428 rows x 6 columns]"
            ]
          },
          "execution_count": 65,
          "metadata": {},
          "output_type": "execute_result"
        }
      ],
      "source": [
        "print(\"After adding values the dataframe becomes :: \")\n",
        "baby"
      ]
    },
    {
      "cell_type": "markdown",
      "metadata": {
        "id": "1S_7ZKySo6CS"
      },
      "source": [
        "\n",
        "# Q.8\n",
        "\n",
        "Use .str.split() to sample the names with 'ad' string and show first 10 samples."
      ]
    },
    {
      "cell_type": "code",
      "execution_count": 14,
      "metadata": {
        "id": "6ljvNnGxFVO9"
      },
      "outputs": [
        {
          "name": "stdout",
          "output_type": "stream",
          "text": [
            "       State Sex  Year            Name  Count  Length\n",
            "82660     CA   F  1979          Azadeh      6       6\n",
            "255176    CA   M  1941            Chad      6       4\n",
            "146574    CA   F  1999         Ariadna     24       7\n",
            "130540    CA   F  1994            Kady      6       4\n",
            "105625    CA   F  1987        Mariadel      5       8\n",
            "399287    CA   M  2020           Brady     81       5\n",
            "267204    CA   M  1956        Salvador    119       8\n",
            "119906    CA   F  1991  Mariadelcarmen      5      14\n",
            "335762    CA   M  1997           Caden     29       5\n",
            "367158    CA   M  2009           Aaden    158       5\n"
          ]
        }
      ],
      "source": [
        "#new = baby.sample(10,baby[\"Name\"].str.contains(\"ad\"),replace=True)\n",
        "\n",
        "\n",
        "new = baby[baby[\"Name\"].str.contains(\"ad\")].sample(10, replace=True)\n",
        "print(new)\n"
      ]
    },
    {
      "cell_type": "markdown",
      "metadata": {
        "id": "xpvkVZSmFVO9"
      },
      "source": [
        "More on str methods when we'll study regular expressions in this course. Note that there are other approaches that we can use to find the same answer as above."
      ]
    },
    {
      "cell_type": "code",
      "execution_count": 15,
      "metadata": {
        "id": "_Mf-crJ54KFQ"
      },
      "outputs": [
        {
          "data": {
            "text/html": [
              "<div>\n",
              "<style scoped>\n",
              "    .dataframe tbody tr th:only-of-type {\n",
              "        vertical-align: middle;\n",
              "    }\n",
              "\n",
              "    .dataframe tbody tr th {\n",
              "        vertical-align: top;\n",
              "    }\n",
              "\n",
              "    .dataframe thead th {\n",
              "        text-align: right;\n",
              "    }\n",
              "</style>\n",
              "<table border=\"1\" class=\"dataframe\">\n",
              "  <thead>\n",
              "    <tr style=\"text-align: right;\">\n",
              "      <th></th>\n",
              "      <th>State</th>\n",
              "      <th>Sex</th>\n",
              "      <th>Year</th>\n",
              "      <th>Name</th>\n",
              "      <th>Count</th>\n",
              "      <th>Length</th>\n",
              "    </tr>\n",
              "  </thead>\n",
              "  <tbody>\n",
              "    <tr>\n",
              "      <th>294715</th>\n",
              "      <td>CA</td>\n",
              "      <td>M</td>\n",
              "      <td>1978</td>\n",
              "      <td>Guadalupe</td>\n",
              "      <td>68</td>\n",
              "      <td>9</td>\n",
              "    </tr>\n",
              "    <tr>\n",
              "      <th>19508</th>\n",
              "      <td>CA</td>\n",
              "      <td>F</td>\n",
              "      <td>1942</td>\n",
              "      <td>Nada</td>\n",
              "      <td>6</td>\n",
              "      <td>4</td>\n",
              "    </tr>\n",
              "    <tr>\n",
              "      <th>38485</th>\n",
              "      <td>CA</td>\n",
              "      <td>F</td>\n",
              "      <td>1957</td>\n",
              "      <td>Soledad</td>\n",
              "      <td>7</td>\n",
              "      <td>7</td>\n",
              "    </tr>\n",
              "    <tr>\n",
              "      <th>389213</th>\n",
              "      <td>CA</td>\n",
              "      <td>M</td>\n",
              "      <td>2016</td>\n",
              "      <td>Aadi</td>\n",
              "      <td>8</td>\n",
              "      <td>4</td>\n",
              "    </tr>\n",
              "    <tr>\n",
              "      <th>346095</th>\n",
              "      <td>CA</td>\n",
              "      <td>M</td>\n",
              "      <td>2001</td>\n",
              "      <td>Grady</td>\n",
              "      <td>14</td>\n",
              "      <td>5</td>\n",
              "    </tr>\n",
              "  </tbody>\n",
              "</table>\n",
              "</div>"
            ],
            "text/plain": [
              "       State Sex  Year       Name  Count  Length\n",
              "294715    CA   M  1978  Guadalupe     68       9\n",
              "19508     CA   F  1942       Nada      6       4\n",
              "38485     CA   F  1957    Soledad      7       7\n",
              "389213    CA   M  2016       Aadi      8       4\n",
              "346095    CA   M  2001      Grady     14       5"
            ]
          },
          "execution_count": 15,
          "metadata": {},
          "output_type": "execute_result"
        }
      ],
      "source": [
        "# Create a boolean mask for rows containing 'ad' in the \"Name\" column\n",
        "\n",
        "mask = baby[\"Name\"].str.contains(\"ad\")\n",
        "\n",
        "# Use the mask to select rows and sample 5 random rows\n",
        "\n",
        "baby[mask].sample(5,replace=True)\n"
      ]
    },
    {
      "cell_type": "markdown",
      "metadata": {
        "id": "RmQtaxLnFVO9"
      },
      "source": [
        "# Q.9\n",
        " Sort names by their length."
      ]
    },
    {
      "cell_type": "markdown",
      "metadata": {
        "id": "L7kJKsSoFVO9"
      },
      "source": [
        "In the babynames DataFrame, which baby name appears most frequently across all years and states, and how can you use pandas to find this information? Provide the code and steps to determine the most popular baby name in the dataset."
      ]
    },
    {
      "cell_type": "code",
      "execution_count": 19,
      "metadata": {
        "id": "y8Zyi2pVqts2"
      },
      "outputs": [
        {
          "data": {
            "text/plain": [
              "Name\n",
              "Michael    435716\n",
              "Name: Count, dtype: int64"
            ]
          },
          "execution_count": 19,
          "metadata": {},
          "output_type": "execute_result"
        }
      ],
      "source": [
        "\n",
        "\n",
        "# Group the data by \"Name\" and sum the \"Count\" for each name\n",
        "cont  = baby.groupby(\"Name\")[\"Count\"].sum()\n",
        "\n",
        "\n",
        "# Find the name with the highest total count\n",
        "most_popular = cont.sort_values(ascending=False).head(1)\n",
        "\n",
        "# Display the most popular name and its count\n",
        "most_popular"
      ]
    },
    {
      "cell_type": "markdown",
      "metadata": {
        "id": "C_YBsLEWquYO"
      },
      "source": [
        "# Q.10\n",
        "\n",
        "1: How can you use the .sample() method to randomly select a single row from the babynames DataFrame, and what is the purpose of such a selection?\n",
        "\n",
        "2: Suppose you want to generate a random sample of 10 baby names from the babynames DataFrame. How would you use the .sample() method to achieve this, and what parameters or arguments would you specify?\n",
        "\n",
        "3: In a scenario where you need to ensure reproducibility, explain how you can set a random seed when using the .sample() method in pandas. Why might this be important in certain data analysis tasks?\n",
        "\n",
        "4: You want to perform a bootstrap resampling analysis on the baby names data in the babynames DataFrame. Describe how you can repeatedly sample with replacement using .sample() to create multiple bootstrap samples for statistical analysi"
      ]
    },
    {
      "cell_type": "code",
      "execution_count": 22,
      "metadata": {
        "id": "zUuIGtbjq67o"
      },
      "outputs": [
        {
          "data": {
            "text/html": [
              "<div>\n",
              "<style scoped>\n",
              "    .dataframe tbody tr th:only-of-type {\n",
              "        vertical-align: middle;\n",
              "    }\n",
              "\n",
              "    .dataframe tbody tr th {\n",
              "        vertical-align: top;\n",
              "    }\n",
              "\n",
              "    .dataframe thead th {\n",
              "        text-align: right;\n",
              "    }\n",
              "</style>\n",
              "<table border=\"1\" class=\"dataframe\">\n",
              "  <thead>\n",
              "    <tr style=\"text-align: right;\">\n",
              "      <th></th>\n",
              "      <th>State</th>\n",
              "      <th>Sex</th>\n",
              "      <th>Year</th>\n",
              "      <th>Name</th>\n",
              "      <th>Count</th>\n",
              "      <th>Length</th>\n",
              "    </tr>\n",
              "  </thead>\n",
              "  <tbody>\n",
              "    <tr>\n",
              "      <th>305711</th>\n",
              "      <td>CA</td>\n",
              "      <td>M</td>\n",
              "      <td>1984</td>\n",
              "      <td>Mathieu</td>\n",
              "      <td>11</td>\n",
              "      <td>7</td>\n",
              "    </tr>\n",
              "    <tr>\n",
              "      <th>117952</th>\n",
              "      <td>CA</td>\n",
              "      <td>F</td>\n",
              "      <td>1991</td>\n",
              "      <td>Lizzette</td>\n",
              "      <td>15</td>\n",
              "      <td>8</td>\n",
              "    </tr>\n",
              "    <tr>\n",
              "      <th>152315</th>\n",
              "      <td>CA</td>\n",
              "      <td>F</td>\n",
              "      <td>2000</td>\n",
              "      <td>Ambika</td>\n",
              "      <td>5</td>\n",
              "      <td>6</td>\n",
              "    </tr>\n",
              "    <tr>\n",
              "      <th>358083</th>\n",
              "      <td>CA</td>\n",
              "      <td>M</td>\n",
              "      <td>2005</td>\n",
              "      <td>Shamar</td>\n",
              "      <td>5</td>\n",
              "      <td>6</td>\n",
              "    </tr>\n",
              "    <tr>\n",
              "      <th>359783</th>\n",
              "      <td>CA</td>\n",
              "      <td>M</td>\n",
              "      <td>2006</td>\n",
              "      <td>Sammuel</td>\n",
              "      <td>10</td>\n",
              "      <td>7</td>\n",
              "    </tr>\n",
              "  </tbody>\n",
              "</table>\n",
              "</div>"
            ],
            "text/plain": [
              "       State Sex  Year      Name  Count  Length\n",
              "305711    CA   M  1984   Mathieu     11       7\n",
              "117952    CA   F  1991  Lizzette     15       8\n",
              "152315    CA   F  2000    Ambika      5       6\n",
              "358083    CA   M  2005    Shamar      5       6\n",
              "359783    CA   M  2006   Sammuel     10       7"
            ]
          },
          "execution_count": 22,
          "metadata": {},
          "output_type": "execute_result"
        }
      ],
      "source": [
        "# 1- How can you use the .sample() method\n",
        "\n",
        "#The purpose of the sample is to randomly select the rows from our dataframe \n",
        "baby.sample(4)\n",
        "\n",
        "\n",
        "#2- 10 samples from dataframe\n",
        "baby.sample(10,replace=True)\n",
        "#we can use replace in the sample to ensure that we are not loosing our original data\n",
        "\n",
        "\n",
        "#3- Using seed for producing same results\n",
        "np.random.seed(0)  #When we set the seed value every time the results of sample will be same\n",
        "baby.sample(5,replace=True)\n",
        "\n",
        "\n"
      ]
    },
    {
      "cell_type": "markdown",
      "metadata": {
        "id": "5O39msrBFVO-"
      },
      "source": [
        "# Q.11\n",
        "1: The code randomly mixes up the list of baby names. Why might someone want to do this, and how could it affect the analysis of the names?\n",
        "\n",
        "2: After mixing, the code figures out how long each baby name is. Why would we care about name lengths, and what can this tell us about the names?\n",
        "\n",
        "3: The code arranges the name lengths from longest to shortest. Why might we want to do this, and what could it help us find in the data?\n",
        "\n",
        "4: The code finds the order of baby names based on their lengths and shows us the first few names in this new order. When might we need to organize names this way, and what might we discover from the first few names in this order?"
      ]
    },
    {
      "cell_type": "code",
      "execution_count": null,
      "metadata": {
        "id": "-lyTRJMeFVO-"
      },
      "outputs": [],
      "source": [
        "#Anaswer 1--- Randomly mixing up the list of baby names ensures that the analysis is not influenced by the order in which the names \n",
        "#appear also it helps  in checking the more diverse smaple of names for analysis\n",
        "\n",
        "\n",
        "#Answer 2-In the context of data analysis, longer names consume more memory than shorter names because they require \n",
        "# more storage space to store the characters comprising the name.\n",
        "\n",
        "#Answer 3 -- Arranging the name lengths from longest to shortest allows us to identify the distribution of name lengths. \n",
        "#    This sorting can help in visualizing the range of name lengths.\n",
        "\n",
        "#Answer 4 -- Organizing the names based on their lengths can be useful in situations where we want to compare or categorize names by \n",
        "#their lengths.  By examining the first few names in this sorted order, \n",
        "#we can gain insights into the types of names that are prevalent or popular within certain length categories"
      ]
    }
  ],
  "metadata": {
    "colab": {
      "provenance": []
    },
    "kernelspec": {
      "display_name": "Python 3",
      "language": "python",
      "name": "python3"
    },
    "language_info": {
      "codemirror_mode": {
        "name": "ipython",
        "version": 3
      },
      "file_extension": ".py",
      "mimetype": "text/x-python",
      "name": "python",
      "nbconvert_exporter": "python",
      "pygments_lexer": "ipython3",
      "version": "3.11.7"
    },
    "vscode": {
      "interpreter": {
        "hash": "7a3d88c904243d2c3f246166597f86d1c0a39f3d97496d1fe394945d0c6d436d"
      }
    }
  },
  "nbformat": 4,
  "nbformat_minor": 0
}
