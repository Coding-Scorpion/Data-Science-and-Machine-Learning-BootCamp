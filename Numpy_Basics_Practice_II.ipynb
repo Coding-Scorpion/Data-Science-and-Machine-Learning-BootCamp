{
  "cells": [
    {
      "cell_type": "code",
      "execution_count": 1,
      "id": "2a8a0fa8-ceee-4b65-9739-39bdbf33d23c",
      "metadata": {
        "id": "2a8a0fa8-ceee-4b65-9739-39bdbf33d23c"
      },
      "outputs": [],
      "source": [
        "import numpy as np"
      ]
    },
    {
      "cell_type": "markdown",
      "id": "6cd94836-36bf-4eca-a68c-4d4afb52ef7d",
      "metadata": {
        "id": "6cd94836-36bf-4eca-a68c-4d4afb52ef7d"
      },
      "source": [
        "# Q1"
      ]
    },
    {
      "cell_type": "markdown",
      "id": "26a82645-942a-40ba-9d5b-a58c65d27817",
      "metadata": {
        "id": "26a82645-942a-40ba-9d5b-a58c65d27817"
      },
      "source": [
        "Statement: Given a 3D NumPy array arr of shape (2, 3, 4), write a code snippet to calculate the sum of all elements in the array.\n",
        "\n",
        "Sample Input:"
      ]
    },
    {
      "cell_type": "code",
      "execution_count": 2,
      "id": "dbf71bf2-1ac9-48f3-96fb-5f22ad767b29",
      "metadata": {
        "id": "dbf71bf2-1ac9-48f3-96fb-5f22ad767b29"
      },
      "outputs": [
        {
          "name": "stdout",
          "output_type": "stream",
          "text": [
            "The sum of all the elements in the array is :: \n",
            " 276\n"
          ]
        }
      ],
      "source": [
        "# Answer Here\n",
        "\n",
        "array_3d = np.arange(24).reshape(2,3,4)\n",
        "print(\"The sum of all the elements in the array is :: \\n\", array_3d.sum())\n"
      ]
    },
    {
      "cell_type": "markdown",
      "id": "14bd52a2-86d8-4ef6-b1ee-de66e9703458",
      "metadata": {
        "id": "14bd52a2-86d8-4ef6-b1ee-de66e9703458"
      },
      "source": [
        "# Q2"
      ]
    },
    {
      "cell_type": "markdown",
      "id": "9a536e77-25c6-4b63-906b-7aa8eaaa073e",
      "metadata": {
        "id": "9a536e77-25c6-4b63-906b-7aa8eaaa073e"
      },
      "source": [
        "Statement: Write a NumPy code snippet to create a 4D array arr of shape (2, 3, 4, 5) filled with random integers ranging from 0 to 9.\n",
        "\n",
        "Sample Output:"
      ]
    },
    {
      "cell_type": "code",
      "execution_count": 3,
      "id": "5602b3f2-13e2-4585-9870-9bc07563c60e",
      "metadata": {
        "id": "5602b3f2-13e2-4585-9870-9bc07563c60e"
      },
      "outputs": [
        {
          "data": {
            "text/plain": [
              "array([[[[8, 6, 9, 9, 2],\n",
              "         [6, 8, 6, 8, 9],\n",
              "         [7, 6, 1, 4, 8],\n",
              "         [0, 2, 1, 1, 6]],\n",
              "\n",
              "        [[8, 1, 8, 5, 2],\n",
              "         [8, 0, 7, 4, 4],\n",
              "         [7, 9, 1, 2, 2],\n",
              "         [6, 0, 5, 9, 4]],\n",
              "\n",
              "        [[8, 0, 3, 3, 2],\n",
              "         [2, 9, 5, 2, 4],\n",
              "         [8, 4, 0, 6, 9],\n",
              "         [7, 6, 0, 5, 4]]],\n",
              "\n",
              "\n",
              "       [[[0, 9, 5, 2, 9],\n",
              "         [0, 2, 0, 4, 9],\n",
              "         [1, 8, 1, 8, 6],\n",
              "         [8, 0, 7, 6, 6]],\n",
              "\n",
              "        [[6, 0, 0, 0, 6],\n",
              "         [8, 1, 1, 9, 0],\n",
              "         [8, 5, 0, 3, 5],\n",
              "         [8, 3, 1, 4, 2]],\n",
              "\n",
              "        [[1, 6, 9, 8, 2],\n",
              "         [5, 3, 5, 4, 3],\n",
              "         [3, 3, 8, 5, 3],\n",
              "         [0, 4, 7, 5, 0]]]])"
            ]
          },
          "execution_count": 3,
          "metadata": {},
          "output_type": "execute_result"
        }
      ],
      "source": [
        "# Answer Here\n",
        "array_4d = np.random.randint(0,10,size=(2,3,4,5))\n",
        "array_4d"
      ]
    },
    {
      "cell_type": "markdown",
      "id": "540f8d57-6cc0-4e53-8744-787e868276a4",
      "metadata": {
        "id": "540f8d57-6cc0-4e53-8744-787e868276a4"
      },
      "source": [
        "# Q3"
      ]
    },
    {
      "cell_type": "markdown",
      "id": "37497bad-10e3-4c65-b4f6-65bb5ed0b00d",
      "metadata": {
        "id": "37497bad-10e3-4c65-b4f6-65bb5ed0b00d"
      },
      "source": [
        "Statement: Given a 4D NumPy array arr of shape (2, 3, 4, 5), write a code snippet to calculate the mean along the second axis.\n",
        "\n",
        "Sample Input:"
      ]
    },
    {
      "cell_type": "code",
      "execution_count": 4,
      "id": "84df3761-5341-4010-b541-6a79a1b74625",
      "metadata": {
        "id": "84df3761-5341-4010-b541-6a79a1b74625"
      },
      "outputs": [
        {
          "data": {
            "text/plain": [
              "('The mean along second axis (axis 1) is :: ',\n",
              " array([[[8.        , 2.33333333, 6.66666667, 5.66666667, 2.        ],\n",
              "         [5.33333333, 5.66666667, 6.        , 4.66666667, 5.66666667],\n",
              "         [7.33333333, 6.33333333, 0.66666667, 4.        , 6.33333333],\n",
              "         [4.33333333, 2.66666667, 2.        , 5.        , 4.66666667]],\n",
              " \n",
              "        [[2.33333333, 5.        , 4.66666667, 3.33333333, 5.66666667],\n",
              "         [4.33333333, 2.        , 2.        , 5.66666667, 4.        ],\n",
              "         [4.        , 5.33333333, 3.        , 5.33333333, 4.66666667],\n",
              "         [5.33333333, 2.33333333, 5.        , 5.        , 2.66666667]]]))"
            ]
          },
          "execution_count": 4,
          "metadata": {},
          "output_type": "execute_result"
        }
      ],
      "source": [
        "# Answer Here\n",
        "(\"The mean along second axis (axis 1) is :: \",array_4d.mean(axis=1))"
      ]
    },
    {
      "cell_type": "markdown",
      "id": "9d4cd387-ca18-4951-a1ab-63a7a1f80a0d",
      "metadata": {
        "id": "9d4cd387-ca18-4951-a1ab-63a7a1f80a0d"
      },
      "source": [
        "# Q4"
      ]
    },
    {
      "cell_type": "markdown",
      "id": "768891f0-dd85-4a6b-a336-31061a30945f",
      "metadata": {
        "id": "768891f0-dd85-4a6b-a336-31061a30945f"
      },
      "source": [
        "Statement: You have collected data from a temperature sensor placed at different locations over a period of time. The recorded temperatures are stored in a 3D NumPy array temps of shape (7, 24, 60), where the dimensions represent the number of days, hours in a day, and minutes in an hour, respectively. Write a code snippet to calculate the average temperature for each day.\n",
        "\n",
        "Sample Input:"
      ]
    },
    {
      "cell_type": "code",
      "execution_count": 5,
      "id": "1b750beb",
      "metadata": {},
      "outputs": [
        {
          "name": "stdout",
          "output_type": "stream",
          "text": [
            "[17.35486111 16.31319444 17.46944444 17.17708333 17.84513889 17.12152778\n",
            " 16.86597222]\n"
          ]
        }
      ],
      "source": [
        "\n",
        "temperature_array = np.random.randint(-15,50,size=(7,24,60))\n",
        "avg_temp = np.mean(temperature_array, axis=(1, 2))\n",
        "print(avg_temp)"
      ]
    },
    {
      "cell_type": "markdown",
      "id": "f8913844-39a1-4d9b-a434-7af478336f20",
      "metadata": {
        "id": "f8913844-39a1-4d9b-a434-7af478336f20"
      },
      "source": [
        "Sample Output:\n",
        "\n",
        "array([27.43864059, 26.99643944, 27.10398301, 27.43854821, 26.81072977,\n",
        "       26.76581481, 27.07946152])"
      ]
    },
    {
      "cell_type": "markdown",
      "id": "55a224ca-01c9-4b13-8bc9-1db7269a35d5",
      "metadata": {
        "id": "55a224ca-01c9-4b13-8bc9-1db7269a35d5"
      },
      "source": [
        "# Q5"
      ]
    },
    {
      "cell_type": "markdown",
      "id": "af5efd9b-ff4f-4ae1-af9a-da9bf621d3bd",
      "metadata": {
        "id": "af5efd9b-ff4f-4ae1-af9a-da9bf621d3bd"
      },
      "source": [
        "Statement: You have collected data from multiple sensors placed in different rooms of a building. The sensor readings are stored in a 4D NumPy array readings of shape (4, 7, 24, 60), where the dimensions represent the number of sensors, number of days, hours in a day, and minutes in an hour, respectively. Write a code snippet to calculate the maximum reading for each sensor across all days."
      ]
    },
    {
      "cell_type": "code",
      "execution_count": 6,
      "id": "79873e69-35ad-4bde-ba48-cf33218b1dc2",
      "metadata": {
        "id": "79873e69-35ad-4bde-ba48-cf33218b1dc2"
      },
      "outputs": [
        {
          "name": "stdout",
          "output_type": "stream",
          "text": [
            "[16.90902778 17.32470238 17.18888889 16.84761905]\n"
          ]
        }
      ],
      "source": [
        "# Answer Here\n",
        "\n",
        "np.random.seed(0)\n",
        "sensor_data = np.random.randint(-15,50,size=(4,7,24,60))\n",
        "max_sensor = np.mean(sensor_data,axis=(1,2,3))\n",
        "print(max_sensor)\n",
        "\n"
      ]
    },
    {
      "cell_type": "markdown",
      "id": "e8ca2836-0977-4b11-a214-a93630131927",
      "metadata": {
        "id": "e8ca2836-0977-4b11-a214-a93630131927"
      },
      "source": [
        "# Q6"
      ]
    },
    {
      "cell_type": "markdown",
      "id": "b324cb33-b481-4cf8-a148-9292ec382a8c",
      "metadata": {
        "id": "b324cb33-b481-4cf8-a148-9292ec382a8c"
      },
      "source": [
        "Statement: You have collected data from a 3D printer that measures the dimensions of printed objects. The recorded dimensions are stored in a 3D NumPy array dimensions of shape (100, 50, 3), where the dimensions represent the number of printed objects, number of measurements for each object, and the three dimensions (length, width, height), respectively. Write a code snippet to calculate the average length, width, and height across all objects.\n",
        "\n",
        "Sample Inpumt:"
      ]
    },
    {
      "cell_type": "code",
      "execution_count": 7,
      "id": "d1199cf1-5f47-45f5-a090-615021490d8e",
      "metadata": {
        "id": "d1199cf1-5f47-45f5-a090-615021490d8e"
      },
      "outputs": [
        {
          "name": "stdout",
          "output_type": "stream",
          "text": [
            "Average length across all objects: 7498.5\n",
            "Average width across all objects: 7499.5\n",
            "Average height across all objects: 7500.5\n"
          ]
        }
      ],
      "source": [
        "\n",
        "data_printer = np.arange(15000).reshape(100, 50, 3)\n",
        "\n",
        "average_length = np.mean(data_printer[:, :, 0])  \n",
        "average_width = np.mean(data_printer[:, :, 1])   \n",
        "average_height = np.mean(data_printer[:, :, 2])  \n",
        "\n",
        "print(\"Average length across all objects:\", average_length)\n",
        "print(\"Average width across all objects:\", average_width)\n",
        "print(\"Average height across all objects:\", average_height)\n"
      ]
    },
    {
      "cell_type": "markdown",
      "id": "a3c20cfa-7ad6-437b-8837-1eabded47ac7",
      "metadata": {
        "id": "a3c20cfa-7ad6-437b-8837-1eabded47ac7"
      },
      "source": [
        "# Q7"
      ]
    },
    {
      "cell_type": "markdown",
      "id": "c5c5e835-2d6d-4bec-a700-4125e2ea7375",
      "metadata": {
        "id": "c5c5e835-2d6d-4bec-a700-4125e2ea7375"
      },
      "source": [
        "Statement: You are given a 3D NumPy array data of shape (5, 6, 7) representing the sensor readings from multiple sensors placed in different locations over a period of time. Each sensor provides measurements at different time points. Write a code snippet to calculate the following statistics for each sensor:\n",
        "\n",
        "Total number of measurements\n",
        "\n",
        "Average measurement value\n",
        "\n",
        "Standard deviation of measurements\n",
        "\n",
        "Minimum measurement value\n",
        "\n",
        "Maximum measurement value\n",
        "\n",
        "Sample Input:"
      ]
    },
    {
      "cell_type": "code",
      "execution_count": 8,
      "id": "46256376-8395-460c-a736-71a83252e47f",
      "metadata": {
        "id": "46256376-8395-460c-a736-71a83252e47f"
      },
      "outputs": [
        {
          "name": "stdout",
          "output_type": "stream",
          "text": [
            "Total number of measurements are ::  210\n",
            "average measurement value is ::  104.5\n",
            "The standard deviation of measurement is ::  60.621090939265244\n",
            "The minimum  measurement value is ::  0\n",
            "The minimum  measurement value is ::  209\n"
          ]
        }
      ],
      "source": [
        "import numpy as np\n",
        "\n",
        "\n",
        "data = np.arange(210).reshape(5,6,7)\n",
        "\n",
        "#total measurement\n",
        "total_msr = data.size\n",
        "print(\"Total number of measurements are :: \",total_msr)\n",
        "\n",
        "#average measurement\n",
        "avg_msr = np.mean(data)\n",
        "print(\"average measurement value is :: \",avg_msr)\n",
        "\n",
        "#std\n",
        "std_meas = np.std(data)\n",
        "print(\"The standard deviation of measurement is :: \",std_meas)\n",
        "\n",
        "#minimum value\n",
        "min_meas = np.min(data)\n",
        "print(\"The minimum  measurement value is :: \",min_meas)\n",
        "\n",
        "#maximum value\n",
        "max_meas = np.max(data)\n",
        "print(\"The minimum  measurement value is :: \",max_meas)\n",
        "\n"
      ]
    }
  ],
  "metadata": {
    "colab": {
      "provenance": []
    },
    "kernelspec": {
      "display_name": "Python 3 (ipykernel)",
      "language": "python",
      "name": "python3"
    },
    "language_info": {
      "codemirror_mode": {
        "name": "ipython",
        "version": 3
      },
      "file_extension": ".py",
      "mimetype": "text/x-python",
      "name": "python",
      "nbconvert_exporter": "python",
      "pygments_lexer": "ipython3",
      "version": "3.11.7"
    }
  },
  "nbformat": 4,
  "nbformat_minor": 5
}
