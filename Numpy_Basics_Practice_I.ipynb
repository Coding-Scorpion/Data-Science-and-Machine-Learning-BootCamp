{
  "cells": [
    {
      "cell_type": "markdown",
      "metadata": {
        "id": "3fp2tMylXxlZ"
      },
      "source": [
        "# Numpy Basics Exercises\n",
        "\n",
        "Please complete the following exercises **using numpy only**."
      ]
    },
    {
      "cell_type": "code",
      "execution_count": 3,
      "metadata": {
        "id": "dwhl1fZSY-Qw"
      },
      "outputs": [],
      "source": [
        "import numpy as np"
      ]
    },
    {
      "cell_type": "markdown",
      "metadata": {
        "id": "Oork_pTdXsin"
      },
      "source": [
        "### Create a 2-D array where the first row goes from 10 to 80 exclusive with steps of 5 and 2nd row goes from 5 to 47 exclusive with steps of 3"
      ]
    },
    {
      "cell_type": "code",
      "execution_count": 4,
      "metadata": {
        "id": "JJs0sRQ7YKgF"
      },
      "outputs": [
        {
          "name": "stdout",
          "output_type": "stream",
          "text": [
            "The specified 2d array with step of 5 in row 1 and step of 3 in row 2  is :: \n",
            " [[10 15 20 25 30 35 40 45 50 55 60 65 70 75]\n",
            " [ 5  8 11 14 17 20 23 26 29 32 35 38 41 44]]\n"
          ]
        }
      ],
      "source": [
        "# Answer here\n",
        "array_2d = np.arange(28).reshape(2,14)\n",
        "array_2d[0] = np.arange(10,80,5)\n",
        "array_2d[1] = np.arange(5,47,3)\n",
        "print(\"The specified 2d array with step of 5 in row 1 and step of 3 in row 2  is :: \\n\",array_2d)\n"
      ]
    },
    {
      "cell_type": "markdown",
      "metadata": {
        "id": "eBGU-aEqYM16"
      },
      "source": [
        "### Now use indexing to select the 5th 7th and 11th columns"
      ]
    },
    {
      "cell_type": "code",
      "execution_count": 5,
      "metadata": {
        "id": "-xAT9OukYNKx"
      },
      "outputs": [
        {
          "name": "stdout",
          "output_type": "stream",
          "text": [
            "The 5,7 and 11 column is :: \n",
            " [[35 45 65]\n",
            " [20 26 38]]\n"
          ]
        }
      ],
      "source": [
        "# Answer here\n",
        "print(\"The 5,7 and 11 column is :: \\n\", array_2d[:,[5,7,11]])"
      ]
    },
    {
      "cell_type": "markdown",
      "metadata": {
        "id": "wu3J-12UZl2I"
      },
      "source": [
        "### Select the 2nd row and fourth-last to second-last columns"
      ]
    },
    {
      "cell_type": "code",
      "execution_count": 6,
      "metadata": {
        "id": "YPAaA_BKZl-N"
      },
      "outputs": [
        {
          "name": "stdout",
          "output_type": "stream",
          "text": [
            "The second row and fourth-last to second-last column is :: \n",
            " [35 38 41]\n"
          ]
        }
      ],
      "source": [
        "#Answer here\n",
        "\n",
        "print(\"The second row and fourth-last to second-last column is :: \\n\", array_2d[1,-4:-1])"
      ]
    },
    {
      "cell_type": "markdown",
      "metadata": {
        "id": "kCgDP3J_ZmF8"
      },
      "source": [
        "### Select 3rd to 3rd last columns skipping every second column"
      ]
    },
    {
      "cell_type": "code",
      "execution_count": 7,
      "metadata": {
        "id": "YqRY90S0ZmNW"
      },
      "outputs": [
        {
          "name": "stdout",
          "output_type": "stream",
          "text": [
            "The 3rd to 3rd-last skipping column every second column is :: \n",
            " [[25 35 45 55 65]\n",
            " [14 20 26 32 38]]\n"
          ]
        }
      ],
      "source": [
        "# Answer here\n",
        "\n",
        "print(\"The 3rd to 3rd-last skipping column every second column is :: \\n\", array_2d[:,3:-2:2])"
      ]
    },
    {
      "cell_type": "markdown",
      "metadata": {
        "id": "x21_4u7SZmUx"
      },
      "source": [
        "###  Select 3rd to 3rd last columns skipping every second column but in reverse order"
      ]
    },
    {
      "cell_type": "code",
      "execution_count": 8,
      "metadata": {
        "id": "oEQws0mAZmcU"
      },
      "outputs": [
        {
          "name": "stdout",
          "output_type": "stream",
          "text": [
            "The 3rd to 3rd-last skipping every second column in reverse is :: \n",
            " [[65 55 45 35 25]\n",
            " [38 32 26 20 14]]\n"
          ]
        }
      ],
      "source": [
        "# Answer here\n",
        "print(\"The 3rd to 3rd-last skipping every second column in reverse is :: \\n\", array_2d[:,-3:2:-2])"
      ]
    },
    {
      "cell_type": "markdown",
      "metadata": {
        "id": "bqVyb4DKZmkR"
      },
      "source": [
        "### We will work with the following array:"
      ]
    },
    {
      "cell_type": "code",
      "execution_count": 9,
      "metadata": {},
      "outputs": [
        {
          "data": {
            "text/plain": [
              "array([[ 0,  1,  2,  3,  4],\n",
              "       [ 5,  6,  7,  8,  9],\n",
              "       [10, 11, 12, 13, 14],\n",
              "       [15, 16, 17, 18, 19],\n",
              "       [20, 21, 22, 23, 24]])"
            ]
          },
          "execution_count": 9,
          "metadata": {},
          "output_type": "execute_result"
        }
      ],
      "source": [
        "a = np.arange(25).reshape(5, 5)\n",
        "a"
      ]
    },
    {
      "cell_type": "markdown",
      "metadata": {
        "id": "OdjK0hqobWGp"
      },
      "source": [
        "### Use slicing only to select 3rd and last row along with 2nd and last columns"
      ]
    },
    {
      "cell_type": "code",
      "execution_count": 10,
      "metadata": {},
      "outputs": [
        {
          "name": "stdout",
          "output_type": "stream",
          "text": [
            "The 3rd and last row with 2nd and last column is :: \n",
            " [[11 14]\n",
            " [21 24]]\n"
          ]
        }
      ],
      "source": [
        "# Answer here\n",
        "print(\"The 3rd and last row with 2nd and last column is :: \\n\",a[2::2,1::3])"
      ]
    },
    {
      "cell_type": "markdown",
      "metadata": {
        "id": "5PtInLvEb7Am"
      },
      "source": [
        "### Extract the following sub-array: [[2, 3], [12, 13], [22, 23]]"
      ]
    },
    {
      "cell_type": "code",
      "execution_count": 11,
      "metadata": {
        "id": "lVi9eV2rb6hz"
      },
      "outputs": [
        {
          "name": "stdout",
          "output_type": "stream",
          "text": [
            "The extracted sub-arrays are :: \n",
            "  [[ 2  3]\n",
            " [12 13]\n",
            " [22 23]]\n"
          ]
        }
      ],
      "source": [
        "# Answer here\n",
        "\n",
        "\n",
        "print(\"The extracted sub-arrays are :: \\n \", a[::2,2:4])"
      ]
    },
    {
      "cell_type": "markdown",
      "metadata": {
        "id": "mHN-ADlNcRE7"
      },
      "source": [
        "### Combine fancy/location indexing with slicing to extract the following sub-array: [[6, 8], [16, 18], [21, 23]]"
      ]
    },
    {
      "cell_type": "code",
      "execution_count": 12,
      "metadata": {
        "id": "e_R0tbMHcNGy"
      },
      "outputs": [
        {
          "name": "stdout",
          "output_type": "stream",
          "text": [
            "The extraced sub-arrays using fancy/location indexing are :: \n",
            " [[ 6  8]\n",
            " [16 18]\n",
            " [21 23]]\n"
          ]
        }
      ],
      "source": [
        "# Answer here\n",
        "print(\"The extraced sub-arrays using fancy/location indexing are :: \\n\", a[[1,3,4],1:4:2])"
      ]
    },
    {
      "cell_type": "markdown",
      "metadata": {
        "id": "gRle44JLc8oL"
      },
      "source": [
        "### Change the values 1, 10, 19 and 22 in the array to -2"
      ]
    },
    {
      "cell_type": "code",
      "execution_count": 13,
      "metadata": {
        "id": "MnIs-SBzdMPv"
      },
      "outputs": [
        {
          "name": "stdout",
          "output_type": "stream",
          "text": [
            "After changing values 1, 10, 19 and 22 in the array to -2 the array a becomes :: \n",
            " [[ 0 -2  2  3  4]\n",
            " [ 5  6  7  8  9]\n",
            " [-2 11 12 13 14]\n",
            " [15 16 17 18 -2]\n",
            " [20 21 -2 23 24]]\n"
          ]
        }
      ],
      "source": [
        "# Answer\n",
        "value_change = a.copy()\n",
        "value_change[[0,2,3,4],[1,0,4,2]] = -2\n",
        "print(\"After changing values 1, 10, 19 and 22 in the array to -2 the array a becomes :: \\n\",value_change)\n"
      ]
    },
    {
      "cell_type": "markdown",
      "metadata": {
        "id": "tWSQO5e3dZxf"
      },
      "source": [
        "### Repeat above using boolean indexing"
      ]
    },
    {
      "cell_type": "code",
      "execution_count": 19,
      "metadata": {
        "id": "zytB7nrMdYfT"
      },
      "outputs": [
        {
          "name": "stdout",
          "output_type": "stream",
          "text": [
            "After Inserting values by boolean indexing the array becomes \n",
            " [[ 0 -2  2  3  4]\n",
            " [ 5  6  7  8  9]\n",
            " [-2 11 12 13 14]\n",
            " [15 16 17 18 -2]\n",
            " [20 21 -2 23 24]]\n"
          ]
        }
      ],
      "source": [
        "# Answer here\n",
        "\n",
        "b = a.copy()\n",
        "\n",
        "mask = ( b == 1 ) | (b == 10) | (b == 19) | (b == 22)\n",
        "b[mask] = -2\n",
        "\n",
        "\n",
        "\n",
        "print(\"After Inserting values by boolean indexing the array becomes \\n\",b)"
      ]
    },
    {
      "cell_type": "markdown",
      "metadata": {
        "id": "2i_7lkqpdhtx"
      },
      "source": [
        "### Combine slicing in the column dimension and boolean indexing in row dimension to extract the following sub-array: [[0, 3], [10, 13], [15, 18]]"
      ]
    },
    {
      "cell_type": "code",
      "execution_count": 15,
      "metadata": {
        "id": "O8683ef2dYng"
      },
      "outputs": [
        {
          "name": "stdout",
          "output_type": "stream",
          "text": [
            "[[ 0  3]\n",
            " [ 5  8]\n",
            " [15 18]]\n"
          ]
        }
      ],
      "source": [
        "# Answer here\n",
        "\n",
        "s = a.copy()\n",
        "\n",
        "# select rows with boolean indexing\n",
        "row_indices = [0, 1, 3]\n",
        "\n",
        "# sub-array using slicing and boolean indexing\n",
        "\n",
        "sub_array = s[row_indices][:, [0, 3]]\n",
        "\n",
        "print(sub_array)"
      ]
    },
    {
      "cell_type": "markdown",
      "metadata": {
        "id": "BLH29N-KLDEJ"
      },
      "source": [
        "### Calculating the sum, min and max of all diagonal values"
      ]
    },
    {
      "cell_type": "code",
      "execution_count": 16,
      "metadata": {
        "id": "ARzj6VP9LCPz"
      },
      "outputs": [
        {
          "name": "stdout",
          "output_type": "stream",
          "text": [
            "The diagnol elements are ::  [ 0  6 12 18 24]\n",
            "The sum of diagnol elements is ::  60\n",
            "The minimum of diagnol elements is ::  0\n",
            "The maximum of diagnol elements is ::  24\n"
          ]
        }
      ],
      "source": [
        "# Answer here\n",
        "\n",
        "diag_values = np.diagonal(a)\n",
        "print(\"The diagnol elements are :: \", diag_values)\n",
        "print(\"The sum of diagnol elements is :: \",diag_values.sum())\n",
        "print(\"The minimum of diagnol elements is :: \",diag_values.min())\n",
        "print(\"The maximum of diagnol elements is :: \",diag_values.max())"
      ]
    },
    {
      "cell_type": "markdown",
      "metadata": {
        "id": "IIL3aHfpMQpr"
      },
      "source": [
        "### Calculate the sum of differences between the 2nd row and 2nd last column"
      ]
    },
    {
      "cell_type": "code",
      "execution_count": 17,
      "metadata": {
        "id": "mNyxI8d0Mcvz"
      },
      "outputs": [
        {
          "name": "stdout",
          "output_type": "stream",
          "text": [
            "second row is  [5 6 7 8 9]\n",
            "second col is  [ 3  8 13 18 23]\n",
            "The sum of differences between the 2nd row and 2nd last column is ::  -30\n"
          ]
        }
      ],
      "source": [
        "# Answer here\n",
        "\n",
        "sec_row = a[1,:]\n",
        "sec_last_col = a[:,-2]\n",
        "\n",
        "print(\"second row is \", sec_row)\n",
        "print(\"second col is \", sec_last_col)\n",
        "\n",
        "print(\"The sum of differences between the 2nd row and 2nd last column is :: \",(sec_row-sec_last_col).sum() )"
      ]
    },
    {
      "cell_type": "markdown",
      "metadata": {
        "id": "jEo7E6YNNIU5"
      },
      "source": [
        "### Create a new array that is the sum of even rows and odd rows"
      ]
    },
    {
      "cell_type": "code",
      "execution_count": 18,
      "metadata": {
        "id": "UEwbxwAPNikT"
      },
      "outputs": [
        {
          "name": "stdout",
          "output_type": "stream",
          "text": [
            "even rows are :: \n",
            " [[ 0  1  2  3  4]\n",
            " [10 11 12 13 14]\n",
            " [20 21 22 23 24]]\n",
            "odd rows are :: \n",
            " [[ 5  6  7  8  9]\n",
            " [15 16 17 18 19]]\n",
            "The new array is ::  [50 55 60 65 70]\n"
          ]
        }
      ],
      "source": [
        "# Answer here\n",
        "rows_even = a[::2]\n",
        "rows_odd = a[1::2]\n",
        "\n",
        "print(\"even rows are :: \\n\",rows_even)\n",
        "print(\"odd rows are :: \\n\",rows_odd)\n",
        "\n",
        "\n",
        "even_sum = np.sum(rows_even, axis=0)\n",
        "odd_sum = np.sum(rows_odd,axis = 0)\n",
        "\n",
        "\n",
        "new_array = even_sum+odd_sum \n",
        "print(\"The new array is :: \",new_array)"
      ]
    },
    {
      "cell_type": "markdown",
      "metadata": {
        "id": "TaKXFf_5d67q"
      },
      "source": [
        "## You are done. Good job!"
      ]
    },
    {
      "cell_type": "code",
      "execution_count": null,
      "metadata": {
        "id": "PwdTR28zd6Ji"
      },
      "outputs": [],
      "source": []
    }
  ],
  "metadata": {
    "colab": {
      "provenance": []
    },
    "kernelspec": {
      "display_name": "Python 3",
      "name": "python3"
    },
    "language_info": {
      "codemirror_mode": {
        "name": "ipython",
        "version": 3
      },
      "file_extension": ".py",
      "mimetype": "text/x-python",
      "name": "python",
      "nbconvert_exporter": "python",
      "pygments_lexer": "ipython3",
      "version": "3.11.7"
    }
  },
  "nbformat": 4,
  "nbformat_minor": 0
}
